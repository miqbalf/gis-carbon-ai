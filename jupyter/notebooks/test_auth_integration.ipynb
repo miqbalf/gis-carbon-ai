{
  "cells": [
    {
      "cell_type": "markdown",
      "metadata": {},
      "source": [
        "# Test Authentication Integration\n",
        "\n",
        "This notebook tests the integration between forestry_carbon_arr and GEE_notebook_Forestry authentication module.\n"
      ]
    },
    {
      "cell_type": "code",
      "execution_count": 1,
      "metadata": {},
      "outputs": [
        {
          "name": "stdout",
          "output_type": "stream",
          "text": [
            "🔍 System Paths:\n",
            "  1. /usr/src/app/notebooks\n",
            "  2. /usr/src/app\n",
            "  3. /usr/src/app/gee_lib\n",
            "  4. /usr/src/app/ex_ante_lib\n",
            "  5. /usr/src/app/forestry_carbon_arr\n",
            "  6. /usr/local/lib/python310.zip\n",
            "  7. /usr/local/lib/python3.10\n",
            "  8. /usr/local/lib/python3.10/lib-dynload\n",
            "  9. \n",
            "  10. /usr/local/lib/python3.10/site-packages\n",
            "\n"
          ]
        }
      ],
      "source": [
        "# Check system paths\n",
        "import sys\n",
        "print(\"🔍 System Paths:\")\n",
        "for i, path in enumerate(sys.path):\n",
        "    print(f\"  {i+1}. {path}\")\n",
        "print()\n"
      ]
    },
    {
      "cell_type": "code",
      "execution_count": 2,
      "metadata": {},
      "outputs": [
        {
          "name": "stdout",
          "output_type": "stream",
          "text": [
            "🔐 Testing GEE authentication module...\n",
            "✅ Successfully imported all auth functions:\n",
            "   - initialize_gee\n",
            "   - check_gee_initialization\n",
            "   - get_gee_credentials\n",
            "   - quick_init\n",
            "\n"
          ]
        }
      ],
      "source": [
        "# Test GEE authentication module import\n",
        "print(\"🔐 Testing GEE authentication module...\")\n",
        "\n",
        "try:\n",
        "    from gee_lib.osi.auth import initialize_gee, check_gee_initialization, get_gee_credentials, quick_init\n",
        "    print(\"✅ Successfully imported all auth functions:\")\n",
        "    print(\"   - initialize_gee\")\n",
        "    print(\"   - check_gee_initialization\")\n",
        "    print(\"   - get_gee_credentials\")\n",
        "    print(\"   - quick_init\")\n",
        "    \n",
        "except ImportError as e:\n",
        "    print(f\"❌ Failed to import auth module: {e}\")\n",
        "    \n",
        "    # Try individual imports to see which ones work\n",
        "    print(\"\\n🔍 Trying individual imports...\")\n",
        "    try:\n",
        "        from gee_lib.osi.auth import initialize_gee\n",
        "        print(\"✅ initialize_gee imported successfully\")\n",
        "    except ImportError as e2:\n",
        "        print(f\"❌ initialize_gee failed: {e2}\")\n",
        "        \n",
        "    try:\n",
        "        from gee_lib.osi.auth import check_gee_initialization\n",
        "        print(\"✅ check_gee_initialization imported successfully\")\n",
        "    except ImportError as e2:\n",
        "        print(f\"❌ check_gee_initialization failed: {e2}\")\n",
        "\n",
        "print()\n"
      ]
    },
    {
      "cell_type": "code",
      "execution_count": null,
      "metadata": {},
      "outputs": [],
      "source": []
    }
  ],
  "metadata": {
    "kernelspec": {
      "display_name": "Python 3 (ipykernel)",
      "language": "python",
      "name": "python3"
    }
  },
  "nbformat": 4,
  "nbformat_minor": 2
}
