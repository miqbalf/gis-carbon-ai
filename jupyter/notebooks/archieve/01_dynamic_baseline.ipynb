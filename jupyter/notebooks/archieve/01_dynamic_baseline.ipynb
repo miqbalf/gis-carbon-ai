{
 "cells": [
  {
   "cell_type": "code",
   "execution_count": 1,
   "id": "894e07cf-47d7-4609-8660-709f358ca17b",
   "metadata": {},
   "outputs": [],
   "source": [
    "## import library requires\n",
    "import os\n",
    "import pandas as pd\n",
    "import geopandas as gpd\n",
    "\n"
   ]
  },
  {
   "cell_type": "code",
   "execution_count": null,
   "id": "81cf7782-98a8-44e3-8f01-e00e8f60ee40",
   "metadata": {},
   "outputs": [],
   "source": []
  }
 ],
 "metadata": {
  "kernelspec": {
   "display_name": "Python 3 (ipykernel)",
   "language": "python",
   "name": "python3"
  },
  "language_info": {
   "codemirror_mode": {
    "name": "ipython",
    "version": 3
   },
   "file_extension": ".py",
   "mimetype": "text/x-python",
   "name": "python",
   "nbconvert_exporter": "python",
   "pygments_lexer": "ipython3",
   "version": "3.10.19"
  }
 },
 "nbformat": 4,
 "nbformat_minor": 5
}
