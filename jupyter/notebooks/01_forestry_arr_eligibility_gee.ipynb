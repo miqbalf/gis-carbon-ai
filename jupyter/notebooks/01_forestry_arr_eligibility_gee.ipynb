{
 "cells": [
  {
   "cell_type": "code",
   "execution_count": 1,
   "id": "e0b2a5ca",
   "metadata": {},
   "outputs": [
    {
     "data": {
      "text/plain": [
       "['/usr/src/app/notebooks',\n",
       " '/usr/src/app',\n",
       " '/usr/src/app/gee_lib',\n",
       " '/usr/src/app/ex_ante_lib',\n",
       " '/usr/src/app/forestry_carbon_arr',\n",
       " '/usr/src/app/fastapi-gee-service',\n",
       " '/usr/local/lib/python310.zip',\n",
       " '/usr/local/lib/python3.10',\n",
       " '/usr/local/lib/python3.10/lib-dynload',\n",
       " '',\n",
       " '/usr/local/lib/python3.10/site-packages']"
      ]
     },
     "execution_count": 1,
     "metadata": {},
     "output_type": "execute_result"
    }
   ],
   "source": [
    "import sys\n",
    "sys.path"
   ]
  },
  {
   "cell_type": "code",
   "execution_count": 2,
   "id": "01527d86",
   "metadata": {},
   "outputs": [],
   "source": [
    "import ee"
   ]
  },
  {
   "cell_type": "code",
   "execution_count": 3,
   "id": "c0eae631",
   "metadata": {},
   "outputs": [
    {
     "name": "stdout",
     "output_type": "stream",
     "text": [
      "✓ GEE Initialized successfully\n",
      "  Service Account: earth-engine-land-eligibility@ee-iwansetiawan.iam.gserviceaccount.com\n",
      "  Project ID: ee-iwansetiawan\n",
      "  Credentials Path: /usr/src/app/user_id.json\n"
     ]
    }
   ],
   "source": [
    "from gee_lib.osi.auth import initialize_gee, check_gee_initialization\n",
    "# Initialize GEE\n",
    "authenticate = initialize_gee(project_id='ee-iwansetiawan')\n",
    "\n",
    "# Verify it's working\n",
    "if check_gee_initialization():\n",
    "    print(\"Ready to use GEE!\")"
   ]
  },
  {
   "cell_type": "code",
   "execution_count": 4,
   "id": "288e92dc",
   "metadata": {},
   "outputs": [
    {
     "name": "stdout",
     "output_type": "stream",
     "text": [
      "config--->  {'I_satellite': 'Sentinel', 'pca_scaling': 1, 'tileScale': 2, 'AOI_path': './00_input/LPHD Belaban Rayak.shp', 'OID_field_name': 'id', 'input_training': './00_input/traning_point_merged_belaban.shp', 'algo_ml_selected': 'gbm', 'date_start_end': ['2024-1-1', '2024-5-31'], 'project_name': 'belaban_rayak', 'super_pixel_size': 3, 'region': 'asia', 'pixel_number': 3, 'year_start_loss': 14, 'tree_cover_forest': 30, 'band_name_image': 'Class', 'cloud_cover_threshold': 60, 'crs_input': 'EPSG:4326', 'IsThermal': False, 'fcd_selected': 21, 'high_forest': 65, 'yrf_forest': 45, 'shrub_grass': 45, 'open_land': 30, 'ndwi_hi_sentinel': 0.05, 'ndwi_hi_landsat': 0.1, 'ndwi_hi_planet': -0.2}\n"
     ]
    }
   ],
   "source": [
    "import json\n",
    "import os\n",
    "\n",
    "### need improvement on how to manage this config, we also in the config the path to the static file\n",
    "# maybe we need to not put the path in the config.json, don't know yet\n",
    "# Move to the parent directory of the current script\n",
    "parent_dir = os.getcwd()\n",
    "\n",
    "# Construct the absolute path to the JSON file in the 'input' folder\n",
    "json_path= os.path.join(parent_dir, '00_input', 'balaban_conf.json')\n",
    "\n",
    "# Read and load the JSON data from the file\n",
    "with open(json_path, 'r') as file:\n",
    "    config = json.load(file)\n",
    "\n",
    "print('config---> ',config)"
   ]
  },
  {
   "cell_type": "code",
   "execution_count": 5,
   "id": "c49ee0d1",
   "metadata": {},
   "outputs": [],
   "source": [
    "## import modules\n",
    "import osi\n",
    "import pandas as pd\n",
    "import geemap\n",
    "\n",
    "from osi.utils.main import validate_aoi\n",
    "# convert the modules for image collection (cloudless masking, compositing, reducer etc)\n",
    "from osi.image_collection.main import ImageCollection\n",
    "from osi.spectral_indices.spectral_analysis import SpectralAnalysis\n",
    "from osi.spectral_indices.utils import normalization_100\n",
    "from osi.hansen.historical_loss import HansenHistorical\n",
    "from osi.classifying.assign_zone import AssignClassZone\n",
    "from osi.legends.utils import convert_to_legend_items\n",
    "from osi.legends.main import LegendsBuilder\n",
    "from osi.obia.main import OBIASegmentation\n",
    "from osi.ml.main import LandcoverML\n",
    "from osi.fcd.main_fcd import FCDCalc\n",
    "from osi.pca.pca_gee import PCA\n",
    "from osi.hansen.historical_loss import HansenHistorical\n",
    "from osi.classifying.assign_zone import AssignClassZone\n",
    "from osi.arcpy.utils import safe_get_data_source\n",
    "\n",
    "\n",
    "AOIt_shp_plot = geemap.shp_to_ee(config['AOI_path'])\n",
    "crs_input = config['crs_input']\n",
    "I_satellite = config['I_satellite']\n",
    "project_name = config['project_name']\n",
    "\n",
    "start_date = config['date_start_end'][0]\n",
    "end_date = config['date_start_end'][1]\n",
    "\n",
    "layer_name_image_mosaick = f'image_mosaick_result_ee_{project_name}'\n",
    "\n",
    "AOI = AOIt_shp_plot\n",
    "config['AOI'] = AOI\n",
    "\n",
    "ndwi_hi = 0.1\n",
    "if config['I_satellite'] == 'Landsat':\n",
    "    ndwi_hi = config['ndwi_hi_landsat']\n",
    "elif I_satellite == 'Sentinel':\n",
    "    ndwi_hi = config['ndwi_hi_sentinel']\n",
    "elif I_satellite == 'Planet':\n",
    "    ndwi_hi = config['ndwi_hi_planet']\n",
    "\n",
    "### Masking and overlay and area helper Make an image out of the AOI area attribute -> convert featurecollection into raster (image) for overlaying tools\n",
    "OID = config['OID_field_name']\n",
    "AOI_img = AOI.filter(ee.Filter.notNull([OID])).reduceToImage(\n",
    "    properties= [OID],\n",
    "    reducer= ee.Reducer.first()\n",
    ")"
   ]
  },
  {
   "cell_type": "code",
   "execution_count": 6,
   "id": "af49606d",
   "metadata": {},
   "outputs": [
    {
     "data": {
      "text/html": [
       "\n",
       "            <style>\n",
       "                .geemap-dark {\n",
       "                    --jp-widgets-color: white;\n",
       "                    --jp-widgets-label-color: white;\n",
       "                    --jp-ui-font-color1: white;\n",
       "                    --jp-layout-color2: #454545;\n",
       "                    background-color: #383838;\n",
       "                }\n",
       "                    \n",
       "                .geemap-dark .jupyter-button {\n",
       "                    --jp-layout-color3: #383838;\n",
       "                }\n",
       "                \n",
       "                .geemap-colab {\n",
       "                    background-color: var(--colab-primary-surface-color, white);\n",
       "                }\n",
       "                    \n",
       "                .geemap-colab .jupyter-button {\n",
       "                    --jp-layout-color3: var(--colab-primary-surface-color, white);\n",
       "                }\n",
       "            </style>\n",
       "            "
      ],
      "text/plain": [
       "<IPython.core.display.HTML object>"
      ]
     },
     "metadata": {},
     "output_type": "display_data"
    }
   ],
   "source": [
    "# now starting to do analysis\n",
    "# initiate instance class for the image collection and later mosaicking\n",
    "classInputCollection = ImageCollection(I_satellite=I_satellite,\n",
    "                                       AOI=AOI, \n",
    "                                       date_start_end=config['date_start_end'], \n",
    "                                       cloud_cover_threshold = config['cloud_cover_threshold'],\n",
    "                                       region=config['region'])"
   ]
  },
  {
   "cell_type": "code",
   "execution_count": 7,
   "id": "2d8939d8",
   "metadata": {},
   "outputs": [
    {
     "data": {
      "text/html": [
       "\n",
       "            <style>\n",
       "                .geemap-dark {\n",
       "                    --jp-widgets-color: white;\n",
       "                    --jp-widgets-label-color: white;\n",
       "                    --jp-ui-font-color1: white;\n",
       "                    --jp-layout-color2: #454545;\n",
       "                    background-color: #383838;\n",
       "                }\n",
       "                    \n",
       "                .geemap-dark .jupyter-button {\n",
       "                    --jp-layout-color3: #383838;\n",
       "                }\n",
       "                \n",
       "                .geemap-colab {\n",
       "                    background-color: var(--colab-primary-surface-color, white);\n",
       "                }\n",
       "                    \n",
       "                .geemap-colab .jupyter-button {\n",
       "                    --jp-layout-color3: var(--colab-primary-surface-color, white);\n",
       "                }\n",
       "            </style>\n",
       "            "
      ],
      "text/plain": [
       "<IPython.core.display.HTML object>"
      ]
     },
     "metadata": {},
     "output_type": "display_data"
    },
    {
     "name": "stdout",
     "output_type": "stream",
     "text": [
      "selecting Sentinel images\n"
     ]
    }
   ],
   "source": [
    "# run the method from image collection loaded, cloudless compositing until to image_mosaick\n",
    "image_mosaick = classInputCollection.image_mosaick()"
   ]
  },
  {
   "cell_type": "code",
   "execution_count": 8,
   "id": "e0cc100b",
   "metadata": {},
   "outputs": [
    {
     "data": {
      "text/html": [
       "\n",
       "            <style>\n",
       "                .geemap-dark {\n",
       "                    --jp-widgets-color: white;\n",
       "                    --jp-widgets-label-color: white;\n",
       "                    --jp-ui-font-color1: white;\n",
       "                    --jp-layout-color2: #454545;\n",
       "                    background-color: #383838;\n",
       "                }\n",
       "                    \n",
       "                .geemap-dark .jupyter-button {\n",
       "                    --jp-layout-color3: #383838;\n",
       "                }\n",
       "                \n",
       "                .geemap-colab {\n",
       "                    background-color: var(--colab-primary-surface-color, white);\n",
       "                }\n",
       "                    \n",
       "                .geemap-colab .jupyter-button {\n",
       "                    --jp-layout-color3: var(--colab-primary-surface-color, white);\n",
       "                }\n",
       "            </style>\n",
       "            "
      ],
      "text/plain": [
       "<IPython.core.display.HTML object>"
      ]
     },
     "metadata": {},
     "output_type": "display_data"
    },
    {
     "name": "stdout",
     "output_type": "stream",
     "text": [
      "Generating GEE Map IDs...\n",
      "✓ Map IDs generated for all layers\n",
      "\n",
      "SENTINEL MOSAICKED - 2024-1-1-2024-5-31:\n",
      "  Tile URL: https://earthengine.googleapis.com/v1/projects/ee-iwansetiawan/maps/c105e89d63ba8761ee46d0d2b2620ffa-e2f1b62f9f06fd41f1eac104a1279dcf/tiles/{z}/{x}/{y}\n"
     ]
    }
   ],
   "source": [
    "# Generate Map IDs\n",
    "### Defining params visualization and layer name\n",
    "if config['I_satellite'] == 'Planet':\n",
    "    # true color {\"bands\":[\"red\",\"green\",\"blue\"],\"min\":0,\"max\":0.6,\"gamma\":1.5}\n",
    "    # nir veg color {\"bands\":[\"red\",\"nir\",\"blue\"],\"min\":0,\"max\":0.6,\"gamma\":1.5 }\n",
    "    image_mosaick, vis_params, layer_name = image_mosaick,{'veg_color':{\"bands\":[\"red\",\"green\",\"blue\"],\"min\":0,\"max\":0.6,\"gamma\":1.5}}, f'{I_satellite} mosaicked - {start_date}-{end_date} VegColor'\n",
    "else:\n",
    "    image_mosaick, vis_params, layer_name = image_mosaick,{'veg_color':{'bands': ['swir2', 'nir', 'red'], 'min': 0, 'max': 0.6, 'gamma': 1.5 }}, f'{I_satellite} mosaicked - {start_date}-{end_date}'\n",
    "   \n",
    "\n",
    "print(\"Generating GEE Map IDs...\")\n",
    "\n",
    "map_ids = {}\n",
    "map_ids[layer_name] = image_mosaick.getMapId(vis_params['veg_color'])\n",
    "\n",
    "print(\"✓ Map IDs generated for all layers\")\n",
    "\n",
    "# Display tile URLs\n",
    "for layer_name, map_id_dict in map_ids.items():\n",
    "    tile_url = map_id_dict['tile_fetcher'].url_format\n",
    "    print(f\"\\n{layer_name.upper()}:\")\n",
    "    print(f\"  Tile URL: {tile_url}\")\n",
    "\n"
   ]
  },
  {
   "cell_type": "code",
   "execution_count": 9,
   "id": "b450aa21",
   "metadata": {},
   "outputs": [
    {
     "data": {
      "text/html": [
       "\n",
       "            <style>\n",
       "                .geemap-dark {\n",
       "                    --jp-widgets-color: white;\n",
       "                    --jp-widgets-label-color: white;\n",
       "                    --jp-ui-font-color1: white;\n",
       "                    --jp-layout-color2: #454545;\n",
       "                    background-color: #383838;\n",
       "                }\n",
       "                    \n",
       "                .geemap-dark .jupyter-button {\n",
       "                    --jp-layout-color3: #383838;\n",
       "                }\n",
       "                \n",
       "                .geemap-colab {\n",
       "                    background-color: var(--colab-primary-surface-color, white);\n",
       "                }\n",
       "                    \n",
       "                .geemap-colab .jupyter-button {\n",
       "                    --jp-layout-color3: var(--colab-primary-surface-color, white);\n",
       "                }\n",
       "            </style>\n",
       "            "
      ],
      "text/plain": [
       "<IPython.core.display.HTML object>"
      ]
     },
     "metadata": {},
     "output_type": "display_data"
    },
    {
     "data": {
      "text/plain": [
       "{'Sentinel mosaicked - 2024-1-1-2024-5-31': {'mapid': 'projects/ee-iwansetiawan/maps/c105e89d63ba8761ee46d0d2b2620ffa-e2f1b62f9f06fd41f1eac104a1279dcf',\n",
       "  'token': '',\n",
       "  'tile_fetcher': <ee.data.TileFetcher at 0x7f08a6bdd4e0>,\n",
       "  'image': <ee.image.Image at 0x7f086c279ea0>}}"
      ]
     },
     "execution_count": 9,
     "metadata": {},
     "output_type": "execute_result"
    }
   ],
   "source": [
    "map_ids"
   ]
  },
  {
   "cell_type": "code",
   "execution_count": 10,
   "id": "8688e363",
   "metadata": {},
   "outputs": [
    {
     "data": {
      "text/html": [
       "\n",
       "            <style>\n",
       "                .geemap-dark {\n",
       "                    --jp-widgets-color: white;\n",
       "                    --jp-widgets-label-color: white;\n",
       "                    --jp-ui-font-color1: white;\n",
       "                    --jp-layout-color2: #454545;\n",
       "                    background-color: #383838;\n",
       "                }\n",
       "                    \n",
       "                .geemap-dark .jupyter-button {\n",
       "                    --jp-layout-color3: #383838;\n",
       "                }\n",
       "                \n",
       "                .geemap-colab {\n",
       "                    background-color: var(--colab-primary-surface-color, white);\n",
       "                }\n",
       "                    \n",
       "                .geemap-colab .jupyter-button {\n",
       "                    --jp-layout-color3: var(--colab-primary-surface-color, white);\n",
       "                }\n",
       "            </style>\n",
       "            "
      ],
      "text/plain": [
       "<IPython.core.display.HTML object>"
      ]
     },
     "metadata": {},
     "output_type": "display_data"
    },
    {
     "name": "stdout",
     "output_type": "stream",
     "text": [
      "\n",
      "🔍 Available map layers:\n",
      "   map_layers: 1\n",
      "\n",
      "🔧 Fixing AOI coordinates...\n",
      "✅ Centroid calculated successfully with error margin 1\n",
      "Warning: Could not get bounds from geometry: 0\n"
     ]
    },
    {
     "name": "stderr",
     "output_type": "stream",
     "text": [
      "INFO:gee_integration:GEE Integration Manager initialized:\n",
      "INFO:gee_integration:  FastAPI URL: http://fastapi:8000\n",
      "INFO:gee_integration:  MapStore Config: /usr/src/app/mapstore/config/localConfig.json\n",
      "INFO:gee_integration:Processing GEE analysis: belaban_rayak\n",
      "INFO:gee_integration:Using simple layer info for 'Sentinel mosaicked - 2024-1-1-2024-5-31': tile_url only\n",
      "INFO:gee_integration:Registering with FastAPI: belaban_rayak_20251023_203243\n",
      "INFO:gee_integration:✅ FastAPI registration successful: MapStore catalog updated successfully\n",
      "INFO:gee_integration:Creating FastAPI proxy URLs for project: belaban_rayak_20251023_203243\n",
      "INFO:gee_integration:✅ Created 1 FastAPI proxy URLs\n",
      "INFO:gee_integration:Updating MapStore WMTS: belaban_rayak_20251023_203243\n",
      "INFO:gee_integration:🔄 Forcing comprehensive WMTS refresh...\n",
      "INFO:gee_utils:Starting comprehensive WMTS refresh...\n",
      "INFO:gee_utils:Clearing old WMTS services...\n",
      "INFO:gee_utils:Found 0 GEE WMTS services\n",
      "INFO:gee_utils:No GEE WMTS services to remove\n"
     ]
    },
    {
     "name": "stdout",
     "output_type": "stream",
     "text": [
      "Calculated bbox from coordinates: {'minx': 110.42625277199998, 'miny': -1.8286048599999736, 'maxx': 110.49828386500002, 'maxy': -1.7805881470000031}\n",
      "✅ AOI processed successfully:\n",
      "   - Center: [110.46306597258281, -1.803818629688135]\n",
      "   - Area: Unknown\n",
      "   - BBox: {'minx': 110.42625277199998, 'miny': -1.8286048599999736, 'maxx': 110.49828386500002, 'maxy': -1.7805881470000031}\n",
      "✅ Fixed AOI Info:\n",
      "   Bbox: {'minx': 110.42625277199998, 'miny': -1.8286048599999736, 'maxx': 110.49828386500002, 'maxy': -1.7805881470000031}\n",
      "   Center: [110.46306597258281, -1.803818629688135]\n",
      "🚀 Processing GEE Analysis to MapStore...\n",
      "   Project: belaban_rayak\n",
      "   Layers: 1\n",
      "   AOI: {'minx': 110.42625277199998, 'miny': -1.8286048599999736, 'maxx': 110.49828386500002, 'maxy': -1.7805881470000031}\n"
     ]
    },
    {
     "name": "stderr",
     "output_type": "stream",
     "text": [
      "INFO:gee_utils:Refreshing WMTS capabilities...\n",
      "INFO:gee_utils:WMTS capabilities refreshed successfully\n",
      "INFO:gee_utils:Updating MapStore WMTS service...\n",
      "INFO:gee_utils:Successfully updated MapStore WMTS service: gee_analysis_wmts\n",
      "INFO:gee_utils:Getting current WMTS layers...\n",
      "INFO:gee_utils:Comprehensive WMTS refresh completed successfully - Found 1 layers\n",
      "INFO:gee_integration:✅ MapStore WMTS configuration updated\n",
      "INFO:gee_integration:   New layers found: 1\n"
     ]
    }
   ],
   "source": [
    "# import sys\n",
    "# sys.path.append('/usr/src/app/fastapi-gee-service')\n",
    "from gee_integration import process_gee_to_mapstore\n",
    "\n",
    "# Import the AOI fix function properly\n",
    "from gee_lib.osi.utils import process_aoi_geometry\n",
    "\n",
    "\n",
    "\n",
    "layers_data = {\n",
    "    'project_name': project_name,\n",
    "}\n",
    "\n",
    "# Option 1: Simple tile URLs only\n",
    "map_layers = {\n",
    "    layer_name: map_ids[layer_name]['tile_fetcher'].url_format}\n",
    "\n",
    "\n",
    "# Fix 1: Use correct map layers\n",
    "print(f\"\\n🔍 Available map layers:\")\n",
    "print(f\"   map_layers: {len(map_layers)}\")\n",
    "\n",
    "# Fix 2: Fix AOI coordinates using the existing function\n",
    "print(f\"\\n🔧 Fixing AOI coordinates...\")\n",
    "AOI_geom = AOI.geometry()\n",
    "aoi_info = process_aoi_geometry(AOI_geom)\n",
    "\n",
    "print(f\"✅ Fixed AOI Info:\")\n",
    "print(f\"   Bbox: {aoi_info['bbox']}\")\n",
    "print(f\"   Center: {aoi_info['center']}\")\n",
    "\n",
    "print(\"🚀 Processing GEE Analysis to MapStore...\")\n",
    "print(f\"   Project: {layers_data['project_name']}\")\n",
    "print(f\"   Layers: {len(map_layers)}\")\n",
    "print(f\"   AOI: {aoi_info['bbox']}\")\n",
    "\n",
    "# Process the complete integration\n",
    "result = process_gee_to_mapstore(\n",
    "    map_layers=map_layers,\n",
    "    project_name=layers_data['project_name'],\n",
    "    aoi_info=aoi_info,\n",
    "    clear_cache_first=False,\n",
    "    fastapi_url=\"http://fastapi:8000\"  # Internal Docker network\n",
    ")"
   ]
  },
  {
   "cell_type": "code",
   "execution_count": 11,
   "id": "5db8629b",
   "metadata": {},
   "outputs": [
    {
     "data": {
      "text/html": [
       "\n",
       "            <style>\n",
       "                .geemap-dark {\n",
       "                    --jp-widgets-color: white;\n",
       "                    --jp-widgets-label-color: white;\n",
       "                    --jp-ui-font-color1: white;\n",
       "                    --jp-layout-color2: #454545;\n",
       "                    background-color: #383838;\n",
       "                }\n",
       "                    \n",
       "                .geemap-dark .jupyter-button {\n",
       "                    --jp-layout-color3: #383838;\n",
       "                }\n",
       "                \n",
       "                .geemap-colab {\n",
       "                    background-color: var(--colab-primary-surface-color, white);\n",
       "                }\n",
       "                    \n",
       "                .geemap-colab .jupyter-button {\n",
       "                    --jp-layout-color3: var(--colab-primary-surface-color, white);\n",
       "                }\n",
       "            </style>\n",
       "            "
      ],
      "text/plain": [
       "<IPython.core.display.HTML object>"
      ]
     },
     "metadata": {},
     "output_type": "display_data"
    }
   ],
   "source": [
    "# !cat /usr/src/app/mapstore/config/localConfig.json"
   ]
  },
  {
   "cell_type": "code",
   "execution_count": null,
   "id": "70272ec0",
   "metadata": {},
   "outputs": [],
   "source": []
  },
  {
   "cell_type": "code",
   "execution_count": null,
   "id": "b2824378",
   "metadata": {},
   "outputs": [],
   "source": [
    "\n"
   ]
  },
  {
   "cell_type": "code",
   "execution_count": null,
   "id": "93b987c7",
   "metadata": {},
   "outputs": [],
   "source": [
    "\n"
   ]
  },
  {
   "cell_type": "code",
   "execution_count": null,
   "id": "f402f71a",
   "metadata": {},
   "outputs": [],
   "source": []
  },
  {
   "cell_type": "code",
   "execution_count": null,
   "id": "4f67c3a0",
   "metadata": {},
   "outputs": [],
   "source": []
  },
  {
   "cell_type": "code",
   "execution_count": null,
   "id": "6c4b2256",
   "metadata": {},
   "outputs": [],
   "source": []
  }
 ],
 "metadata": {
  "kernelspec": {
   "display_name": "Python 3 (ipykernel)",
   "language": "python",
   "name": "python3"
  },
  "language_info": {
   "codemirror_mode": {
    "name": "ipython",
    "version": 3
   },
   "file_extension": ".py",
   "mimetype": "text/x-python",
   "name": "python",
   "nbconvert_exporter": "python",
   "pygments_lexer": "ipython3",
   "version": "3.10.19"
  }
 },
 "nbformat": 4,
 "nbformat_minor": 5
}
