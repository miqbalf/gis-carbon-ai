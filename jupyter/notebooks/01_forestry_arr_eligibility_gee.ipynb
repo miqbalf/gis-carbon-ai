{
 "cells": [
  {
   "cell_type": "code",
   "execution_count": 1,
   "id": "e0b2a5ca",
   "metadata": {},
   "outputs": [
    {
     "data": {
      "text/plain": [
       "['/usr/src/app/notebooks',\n",
       " '/usr/src/app',\n",
       " '/usr/src/app/gee_lib',\n",
       " '/usr/src/app/ex_ante_lib',\n",
       " '/usr/src/app/forestry_carbon_arr',\n",
       " '/usr/src/app/fastapi-gee-service',\n",
       " '/usr/local/lib/python310.zip',\n",
       " '/usr/local/lib/python3.10',\n",
       " '/usr/local/lib/python3.10/lib-dynload',\n",
       " '',\n",
       " '/usr/local/lib/python3.10/site-packages']"
      ]
     },
     "execution_count": 1,
     "metadata": {},
     "output_type": "execute_result"
    }
   ],
   "source": [
    "import ee\n",
    "import sys\n",
    "sys.path"
   ]
  },
  {
   "cell_type": "code",
   "execution_count": 2,
   "id": "1a94ae06",
   "metadata": {},
   "outputs": [
    {
     "data": {
      "text/plain": [
       "True"
      ]
     },
     "execution_count": 2,
     "metadata": {},
     "output_type": "execute_result"
    }
   ],
   "source": [
    "from dotenv import load_dotenv\n",
    "\n",
    "load_dotenv()"
   ]
  },
  {
   "cell_type": "code",
   "execution_count": 3,
   "id": "215f433e",
   "metadata": {},
   "outputs": [],
   "source": [
    "from google.auth import default\n",
    "creds, project = default()"
   ]
  },
  {
   "cell_type": "code",
   "execution_count": 4,
   "id": "f4d41671",
   "metadata": {},
   "outputs": [
    {
     "name": "stdout",
     "output_type": "stream",
     "text": [
      "     Credentialed Accounts\n",
      "ACTIVE  ACCOUNT\n",
      "*       muhammad.iqbal@treeo.one\n",
      "\n",
      "To set the active account, run:\n",
      "    $ gcloud config set account `ACCOUNT`\n",
      "\n"
     ]
    }
   ],
   "source": [
    "# !gcloud projects list\n",
    "# !gcloud config list\n",
    "!gcloud auth list\n"
   ]
  },
  {
   "cell_type": "code",
   "execution_count": 5,
   "id": "264a13e7",
   "metadata": {},
   "outputs": [
    {
     "name": "stdout",
     "output_type": "stream",
     "text": [
      "Authenticate: Credentials already exist. Use --force to refresh.\n"
     ]
    }
   ],
   "source": [
    "!earthengine authenticate"
   ]
  },
  {
   "cell_type": "code",
   "execution_count": 6,
   "id": "a822bade",
   "metadata": {},
   "outputs": [
    {
     "name": "stdout",
     "output_type": "stream",
     "text": [
      "Updated property [core/project].\n"
     ]
    }
   ],
   "source": [
    "!gcloud config set project ee-iwansetiawan"
   ]
  },
  {
   "cell_type": "code",
   "execution_count": 7,
   "id": "426ae635",
   "metadata": {},
   "outputs": [],
   "source": [
    "# !pip install earthengine-api --upgrade\n"
   ]
  },
  {
   "cell_type": "code",
   "execution_count": 8,
   "id": "c0eae631",
   "metadata": {},
   "outputs": [],
   "source": [
    "import os\n",
    "import ee\n",
    "# from gee_lib.osi.auth import initialize_gee, check_gee_initialization\n",
    "\n",
    "# ee.Initialize(project=os.getenv('GOOGLE_CLOUD_PROJECT'))\n",
    "ee.Initialize(project='ee-iwansetiawan')\n",
    "\n",
    "# Initialize GEE\n",
    "# authenticate = initialize_gee(project_id=os.getenv('GOOGLE_CLOUD_PROJECT'), use_service_account=False)\n",
    "# authenticate = initialize_gee(project_id='ee-iwansetiawan',use_service_account=True)\n",
    "\n",
    "# Verify it's working\n",
    "# if check_gee_initialization():\n",
    "    # print(\"Ready to use GEE!\")"
   ]
  },
  {
   "cell_type": "code",
   "execution_count": 9,
   "id": "066f1210",
   "metadata": {},
   "outputs": [
    {
     "name": "stdout",
     "output_type": "stream",
     "text": [
      "Google Cloud SDK 544.0.0\n",
      "alpha 2025.10.17\n",
      "beta 2025.10.17\n",
      "bq 2.1.24\n",
      "bundled-python3-unix 3.12.9\n",
      "core 2025.10.17\n",
      "gcloud-crc32c 1.0.0\n",
      "gsutil 5.35\n",
      "validation-469814\n"
     ]
    }
   ],
   "source": [
    "!gcloud --version\n",
    "\n",
    "# os.getenv('GOOGLE_CLOUD_PROJECT')\n",
    "\n",
    "from google.cloud import storage\n",
    "client = storage.Client()\n",
    "print(client.project)\n"
   ]
  },
  {
   "cell_type": "code",
   "execution_count": 11,
   "id": "6323bf4f-84c7-4e0c-b467-0926b0f4d794",
   "metadata": {},
   "outputs": [],
   "source": [
    "# !gcloud.storage.buckets.list"
   ]
  },
  {
   "cell_type": "code",
   "execution_count": 12,
   "id": "288e92dc",
   "metadata": {},
   "outputs": [
    {
     "name": "stdout",
     "output_type": "stream",
     "text": [
      "config--->  {'I_satellite': 'Sentinel', 'pca_scaling': 1, 'tileScale': 2, 'AOI_path': './00_input/LPHD Belaban Rayak.shp', 'OID_field_name': 'id', 'input_training': './00_input/traning_point_merged_belaban.shp', 'algo_ml_selected': 'gbm', 'date_start_end': ['2024-1-1', '2024-5-31'], 'project_name': 'belaban_rayak', 'super_pixel_size': 3, 'region': 'asia', 'pixel_number': 3, 'year_start_loss': 14, 'tree_cover_forest': 30, 'band_name_image': 'Class', 'cloud_cover_threshold': 60, 'crs_input': 'EPSG:4326', 'IsThermal': False, 'fcd_selected': 21, 'high_forest': 65, 'yrf_forest': 45, 'shrub_grass': 45, 'open_land': 30, 'ndwi_hi_sentinel': 0.05, 'ndwi_hi_landsat': 0.1, 'ndwi_hi_planet': -0.2}\n"
     ]
    }
   ],
   "source": [
    "import json\n",
    "import os\n",
    "\n",
    "### need improvement on how to manage this config, we also in the config the path to the static file\n",
    "# maybe we need to not put the path in the config.json, don't know yet\n",
    "# Move to the parent directory of the current script\n",
    "parent_dir = os.getcwd()\n",
    "\n",
    "# Construct the absolute path to the JSON file in the 'input' folder\n",
    "json_path= os.path.join(parent_dir, '00_input', 'balaban_conf.json')\n",
    "\n",
    "# Read and load the JSON data from the file\n",
    "with open(json_path, 'r') as file:\n",
    "    config = json.load(file)\n",
    "\n",
    "print('config---> ',config)"
   ]
  },
  {
   "cell_type": "code",
   "execution_count": 13,
   "id": "c49ee0d1",
   "metadata": {},
   "outputs": [],
   "source": [
    "## import modules\n",
    "import osi\n",
    "import pandas as pd\n",
    "import geemap\n",
    "\n",
    "from osi.utils.main import validate_aoi\n",
    "# convert the modules for image collection (cloudless masking, compositing, reducer etc)\n",
    "from osi.image_collection.main import ImageCollection\n",
    "from osi.spectral_indices.spectral_analysis import SpectralAnalysis\n",
    "from osi.spectral_indices.utils import normalization_100\n",
    "from osi.hansen.historical_loss import HansenHistorical\n",
    "from osi.classifying.assign_zone import AssignClassZone\n",
    "from osi.legends.utils import convert_to_legend_items\n",
    "from osi.legends.main import LegendsBuilder\n",
    "from osi.obia.main import OBIASegmentation\n",
    "from osi.ml.main import LandcoverML\n",
    "from osi.fcd.main_fcd import FCDCalc\n",
    "from osi.pca.pca_gee import PCA\n",
    "from osi.hansen.historical_loss import HansenHistorical\n",
    "from osi.classifying.assign_zone import AssignClassZone\n",
    "from osi.arcpy.utils import safe_get_data_source\n",
    "\n",
    "\n",
    "AOIt_shp_plot = geemap.shp_to_ee(config['AOI_path'])\n",
    "crs_input = config['crs_input']\n",
    "I_satellite = config['I_satellite']\n",
    "project_name = config['project_name']\n",
    "\n",
    "start_date = config['date_start_end'][0]\n",
    "end_date = config['date_start_end'][1]\n",
    "\n",
    "layer_name_image_mosaick = f'image_mosaick_result_ee_{project_name}'\n",
    "\n",
    "AOI = AOIt_shp_plot\n",
    "config['AOI'] = AOI\n",
    "\n",
    "ndwi_hi = 0.1\n",
    "if config['I_satellite'] == 'Landsat':\n",
    "    ndwi_hi = config['ndwi_hi_landsat']\n",
    "elif I_satellite == 'Sentinel':\n",
    "    ndwi_hi = config['ndwi_hi_sentinel']\n",
    "elif I_satellite == 'Planet':\n",
    "    ndwi_hi = config['ndwi_hi_planet']\n",
    "\n",
    "### Masking and overlay and area helper Make an image out of the AOI area attribute -> convert featurecollection into raster (image) for overlaying tools\n",
    "OID = config['OID_field_name']\n",
    "AOI_img = AOI.filter(ee.Filter.notNull([OID])).reduceToImage(\n",
    "    properties= [OID],\n",
    "    reducer= ee.Reducer.first()\n",
    ")"
   ]
  },
  {
   "cell_type": "code",
   "execution_count": 14,
   "id": "af49606d",
   "metadata": {},
   "outputs": [
    {
     "data": {
      "text/html": [
       "\n",
       "            <style>\n",
       "                .geemap-dark {\n",
       "                    --jp-widgets-color: white;\n",
       "                    --jp-widgets-label-color: white;\n",
       "                    --jp-ui-font-color1: white;\n",
       "                    --jp-layout-color2: #454545;\n",
       "                    background-color: #383838;\n",
       "                }\n",
       "                    \n",
       "                .geemap-dark .jupyter-button {\n",
       "                    --jp-layout-color3: #383838;\n",
       "                }\n",
       "                \n",
       "                .geemap-colab {\n",
       "                    background-color: var(--colab-primary-surface-color, white);\n",
       "                }\n",
       "                    \n",
       "                .geemap-colab .jupyter-button {\n",
       "                    --jp-layout-color3: var(--colab-primary-surface-color, white);\n",
       "                }\n",
       "            </style>\n",
       "            "
      ],
      "text/plain": [
       "<IPython.core.display.HTML object>"
      ]
     },
     "metadata": {},
     "output_type": "display_data"
    }
   ],
   "source": [
    "# now starting to do analysis\n",
    "# initiate instance class for the image collection and later mosaicking\n",
    "classInputCollection = ImageCollection(I_satellite=I_satellite,\n",
    "                                       AOI=AOI, \n",
    "                                       date_start_end=config['date_start_end'], \n",
    "                                       cloud_cover_threshold = config['cloud_cover_threshold'],\n",
    "                                       region=config['region'])"
   ]
  },
  {
   "cell_type": "code",
   "execution_count": 15,
   "id": "2d8939d8",
   "metadata": {},
   "outputs": [
    {
     "data": {
      "text/html": [
       "\n",
       "            <style>\n",
       "                .geemap-dark {\n",
       "                    --jp-widgets-color: white;\n",
       "                    --jp-widgets-label-color: white;\n",
       "                    --jp-ui-font-color1: white;\n",
       "                    --jp-layout-color2: #454545;\n",
       "                    background-color: #383838;\n",
       "                }\n",
       "                    \n",
       "                .geemap-dark .jupyter-button {\n",
       "                    --jp-layout-color3: #383838;\n",
       "                }\n",
       "                \n",
       "                .geemap-colab {\n",
       "                    background-color: var(--colab-primary-surface-color, white);\n",
       "                }\n",
       "                    \n",
       "                .geemap-colab .jupyter-button {\n",
       "                    --jp-layout-color3: var(--colab-primary-surface-color, white);\n",
       "                }\n",
       "            </style>\n",
       "            "
      ],
      "text/plain": [
       "<IPython.core.display.HTML object>"
      ]
     },
     "metadata": {},
     "output_type": "display_data"
    },
    {
     "name": "stdout",
     "output_type": "stream",
     "text": [
      "selecting Sentinel images\n"
     ]
    }
   ],
   "source": [
    "# run the method from image collection loaded, cloudless compositing until to image_mosaick\n",
    "image_mosaick = classInputCollection.image_mosaick()"
   ]
  },
  {
   "cell_type": "code",
   "execution_count": 16,
   "id": "e0cc100b",
   "metadata": {},
   "outputs": [
    {
     "data": {
      "text/html": [
       "\n",
       "            <style>\n",
       "                .geemap-dark {\n",
       "                    --jp-widgets-color: white;\n",
       "                    --jp-widgets-label-color: white;\n",
       "                    --jp-ui-font-color1: white;\n",
       "                    --jp-layout-color2: #454545;\n",
       "                    background-color: #383838;\n",
       "                }\n",
       "                    \n",
       "                .geemap-dark .jupyter-button {\n",
       "                    --jp-layout-color3: #383838;\n",
       "                }\n",
       "                \n",
       "                .geemap-colab {\n",
       "                    background-color: var(--colab-primary-surface-color, white);\n",
       "                }\n",
       "                    \n",
       "                .geemap-colab .jupyter-button {\n",
       "                    --jp-layout-color3: var(--colab-primary-surface-color, white);\n",
       "                }\n",
       "            </style>\n",
       "            "
      ],
      "text/plain": [
       "<IPython.core.display.HTML object>"
      ]
     },
     "metadata": {},
     "output_type": "display_data"
    },
    {
     "name": "stdout",
     "output_type": "stream",
     "text": [
      "✓ Map IDs generated for all layers\n",
      "Generating GEE Map IDs...\n",
      "\n",
      "SENTINEL MOSAICKED - 2024-1-1-2024-5-31 VEGCOLOR:\n",
      "  Tile URL: https://earthengine.googleapis.com/v1/projects/ee-iwansetiawan/maps/0b7b63a9cc7617c8c04b3e95499a7665-2df965e0f601ace8a7420e6c1f509fb4/tiles/{z}/{x}/{y}\n"
     ]
    }
   ],
   "source": [
    "from gee_lib.osi.utils import generate_map_id\n",
    "\n",
    "# Generate Map IDs\n",
    "### Defining params visualization and layer name\n",
    "layer_name = f'{I_satellite} mosaicked - {start_date}-{end_date} VegColor'\n",
    "\n",
    "if config['I_satellite'] == 'Planet':\n",
    "    # true color {\"bands\":[\"red\",\"green\",\"blue\"],\"min\":0,\"max\":0.6,\"gamma\":1.5}\n",
    "    # nir veg color {\"bands\":[\"red\",\"nir\",\"blue\"],\"min\":0,\"max\":0.6,\"gamma\":1.5 }\n",
    "    vis_param = {\"bands\":[\"red\",\"green\",\"blue\"],\"min\":0,\"max\":0.6,\"gamma\":1.5}\n",
    "else:\n",
    "    vis_param = {'bands': ['swir2', 'nir', 'red'], 'min': 0, 'max': 0.6, 'gamma': 1.5}\n",
    "\n",
    "layers_data = {'project_name': 'Sentinel-2 Cloudless Composite Analysis'}\n",
    "\n",
    "\n",
    "print(\"✓ Map IDs generated for all layers\")\n",
    "# Display tile URLs\n",
    "for layer_name, map_id_dict in generate_map_id({layer_name: vis_param}, {layer_name: image_mosaick})['all_mapid'].items():\n",
    "    tile_url = map_id_dict['tile_fetcher'].url_format\n",
    "    print(f\"\\n{layer_name.upper()}:\")\n",
    "    print(f\"  Tile URL: {tile_url}\")\n",
    "\n"
   ]
  },
  {
   "cell_type": "code",
   "execution_count": 17,
   "id": "fa107a00",
   "metadata": {},
   "outputs": [
    {
     "data": {
      "text/html": [
       "\n",
       "            <style>\n",
       "                .geemap-dark {\n",
       "                    --jp-widgets-color: white;\n",
       "                    --jp-widgets-label-color: white;\n",
       "                    --jp-ui-font-color1: white;\n",
       "                    --jp-layout-color2: #454545;\n",
       "                    background-color: #383838;\n",
       "                }\n",
       "                    \n",
       "                .geemap-dark .jupyter-button {\n",
       "                    --jp-layout-color3: #383838;\n",
       "                }\n",
       "                \n",
       "                .geemap-colab {\n",
       "                    background-color: var(--colab-primary-surface-color, white);\n",
       "                }\n",
       "                    \n",
       "                .geemap-colab .jupyter-button {\n",
       "                    --jp-layout-color3: var(--colab-primary-surface-color, white);\n",
       "                }\n",
       "            </style>\n",
       "            "
      ],
      "text/plain": [
       "<IPython.core.display.HTML object>"
      ]
     },
     "metadata": {},
     "output_type": "display_data"
    },
    {
     "name": "stdout",
     "output_type": "stream",
     "text": [
      "Generating GEE Map IDs...\n"
     ]
    },
    {
     "data": {
      "text/plain": [
       "{'Sentinel mosaicked - 2024-1-1-2024-5-31 VegColor': {'tile_url': 'https://earthengine.googleapis.com/v1/projects/ee-iwansetiawan/maps/9fa9b34774552871bef7c376bcd33bb3-588f59f4712b390bd494488548271163/tiles/{z}/{x}/{y}',\n",
       "  'name': 'Sentinel Mosaicked - 2024-1-1-2024-5-31 Vegcolor',\n",
       "  'description': 'SENTINEL MOSAICKED - 2024-1-1-2024-5-31 VEGCOLOR visualization from GEE analysis',\n",
       "  'vis_params': {'bands': ['swir2', 'nir', 'red'],\n",
       "   'min': 0,\n",
       "   'max': 0.6,\n",
       "   'gamma': 1.5}}}"
      ]
     },
     "execution_count": 17,
     "metadata": {},
     "output_type": "execute_result"
    }
   ],
   "source": [
    "## META data layers\n",
    "layers_data = {\n",
    "    'project_name': project_name,\n",
    "}\n",
    "\n",
    "# # Option 1: Simple tile URLs only\n",
    "# map_layers = {\n",
    "#     layer_name: map_ids[layer_name]['tile_fetcher'].url_format}\n",
    "\n",
    "# Option 2 with more detail combination for generating wmts\n",
    "map_layers = generate_map_id({layer_name: vis_param}, {layer_name: image_mosaick})['map_layers']\n",
    "map_layers\n",
    "\n"
   ]
  },
  {
   "cell_type": "code",
   "execution_count": 18,
   "id": "8688e363",
   "metadata": {},
   "outputs": [
    {
     "data": {
      "text/html": [
       "\n",
       "            <style>\n",
       "                .geemap-dark {\n",
       "                    --jp-widgets-color: white;\n",
       "                    --jp-widgets-label-color: white;\n",
       "                    --jp-ui-font-color1: white;\n",
       "                    --jp-layout-color2: #454545;\n",
       "                    background-color: #383838;\n",
       "                }\n",
       "                    \n",
       "                .geemap-dark .jupyter-button {\n",
       "                    --jp-layout-color3: #383838;\n",
       "                }\n",
       "                \n",
       "                .geemap-colab {\n",
       "                    background-color: var(--colab-primary-surface-color, white);\n",
       "                }\n",
       "                    \n",
       "                .geemap-colab .jupyter-button {\n",
       "                    --jp-layout-color3: var(--colab-primary-surface-color, white);\n",
       "                }\n",
       "            </style>\n",
       "            "
      ],
      "text/plain": [
       "<IPython.core.display.HTML object>"
      ]
     },
     "metadata": {},
     "output_type": "display_data"
    },
    {
     "name": "stdout",
     "output_type": "stream",
     "text": [
      "\n",
      "🔍 Available map layers:\n",
      "   map_layers: 1\n",
      "\n",
      "🔧 Fixing AOI coordinates...\n",
      "✅ Centroid calculated successfully with error margin 1\n",
      "Warning: Could not get bounds from geometry: 0\n"
     ]
    },
    {
     "name": "stderr",
     "output_type": "stream",
     "text": [
      "INFO:gee_integration:GEE Integration Manager initialized:\n",
      "INFO:gee_integration:  FastAPI URL: http://fastapi:8000\n",
      "INFO:gee_integration:  MapStore Config: /usr/src/app/mapstore/configs/localConfig.json\n",
      "INFO:gee_integration:Processing GEE analysis: belaban_rayak\n",
      "INFO:gee_integration:🧹 Clearing duplicate projects before processing new analysis...\n",
      "INFO:cache_manager:No existing catalog entries to check for duplicates\n",
      "INFO:gee_integration:✅ Duplicate clearing successful: 0 duplicates cleared, 0 unique projects kept\n",
      "INFO:gee_integration:✅ Cache cleared: 0 duplicate entries, kept 0 unique projects\n",
      "INFO:gee_integration:Using complex layer info for 'Sentinel mosaicked - 2024-1-1-2024-5-31 VegColor': ['tile_url', 'name', 'description', 'vis_params']\n",
      "INFO:gee_integration:Registering with FastAPI: belaban_rayak_20251025_042950\n",
      "INFO:gee_integration:✅ FastAPI registration successful: MapStore catalog updated successfully\n",
      "INFO:gee_integration:Creating FastAPI proxy URLs for project: belaban_rayak_20251025_042950\n",
      "INFO:gee_integration:✅ Created 1 FastAPI proxy URLs\n",
      "INFO:gee_integration:Updating MapStore WMTS: belaban_rayak_20251025_042950\n",
      "INFO:gee_integration:🔄 Forcing comprehensive WMTS refresh...\n",
      "INFO:gee_utils:Starting comprehensive WMTS refresh...\n",
      "INFO:gee_utils:Clearing old WMTS services...\n"
     ]
    },
    {
     "name": "stdout",
     "output_type": "stream",
     "text": [
      "Calculated bbox from coordinates: {'minx': 110.42625277199998, 'miny': -1.8286048599999736, 'maxx': 110.49828386500002, 'maxy': -1.7805881470000031}\n",
      "✅ AOI processed successfully:\n",
      "   - Center: [110.46306597258281, -1.803818629688135]\n",
      "   - Area: Unknown\n",
      "   - BBox: {'minx': 110.42625277199998, 'miny': -1.8286048599999736, 'maxx': 110.49828386500002, 'maxy': -1.7805881470000031}\n",
      "✅ Fixed AOI Info:\n",
      "   Bbox: {'minx': 110.42625277199998, 'miny': -1.8286048599999736, 'maxx': 110.49828386500002, 'maxy': -1.7805881470000031}\n",
      "   Center: [110.46306597258281, -1.803818629688135]\n",
      "🚀 Processing GEE Analysis to MapStore...\n",
      "   Project: belaban_rayak\n",
      "   Layers: 1\n",
      "   AOI: {'minx': 110.42625277199998, 'miny': -1.8286048599999736, 'maxx': 110.49828386500002, 'maxy': -1.7805881470000031}\n"
     ]
    },
    {
     "name": "stderr",
     "output_type": "stream",
     "text": [
      "INFO:gee_utils:Found 0 GEE WMTS services\n",
      "INFO:gee_utils:No GEE WMTS services to remove\n",
      "INFO:gee_utils:Refreshing WMTS capabilities...\n",
      "INFO:gee_utils:WMTS capabilities refreshed successfully\n",
      "INFO:gee_utils:Updating MapStore WMTS service...\n",
      "INFO:gee_utils:Successfully updated MapStore WMTS service: gee_analysis_wmts\n",
      "INFO:gee_utils:Getting current WMTS layers...\n",
      "INFO:gee_utils:Comprehensive WMTS refresh completed successfully - Found 1 layers\n",
      "INFO:gee_integration:✅ MapStore WMTS configuration updated\n",
      "INFO:gee_integration:   New layers found: 1\n"
     ]
    },
    {
     "data": {
      "text/plain": [
       "{'status': 'success',\n",
       " 'project_id': 'belaban_rayak_20251025_042950',\n",
       " 'project_name': 'belaban_rayak',\n",
       " 'fastapi_registration': {'status': 'success',\n",
       "  'message': 'MapStore catalog updated successfully',\n",
       "  'layers_count': 1},\n",
       " 'proxy_urls_creation': {'status': 'success',\n",
       "  'message': 'Created 1 proxy URLs',\n",
       "  'proxy_urls': {'Sentinel mosaicked - 2024-1-1-2024-5-31 VegColor': {'proxy_url': 'http://fastapi:8000/tiles/belaban_rayak_20251025_042950/Sentinel mosaicked - 2024-1-1-2024-5-31 VegColor/{z}/{x}/{y}',\n",
       "    'original_url': 'https://earthengine.googleapis.com/v1/projects/ee-iwansetiawan/maps/9fa9b34774552871bef7c376bcd33bb3-588f59f4712b390bd494488548271163/tiles/{z}/{x}/{y}',\n",
       "    'layer_name': 'Sentinel mosaicked - 2024-1-1-2024-5-31 VegColor',\n",
       "    'description': 'SENTINEL MOSAICKED - 2024-1-1-2024-5-31 VEGCOLOR visualization from GEE analysis'}},\n",
       "  'layers_count': 1},\n",
       " 'wmts_configuration': {'status': 'success',\n",
       "  'message': 'WMTS configuration updated successfully',\n",
       "  'service_id': 'GEE_analysis_WMTS_layers',\n",
       "  'layers_available': ['belaban_rayak_20251025_042950_Sentinel_mosaicked_2024_1_1_2024_5_31_VegColor'],\n",
       "  'layers_count': 1},\n",
       " 'service_urls': {'fastapi_layers': 'http://fastapi:8000/layers/belaban_rayak_20251025_042950',\n",
       "  'fastapi_tiles': 'http://fastapi:8000/tiles/belaban_rayak_20251025_042950',\n",
       "  'wmts_service': 'http://fastapi:8000/wmts',\n",
       "  'mapstore_catalog': 'http://localhost:8082/mapstore'},\n",
       " 'available_layers': ['Sentinel mosaicked - 2024-1-1-2024-5-31 VegColor'],\n",
       " 'timestamp': '2025-10-25T04:29:51.005208'}"
      ]
     },
     "execution_count": 18,
     "metadata": {},
     "output_type": "execute_result"
    }
   ],
   "source": [
    "# import sys\n",
    "# sys.path.append('/usr/src/app/fastapi-gee-service')\n",
    "from gee_integration import process_gee_to_mapstore\n",
    "\n",
    "# Import the AOI fix function properly\n",
    "from gee_lib.osi.utils import process_aoi_geometry\n",
    "\n",
    "def list_layers_to_wmts(map_layers, AOI):\n",
    "    \"\"\"\n",
    "    Convert map layers to WMTS format\n",
    "    \n",
    "    Args:\n",
    "        map_layers: Dictionary of map layers\n",
    "\n",
    "    \"\"\"\n",
    "    \n",
    "    # Fix 1: Use correct map layers\n",
    "    print(f\"\\n🔍 Available map layers:\")\n",
    "    print(f\"   map_layers: {len(map_layers)}\")\n",
    "\n",
    "    # Fix 2: Fix AOI coordinates using the existing function\n",
    "    print(f\"\\n🔧 Fixing AOI coordinates...\")\n",
    "    AOI_geom = AOI.geometry()\n",
    "    aoi_info = process_aoi_geometry(AOI_geom)\n",
    "\n",
    "    print(f\"✅ Fixed AOI Info:\")\n",
    "    print(f\"   Bbox: {aoi_info['bbox']}\")\n",
    "    print(f\"   Center: {aoi_info['center']}\")\n",
    "\n",
    "    print(\"🚀 Processing GEE Analysis to MapStore...\")\n",
    "    print(f\"   Project: {layers_data['project_name']}\")\n",
    "    print(f\"   Layers: {len(map_layers)}\")\n",
    "    print(f\"   AOI: {aoi_info['bbox']}\")\n",
    "\n",
    "    # Process the complete integration\n",
    "    result = process_gee_to_mapstore(\n",
    "        map_layers=map_layers,\n",
    "        project_name=layers_data['project_name'],\n",
    "        aoi_info=aoi_info,\n",
    "        clear_cache_first=True,\n",
    "        fastapi_url=\"http://fastapi:8000\"  # Internal Docker network , this should be in localhost, but we can override as well\n",
    "    )\n",
    "    return result\n",
    "\n",
    "result = list_layers_to_wmts(map_layers, AOI)\n",
    "result\n"
   ]
  },
  {
   "cell_type": "code",
   "execution_count": 19,
   "id": "60426cd0",
   "metadata": {},
   "outputs": [
    {
     "data": {
      "text/html": [
       "\n",
       "            <style>\n",
       "                .geemap-dark {\n",
       "                    --jp-widgets-color: white;\n",
       "                    --jp-widgets-label-color: white;\n",
       "                    --jp-ui-font-color1: white;\n",
       "                    --jp-layout-color2: #454545;\n",
       "                    background-color: #383838;\n",
       "                }\n",
       "                    \n",
       "                .geemap-dark .jupyter-button {\n",
       "                    --jp-layout-color3: #383838;\n",
       "                }\n",
       "                \n",
       "                .geemap-colab {\n",
       "                    background-color: var(--colab-primary-surface-color, white);\n",
       "                }\n",
       "                    \n",
       "                .geemap-colab .jupyter-button {\n",
       "                    --jp-layout-color3: var(--colab-primary-surface-color, white);\n",
       "                }\n",
       "            </style>\n",
       "            "
      ],
      "text/plain": [
       "<IPython.core.display.HTML object>"
      ]
     },
     "metadata": {},
     "output_type": "display_data"
    },
    {
     "name": "stdout",
     "output_type": "stream",
     "text": [
      "link_localhost:  http://localhost:8001/fc/gee_aoi_dynamic\n"
     ]
    }
   ],
   "source": [
    "## EXAMPLE TO PUSH GEE TO GEOJSON FAST API\n",
    "import requests\n",
    "import json\n",
    "\n",
    "# Example GeoJSON data\n",
    "geojson_data = AOI.getInfo() # important this ee.FeatureCollection should convert to geojson first\n",
    "name_aoi = 'gee_aoi_dynamic'\n",
    "\n",
    "link_fastapi = 'http://fastapi:8000/fc/'+name_aoi #only from container, not from localhost\n",
    "\n",
    "# Push to API\n",
    "response = requests.post(\n",
    "    link_fastapi, # running in the notebook for now\n",
    "    json=geojson_data\n",
    ")\n",
    "\n",
    "print('link_localhost: ', 'http://localhost:8001/fc/'+name_aoi)\n",
    "\n"
   ]
  },
  {
   "cell_type": "code",
   "execution_count": 20,
   "id": "5db8629b",
   "metadata": {},
   "outputs": [
    {
     "data": {
      "text/html": [
       "\n",
       "            <style>\n",
       "                .geemap-dark {\n",
       "                    --jp-widgets-color: white;\n",
       "                    --jp-widgets-label-color: white;\n",
       "                    --jp-ui-font-color1: white;\n",
       "                    --jp-layout-color2: #454545;\n",
       "                    background-color: #383838;\n",
       "                }\n",
       "                    \n",
       "                .geemap-dark .jupyter-button {\n",
       "                    --jp-layout-color3: #383838;\n",
       "                }\n",
       "                \n",
       "                .geemap-colab {\n",
       "                    background-color: var(--colab-primary-surface-color, white);\n",
       "                }\n",
       "                    \n",
       "                .geemap-colab .jupyter-button {\n",
       "                    --jp-layout-color3: var(--colab-primary-surface-color, white);\n",
       "                }\n",
       "            </style>\n",
       "            "
      ],
      "text/plain": [
       "<IPython.core.display.HTML object>"
      ]
     },
     "metadata": {},
     "output_type": "display_data"
    }
   ],
   "source": [
    "# !cat /usr/src/app/mapstore/config/localConfig.json"
   ]
  },
  {
   "cell_type": "code",
   "execution_count": 21,
   "id": "49f3f9b7",
   "metadata": {},
   "outputs": [
    {
     "data": {
      "text/html": [
       "\n",
       "            <style>\n",
       "                .geemap-dark {\n",
       "                    --jp-widgets-color: white;\n",
       "                    --jp-widgets-label-color: white;\n",
       "                    --jp-ui-font-color1: white;\n",
       "                    --jp-layout-color2: #454545;\n",
       "                    background-color: #383838;\n",
       "                }\n",
       "                    \n",
       "                .geemap-dark .jupyter-button {\n",
       "                    --jp-layout-color3: #383838;\n",
       "                }\n",
       "                \n",
       "                .geemap-colab {\n",
       "                    background-color: var(--colab-primary-surface-color, white);\n",
       "                }\n",
       "                    \n",
       "                .geemap-colab .jupyter-button {\n",
       "                    --jp-layout-color3: var(--colab-primary-surface-color, white);\n",
       "                }\n",
       "            </style>\n",
       "            "
      ],
      "text/plain": [
       "<IPython.core.display.HTML object>"
      ]
     },
     "metadata": {},
     "output_type": "display_data"
    },
    {
     "name": "stderr",
     "output_type": "stream",
     "text": [
      "INFO:gee_integration:GEE Integration Manager initialized:\n",
      "INFO:gee_integration:  FastAPI URL: http://fastapi:8000\n",
      "INFO:gee_integration:  MapStore Config: /usr/src/app/mapstore/configs/localConfig.json\n",
      "INFO:gee_integration:Adding TMS layer: Sentinel mosaicked - 2024-1-1-2024-5-31 VegColor\n",
      "INFO:gee_integration:✅ TMS layer added successfully\n",
      "INFO:gee_integration:   Service ID: gee_tms_Sentinel_mosaicked_2024_1_1_2024_5_31_VegColor\n",
      "INFO:gee_integration:   Layer: Sentinel Mosaicked - 2024-1-1-2024-5-31 Vegcolor\n",
      "INFO:gee_integration:   URL: https://earthengine.googleapis.com/v1/projects/ee-iwansetiawan/maps/9fa9b34774552871bef7c376bcd33bb3-588f59f4712b390bd494488548271163/tiles/{z}/{x}/{y}\n"
     ]
    },
    {
     "name": "stdout",
     "output_type": "stream",
     "text": [
      "Adding TMS layer with Direct GEE TILES...\n",
      "\n",
      "📊 TMS Proxy Result:\n",
      "   Status: success\n",
      "   Service ID: gee_tms_Sentinel_mosaicked_2024_1_1_2024_5_31_VegColor\n",
      "   Layer Title: Sentinel Mosaicked - 2024-1-1-2024-5-31 Vegcolor\n",
      "   TMS URL: https://earthengine.googleapis.com/v1/projects/ee-iwansetiawan/maps/9fa9b34774552871bef7c376bcd33bb3-588f59f4712b390bd494488548271163/tiles/{z}/{x}/{y}\n",
      "   Uses FastAPI Proxy: False\n"
     ]
    }
   ],
   "source": [
    "# Test the new TMS management system\n",
    "from gee_integration import add_tms_layer_to_mapstore, list_gee_tms_layers, clear_all_gee_tms_layers\n",
    "print(\"Adding TMS layer with Direct GEE TILES...\")\n",
    "# Get the first layer as an example\n",
    "first_layer_name = list(map_layers.keys())[0]\n",
    "first_layer_info = map_layers[first_layer_name]\n",
    "\n",
    "# Add a TMS layer\n",
    "tms_result = add_tms_layer_to_mapstore(\n",
    "    layer_name=first_layer_name,\n",
    "    layer_url=first_layer_info.get('tile_url', ''),\n",
    "    use_fastapi_proxy=False, # change this to True if you want to use the fastapi proxy\n",
    "    fastapi_pub_url=\"http://localhost:8001\"\n",
    ")\n",
    "\n",
    "print(f\"\\n📊 TMS Proxy Result:\")\n",
    "print(f\"   Status: {tms_result['status']}\")\n",
    "if tms_result['status'] == 'success':\n",
    "    print(f\"   Service ID: {tms_result['service_id']}\")\n",
    "    print(f\"   Layer Title: {tms_result['layer_title']}\")\n",
    "    print(f\"   TMS URL: {tms_result['tms_url']}\")\n",
    "    print(f\"   Uses FastAPI Proxy: {tms_result['use_fastapi_proxy']}\")\n"
   ]
  },
  {
   "cell_type": "code",
   "execution_count": 22,
   "id": "5ddd80c6",
   "metadata": {},
   "outputs": [
    {
     "data": {
      "text/html": [
       "\n",
       "            <style>\n",
       "                .geemap-dark {\n",
       "                    --jp-widgets-color: white;\n",
       "                    --jp-widgets-label-color: white;\n",
       "                    --jp-ui-font-color1: white;\n",
       "                    --jp-layout-color2: #454545;\n",
       "                    background-color: #383838;\n",
       "                }\n",
       "                    \n",
       "                .geemap-dark .jupyter-button {\n",
       "                    --jp-layout-color3: #383838;\n",
       "                }\n",
       "                \n",
       "                .geemap-colab {\n",
       "                    background-color: var(--colab-primary-surface-color, white);\n",
       "                }\n",
       "                    \n",
       "                .geemap-colab .jupyter-button {\n",
       "                    --jp-layout-color3: var(--colab-primary-surface-color, white);\n",
       "                }\n",
       "            </style>\n",
       "            "
      ],
      "text/plain": [
       "<IPython.core.display.HTML object>"
      ]
     },
     "metadata": {},
     "output_type": "display_data"
    },
    {
     "name": "stderr",
     "output_type": "stream",
     "text": [
      "INFO:gee_integration:GEE Integration Manager initialized:\n",
      "INFO:gee_integration:  FastAPI URL: http://fastapi:8000\n",
      "INFO:gee_integration:  MapStore Config: /usr/src/app/mapstore/configs/localConfig.json\n",
      "INFO:gee_integration:Listing GEE TMS layers...\n",
      "INFO:gee_integration:✅ Found 1 GEE TMS layers\n"
     ]
    },
    {
     "data": {
      "text/plain": [
       "{'status': 'success',\n",
       " 'message': 'Found 1 GEE TMS layers',\n",
       " 'tms_services': [{'service_id': 'gee_tms_Sentinel_mosaicked_2024_1_1_2024_5_31_VegColor',\n",
       "   'layer_name': 'Sentinel_mosaicked_2024_1_1_2024_5_31_VegColor',\n",
       "   'title': 'GEE TMS - Sentinel Mosaicked - 2024-1-1-2024-5-31 Vegcolor (Direct)',\n",
       "   'url': 'https://earthengine.googleapis.com/v1/projects/ee-iwansetiawan/maps/9fa9b34774552871bef7c376bcd33bb3-588f59f4712b390bd494488548271163/tiles/{z}/{x}/{y}',\n",
       "   'type': 'tms',\n",
       "   'format': 'image/png',\n",
       "   'srs': 'EPSG:3857'}],\n",
       " 'count': 1}"
      ]
     },
     "execution_count": 22,
     "metadata": {},
     "output_type": "execute_result"
    }
   ],
   "source": [
    "list_gee_tms_layers()\n",
    "# clear_all_gee_tms_layers()"
   ]
  },
  {
   "cell_type": "code",
   "execution_count": 23,
   "id": "2665427f",
   "metadata": {},
   "outputs": [
    {
     "data": {
      "text/html": [
       "\n",
       "            <style>\n",
       "                .geemap-dark {\n",
       "                    --jp-widgets-color: white;\n",
       "                    --jp-widgets-label-color: white;\n",
       "                    --jp-ui-font-color1: white;\n",
       "                    --jp-layout-color2: #454545;\n",
       "                    background-color: #383838;\n",
       "                }\n",
       "                    \n",
       "                .geemap-dark .jupyter-button {\n",
       "                    --jp-layout-color3: #383838;\n",
       "                }\n",
       "                \n",
       "                .geemap-colab {\n",
       "                    background-color: var(--colab-primary-surface-color, white);\n",
       "                }\n",
       "                    \n",
       "                .geemap-colab .jupyter-button {\n",
       "                    --jp-layout-color3: var(--colab-primary-surface-color, white);\n",
       "                }\n",
       "            </style>\n",
       "            "
      ],
      "text/plain": [
       "<IPython.core.display.HTML object>"
      ]
     },
     "metadata": {},
     "output_type": "display_data"
    }
   ],
   "source": [
    "path_cog =  os.getenv('GCS_PATH')"
   ]
  },
  {
   "cell_type": "code",
   "execution_count": 24,
   "id": "2b176fad",
   "metadata": {},
   "outputs": [
    {
     "data": {
      "text/html": [
       "\n",
       "            <style>\n",
       "                .geemap-dark {\n",
       "                    --jp-widgets-color: white;\n",
       "                    --jp-widgets-label-color: white;\n",
       "                    --jp-ui-font-color1: white;\n",
       "                    --jp-layout-color2: #454545;\n",
       "                    background-color: #383838;\n",
       "                }\n",
       "                    \n",
       "                .geemap-dark .jupyter-button {\n",
       "                    --jp-layout-color3: #383838;\n",
       "                }\n",
       "                \n",
       "                .geemap-colab {\n",
       "                    background-color: var(--colab-primary-surface-color, white);\n",
       "                }\n",
       "                    \n",
       "                .geemap-colab .jupyter-button {\n",
       "                    --jp-layout-color3: var(--colab-primary-surface-color, white);\n",
       "                }\n",
       "            </style>\n",
       "            "
      ],
      "text/plain": [
       "<IPython.core.display.HTML object>"
      ]
     },
     "metadata": {},
     "output_type": "display_data"
    }
   ],
   "source": [
    "## cog gcs to ee image\n",
    "import geemap\n",
    "drone_cog = geemap.load_GeoTIFF(path_cog)"
   ]
  },
  {
   "cell_type": "code",
   "execution_count": 25,
   "id": "e33c0321",
   "metadata": {},
   "outputs": [
    {
     "data": {
      "text/html": [
       "\n",
       "            <style>\n",
       "                .geemap-dark {\n",
       "                    --jp-widgets-color: white;\n",
       "                    --jp-widgets-label-color: white;\n",
       "                    --jp-ui-font-color1: white;\n",
       "                    --jp-layout-color2: #454545;\n",
       "                    background-color: #383838;\n",
       "                }\n",
       "                    \n",
       "                .geemap-dark .jupyter-button {\n",
       "                    --jp-layout-color3: #383838;\n",
       "                }\n",
       "                \n",
       "                .geemap-colab {\n",
       "                    background-color: var(--colab-primary-surface-color, white);\n",
       "                }\n",
       "                    \n",
       "                .geemap-colab .jupyter-button {\n",
       "                    --jp-layout-color3: var(--colab-primary-surface-color, white);\n",
       "                }\n",
       "            </style>\n",
       "            "
      ],
      "text/plain": [
       "<IPython.core.display.HTML object>"
      ]
     },
     "metadata": {},
     "output_type": "display_data"
    },
    {
     "data": {
      "text/plain": [
       "ee.image.Image"
      ]
     },
     "execution_count": 25,
     "metadata": {},
     "output_type": "execute_result"
    }
   ],
   "source": [
    "type(drone_cog)"
   ]
  },
  {
   "cell_type": "code",
   "execution_count": 26,
   "id": "d0366f94",
   "metadata": {},
   "outputs": [
    {
     "data": {
      "text/html": [
       "\n",
       "            <style>\n",
       "                .geemap-dark {\n",
       "                    --jp-widgets-color: white;\n",
       "                    --jp-widgets-label-color: white;\n",
       "                    --jp-ui-font-color1: white;\n",
       "                    --jp-layout-color2: #454545;\n",
       "                    background-color: #383838;\n",
       "                }\n",
       "                    \n",
       "                .geemap-dark .jupyter-button {\n",
       "                    --jp-layout-color3: #383838;\n",
       "                }\n",
       "                \n",
       "                .geemap-colab {\n",
       "                    background-color: var(--colab-primary-surface-color, white);\n",
       "                }\n",
       "                    \n",
       "                .geemap-colab .jupyter-button {\n",
       "                    --jp-layout-color3: var(--colab-primary-surface-color, white);\n",
       "                }\n",
       "            </style>\n",
       "            "
      ],
      "text/plain": [
       "<IPython.core.display.HTML object>"
      ]
     },
     "metadata": {},
     "output_type": "display_data"
    }
   ],
   "source": [
    "# !cat /root/.config/gcloud/application_default_credentials.json"
   ]
  },
  {
   "cell_type": "code",
   "execution_count": 36,
   "id": "ee210067",
   "metadata": {},
   "outputs": [
    {
     "data": {
      "text/html": [
       "\n",
       "            <style>\n",
       "                .geemap-dark {\n",
       "                    --jp-widgets-color: white;\n",
       "                    --jp-widgets-label-color: white;\n",
       "                    --jp-ui-font-color1: white;\n",
       "                    --jp-layout-color2: #454545;\n",
       "                    background-color: #383838;\n",
       "                }\n",
       "                    \n",
       "                .geemap-dark .jupyter-button {\n",
       "                    --jp-layout-color3: #383838;\n",
       "                }\n",
       "                \n",
       "                .geemap-colab {\n",
       "                    background-color: var(--colab-primary-surface-color, white);\n",
       "                }\n",
       "                    \n",
       "                .geemap-colab .jupyter-button {\n",
       "                    --jp-layout-color3: var(--colab-primary-surface-color, white);\n",
       "                }\n",
       "            </style>\n",
       "            "
      ],
      "text/plain": [
       "<IPython.core.display.HTML object>"
      ]
     },
     "metadata": {},
     "output_type": "display_data"
    },
    {
     "name": "stdout",
     "output_type": "stream",
     "text": [
      "Generating GEE Map IDs...\n"
     ]
    },
    {
     "data": {
      "text/plain": [
       "{'Sentinel mosaicked - 2024-1-1-2024-5-31 VegColor': {'tile_url': 'https://earthengine.googleapis.com/v1/projects/ee-iwansetiawan/maps/3ac6b7ca35a28dcefe36a4bd2da6fb59-33000af4157fa68745e8f16960b5e028/tiles/{z}/{x}/{y}',\n",
       "  'name': 'Sentinel Mosaicked - 2024-1-1-2024-5-31 Vegcolor',\n",
       "  'description': 'SENTINEL MOSAICKED - 2024-1-1-2024-5-31 VEGCOLOR visualization from GEE analysis',\n",
       "  'vis_params': {'bands': ['swir2', 'nir', 'red'],\n",
       "   'min': 0,\n",
       "   'max': 0.6,\n",
       "   'gamma': 1.5}},\n",
       " 'drone_cog': {'tile_url': 'https://earthengine.googleapis.com/v1/projects/ee-iwansetiawan/maps/9af1e5e521a1824b9e4c5e1977b8b974-f51454276ed1f9f8acb22827ebf61d38/tiles/{z}/{x}/{y}',\n",
       "  'name': 'Drone Cog',\n",
       "  'description': 'DRONE_COG visualization from GEE analysis',\n",
       "  'vis_params': {}}}"
      ]
     },
     "execution_count": 36,
     "metadata": {},
     "output_type": "execute_result"
    }
   ],
   "source": [
    "map_layers = generate_map_id({layer_name: vis_param, 'drone_cog': {}}, {layer_name: image_mosaick, 'drone_cog': drone_cog})['map_layers']\n",
    "map_layers"
   ]
  },
  {
   "cell_type": "code",
   "execution_count": 37,
   "id": "c4a4614f",
   "metadata": {},
   "outputs": [
    {
     "data": {
      "text/html": [
       "\n",
       "            <style>\n",
       "                .geemap-dark {\n",
       "                    --jp-widgets-color: white;\n",
       "                    --jp-widgets-label-color: white;\n",
       "                    --jp-ui-font-color1: white;\n",
       "                    --jp-layout-color2: #454545;\n",
       "                    background-color: #383838;\n",
       "                }\n",
       "                    \n",
       "                .geemap-dark .jupyter-button {\n",
       "                    --jp-layout-color3: #383838;\n",
       "                }\n",
       "                \n",
       "                .geemap-colab {\n",
       "                    background-color: var(--colab-primary-surface-color, white);\n",
       "                }\n",
       "                    \n",
       "                .geemap-colab .jupyter-button {\n",
       "                    --jp-layout-color3: var(--colab-primary-surface-color, white);\n",
       "                }\n",
       "            </style>\n",
       "            "
      ],
      "text/plain": [
       "<IPython.core.display.HTML object>"
      ]
     },
     "metadata": {},
     "output_type": "display_data"
    },
    {
     "name": "stdout",
     "output_type": "stream",
     "text": [
      "\n",
      "🔍 Available map layers:\n",
      "   map_layers: 2\n",
      "\n",
      "🔧 Fixing AOI coordinates...\n",
      "✅ Centroid calculated successfully with error margin 1\n",
      "Warning: Could not get bounds from geometry: 0\n"
     ]
    },
    {
     "name": "stderr",
     "output_type": "stream",
     "text": [
      "INFO:gee_integration:GEE Integration Manager initialized:\n",
      "INFO:gee_integration:  FastAPI URL: http://fastapi:8000\n",
      "INFO:gee_integration:  MapStore Config: /usr/src/app/mapstore/configs/localConfig.json\n",
      "INFO:gee_integration:Processing GEE analysis: belaban_rayak\n",
      "INFO:gee_integration:🧹 Clearing duplicate projects before processing new analysis...\n",
      "INFO:cache_manager:No existing catalog entries to check for duplicates\n",
      "INFO:gee_integration:✅ Duplicate clearing successful: 0 duplicates cleared, 0 unique projects kept\n",
      "INFO:gee_integration:✅ Cache cleared: 0 duplicate entries, kept 0 unique projects\n",
      "INFO:gee_integration:Using complex layer info for 'Sentinel mosaicked - 2024-1-1-2024-5-31 VegColor': ['tile_url', 'name', 'description', 'vis_params']\n",
      "INFO:gee_integration:Using complex layer info for 'drone_cog': ['tile_url', 'name', 'description', 'vis_params']\n",
      "INFO:gee_integration:Registering with FastAPI: belaban_rayak_20251025_043651\n",
      "INFO:gee_integration:✅ FastAPI registration successful: MapStore catalog updated successfully\n",
      "INFO:gee_integration:Creating FastAPI proxy URLs for project: belaban_rayak_20251025_043651\n",
      "INFO:gee_integration:✅ Created 2 FastAPI proxy URLs\n",
      "INFO:gee_integration:Updating MapStore WMTS: belaban_rayak_20251025_043651\n",
      "INFO:gee_integration:🔄 Forcing comprehensive WMTS refresh...\n",
      "INFO:gee_utils:Starting comprehensive WMTS refresh...\n",
      "INFO:gee_utils:Clearing old WMTS services...\n",
      "INFO:gee_utils:Found 0 GEE WMTS services\n"
     ]
    },
    {
     "name": "stdout",
     "output_type": "stream",
     "text": [
      "Calculated bbox from coordinates: {'minx': 110.42625277199998, 'miny': -1.8286048599999736, 'maxx': 110.49828386500002, 'maxy': -1.7805881470000031}\n",
      "✅ AOI processed successfully:\n",
      "   - Center: [110.46306597258281, -1.803818629688135]\n",
      "   - Area: Unknown\n",
      "   - BBox: {'minx': 110.42625277199998, 'miny': -1.8286048599999736, 'maxx': 110.49828386500002, 'maxy': -1.7805881470000031}\n",
      "✅ Fixed AOI Info:\n",
      "   Bbox: {'minx': 110.42625277199998, 'miny': -1.8286048599999736, 'maxx': 110.49828386500002, 'maxy': -1.7805881470000031}\n",
      "   Center: [110.46306597258281, -1.803818629688135]\n",
      "🚀 Processing GEE Analysis to MapStore...\n",
      "   Project: belaban_rayak\n",
      "   Layers: 2\n",
      "   AOI: {'minx': 110.42625277199998, 'miny': -1.8286048599999736, 'maxx': 110.49828386500002, 'maxy': -1.7805881470000031}\n"
     ]
    },
    {
     "name": "stderr",
     "output_type": "stream",
     "text": [
      "INFO:gee_utils:No GEE WMTS services to remove\n",
      "INFO:gee_utils:Refreshing WMTS capabilities...\n",
      "INFO:gee_utils:WMTS capabilities refreshed successfully\n",
      "INFO:gee_utils:Updating MapStore WMTS service...\n",
      "INFO:gee_utils:Successfully updated MapStore WMTS service: gee_analysis_wmts\n",
      "INFO:gee_utils:Getting current WMTS layers...\n",
      "INFO:gee_utils:Comprehensive WMTS refresh completed successfully - Found 2 layers\n",
      "INFO:gee_integration:✅ MapStore WMTS configuration updated\n",
      "INFO:gee_integration:   New layers found: 2\n"
     ]
    },
    {
     "data": {
      "text/plain": [
       "{'status': 'success',\n",
       " 'project_id': 'belaban_rayak_20251025_043651',\n",
       " 'project_name': 'belaban_rayak',\n",
       " 'fastapi_registration': {'status': 'success',\n",
       "  'message': 'MapStore catalog updated successfully',\n",
       "  'layers_count': 2},\n",
       " 'proxy_urls_creation': {'status': 'success',\n",
       "  'message': 'Created 2 proxy URLs',\n",
       "  'proxy_urls': {'Sentinel mosaicked - 2024-1-1-2024-5-31 VegColor': {'proxy_url': 'http://fastapi:8000/tiles/belaban_rayak_20251025_043651/Sentinel mosaicked - 2024-1-1-2024-5-31 VegColor/{z}/{x}/{y}',\n",
       "    'original_url': 'https://earthengine.googleapis.com/v1/projects/ee-iwansetiawan/maps/3ac6b7ca35a28dcefe36a4bd2da6fb59-33000af4157fa68745e8f16960b5e028/tiles/{z}/{x}/{y}',\n",
       "    'layer_name': 'Sentinel mosaicked - 2024-1-1-2024-5-31 VegColor',\n",
       "    'description': 'SENTINEL MOSAICKED - 2024-1-1-2024-5-31 VEGCOLOR visualization from GEE analysis'},\n",
       "   'drone_cog': {'proxy_url': 'http://fastapi:8000/tiles/belaban_rayak_20251025_043651/drone_cog/{z}/{x}/{y}',\n",
       "    'original_url': 'https://earthengine.googleapis.com/v1/projects/ee-iwansetiawan/maps/9af1e5e521a1824b9e4c5e1977b8b974-f51454276ed1f9f8acb22827ebf61d38/tiles/{z}/{x}/{y}',\n",
       "    'layer_name': 'drone_cog',\n",
       "    'description': 'DRONE_COG visualization from GEE analysis'}},\n",
       "  'layers_count': 2},\n",
       " 'wmts_configuration': {'status': 'success',\n",
       "  'message': 'WMTS configuration updated successfully',\n",
       "  'service_id': 'GEE_analysis_WMTS_layers',\n",
       "  'layers_available': ['belaban_rayak_20251025_043651_Sentinel_mosaicked_2024_1_1_2024_5_31_VegColor',\n",
       "   'belaban_rayak_20251025_043651_drone_cog'],\n",
       "  'layers_count': 2},\n",
       " 'service_urls': {'fastapi_layers': 'http://fastapi:8000/layers/belaban_rayak_20251025_043651',\n",
       "  'fastapi_tiles': 'http://fastapi:8000/tiles/belaban_rayak_20251025_043651',\n",
       "  'wmts_service': 'http://fastapi:8000/wmts',\n",
       "  'mapstore_catalog': 'http://localhost:8082/mapstore'},\n",
       " 'available_layers': ['Sentinel mosaicked - 2024-1-1-2024-5-31 VegColor',\n",
       "  'drone_cog'],\n",
       " 'timestamp': '2025-10-25T04:36:51.711872'}"
      ]
     },
     "execution_count": 37,
     "metadata": {},
     "output_type": "execute_result"
    }
   ],
   "source": [
    "# re add\n",
    "result = list_layers_to_wmts(map_layers, AOI)\n",
    "result"
   ]
  },
  {
   "cell_type": "code",
   "execution_count": 39,
   "id": "027a1e88",
   "metadata": {},
   "outputs": [
    {
     "data": {
      "text/html": [
       "\n",
       "            <style>\n",
       "                .geemap-dark {\n",
       "                    --jp-widgets-color: white;\n",
       "                    --jp-widgets-label-color: white;\n",
       "                    --jp-ui-font-color1: white;\n",
       "                    --jp-layout-color2: #454545;\n",
       "                    background-color: #383838;\n",
       "                }\n",
       "                    \n",
       "                .geemap-dark .jupyter-button {\n",
       "                    --jp-layout-color3: #383838;\n",
       "                }\n",
       "                \n",
       "                .geemap-colab {\n",
       "                    background-color: var(--colab-primary-surface-color, white);\n",
       "                }\n",
       "                    \n",
       "                .geemap-colab .jupyter-button {\n",
       "                    --jp-layout-color3: var(--colab-primary-surface-color, white);\n",
       "                }\n",
       "            </style>\n",
       "            "
      ],
      "text/plain": [
       "<IPython.core.display.HTML object>"
      ]
     },
     "metadata": {},
     "output_type": "display_data"
    },
    {
     "data": {
      "text/plain": [
       "{'tile_url': 'https://earthengine.googleapis.com/v1/projects/ee-iwansetiawan/maps/9af1e5e521a1824b9e4c5e1977b8b974-f51454276ed1f9f8acb22827ebf61d38/tiles/{z}/{x}/{y}',\n",
       " 'name': 'Drone Cog',\n",
       " 'description': 'DRONE_COG visualization from GEE analysis',\n",
       " 'vis_params': {}}"
      ]
     },
     "execution_count": 39,
     "metadata": {},
     "output_type": "execute_result"
    }
   ],
   "source": [
    "drone_name = list(map_layers.keys())[1]\n",
    "drone_layer = map_layers[drone_name]\n",
    "drone_layer"
   ]
  },
  {
   "cell_type": "code",
   "execution_count": 40,
   "id": "c781d682",
   "metadata": {},
   "outputs": [
    {
     "data": {
      "text/html": [
       "\n",
       "            <style>\n",
       "                .geemap-dark {\n",
       "                    --jp-widgets-color: white;\n",
       "                    --jp-widgets-label-color: white;\n",
       "                    --jp-ui-font-color1: white;\n",
       "                    --jp-layout-color2: #454545;\n",
       "                    background-color: #383838;\n",
       "                }\n",
       "                    \n",
       "                .geemap-dark .jupyter-button {\n",
       "                    --jp-layout-color3: #383838;\n",
       "                }\n",
       "                \n",
       "                .geemap-colab {\n",
       "                    background-color: var(--colab-primary-surface-color, white);\n",
       "                }\n",
       "                    \n",
       "                .geemap-colab .jupyter-button {\n",
       "                    --jp-layout-color3: var(--colab-primary-surface-color, white);\n",
       "                }\n",
       "            </style>\n",
       "            "
      ],
      "text/plain": [
       "<IPython.core.display.HTML object>"
      ]
     },
     "metadata": {},
     "output_type": "display_data"
    },
    {
     "name": "stderr",
     "output_type": "stream",
     "text": [
      "INFO:gee_integration:GEE Integration Manager initialized:\n",
      "INFO:gee_integration:  FastAPI URL: http://fastapi:8000\n",
      "INFO:gee_integration:  MapStore Config: /usr/src/app/mapstore/configs/localConfig.json\n",
      "INFO:gee_integration:Adding TMS layer: drone_cog\n",
      "INFO:gee_integration:✅ TMS layer added successfully\n",
      "INFO:gee_integration:   Service ID: gee_tms_drone_cog\n",
      "INFO:gee_integration:   Layer: Drone Cog\n",
      "INFO:gee_integration:   URL: https://earthengine.googleapis.com/v1/projects/ee-iwansetiawan/maps/9fa9b34774552871bef7c376bcd33bb3-588f59f4712b390bd494488548271163/tiles/{z}/{x}/{y}\n"
     ]
    }
   ],
   "source": [
    "# Add a TMS layer\n",
    "tms_result = add_tms_layer_to_mapstore(\n",
    "    layer_name=drone_name,\n",
    "    layer_url=first_layer_info.get('tile_url', ''),\n",
    "    use_fastapi_proxy=False, # change this to True if you want to use the fastapi proxy\n",
    "    fastapi_pub_url=\"http://localhost:8001\"\n",
    ")"
   ]
  },
  {
   "cell_type": "code",
   "execution_count": null,
   "id": "edaf71a5",
   "metadata": {},
   "outputs": [],
   "source": []
  },
  {
   "cell_type": "code",
   "execution_count": null,
   "id": "d0655fc6",
   "metadata": {},
   "outputs": [],
   "source": []
  }
 ],
 "metadata": {
  "kernelspec": {
   "display_name": "Python 3 (ipykernel)",
   "language": "python",
   "name": "python3"
  },
  "language_info": {
   "codemirror_mode": {
    "name": "ipython",
    "version": 3
   },
   "file_extension": ".py",
   "mimetype": "text/x-python",
   "name": "python",
   "nbconvert_exporter": "python",
   "pygments_lexer": "ipython3",
   "version": "3.10.19"
  }
 },
 "nbformat": 4,
 "nbformat_minor": 5
}
