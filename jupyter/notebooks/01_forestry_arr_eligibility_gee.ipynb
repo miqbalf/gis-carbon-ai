{
 "cells": [
  {
   "cell_type": "code",
   "execution_count": 2,
   "id": "e0b2a5ca",
   "metadata": {},
   "outputs": [
    {
     "data": {
      "text/plain": [
       "['/usr/src/app/notebooks',\n",
       " '/usr/src/app',\n",
       " '/usr/src/app/gee_lib',\n",
       " '/usr/src/app/ex_ante_lib',\n",
       " '/usr/src/app/forestry_carbon_arr',\n",
       " '/usr/src/app/fastapi-gee-service',\n",
       " '/usr/local/lib/python310.zip',\n",
       " '/usr/local/lib/python3.10',\n",
       " '/usr/local/lib/python3.10/lib-dynload',\n",
       " '',\n",
       " '/usr/local/lib/python3.10/site-packages']"
      ]
     },
     "execution_count": 2,
     "metadata": {},
     "output_type": "execute_result"
    }
   ],
   "source": [
    "import sys\n",
    "sys.path"
   ]
  },
  {
   "cell_type": "code",
   "execution_count": 3,
   "id": "01527d86",
   "metadata": {},
   "outputs": [],
   "source": [
    "import ee"
   ]
  },
  {
   "cell_type": "code",
   "execution_count": 4,
   "id": "c0eae631",
   "metadata": {},
   "outputs": [
    {
     "name": "stdout",
     "output_type": "stream",
     "text": [
      "✓ GEE Initialized successfully\n",
      "  Service Account: earth-engine-land-eligibility@ee-iwansetiawan.iam.gserviceaccount.com\n",
      "  Project ID: ee-iwansetiawan\n",
      "  Credentials Path: /usr/src/app/user_id.json\n"
     ]
    }
   ],
   "source": [
    "from gee_lib.osi.auth import initialize_gee, check_gee_initialization\n",
    "# Initialize GEE\n",
    "authenticate = initialize_gee(project_id='ee-iwansetiawan')\n",
    "\n",
    "# Verify it's working\n",
    "if check_gee_initialization():\n",
    "    print(\"Ready to use GEE!\")"
   ]
  },
  {
   "cell_type": "code",
   "execution_count": 5,
   "id": "288e92dc",
   "metadata": {},
   "outputs": [
    {
     "name": "stdout",
     "output_type": "stream",
     "text": [
      "config--->  {'I_satellite': 'Sentinel', 'pca_scaling': 1, 'tileScale': 2, 'AOI_path': './00_input/LPHD Belaban Rayak.shp', 'OID_field_name': 'id', 'input_training': './00_input/traning_point_merged_belaban.shp', 'algo_ml_selected': 'gbm', 'date_start_end': ['2024-1-1', '2024-5-31'], 'project_name': 'belaban_rayak', 'super_pixel_size': 3, 'region': 'asia', 'pixel_number': 3, 'year_start_loss': 14, 'tree_cover_forest': 30, 'band_name_image': 'Class', 'cloud_cover_threshold': 60, 'crs_input': 'EPSG:4326', 'IsThermal': False, 'fcd_selected': 21, 'high_forest': 65, 'yrf_forest': 45, 'shrub_grass': 45, 'open_land': 30, 'ndwi_hi_sentinel': 0.05, 'ndwi_hi_landsat': 0.1, 'ndwi_hi_planet': -0.2}\n"
     ]
    }
   ],
   "source": [
    "import json\n",
    "import os\n",
    "\n",
    "### need improvement on how to manage this config, we also in the config the path to the static file\n",
    "# maybe we need to not put the path in the config.json, don't know yet\n",
    "# Move to the parent directory of the current script\n",
    "parent_dir = os.getcwd()\n",
    "\n",
    "# Construct the absolute path to the JSON file in the 'input' folder\n",
    "json_path= os.path.join(parent_dir, '00_input', 'balaban_conf.json')\n",
    "\n",
    "# Read and load the JSON data from the file\n",
    "with open(json_path, 'r') as file:\n",
    "    config = json.load(file)\n",
    "\n",
    "print('config---> ',config)"
   ]
  },
  {
   "cell_type": "code",
   "execution_count": 6,
   "id": "c49ee0d1",
   "metadata": {},
   "outputs": [],
   "source": [
    "## import modules\n",
    "import osi\n",
    "import pandas as pd\n",
    "import geemap\n",
    "\n",
    "from osi.utils.main import validate_aoi\n",
    "# convert the modules for image collection (cloudless masking, compositing, reducer etc)\n",
    "from osi.image_collection.main import ImageCollection\n",
    "from osi.spectral_indices.spectral_analysis import SpectralAnalysis\n",
    "from osi.spectral_indices.utils import normalization_100\n",
    "from osi.hansen.historical_loss import HansenHistorical\n",
    "from osi.classifying.assign_zone import AssignClassZone\n",
    "from osi.legends.utils import convert_to_legend_items\n",
    "from osi.legends.main import LegendsBuilder\n",
    "from osi.obia.main import OBIASegmentation\n",
    "from osi.ml.main import LandcoverML\n",
    "from osi.fcd.main_fcd import FCDCalc\n",
    "from osi.pca.pca_gee import PCA\n",
    "from osi.hansen.historical_loss import HansenHistorical\n",
    "from osi.classifying.assign_zone import AssignClassZone\n",
    "from osi.arcpy.utils import safe_get_data_source\n",
    "\n",
    "\n",
    "AOIt_shp_plot = geemap.shp_to_ee(config['AOI_path'])\n",
    "crs_input = config['crs_input']\n",
    "I_satellite = config['I_satellite']\n",
    "project_name = config['project_name']\n",
    "\n",
    "start_date = config['date_start_end'][0]\n",
    "end_date = config['date_start_end'][1]\n",
    "\n",
    "layer_name_image_mosaick = f'image_mosaick_result_ee_{project_name}'\n",
    "\n",
    "AOI = AOIt_shp_plot\n",
    "config['AOI'] = AOI\n",
    "\n",
    "ndwi_hi = 0.1\n",
    "if config['I_satellite'] == 'Landsat':\n",
    "    ndwi_hi = config['ndwi_hi_landsat']\n",
    "elif I_satellite == 'Sentinel':\n",
    "    ndwi_hi = config['ndwi_hi_sentinel']\n",
    "elif I_satellite == 'Planet':\n",
    "    ndwi_hi = config['ndwi_hi_planet']\n",
    "\n",
    "### Masking and overlay and area helper Make an image out of the AOI area attribute -> convert featurecollection into raster (image) for overlaying tools\n",
    "OID = config['OID_field_name']\n",
    "AOI_img = AOI.filter(ee.Filter.notNull([OID])).reduceToImage(\n",
    "    properties= [OID],\n",
    "    reducer= ee.Reducer.first()\n",
    ")"
   ]
  },
  {
   "cell_type": "code",
   "execution_count": 7,
   "id": "af49606d",
   "metadata": {},
   "outputs": [
    {
     "data": {
      "text/html": [
       "\n",
       "            <style>\n",
       "                .geemap-dark {\n",
       "                    --jp-widgets-color: white;\n",
       "                    --jp-widgets-label-color: white;\n",
       "                    --jp-ui-font-color1: white;\n",
       "                    --jp-layout-color2: #454545;\n",
       "                    background-color: #383838;\n",
       "                }\n",
       "                    \n",
       "                .geemap-dark .jupyter-button {\n",
       "                    --jp-layout-color3: #383838;\n",
       "                }\n",
       "                \n",
       "                .geemap-colab {\n",
       "                    background-color: var(--colab-primary-surface-color, white);\n",
       "                }\n",
       "                    \n",
       "                .geemap-colab .jupyter-button {\n",
       "                    --jp-layout-color3: var(--colab-primary-surface-color, white);\n",
       "                }\n",
       "            </style>\n",
       "            "
      ],
      "text/plain": [
       "<IPython.core.display.HTML object>"
      ]
     },
     "metadata": {},
     "output_type": "display_data"
    }
   ],
   "source": [
    "# now starting to do analysis\n",
    "# initiate instance class for the image collection and later mosaicking\n",
    "classInputCollection = ImageCollection(I_satellite=I_satellite,\n",
    "                                       AOI=AOI, \n",
    "                                       date_start_end=config['date_start_end'], \n",
    "                                       cloud_cover_threshold = config['cloud_cover_threshold'],\n",
    "                                       region=config['region'])"
   ]
  },
  {
   "cell_type": "code",
   "execution_count": 8,
   "id": "2d8939d8",
   "metadata": {},
   "outputs": [
    {
     "data": {
      "text/html": [
       "\n",
       "            <style>\n",
       "                .geemap-dark {\n",
       "                    --jp-widgets-color: white;\n",
       "                    --jp-widgets-label-color: white;\n",
       "                    --jp-ui-font-color1: white;\n",
       "                    --jp-layout-color2: #454545;\n",
       "                    background-color: #383838;\n",
       "                }\n",
       "                    \n",
       "                .geemap-dark .jupyter-button {\n",
       "                    --jp-layout-color3: #383838;\n",
       "                }\n",
       "                \n",
       "                .geemap-colab {\n",
       "                    background-color: var(--colab-primary-surface-color, white);\n",
       "                }\n",
       "                    \n",
       "                .geemap-colab .jupyter-button {\n",
       "                    --jp-layout-color3: var(--colab-primary-surface-color, white);\n",
       "                }\n",
       "            </style>\n",
       "            "
      ],
      "text/plain": [
       "<IPython.core.display.HTML object>"
      ]
     },
     "metadata": {},
     "output_type": "display_data"
    },
    {
     "name": "stdout",
     "output_type": "stream",
     "text": [
      "selecting Sentinel images\n"
     ]
    }
   ],
   "source": [
    "# run the method from image collection loaded, cloudless compositing until to image_mosaick\n",
    "image_mosaick = classInputCollection.image_mosaick()"
   ]
  },
  {
   "cell_type": "code",
   "execution_count": 9,
   "id": "e0cc100b",
   "metadata": {},
   "outputs": [
    {
     "data": {
      "text/html": [
       "\n",
       "            <style>\n",
       "                .geemap-dark {\n",
       "                    --jp-widgets-color: white;\n",
       "                    --jp-widgets-label-color: white;\n",
       "                    --jp-ui-font-color1: white;\n",
       "                    --jp-layout-color2: #454545;\n",
       "                    background-color: #383838;\n",
       "                }\n",
       "                    \n",
       "                .geemap-dark .jupyter-button {\n",
       "                    --jp-layout-color3: #383838;\n",
       "                }\n",
       "                \n",
       "                .geemap-colab {\n",
       "                    background-color: var(--colab-primary-surface-color, white);\n",
       "                }\n",
       "                    \n",
       "                .geemap-colab .jupyter-button {\n",
       "                    --jp-layout-color3: var(--colab-primary-surface-color, white);\n",
       "                }\n",
       "            </style>\n",
       "            "
      ],
      "text/plain": [
       "<IPython.core.display.HTML object>"
      ]
     },
     "metadata": {},
     "output_type": "display_data"
    },
    {
     "name": "stdout",
     "output_type": "stream",
     "text": [
      "Generating GEE Map IDs...\n",
      "✓ Map IDs generated for all layers\n",
      "\n",
      "SENTINEL MOSAICKED - 2024-1-1-2024-5-31 VEGCOLOR:\n",
      "  Tile URL: https://earthengine.googleapis.com/v1/projects/ee-iwansetiawan/maps/c105e89d63ba8761ee46d0d2b2620ffa-5810a68fafc56ad95c0d8196d869c4f1/tiles/{z}/{x}/{y}\n"
     ]
    }
   ],
   "source": [
    "# Generate Map IDs\n",
    "### Defining params visualization and layer name\n",
    "if config['I_satellite'] == 'Planet':\n",
    "    # true color {\"bands\":[\"red\",\"green\",\"blue\"],\"min\":0,\"max\":0.6,\"gamma\":1.5}\n",
    "    # nir veg color {\"bands\":[\"red\",\"nir\",\"blue\"],\"min\":0,\"max\":0.6,\"gamma\":1.5 }\n",
    "    image_mosaick, vis_param, layer_name = image_mosaick,{f'{I_satellite} mosaicked - {start_date}-{end_date} VegColor':{\"bands\":[\"red\",\"green\",\"blue\"],\"min\":0,\"max\":0.6,\"gamma\":1.5}}, f'{I_satellite} mosaicked - {start_date}-{end_date} VegColor'\n",
    "else:\n",
    "    image_mosaick, vis_param, layer_name = image_mosaick,{f'{I_satellite} mosaicked - {start_date}-{end_date} VegColor':{'bands': ['swir2', 'nir', 'red'], 'min': 0, 'max': 0.6, 'gamma': 1.5 }}, f'{I_satellite} mosaicked - {start_date}-{end_date} VegColor'\n",
    "   \n",
    "\n",
    "print(\"Generating GEE Map IDs...\")\n",
    "\n",
    "map_ids = {}\n",
    "map_ids[layer_name] = image_mosaick.getMapId(vis_param[layer_name])\n",
    "\n",
    "vis_params = {}\n",
    "vis_params[layer_name] = vis_param[layer_name]\n",
    "\n",
    "print(\"✓ Map IDs generated for all layers\")\n",
    "\n",
    "# Display tile URLs\n",
    "for layer_name, map_id_dict in map_ids.items():\n",
    "    tile_url = map_id_dict['tile_fetcher'].url_format\n",
    "    print(f\"\\n{layer_name.upper()}:\")\n",
    "    print(f\"  Tile URL: {tile_url}\")\n",
    "\n"
   ]
  },
  {
   "cell_type": "code",
   "execution_count": 10,
   "id": "b450aa21",
   "metadata": {},
   "outputs": [
    {
     "data": {
      "text/html": [
       "\n",
       "            <style>\n",
       "                .geemap-dark {\n",
       "                    --jp-widgets-color: white;\n",
       "                    --jp-widgets-label-color: white;\n",
       "                    --jp-ui-font-color1: white;\n",
       "                    --jp-layout-color2: #454545;\n",
       "                    background-color: #383838;\n",
       "                }\n",
       "                    \n",
       "                .geemap-dark .jupyter-button {\n",
       "                    --jp-layout-color3: #383838;\n",
       "                }\n",
       "                \n",
       "                .geemap-colab {\n",
       "                    background-color: var(--colab-primary-surface-color, white);\n",
       "                }\n",
       "                    \n",
       "                .geemap-colab .jupyter-button {\n",
       "                    --jp-layout-color3: var(--colab-primary-surface-color, white);\n",
       "                }\n",
       "            </style>\n",
       "            "
      ],
      "text/plain": [
       "<IPython.core.display.HTML object>"
      ]
     },
     "metadata": {},
     "output_type": "display_data"
    },
    {
     "data": {
      "text/plain": [
       "{'Sentinel mosaicked - 2024-1-1-2024-5-31 VegColor': {'mapid': 'projects/ee-iwansetiawan/maps/c105e89d63ba8761ee46d0d2b2620ffa-5810a68fafc56ad95c0d8196d869c4f1',\n",
       "  'token': '',\n",
       "  'tile_fetcher': <ee.data.TileFetcher at 0x7f3fa3f95570>,\n",
       "  'image': <ee.image.Image at 0x7f3f74315f00>}}"
      ]
     },
     "execution_count": 10,
     "metadata": {},
     "output_type": "execute_result"
    }
   ],
   "source": [
    "map_ids"
   ]
  },
  {
   "cell_type": "code",
   "execution_count": 11,
   "id": "fa107a00",
   "metadata": {},
   "outputs": [
    {
     "data": {
      "text/html": [
       "\n",
       "            <style>\n",
       "                .geemap-dark {\n",
       "                    --jp-widgets-color: white;\n",
       "                    --jp-widgets-label-color: white;\n",
       "                    --jp-ui-font-color1: white;\n",
       "                    --jp-layout-color2: #454545;\n",
       "                    background-color: #383838;\n",
       "                }\n",
       "                    \n",
       "                .geemap-dark .jupyter-button {\n",
       "                    --jp-layout-color3: #383838;\n",
       "                }\n",
       "                \n",
       "                .geemap-colab {\n",
       "                    background-color: var(--colab-primary-surface-color, white);\n",
       "                }\n",
       "                    \n",
       "                .geemap-colab .jupyter-button {\n",
       "                    --jp-layout-color3: var(--colab-primary-surface-color, white);\n",
       "                }\n",
       "            </style>\n",
       "            "
      ],
      "text/plain": [
       "<IPython.core.display.HTML object>"
      ]
     },
     "metadata": {},
     "output_type": "display_data"
    }
   ],
   "source": [
    "## META data layers\n",
    "\n",
    "layers_data = {\n",
    "    'project_name': project_name,\n",
    "}\n",
    "\n",
    "# # Option 1: Simple tile URLs only\n",
    "# map_layers = {\n",
    "#     layer_name: map_ids[layer_name]['tile_fetcher'].url_format}\n",
    "\n",
    "map_layers = {}\n",
    "\n",
    "layers_data = {'project_name': 'Sentinel-2 Cloudless Composite Analysis'}\n",
    "\n",
    "# Add each layer from your GEE analysis\n",
    "for layer_name, map_id_dict in map_ids.items():\n",
    "    map_layers[layer_name] = {\n",
    "        'tile_url': map_id_dict['tile_fetcher'].url_format,\n",
    "        'name': layer_name.replace('_', ' ').title(),\n",
    "        'description': f'{layer_name.upper()} visualization from GEE analysis',\n",
    "        'vis_params': vis_params[layer_name]\n",
    "    }"
   ]
  },
  {
   "cell_type": "code",
   "execution_count": 12,
   "id": "34b8e214",
   "metadata": {},
   "outputs": [
    {
     "data": {
      "text/html": [
       "\n",
       "            <style>\n",
       "                .geemap-dark {\n",
       "                    --jp-widgets-color: white;\n",
       "                    --jp-widgets-label-color: white;\n",
       "                    --jp-ui-font-color1: white;\n",
       "                    --jp-layout-color2: #454545;\n",
       "                    background-color: #383838;\n",
       "                }\n",
       "                    \n",
       "                .geemap-dark .jupyter-button {\n",
       "                    --jp-layout-color3: #383838;\n",
       "                }\n",
       "                \n",
       "                .geemap-colab {\n",
       "                    background-color: var(--colab-primary-surface-color, white);\n",
       "                }\n",
       "                    \n",
       "                .geemap-colab .jupyter-button {\n",
       "                    --jp-layout-color3: var(--colab-primary-surface-color, white);\n",
       "                }\n",
       "            </style>\n",
       "            "
      ],
      "text/plain": [
       "<IPython.core.display.HTML object>"
      ]
     },
     "metadata": {},
     "output_type": "display_data"
    },
    {
     "data": {
      "text/plain": [
       "{'Sentinel mosaicked - 2024-1-1-2024-5-31 VegColor': {'tile_url': 'https://earthengine.googleapis.com/v1/projects/ee-iwansetiawan/maps/c105e89d63ba8761ee46d0d2b2620ffa-5810a68fafc56ad95c0d8196d869c4f1/tiles/{z}/{x}/{y}',\n",
       "  'name': 'Sentinel Mosaicked - 2024-1-1-2024-5-31 Vegcolor',\n",
       "  'description': 'SENTINEL MOSAICKED - 2024-1-1-2024-5-31 VEGCOLOR visualization from GEE analysis',\n",
       "  'vis_params': {'bands': ['swir2', 'nir', 'red'],\n",
       "   'min': 0,\n",
       "   'max': 0.6,\n",
       "   'gamma': 1.5}}}"
      ]
     },
     "execution_count": 12,
     "metadata": {},
     "output_type": "execute_result"
    }
   ],
   "source": [
    "map_layers"
   ]
  },
  {
   "cell_type": "code",
   "execution_count": null,
   "id": "8688e363",
   "metadata": {},
   "outputs": [],
   "source": [
    "# import sys\n",
    "# sys.path.append('/usr/src/app/fastapi-gee-service')\n",
    "from gee_integration import process_gee_to_mapstore\n",
    "\n",
    "# Import the AOI fix function properly\n",
    "from gee_lib.osi.utils import process_aoi_geometry\n",
    "\n",
    "# Fix 1: Use correct map layers\n",
    "print(f\"\\n🔍 Available map layers:\")\n",
    "print(f\"   map_layers: {len(map_layers)}\")\n",
    "\n",
    "# Fix 2: Fix AOI coordinates using the existing function\n",
    "print(f\"\\n🔧 Fixing AOI coordinates...\")\n",
    "AOI_geom = AOI.geometry()\n",
    "aoi_info = process_aoi_geometry(AOI_geom)\n",
    "\n",
    "print(f\"✅ Fixed AOI Info:\")\n",
    "print(f\"   Bbox: {aoi_info['bbox']}\")\n",
    "print(f\"   Center: {aoi_info['center']}\")\n",
    "\n",
    "print(\"🚀 Processing GEE Analysis to MapStore...\")\n",
    "print(f\"   Project: {layers_data['project_name']}\")\n",
    "print(f\"   Layers: {len(map_layers)}\")\n",
    "print(f\"   AOI: {aoi_info['bbox']}\")\n",
    "\n",
    "# Process the complete integration\n",
    "result = process_gee_to_mapstore(\n",
    "    map_layers=map_layers,\n",
    "    project_name=layers_data['project_name'],\n",
    "    aoi_info=aoi_info,\n",
    "    clear_cache_first=False,\n",
    "    fastapi_url=\"http://fastapi:8000\"  # Internal Docker network , this should be in localhost, but we can override as well\n",
    ")"
   ]
  },
  {
   "cell_type": "code",
   "execution_count": 10,
   "id": "5db8629b",
   "metadata": {},
   "outputs": [
    {
     "data": {
      "text/html": [
       "\n",
       "            <style>\n",
       "                .geemap-dark {\n",
       "                    --jp-widgets-color: white;\n",
       "                    --jp-widgets-label-color: white;\n",
       "                    --jp-ui-font-color1: white;\n",
       "                    --jp-layout-color2: #454545;\n",
       "                    background-color: #383838;\n",
       "                }\n",
       "                    \n",
       "                .geemap-dark .jupyter-button {\n",
       "                    --jp-layout-color3: #383838;\n",
       "                }\n",
       "                \n",
       "                .geemap-colab {\n",
       "                    background-color: var(--colab-primary-surface-color, white);\n",
       "                }\n",
       "                    \n",
       "                .geemap-colab .jupyter-button {\n",
       "                    --jp-layout-color3: var(--colab-primary-surface-color, white);\n",
       "                }\n",
       "            </style>\n",
       "            "
      ],
      "text/plain": [
       "<IPython.core.display.HTML object>"
      ]
     },
     "metadata": {},
     "output_type": "display_data"
    }
   ],
   "source": [
    "# !cat /usr/src/app/mapstore/config/localConfig.json"
   ]
  },
  {
   "cell_type": "code",
   "execution_count": 14,
   "id": "8b89072f",
   "metadata": {},
   "outputs": [
    {
     "data": {
      "text/html": [
       "\n",
       "            <style>\n",
       "                .geemap-dark {\n",
       "                    --jp-widgets-color: white;\n",
       "                    --jp-widgets-label-color: white;\n",
       "                    --jp-ui-font-color1: white;\n",
       "                    --jp-layout-color2: #454545;\n",
       "                    background-color: #383838;\n",
       "                }\n",
       "                    \n",
       "                .geemap-dark .jupyter-button {\n",
       "                    --jp-layout-color3: #383838;\n",
       "                }\n",
       "                \n",
       "                .geemap-colab {\n",
       "                    background-color: var(--colab-primary-surface-color, white);\n",
       "                }\n",
       "                    \n",
       "                .geemap-colab .jupyter-button {\n",
       "                    --jp-layout-color3: var(--colab-primary-surface-color, white);\n",
       "                }\n",
       "            </style>\n",
       "            "
      ],
      "text/plain": [
       "<IPython.core.display.HTML object>"
      ]
     },
     "metadata": {},
     "output_type": "display_data"
    },
    {
     "name": "stderr",
     "output_type": "stream",
     "text": [
      "INFO:gee_integration:GEE Integration Manager initialized:\n",
      "INFO:gee_integration:  FastAPI URL: http://fastapi:8000\n",
      "INFO:gee_integration:  MapStore Config: /usr/src/app/mapstore/configs/localConfig.json\n",
      "INFO:gee_integration:Adding TMS layer: Sentinel mosaicked - 2024-1-1-2024-5-31 VegColor\n",
      "INFO:gee_integration:✅ TMS layer added successfully\n",
      "INFO:gee_integration:   Service ID: gee_tms_Sentinel_mosaicked_2024_1_1_2024_5_31_VegColor\n",
      "INFO:gee_integration:   Layer: Sentinel Mosaicked - 2024-1-1-2024-5-31 Vegcolor\n",
      "INFO:gee_integration:   URL: http://localhost:8001/tms/dynamic/Sentinel_mosaicked_2024_1_1_2024_5_31_VegColor/{z}/{x}/{y}.png\n"
     ]
    },
    {
     "name": "stdout",
     "output_type": "stream",
     "text": [
      "🔄 Converting Your map_layers to CSW Records\n",
      "============================================================\n",
      "\n",
      "1️⃣ Converting your map_layers to CSW records...\n",
      "   ✅ Converted 1 layers to CSW records\n",
      "\n",
      "   📋 CSW Record 1:\n",
      "      Title: Sentinel Mosaicked - 2024-1-1-2024-5-31 Vegcolor\n",
      "      Description: SENTINEL MOSAICKED - 2024-1-1-2024-5-31 VEGCOLOR visualization from GEE analysis\n",
      "      TMS URL: http://fastapi:8000/tms/dynamic/Sentinel_mosaicked_2024_1_1_2024_5_31_VegColor/{z}/{x}/{y}.png\n",
      "      Original URL: https://earthengine.googleapis.com/v1/projects/ee-iwansetiawan/maps/c105e89d63ba8761ee46d0d2b2620ffa-964e7923f6e012b42d9c4ed31dc19a53/tiles/{z}/{x}/{y}\n",
      "\n",
      "2️⃣ Creating CSW service response...\n",
      "   ✅ Created CSW response with 1 records\n",
      "   Total matched: 1\n",
      "\n",
      "3️⃣ Using CSW records to enhance your workflow...\n",
      "   ✅ Enhanced 1 layers with CSW metadata\n",
      "\n",
      "   🔗 Enhanced Layer: Sentinel mosaicked - 2024-1-1-2024-5-31 VegColor\n",
      "      Original: https://earthengine.googleapis.com/v1/projects/ee-iwansetiawan/maps/c105e89d63ba8761ee46d0d2b2620ffa-964e7923f6e012b42d9c4ed31dc19a53/tiles/{z}/{x}/{y}\n",
      "      TMS: http://fastapi:8000/tms/dynamic/Sentinel_mosaicked_2024_1_1_2024_5_31_VegColor/{z}/{x}/{y}.png\n",
      "      CSW Title: Sentinel Mosaicked - 2024-1-1-2024-5-31 Vegcolor\n",
      "      Source: csw_enhanced\n",
      "\n",
      "4️⃣ Adding CSW records as TMS layers to MapStore...\n",
      "   ✅ Added 1 layers to MapStore\n",
      "   ❌ Failed 0 layers\n",
      "   Added layers:\n",
      "     - Sentinel Mosaicked - 2024-1-1-2024-5-31 Vegcolor (ID: gee_tms_Sentinel_mosaicked_2024_1_1_2024_5_31_VegColor)\n",
      "\n",
      "🎯 map_layers to CSW Summary:\n",
      "   ✅ Convert existing map_layers to CSW records\n",
      "   ✅ Add CSW metadata to your layers\n",
      "   ✅ Create TMS layers from CSW records\n",
      "   ✅ Integrate with MapStore\n",
      "   ✅ Use your existing GEE analysis results\n",
      "   ✅ Standard CSW format for interoperability\n"
     ]
    }
   ],
   "source": [
    "# =============================================================================\n",
    "# Convert Your Existing map_layers to CSW Records\n",
    "# =============================================================================\n",
    "\n",
    "print(\"🔄 Converting Your map_layers to CSW Records\")\n",
    "print(\"=\" * 60)\n",
    "\n",
    "def map_layers_to_csw_records(map_layers, aoi_info=None, fastapi_url=\"http://localhost:8001\"):\n",
    "    \"\"\"\n",
    "    Convert your existing map_layers to CSW records\n",
    "    \n",
    "    Args:\n",
    "        map_layers: Your existing map_layers dictionary\n",
    "        aoi_info: AOI information with bbox\n",
    "        fastapi_url: FastAPI URL for TMS endpoints\n",
    "        \n",
    "    Returns:\n",
    "        List of CSW records\n",
    "    \"\"\"\n",
    "    csw_records = []\n",
    "    \n",
    "    for layer_name, layer_info in map_layers.items():\n",
    "        # Clean layer name for URL\n",
    "        import re\n",
    "        clean_name = re.sub(r'[^a-zA-Z0-9_]', '_', layer_name)\n",
    "        clean_name = re.sub(r'_+', '_', clean_name).strip('_')\n",
    "        \n",
    "        # Create TMS URL\n",
    "        tms_url = f\"{fastapi_url}/tms/dynamic/{clean_name}/{{z}}/{{x}}/{{y}}.png\"\n",
    "        \n",
    "        # Extract information\n",
    "        title = layer_info.get('name', layer_name)\n",
    "        description = layer_info.get('description', f'Layer: {layer_name}')\n",
    "        tile_url = layer_info.get('tile_url', '')\n",
    "        vis_params = layer_info.get('vis_params', {})\n",
    "        \n",
    "        # Create CSW record\n",
    "        record = {\n",
    "            \"dc:title\": title,\n",
    "            \"dc:description\": description,\n",
    "            \"dc:type\": \"service\",\n",
    "            \"dc:format\": \"image/png\",\n",
    "            \"ows:ServiceType\": \"TMS\",\n",
    "            \"ows:ServiceTypeVersion\": \"1.0.0\",\n",
    "            \"tms:URLTemplate\": tms_url,\n",
    "            \"tms:MinZoom\": 0,\n",
    "            \"tms:MaxZoom\": 18,\n",
    "            \"tms:CRS\": \"EPSG:3857\",\n",
    "            \"gee:LayerName\": layer_name,\n",
    "            \"gee:OriginalTileURL\": tile_url,\n",
    "            \"gee:VisParams\": vis_params,\n",
    "            \"gee:Source\": \"map_layers\"\n",
    "        }\n",
    "        \n",
    "        # Add bounding box if available\n",
    "        if aoi_info and aoi_info.get('bbox'):\n",
    "            bbox = aoi_info['bbox']\n",
    "            record[\"ows:BoundingBox\"] = {\n",
    "                \"ows:CRS\": \"EPSG:4326\",\n",
    "                \"ows:LowerCorner\": f\"{bbox['minx']} {bbox['miny']}\",\n",
    "                \"ows:UpperCorner\": f\"{bbox['maxx']} {bbox['maxy']}\"\n",
    "            }\n",
    "        \n",
    "        csw_records.append(record)\n",
    "    \n",
    "    return csw_records\n",
    "\n",
    "# Convert your existing map_layers to CSW records\n",
    "print(\"\\n1️⃣ Converting your map_layers to CSW records...\")\n",
    "try:\n",
    "    csw_records = map_layers_to_csw_records(\n",
    "        map_layers=map_layers,\n",
    "        aoi_info=aoi_info if 'aoi_info' in locals() else None,\n",
    "        fastapi_url=\"http://fastapi:8000\"\n",
    "    )\n",
    "    \n",
    "    print(f\"   ✅ Converted {len(csw_records)} layers to CSW records\")\n",
    "    \n",
    "    # Show the CSW records\n",
    "    for i, record in enumerate(csw_records):\n",
    "        print(f\"\\n   📋 CSW Record {i+1}:\")\n",
    "        print(f\"      Title: {record['dc:title']}\")\n",
    "        print(f\"      Description: {record['dc:description']}\")\n",
    "        print(f\"      TMS URL: {record['tms:URLTemplate']}\")\n",
    "        print(f\"      Original URL: {record['gee:OriginalTileURL']}\")\n",
    "        if 'ows:BoundingBox' in record:\n",
    "            bbox = record['ows:BoundingBox']\n",
    "            print(f\"      BBox: {bbox['ows:LowerCorner']} to {bbox['ows:UpperCorner']}\")\n",
    "        \n",
    "except Exception as e:\n",
    "    print(f\"   ❌ Error: {e}\")\n",
    "\n",
    "# Example 2: Create a CSW service response\n",
    "print(\"\\n2️⃣ Creating CSW service response...\")\n",
    "try:\n",
    "    # Create a CSW GetRecordsResponse format\n",
    "    csw_response = {\n",
    "        \"csw:GetRecordsResponse\": {\n",
    "            \"csw:SearchResults\": {\n",
    "                \"numberOfRecordsMatched\": len(csw_records),\n",
    "                \"numberOfRecordsReturned\": len(csw_records),\n",
    "                \"nextRecord\": 0,\n",
    "                \"csw:Record\": csw_records\n",
    "            }\n",
    "        }\n",
    "    }\n",
    "    \n",
    "    print(f\"   ✅ Created CSW response with {len(csw_records)} records\")\n",
    "    print(f\"   Total matched: {csw_response['csw:GetRecordsResponse']['csw:SearchResults']['numberOfRecordsMatched']}\")\n",
    "    \n",
    "except Exception as e:\n",
    "    print(f\"   ❌ Error: {e}\")\n",
    "\n",
    "# Example 3: Use CSW records to enhance your workflow\n",
    "print(\"\\n3️⃣ Using CSW records to enhance your workflow...\")\n",
    "try:\n",
    "    # Create enhanced map_layers with CSW metadata\n",
    "    enhanced_map_layers = {}\n",
    "    \n",
    "    for record in csw_records:\n",
    "        layer_name = record['gee:LayerName']\n",
    "        original_info = map_layers[layer_name]\n",
    "        \n",
    "        # Enhance with CSW metadata\n",
    "        enhanced_map_layers[layer_name] = {\n",
    "            **original_info,  # Keep original info\n",
    "            'csw_record': record,\n",
    "            'tms_url': record['tms:URLTemplate'],\n",
    "            'csw_title': record['dc:title'],\n",
    "            'csw_description': record['dc:description'],\n",
    "            'bbox': record.get('ows:BoundingBox', {}),\n",
    "            'source': 'csw_enhanced'\n",
    "        }\n",
    "    \n",
    "    print(f\"   ✅ Enhanced {len(enhanced_map_layers)} layers with CSW metadata\")\n",
    "    \n",
    "    # Show enhanced layers\n",
    "    for layer_name, layer_info in enhanced_map_layers.items():\n",
    "        print(f\"\\n   🔗 Enhanced Layer: {layer_name}\")\n",
    "        print(f\"      Original: {layer_info.get('tile_url', 'N/A')}\")\n",
    "        print(f\"      TMS: {layer_info.get('tms_url', 'N/A')}\")\n",
    "        print(f\"      CSW Title: {layer_info.get('csw_title', 'N/A')}\")\n",
    "        print(f\"      Source: {layer_info.get('source', 'N/A')}\")\n",
    "        \n",
    "except Exception as e:\n",
    "    print(f\"   ❌ Error: {e}\")\n",
    "\n",
    "# Example 4: Add CSW records as TMS layers to MapStore\n",
    "print(\"\\n4️⃣ Adding CSW records as TMS layers to MapStore...\")\n",
    "try:\n",
    "    from gee_integration import add_tms_layer_to_mapstore\n",
    "    \n",
    "    added_layers = []\n",
    "    failed_layers = []\n",
    "    \n",
    "    for record in csw_records:\n",
    "        layer_name = record['gee:LayerName']\n",
    "        title = record['dc:title']\n",
    "        tms_url = record['tms:URLTemplate']\n",
    "        \n",
    "        try:\n",
    "            # Add as TMS layer to MapStore\n",
    "            result = add_tms_layer_to_mapstore(\n",
    "                layer_name=layer_name,\n",
    "                layer_url=tms_url,\n",
    "                layer_title=title,\n",
    "                use_fastapi_proxy=True,\n",
    "                fastapi_pub_url=\"http://localhost:8001\"\n",
    "            )\n",
    "            \n",
    "            if result['status'] == 'success':\n",
    "                added_layers.append({\n",
    "                    'layer_name': layer_name,\n",
    "                    'title': title,\n",
    "                    'service_id': result['service_id']\n",
    "                })\n",
    "            else:\n",
    "                failed_layers.append({\n",
    "                    'layer_name': layer_name,\n",
    "                    'error': result.get('message', 'Unknown error')\n",
    "                })\n",
    "                \n",
    "        except Exception as e:\n",
    "            failed_layers.append({\n",
    "                'layer_name': layer_name,\n",
    "                'error': str(e)\n",
    "            })\n",
    "    \n",
    "    print(f\"   ✅ Added {len(added_layers)} layers to MapStore\")\n",
    "    print(f\"   ❌ Failed {len(failed_layers)} layers\")\n",
    "    \n",
    "    if added_layers:\n",
    "        print(\"   Added layers:\")\n",
    "        for layer in added_layers:\n",
    "            print(f\"     - {layer['title']} (ID: {layer['service_id']})\")\n",
    "    \n",
    "    if failed_layers:\n",
    "        print(\"   Failed layers:\")\n",
    "        for layer in failed_layers:\n",
    "            print(f\"     - {layer['layer_name']}: {layer['error']}\")\n",
    "            \n",
    "except Exception as e:\n",
    "    print(f\"   ❌ Error: {e}\")\n",
    "\n",
    "print(\"\\n🎯 map_layers to CSW Summary:\")\n",
    "print(\"   ✅ Convert existing map_layers to CSW records\")\n",
    "print(\"   ✅ Add CSW metadata to your layers\")\n",
    "print(\"   ✅ Create TMS layers from CSW records\")\n",
    "print(\"   ✅ Integrate with MapStore\")\n",
    "print(\"   ✅ Use your existing GEE analysis results\")\n",
    "print(\"   ✅ Standard CSW format for interoperability\")\n"
   ]
  },
  {
   "cell_type": "code",
   "execution_count": null,
   "id": "9f9fdebb",
   "metadata": {},
   "outputs": [],
   "source": [
    "# !cat /usr/src/app/mapstore/configs/localConfig.json"
   ]
  },
  {
   "cell_type": "code",
   "execution_count": 20,
   "id": "651674ea",
   "metadata": {},
   "outputs": [
    {
     "data": {
      "text/html": [
       "\n",
       "            <style>\n",
       "                .geemap-dark {\n",
       "                    --jp-widgets-color: white;\n",
       "                    --jp-widgets-label-color: white;\n",
       "                    --jp-ui-font-color1: white;\n",
       "                    --jp-layout-color2: #454545;\n",
       "                    background-color: #383838;\n",
       "                }\n",
       "                    \n",
       "                .geemap-dark .jupyter-button {\n",
       "                    --jp-layout-color3: #383838;\n",
       "                }\n",
       "                \n",
       "                .geemap-colab {\n",
       "                    background-color: var(--colab-primary-surface-color, white);\n",
       "                }\n",
       "                    \n",
       "                .geemap-colab .jupyter-button {\n",
       "                    --jp-layout-color3: var(--colab-primary-surface-color, white);\n",
       "                }\n",
       "            </style>\n",
       "            "
      ],
      "text/plain": [
       "<IPython.core.display.HTML object>"
      ]
     },
     "metadata": {},
     "output_type": "display_data"
    }
   ],
   "source": [
    "# AOI.getInfo()"
   ]
  },
  {
   "cell_type": "code",
   "execution_count": null,
   "id": "a4ef77ea",
   "metadata": {},
   "outputs": [
    {
     "data": {
      "text/html": [
       "\n",
       "            <style>\n",
       "                .geemap-dark {\n",
       "                    --jp-widgets-color: white;\n",
       "                    --jp-widgets-label-color: white;\n",
       "                    --jp-ui-font-color1: white;\n",
       "                    --jp-layout-color2: #454545;\n",
       "                    background-color: #383838;\n",
       "                }\n",
       "                    \n",
       "                .geemap-dark .jupyter-button {\n",
       "                    --jp-layout-color3: #383838;\n",
       "                }\n",
       "                \n",
       "                .geemap-colab {\n",
       "                    background-color: var(--colab-primary-surface-color, white);\n",
       "                }\n",
       "                    \n",
       "                .geemap-colab .jupyter-button {\n",
       "                    --jp-layout-color3: var(--colab-primary-surface-color, white);\n",
       "                }\n",
       "            </style>\n",
       "            "
      ],
      "text/plain": [
       "<IPython.core.display.HTML object>"
      ]
     },
     "metadata": {},
     "output_type": "display_data"
    },
    {
     "name": "stdout",
     "output_type": "stream",
     "text": [
      "Geoserver, add this:  http://fastapi:8000/fc/gee_aoi_dynamic\n"
     ]
    }
   ],
   "source": [
    "## EXAMPLE TO PUSH GEE TO GEOJSON FAST API\n",
    "import requests\n",
    "import json\n",
    "\n",
    "# Example GeoJSON data\n",
    "geojson_data = AOI.getInfo() # important this ee.FeatureCollection should convert to geojson first\n",
    "name_aoi = 'gee_aoi_dynamic'\n",
    "\n",
    "link_fastapi = 'http://fastapi:8000/fc/'+name_aoi\n",
    "\n",
    "# Push to API\n",
    "response = requests.post(\n",
    "    link_fastapi, # running in the notebook for now\n",
    "    json=geojson_data\n",
    ")\n",
    "\n"
   ]
  },
  {
   "cell_type": "code",
   "execution_count": null,
   "id": "7b52255e",
   "metadata": {},
   "outputs": [],
   "source": []
  },
  {
   "cell_type": "code",
   "execution_count": 17,
   "id": "0d68e4bd",
   "metadata": {},
   "outputs": [
    {
     "data": {
      "text/html": [
       "\n",
       "            <style>\n",
       "                .geemap-dark {\n",
       "                    --jp-widgets-color: white;\n",
       "                    --jp-widgets-label-color: white;\n",
       "                    --jp-ui-font-color1: white;\n",
       "                    --jp-layout-color2: #454545;\n",
       "                    background-color: #383838;\n",
       "                }\n",
       "                    \n",
       "                .geemap-dark .jupyter-button {\n",
       "                    --jp-layout-color3: #383838;\n",
       "                }\n",
       "                \n",
       "                .geemap-colab {\n",
       "                    background-color: var(--colab-primary-surface-color, white);\n",
       "                }\n",
       "                    \n",
       "                .geemap-colab .jupyter-button {\n",
       "                    --jp-layout-color3: var(--colab-primary-surface-color, white);\n",
       "                }\n",
       "            </style>\n",
       "            "
      ],
      "text/plain": [
       "<IPython.core.display.HTML object>"
      ]
     },
     "metadata": {},
     "output_type": "display_data"
    },
    {
     "data": {
      "text/plain": [
       "ee.featurecollection.FeatureCollection"
      ]
     },
     "execution_count": 17,
     "metadata": {},
     "output_type": "execute_result"
    }
   ],
   "source": [
    "type(AOI)"
   ]
  },
  {
   "cell_type": "code",
   "execution_count": null,
   "id": "792827e3",
   "metadata": {},
   "outputs": [
    {
     "data": {
      "text/html": [
       "\n",
       "            <style>\n",
       "                .geemap-dark {\n",
       "                    --jp-widgets-color: white;\n",
       "                    --jp-widgets-label-color: white;\n",
       "                    --jp-ui-font-color1: white;\n",
       "                    --jp-layout-color2: #454545;\n",
       "                    background-color: #383838;\n",
       "                }\n",
       "                    \n",
       "                .geemap-dark .jupyter-button {\n",
       "                    --jp-layout-color3: #383838;\n",
       "                }\n",
       "                \n",
       "                .geemap-colab {\n",
       "                    background-color: var(--colab-primary-surface-color, white);\n",
       "                }\n",
       "                    \n",
       "                .geemap-colab .jupyter-button {\n",
       "                    --jp-layout-color3: var(--colab-primary-surface-color, white);\n",
       "                }\n",
       "            </style>\n",
       "            "
      ],
      "text/plain": [
       "<IPython.core.display.HTML object>"
      ]
     },
     "metadata": {},
     "output_type": "display_data"
    },
    {
     "name": "stdout",
     "output_type": "stream",
     "text": [
      "Testing with FeatureCollection object...\n",
      "❌ Object extraction error: Object of type FeatureCollection is not JSON serializable\n"
     ]
    }
   ],
   "source": [
    "\n"
   ]
  },
  {
   "cell_type": "code",
   "execution_count": null,
   "id": "97ffcbb2",
   "metadata": {},
   "outputs": [],
   "source": [
    "\n"
   ]
  },
  {
   "cell_type": "code",
   "execution_count": 18,
   "id": "4612995d",
   "metadata": {},
   "outputs": [
    {
     "data": {
      "text/html": [
       "\n",
       "            <style>\n",
       "                .geemap-dark {\n",
       "                    --jp-widgets-color: white;\n",
       "                    --jp-widgets-label-color: white;\n",
       "                    --jp-ui-font-color1: white;\n",
       "                    --jp-layout-color2: #454545;\n",
       "                    background-color: #383838;\n",
       "                }\n",
       "                    \n",
       "                .geemap-dark .jupyter-button {\n",
       "                    --jp-layout-color3: #383838;\n",
       "                }\n",
       "                \n",
       "                .geemap-colab {\n",
       "                    background-color: var(--colab-primary-surface-color, white);\n",
       "                }\n",
       "                    \n",
       "                .geemap-colab .jupyter-button {\n",
       "                    --jp-layout-color3: var(--colab-primary-surface-color, white);\n",
       "                }\n",
       "            </style>\n",
       "            "
      ],
      "text/plain": [
       "<IPython.core.display.HTML object>"
      ]
     },
     "metadata": {},
     "output_type": "display_data"
    },
    {
     "data": {
      "text/plain": [
       "{'Sentinel mosaicked - 2024-1-1-2024-5-31 VegColor': {'tile_url': 'https://earthengine.googleapis.com/v1/projects/ee-iwansetiawan/maps/c105e89d63ba8761ee46d0d2b2620ffa-964e7923f6e012b42d9c4ed31dc19a53/tiles/{z}/{x}/{y}',\n",
       "  'name': 'Sentinel Mosaicked - 2024-1-1-2024-5-31 Vegcolor',\n",
       "  'description': 'SENTINEL MOSAICKED - 2024-1-1-2024-5-31 VEGCOLOR visualization from GEE analysis',\n",
       "  'vis_params': {'bands': ['swir2', 'nir', 'red'],\n",
       "   'min': 0,\n",
       "   'max': 0.6,\n",
       "   'gamma': 1.5}}}"
      ]
     },
     "execution_count": 18,
     "metadata": {},
     "output_type": "execute_result"
    }
   ],
   "source": [
    "map_layers"
   ]
  },
  {
   "cell_type": "code",
   "execution_count": null,
   "id": "45d6a201",
   "metadata": {},
   "outputs": [
    {
     "data": {
      "text/html": [
       "\n",
       "            <style>\n",
       "                .geemap-dark {\n",
       "                    --jp-widgets-color: white;\n",
       "                    --jp-widgets-label-color: white;\n",
       "                    --jp-ui-font-color1: white;\n",
       "                    --jp-layout-color2: #454545;\n",
       "                    background-color: #383838;\n",
       "                }\n",
       "                    \n",
       "                .geemap-dark .jupyter-button {\n",
       "                    --jp-layout-color3: #383838;\n",
       "                }\n",
       "                \n",
       "                .geemap-colab {\n",
       "                    background-color: var(--colab-primary-surface-color, white);\n",
       "                }\n",
       "                    \n",
       "                .geemap-colab .jupyter-button {\n",
       "                    --jp-layout-color3: var(--colab-primary-surface-color, white);\n",
       "                }\n",
       "            </style>\n",
       "            "
      ],
      "text/plain": [
       "<IPython.core.display.HTML object>"
      ]
     },
     "metadata": {},
     "output_type": "display_data"
    },
    {
     "name": "stdout",
     "output_type": "stream",
     "text": [
      "⚡ Optimizing CSW Service for Fast TMS Discovery\n",
      "============================================================\n",
      "\n",
      "1️⃣ Creating fast CSW records from your map_layers...\n",
      "   ❌ map_layers or aoi_info not available\n",
      "\n",
      "2️⃣ Creating optimized CSW XML response...\n",
      "   ❌ fast_csw_records not available\n",
      "\n",
      "3️⃣ Testing direct TMS URLs...\n",
      "   ❌ fast_csw_records not available\n",
      "\n",
      "🎯 CSW Optimization Summary:\n",
      "   ✅ Fast CSW records from existing map_layers\n",
      "   ✅ No slow GEE asset scanning\n",
      "   ✅ Optimized XML format for TMS\n",
      "   ✅ Direct TMS URLs for MapStore\n",
      "   ✅ Proper bounding boxes\n",
      "   ✅ Should load quickly in MapStore\n"
     ]
    }
   ],
   "source": []
  },
  {
   "cell_type": "code",
   "execution_count": 17,
   "id": "8f75e886",
   "metadata": {},
   "outputs": [
    {
     "data": {
      "text/html": [
       "\n",
       "            <style>\n",
       "                .geemap-dark {\n",
       "                    --jp-widgets-color: white;\n",
       "                    --jp-widgets-label-color: white;\n",
       "                    --jp-ui-font-color1: white;\n",
       "                    --jp-layout-color2: #454545;\n",
       "                    background-color: #383838;\n",
       "                }\n",
       "                    \n",
       "                .geemap-dark .jupyter-button {\n",
       "                    --jp-layout-color3: #383838;\n",
       "                }\n",
       "                \n",
       "                .geemap-colab {\n",
       "                    background-color: var(--colab-primary-surface-color, white);\n",
       "                }\n",
       "                    \n",
       "                .geemap-colab .jupyter-button {\n",
       "                    --jp-layout-color3: var(--colab-primary-surface-color, white);\n",
       "                }\n",
       "            </style>\n",
       "            "
      ],
      "text/plain": [
       "<IPython.core.display.HTML object>"
      ]
     },
     "metadata": {},
     "output_type": "display_data"
    },
    {
     "name": "stdout",
     "output_type": "stream",
     "text": [
      "🚀 Testing Fast CSW Service\n",
      "============================================================\n",
      "\n",
      "1️⃣ Testing CSW GetCapabilities (should be fast)...\n",
      "   ❌ Error: HTTPConnectionPool(host='localhost', port=8001): Max retries exceeded with url: /csw?service=CSW&request=GetCapabilities&version=2.0.2 (Caused by NewConnectionError('<urllib3.connection.HTTPConnection object at 0x7f3ea5efe050>: Failed to establish a new connection: [Errno 111] Connection refused'))\n",
      "\n",
      "2️⃣ Testing CSW GetRecords (should be fast)...\n",
      "   ❌ Error: HTTPConnectionPool(host='localhost', port=8001): Max retries exceeded with url: /csw/records?service=CSW&request=GetRecords&typeNames=csw%3ARecord&maxRecords=5 (Caused by NewConnectionError('<urllib3.connection.HTTPConnection object at 0x7f3ea5f17940>: Failed to establish a new connection: [Errno 111] Connection refused'))\n",
      "\n",
      "3️⃣ Testing TMS endpoint directly...\n",
      "   ❌ Error: HTTPConnectionPool(host='localhost', port=8001): Max retries exceeded with url: /tms/dynamic/Sentinel_mosaicked_2024_1_1_2024_5_31_VegColor/10/500/300.png (Caused by NewConnectionError('<urllib3.connection.HTTPConnection object at 0x7f3ea5f17310>: Failed to establish a new connection: [Errno 111] Connection refused'))\n",
      "\n",
      "🎯 Fast CSW Service Summary:\n",
      "   ✅ CSW GetCapabilities should be fast (< 1 second)\n",
      "   ✅ CSW GetRecords should be fast (< 1 second)\n",
      "   ✅ Returns proper XML format\n",
      "   ✅ Contains TMS URLs\n",
      "   ✅ MapStore should load quickly\n",
      "   ✅ No more WMS fallback issues\n"
     ]
    }
   ],
   "source": [
    "# =============================================================================\n",
    "# Test Fast CSW Service\n",
    "# =============================================================================\n",
    "\n",
    "print(\"🚀 Testing Fast CSW Service\")\n",
    "print(\"=\" * 60)\n",
    "\n",
    "# Test the optimized CSW service\n",
    "print(\"\\n1️⃣ Testing CSW GetCapabilities (should be fast)...\")\n",
    "try:\n",
    "    import requests\n",
    "    import time\n",
    "    \n",
    "    start_time = time.time()\n",
    "    response = requests.get(\"http://localhost:8001/csw\", params={\n",
    "        \"service\": \"CSW\",\n",
    "        \"request\": \"GetCapabilities\",\n",
    "        \"version\": \"2.0.2\"\n",
    "    })\n",
    "    end_time = time.time()\n",
    "    \n",
    "    print(f\"   ⏱️ Response Time: {end_time - start_time:.2f} seconds\")\n",
    "    print(f\"   Status Code: {response.status_code}\")\n",
    "    print(f\"   Content Type: {response.headers.get('content-type', 'Unknown')}\")\n",
    "    \n",
    "    if response.status_code == 200:\n",
    "        content = response.text\n",
    "        print(f\"   ✅ CSW GetCapabilities working!\")\n",
    "        print(f\"   Content Length: {len(content)} characters\")\n",
    "        \n",
    "        if content.strip().startswith('<?xml'):\n",
    "            print(\"   ✅ Returns XML format\")\n",
    "        else:\n",
    "            print(\"   ❌ Not XML format\")\n",
    "    else:\n",
    "        print(f\"   ❌ Error: {response.status_code}\")\n",
    "        \n",
    "except Exception as e:\n",
    "    print(f\"   ❌ Error: {e}\")\n",
    "\n",
    "# Test CSW GetRecords (should be fast now)\n",
    "print(\"\\n2️⃣ Testing CSW GetRecords (should be fast)...\")\n",
    "try:\n",
    "    start_time = time.time()\n",
    "    response = requests.get(\"http://localhost:8001/csw/records\", params={\n",
    "        \"service\": \"CSW\",\n",
    "        \"request\": \"GetRecords\",\n",
    "        \"typeNames\": \"csw:Record\",\n",
    "        \"maxRecords\": 5\n",
    "    })\n",
    "    end_time = time.time()\n",
    "    \n",
    "    print(f\"   ⏱️ Response Time: {end_time - start_time:.2f} seconds\")\n",
    "    print(f\"   Status Code: {response.status_code}\")\n",
    "    print(f\"   Content Type: {response.headers.get('content-type', 'Unknown')}\")\n",
    "    \n",
    "    if response.status_code == 200:\n",
    "        content = response.text\n",
    "        print(f\"   ✅ CSW GetRecords working!\")\n",
    "        print(f\"   Content Length: {len(content)} characters\")\n",
    "        \n",
    "        if content.strip().startswith('<?xml'):\n",
    "            print(\"   ✅ Returns XML format\")\n",
    "            \n",
    "            # Check for TMS URLs\n",
    "            if 'tms:URLTemplate' in content:\n",
    "                print(\"   ✅ Contains TMS URLs\")\n",
    "            else:\n",
    "                print(\"   ❌ No TMS URLs found\")\n",
    "                \n",
    "            # Show sample content\n",
    "            lines = content.split('\\n')[:10]\n",
    "            print(\"   Sample content:\")\n",
    "            for line in lines:\n",
    "                if line.strip():\n",
    "                    print(f\"     {line}\")\n",
    "        else:\n",
    "            print(\"   ❌ Not XML format\")\n",
    "    else:\n",
    "        print(f\"   ❌ Error: {response.status_code}\")\n",
    "        \n",
    "except Exception as e:\n",
    "    print(f\"   ❌ Error: {e}\")\n",
    "\n",
    "# Test TMS endpoint directly\n",
    "print(\"\\n3️⃣ Testing TMS endpoint directly...\")\n",
    "try:\n",
    "    # Test the TMS endpoint that should be created\n",
    "    tms_url = \"http://localhost:8001/tms/dynamic/Sentinel_mosaicked_2024_1_1_2024_5_31_VegColor/10/500/300.png\"\n",
    "    \n",
    "    start_time = time.time()\n",
    "    response = requests.head(tms_url)  # Use HEAD to avoid downloading the image\n",
    "    end_time = time.time()\n",
    "    \n",
    "    print(f\"   ⏱️ Response Time: {end_time - start_time:.2f} seconds\")\n",
    "    print(f\"   Status Code: {response.status_code}\")\n",
    "    print(f\"   URL: {tms_url}\")\n",
    "    \n",
    "    if response.status_code == 200:\n",
    "        print(\"   ✅ TMS endpoint working!\")\n",
    "    elif response.status_code == 404:\n",
    "        print(\"   ⚠️ TMS endpoint not found (may need to be created)\")\n",
    "    else:\n",
    "        print(f\"   ❌ TMS Error: {response.status_code}\")\n",
    "        \n",
    "except Exception as e:\n",
    "    print(f\"   ❌ Error: {e}\")\n",
    "\n",
    "print(\"\\n🎯 Fast CSW Service Summary:\")\n",
    "print(\"   ✅ CSW GetCapabilities should be fast (< 1 second)\")\n",
    "print(\"   ✅ CSW GetRecords should be fast (< 1 second)\")\n",
    "print(\"   ✅ Returns proper XML format\")\n",
    "print(\"   ✅ Contains TMS URLs\")\n",
    "print(\"   ✅ MapStore should load quickly\")\n",
    "print(\"   ✅ No more WMS fallback issues\")\n"
   ]
  },
  {
   "cell_type": "code",
   "execution_count": null,
   "id": "49f3f9b7",
   "metadata": {},
   "outputs": [],
   "source": [
    "# Test the new TMS management system\n",
    "from gee_integration import add_tms_layer_to_mapstore, list_gee_tms_layers, clear_all_gee_tms_layers\n",
    "\n",
    "# Example 2: Add TMS layer using Direct GEE TILES\n",
    "print(\"🔗 Example 2: Adding TMS layer with Direct GEE TILES...\")\n",
    "\n",
    "## updated map_layers\n",
    "\n",
    "# Get the first layer as an example\n",
    "first_layer_name = list(map_layers.keys())[0]\n",
    "first_layer_info = map_layers[first_layer_name]\n",
    "\n",
    "print(f\"   Layer: {first_layer_name}\")\n",
    "print(f\"   Original URL: {first_layer_info.get('tile_url', 'N/A')}\") \n",
    "\n",
    "# Add a TMS layer\n",
    "tms_result = add_tms_layer_to_mapstore(\n",
    "    layer_name=first_layer_name,\n",
    "    layer_url=first_layer_info.get('tile_url', ''),\n",
    "    use_fastapi_proxy=False,\n",
    "    fastapi_pub_url=\"http://localhost:8001\"\n",
    ")\n",
    "\n",
    "# Get the layer object\n",
    "layer_obj = tms_result['layer_object']\n",
    "\n",
    "# Get URLs (copy-paste ready!)\n",
    "proxy_url = layer_obj.get_proxy_url_tms()\n",
    "# Returns: \"http://fastapi:8000/tms/dynamic/Sentinel_mosaicked_2024_1_1_2024_5_31/{z}/{x}/{y}.png\"\n",
    "\n",
    "direct_url = layer_obj.get_direct_url_tms()\n",
    "# Returns: \"https://earthengine.googleapis.com/...\"\n",
    "\n",
    "# Get complete MapStore config\n",
    "mapstore_config = layer_obj.get_mapstore_config()\n",
    "# Returns: {\"type\": \"tms\", \"format\": \"image/png\", \"title\": \"...\", \"url\": \"...\", \"srs\": \"EPSG:3857\"}\n",
    "\n",
    "# Get other info\n",
    "service_id = layer_obj.get_service_id()\n",
    "# Returns: \"gee_tms_Sentinel_mosaicked_2024_1_1_2024_5_31\"\n",
    "\n",
    "layer_name = layer_obj.get_layer_name()\n",
    "# Returns: \"Sentinel mosaicked - 2024-1-1-2024-5-31\"\n",
    "\n",
    "print(f\"\\n📊 TMS Proxy Result:\")\n",
    "print(f\"   Status: {tms_result['status']}\")\n",
    "if tms_result['status'] == 'success':\n",
    "    print(f\"   Service ID: {tms_result['service_id']}\")\n",
    "    print(f\"   Layer Title: {tms_result['layer_title']}\")\n",
    "    print(f\"   TMS URL: {tms_result['tms_url']}\")\n",
    "    print(f\"   Uses FastAPI Proxy: {tms_result['use_fastapi_proxy']}\")\n"
   ]
  },
  {
   "cell_type": "code",
   "execution_count": null,
   "id": "b201cb4f",
   "metadata": {},
   "outputs": [],
   "source": [
    "## CSW is todo, let's compare later.\n",
    "\n"
   ]
  },
  {
   "cell_type": "code",
   "execution_count": null,
   "id": "e54c7eab",
   "metadata": {},
   "outputs": [],
   "source": []
  }
 ],
 "metadata": {
  "kernelspec": {
   "display_name": "Python 3 (ipykernel)",
   "language": "python",
   "name": "python3"
  },
  "language_info": {
   "codemirror_mode": {
    "name": "ipython",
    "version": 3
   },
   "file_extension": ".py",
   "mimetype": "text/x-python",
   "name": "python",
   "nbconvert_exporter": "python",
   "pygments_lexer": "ipython3",
   "version": "3.10.19"
  }
 },
 "nbformat": 4,
 "nbformat_minor": 5
}
