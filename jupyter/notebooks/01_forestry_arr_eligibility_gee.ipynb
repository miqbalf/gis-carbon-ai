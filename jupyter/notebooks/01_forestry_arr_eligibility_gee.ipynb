{
 "cells": [
  {
   "cell_type": "code",
   "execution_count": 2,
   "id": "e0b2a5ca",
   "metadata": {},
   "outputs": [
    {
     "data": {
      "text/plain": [
       "['/usr/src/app/notebooks',\n",
       " '/usr/src/app',\n",
       " '/usr/src/app/gee_lib',\n",
       " '/usr/src/app/ex_ante_lib',\n",
       " '/usr/src/app/forestry_carbon_arr',\n",
       " '/usr/src/app/fastapi-gee-service',\n",
       " '/usr/local/lib/python310.zip',\n",
       " '/usr/local/lib/python3.10',\n",
       " '/usr/local/lib/python3.10/lib-dynload',\n",
       " '',\n",
       " '/usr/local/lib/python3.10/site-packages']"
      ]
     },
     "execution_count": 2,
     "metadata": {},
     "output_type": "execute_result"
    }
   ],
   "source": [
    "import ee\n",
    "import sys\n",
    "sys.path"
   ]
  },
  {
   "cell_type": "code",
   "execution_count": 3,
   "id": "1a94ae06",
   "metadata": {},
   "outputs": [
    {
     "data": {
      "text/plain": [
       "True"
      ]
     },
     "execution_count": 3,
     "metadata": {},
     "output_type": "execute_result"
    }
   ],
   "source": [
    "from dotenv import load_dotenv\n",
    "\n",
    "load_dotenv()"
   ]
  },
  {
   "cell_type": "code",
   "execution_count": 4,
   "id": "215f433e",
   "metadata": {},
   "outputs": [],
   "source": [
    "from google.auth import default\n",
    "creds, project = default()"
   ]
  },
  {
   "cell_type": "code",
   "execution_count": 5,
   "id": "f4d41671",
   "metadata": {},
   "outputs": [
    {
     "name": "stdout",
     "output_type": "stream",
     "text": [
      "\n",
      "No credentialed accounts.\n",
      "\n",
      "To login, run:\n",
      "  $ gcloud auth login `ACCOUNT`\n",
      "\n"
     ]
    }
   ],
   "source": [
    "# !gcloud projects list\n",
    "# !gcloud config list\n",
    "!gcloud auth list\n"
   ]
  },
  {
   "cell_type": "code",
   "execution_count": 6,
   "id": "264a13e7",
   "metadata": {},
   "outputs": [],
   "source": [
    "# !earthengine authenticate"
   ]
  },
  {
   "cell_type": "code",
   "execution_count": 7,
   "id": "a822bade",
   "metadata": {},
   "outputs": [],
   "source": [
    "# !gcloud config set project ee-iwansetiawan"
   ]
  },
  {
   "cell_type": "code",
   "execution_count": 8,
   "id": "426ae635",
   "metadata": {},
   "outputs": [],
   "source": [
    "# !pip install earthengine-api --upgrade\n"
   ]
  },
  {
   "cell_type": "code",
   "execution_count": 9,
   "id": "c0eae631",
   "metadata": {},
   "outputs": [
    {
     "name": "stdout",
     "output_type": "stream",
     "text": [
      "✓ GEE Initialized successfully\n",
      "  Service Account: earth-engine-land-eligibility@ee-iwansetiawan.iam.gserviceaccount.com\n",
      "  Project ID: ee-iwansetiawan\n",
      "  Credentials Path: /usr/src/app/user_id.json\n"
     ]
    }
   ],
   "source": [
    "import os\n",
    "import ee\n",
    "from gee_lib.osi.auth import initialize_gee, check_gee_initialization\n",
    "\n",
    "# ee.Initialize(project=os.getenv('GOOGLE_CLOUD_PROJECT'))\n",
    "# ee.Initialize(project='ee-iwansetiawan')\n",
    "\n",
    "# Initialize GEE\n",
    "# authenticate = initialize_gee(project_id=os.getenv('GOOGLE_CLOUD_PROJECT'), use_service_account=False)\n",
    "authenticate = initialize_gee(project_id='ee-iwansetiawan',use_service_account=True)\n",
    "\n",
    "# Verify it's working\n",
    "if check_gee_initialization():\n",
    "    print(\"Ready to use GEE!\")"
   ]
  },
  {
   "cell_type": "code",
   "execution_count": 10,
   "id": "066f1210",
   "metadata": {},
   "outputs": [
    {
     "name": "stdout",
     "output_type": "stream",
     "text": [
      "validation-469814\n"
     ]
    }
   ],
   "source": [
    "# !gcloud --version\n",
    "\n",
    "# os.getenv('GOOGLE_CLOUD_PROJECT')\n",
    "\n",
    "from google.cloud import storage\n",
    "client = storage.Client()\n",
    "print(client.project)\n"
   ]
  },
  {
   "cell_type": "code",
   "execution_count": 11,
   "id": "6323bf4f-84c7-4e0c-b467-0926b0f4d794",
   "metadata": {},
   "outputs": [],
   "source": [
    "# !gcloud.storage.buckets.list"
   ]
  },
  {
   "cell_type": "code",
   "execution_count": 12,
   "id": "288e92dc",
   "metadata": {},
   "outputs": [
    {
     "name": "stdout",
     "output_type": "stream",
     "text": [
      "config--->  {'I_satellite': 'Sentinel', 'pca_scaling': 1, 'tileScale': 2, 'AOI_path': './00_input/LPHD Belaban Rayak.shp', 'OID_field_name': 'id', 'input_training': './00_input/traning_point_merged_belaban.shp', 'algo_ml_selected': 'gbm', 'date_start_end': ['2024-1-1', '2024-5-31'], 'project_name': 'belaban_rayak', 'super_pixel_size': 3, 'region': 'asia', 'pixel_number': 3, 'year_start_loss': 14, 'tree_cover_forest': 30, 'band_name_image': 'Class', 'cloud_cover_threshold': 60, 'crs_input': 'EPSG:4326', 'IsThermal': False, 'fcd_selected': 21, 'high_forest': 65, 'yrf_forest': 45, 'shrub_grass': 45, 'open_land': 30, 'ndwi_hi_sentinel': 0.05, 'ndwi_hi_landsat': 0.1, 'ndwi_hi_planet': -0.2}\n"
     ]
    }
   ],
   "source": [
    "import json\n",
    "import os\n",
    "\n",
    "### need improvement on how to manage this config, we also in the config the path to the static file\n",
    "# maybe we need to not put the path in the config.json, don't know yet\n",
    "# Move to the parent directory of the current script\n",
    "parent_dir = os.getcwd()\n",
    "\n",
    "# Construct the absolute path to the JSON file in the 'input' folder\n",
    "json_path= os.path.join(parent_dir, '00_input', 'balaban_conf.json')\n",
    "\n",
    "# Read and load the JSON data from the file\n",
    "with open(json_path, 'r') as file:\n",
    "    config = json.load(file)\n",
    "\n",
    "print('config---> ',config)"
   ]
  },
  {
   "cell_type": "code",
   "execution_count": 13,
   "id": "c49ee0d1",
   "metadata": {},
   "outputs": [],
   "source": [
    "## import modules\n",
    "import osi\n",
    "import pandas as pd\n",
    "import geemap\n",
    "\n",
    "from osi.utils.main import validate_aoi\n",
    "# convert the modules for image collection (cloudless masking, compositing, reducer etc)\n",
    "from osi.image_collection.main import ImageCollection\n",
    "from osi.spectral_indices.spectral_analysis import SpectralAnalysis\n",
    "from osi.spectral_indices.utils import normalization_100\n",
    "from osi.hansen.historical_loss import HansenHistorical\n",
    "from osi.classifying.assign_zone import AssignClassZone\n",
    "from osi.legends.utils import convert_to_legend_items\n",
    "from osi.legends.main import LegendsBuilder\n",
    "from osi.obia.main import OBIASegmentation\n",
    "from osi.ml.main import LandcoverML\n",
    "from osi.fcd.main_fcd import FCDCalc\n",
    "from osi.pca.pca_gee import PCA\n",
    "from osi.hansen.historical_loss import HansenHistorical\n",
    "from osi.classifying.assign_zone import AssignClassZone\n",
    "from osi.arcpy.utils import safe_get_data_source\n",
    "\n",
    "\n",
    "AOIt_shp_plot = geemap.shp_to_ee(config['AOI_path'])\n",
    "crs_input = config['crs_input']\n",
    "I_satellite = config['I_satellite']\n",
    "project_name = config['project_name']\n",
    "\n",
    "start_date = config['date_start_end'][0]\n",
    "end_date = config['date_start_end'][1]\n",
    "\n",
    "layer_name_image_mosaick = f'image_mosaick_result_ee_{project_name}'\n",
    "\n",
    "AOI = AOIt_shp_plot\n",
    "config['AOI'] = AOI\n",
    "\n",
    "ndwi_hi = 0.1\n",
    "if config['I_satellite'] == 'Landsat':\n",
    "    ndwi_hi = config['ndwi_hi_landsat']\n",
    "elif I_satellite == 'Sentinel':\n",
    "    ndwi_hi = config['ndwi_hi_sentinel']\n",
    "elif I_satellite == 'Planet':\n",
    "    ndwi_hi = config['ndwi_hi_planet']\n",
    "\n",
    "### Masking and overlay and area helper Make an image out of the AOI area attribute -> convert featurecollection into raster (image) for overlaying tools\n",
    "OID = config['OID_field_name']\n",
    "AOI_img = AOI.filter(ee.Filter.notNull([OID])).reduceToImage(\n",
    "    properties= [OID],\n",
    "    reducer= ee.Reducer.first()\n",
    ")"
   ]
  },
  {
   "cell_type": "code",
   "execution_count": 14,
   "id": "af49606d",
   "metadata": {},
   "outputs": [
    {
     "data": {
      "text/html": [
       "\n",
       "            <style>\n",
       "                .geemap-dark {\n",
       "                    --jp-widgets-color: white;\n",
       "                    --jp-widgets-label-color: white;\n",
       "                    --jp-ui-font-color1: white;\n",
       "                    --jp-layout-color2: #454545;\n",
       "                    background-color: #383838;\n",
       "                }\n",
       "                    \n",
       "                .geemap-dark .jupyter-button {\n",
       "                    --jp-layout-color3: #383838;\n",
       "                }\n",
       "                \n",
       "                .geemap-colab {\n",
       "                    background-color: var(--colab-primary-surface-color, white);\n",
       "                }\n",
       "                    \n",
       "                .geemap-colab .jupyter-button {\n",
       "                    --jp-layout-color3: var(--colab-primary-surface-color, white);\n",
       "                }\n",
       "            </style>\n",
       "            "
      ],
      "text/plain": [
       "<IPython.core.display.HTML object>"
      ]
     },
     "metadata": {},
     "output_type": "display_data"
    }
   ],
   "source": [
    "# now starting to do analysis\n",
    "# initiate instance class for the image collection and later mosaicking\n",
    "classInputCollection = ImageCollection(I_satellite=I_satellite,\n",
    "                                       AOI=AOI, \n",
    "                                       date_start_end=config['date_start_end'], \n",
    "                                       cloud_cover_threshold = config['cloud_cover_threshold'],\n",
    "                                       region=config['region'])"
   ]
  },
  {
   "cell_type": "code",
   "execution_count": 15,
   "id": "2d8939d8",
   "metadata": {},
   "outputs": [
    {
     "data": {
      "text/html": [
       "\n",
       "            <style>\n",
       "                .geemap-dark {\n",
       "                    --jp-widgets-color: white;\n",
       "                    --jp-widgets-label-color: white;\n",
       "                    --jp-ui-font-color1: white;\n",
       "                    --jp-layout-color2: #454545;\n",
       "                    background-color: #383838;\n",
       "                }\n",
       "                    \n",
       "                .geemap-dark .jupyter-button {\n",
       "                    --jp-layout-color3: #383838;\n",
       "                }\n",
       "                \n",
       "                .geemap-colab {\n",
       "                    background-color: var(--colab-primary-surface-color, white);\n",
       "                }\n",
       "                    \n",
       "                .geemap-colab .jupyter-button {\n",
       "                    --jp-layout-color3: var(--colab-primary-surface-color, white);\n",
       "                }\n",
       "            </style>\n",
       "            "
      ],
      "text/plain": [
       "<IPython.core.display.HTML object>"
      ]
     },
     "metadata": {},
     "output_type": "display_data"
    },
    {
     "name": "stdout",
     "output_type": "stream",
     "text": [
      "selecting Sentinel images\n"
     ]
    }
   ],
   "source": [
    "# run the method from image collection loaded, cloudless compositing until to image_mosaick\n",
    "image_mosaick = classInputCollection.image_mosaick()"
   ]
  },
  {
   "cell_type": "code",
   "execution_count": 16,
   "id": "e0cc100b",
   "metadata": {},
   "outputs": [
    {
     "data": {
      "text/html": [
       "\n",
       "            <style>\n",
       "                .geemap-dark {\n",
       "                    --jp-widgets-color: white;\n",
       "                    --jp-widgets-label-color: white;\n",
       "                    --jp-ui-font-color1: white;\n",
       "                    --jp-layout-color2: #454545;\n",
       "                    background-color: #383838;\n",
       "                }\n",
       "                    \n",
       "                .geemap-dark .jupyter-button {\n",
       "                    --jp-layout-color3: #383838;\n",
       "                }\n",
       "                \n",
       "                .geemap-colab {\n",
       "                    background-color: var(--colab-primary-surface-color, white);\n",
       "                }\n",
       "                    \n",
       "                .geemap-colab .jupyter-button {\n",
       "                    --jp-layout-color3: var(--colab-primary-surface-color, white);\n",
       "                }\n",
       "            </style>\n",
       "            "
      ],
      "text/plain": [
       "<IPython.core.display.HTML object>"
      ]
     },
     "metadata": {},
     "output_type": "display_data"
    },
    {
     "name": "stdout",
     "output_type": "stream",
     "text": [
      "✓ Map IDs generated for all layers\n",
      "Generating GEE Map IDs...\n",
      "\n",
      "SENTINEL MOSAICKED - 2024-1-1-2024-5-31 VEGCOLOR:\n",
      "  Tile URL: https://earthengine.googleapis.com/v1/projects/ee-iwansetiawan/maps/358692236f5e3bf0ac43865a69eb99d7-7ab4b8693eb6f5b1f717b2a814ad1f49/tiles/{z}/{x}/{y}\n"
     ]
    }
   ],
   "source": [
    "from gee_lib.osi.utils import generate_map_id\n",
    "\n",
    "# Generate Map IDs\n",
    "### Defining params visualization and layer name\n",
    "layer_name = f'{I_satellite} mosaicked - {start_date}-{end_date} VegColor'\n",
    "\n",
    "if config['I_satellite'] == 'Planet':\n",
    "    # true color {\"bands\":[\"red\",\"green\",\"blue\"],\"min\":0,\"max\":0.6,\"gamma\":1.5}\n",
    "    # nir veg color {\"bands\":[\"red\",\"nir\",\"blue\"],\"min\":0,\"max\":0.6,\"gamma\":1.5 }\n",
    "    vis_param = {\"bands\":[\"red\",\"green\",\"blue\"],\"min\":0,\"max\":0.6,\"gamma\":1.5}\n",
    "else:\n",
    "    vis_param = {'bands': ['swir2', 'nir', 'red'], 'min': 0, 'max': 0.6, 'gamma': 1.5}\n",
    "\n",
    "layers_data = {'project_name': 'Sentinel-2 Cloudless Composite Analysis'}\n",
    "\n",
    "\n",
    "print(\"✓ Map IDs generated for all layers\")\n",
    "# Display tile URLs\n",
    "for layer_name, map_id_dict in generate_map_id({layer_name: vis_param}, {layer_name: image_mosaick})['all_mapid'].items():\n",
    "    tile_url = map_id_dict['tile_fetcher'].url_format\n",
    "    print(f\"\\n{layer_name.upper()}:\")\n",
    "    print(f\"  Tile URL: {tile_url}\")\n",
    "\n"
   ]
  },
  {
   "cell_type": "code",
   "execution_count": 17,
   "id": "fa107a00",
   "metadata": {},
   "outputs": [
    {
     "data": {
      "text/html": [
       "\n",
       "            <style>\n",
       "                .geemap-dark {\n",
       "                    --jp-widgets-color: white;\n",
       "                    --jp-widgets-label-color: white;\n",
       "                    --jp-ui-font-color1: white;\n",
       "                    --jp-layout-color2: #454545;\n",
       "                    background-color: #383838;\n",
       "                }\n",
       "                    \n",
       "                .geemap-dark .jupyter-button {\n",
       "                    --jp-layout-color3: #383838;\n",
       "                }\n",
       "                \n",
       "                .geemap-colab {\n",
       "                    background-color: var(--colab-primary-surface-color, white);\n",
       "                }\n",
       "                    \n",
       "                .geemap-colab .jupyter-button {\n",
       "                    --jp-layout-color3: var(--colab-primary-surface-color, white);\n",
       "                }\n",
       "            </style>\n",
       "            "
      ],
      "text/plain": [
       "<IPython.core.display.HTML object>"
      ]
     },
     "metadata": {},
     "output_type": "display_data"
    },
    {
     "name": "stdout",
     "output_type": "stream",
     "text": [
      "Generating GEE Map IDs...\n"
     ]
    },
    {
     "data": {
      "text/plain": [
       "{'Sentinel mosaicked - 2024-1-1-2024-5-31 VegColor': {'tile_url': 'https://earthengine.googleapis.com/v1/projects/ee-iwansetiawan/maps/fd68358061bc8b352a9541dc4b084f29-3b6f207a41449a80f2c2588129235134/tiles/{z}/{x}/{y}',\n",
       "  'name': 'Sentinel Mosaicked - 2024-1-1-2024-5-31 Vegcolor',\n",
       "  'description': 'SENTINEL MOSAICKED - 2024-1-1-2024-5-31 VEGCOLOR visualization from GEE analysis',\n",
       "  'vis_params': {'bands': ['swir2', 'nir', 'red'],\n",
       "   'min': 0,\n",
       "   'max': 0.6,\n",
       "   'gamma': 1.5}}}"
      ]
     },
     "execution_count": 17,
     "metadata": {},
     "output_type": "execute_result"
    }
   ],
   "source": [
    "## META data layers\n",
    "layers_data = {\n",
    "    'project_name': project_name,\n",
    "}\n",
    "\n",
    "# # Option 1: Simple tile URLs only\n",
    "# map_layers = {\n",
    "#     layer_name: map_ids[layer_name]['tile_fetcher'].url_format}\n",
    "\n",
    "# Option 2 with more detail combination for generating wmts\n",
    "map_layers = generate_map_id({layer_name: vis_param}, {layer_name: image_mosaick})['map_layers']\n",
    "map_layers\n",
    "\n"
   ]
  },
  {
   "cell_type": "code",
   "execution_count": 18,
   "id": "8688e363",
   "metadata": {},
   "outputs": [
    {
     "data": {
      "text/html": [
       "\n",
       "            <style>\n",
       "                .geemap-dark {\n",
       "                    --jp-widgets-color: white;\n",
       "                    --jp-widgets-label-color: white;\n",
       "                    --jp-ui-font-color1: white;\n",
       "                    --jp-layout-color2: #454545;\n",
       "                    background-color: #383838;\n",
       "                }\n",
       "                    \n",
       "                .geemap-dark .jupyter-button {\n",
       "                    --jp-layout-color3: #383838;\n",
       "                }\n",
       "                \n",
       "                .geemap-colab {\n",
       "                    background-color: var(--colab-primary-surface-color, white);\n",
       "                }\n",
       "                    \n",
       "                .geemap-colab .jupyter-button {\n",
       "                    --jp-layout-color3: var(--colab-primary-surface-color, white);\n",
       "                }\n",
       "            </style>\n",
       "            "
      ],
      "text/plain": [
       "<IPython.core.display.HTML object>"
      ]
     },
     "metadata": {},
     "output_type": "display_data"
    },
    {
     "name": "stdout",
     "output_type": "stream",
     "text": [
      "\n",
      "🔍 Available map layers:\n",
      "   map_layers: 1\n",
      "\n",
      "🔧 Fixing AOI coordinates...\n",
      "✅ Centroid calculated successfully with error margin 1\n",
      "Warning: Could not get bounds from geometry: 0\n"
     ]
    },
    {
     "name": "stderr",
     "output_type": "stream",
     "text": [
      "INFO:gee_integration:GEE Integration Manager initialized:\n",
      "INFO:gee_integration:  FastAPI URL: http://fastapi:8000\n",
      "INFO:gee_integration:  MapStore Config: /usr/src/app/mapstore/configs/localConfig.json\n",
      "INFO:gee_integration:Processing GEE analysis: belaban_rayak\n",
      "INFO:gee_integration:🧹 Clearing duplicate projects before processing new analysis...\n",
      "INFO:cache_manager:No existing catalog entries to check for duplicates\n",
      "INFO:gee_integration:✅ Duplicate clearing successful: 0 duplicates cleared, 0 unique projects kept\n",
      "INFO:gee_integration:✅ Cache cleared: 0 duplicate entries, kept 0 unique projects\n",
      "INFO:gee_integration:Using complex layer info for 'Sentinel mosaicked - 2024-1-1-2024-5-31 VegColor': ['tile_url', 'name', 'description', 'vis_params']\n",
      "INFO:gee_integration:Registering with FastAPI: belaban_rayak_20251027_122600\n",
      "INFO:gee_integration:✅ FastAPI registration successful: MapStore catalog updated successfully\n",
      "INFO:gee_integration:Creating FastAPI proxy URLs for project: belaban_rayak_20251027_122600\n",
      "INFO:gee_integration:✅ Created 1 FastAPI proxy URLs\n",
      "INFO:gee_integration:Updating MapStore WMTS: belaban_rayak_20251027_122600\n",
      "INFO:gee_integration:🔄 Forcing comprehensive WMTS refresh...\n",
      "INFO:gee_utils:Starting comprehensive WMTS refresh...\n",
      "INFO:gee_utils:Clearing old WMTS services...\n",
      "INFO:gee_utils:Found 0 GEE WMTS services\n",
      "INFO:gee_utils:No GEE WMTS services to remove\n",
      "INFO:gee_utils:Refreshing WMTS capabilities...\n"
     ]
    },
    {
     "name": "stdout",
     "output_type": "stream",
     "text": [
      "Calculated bbox from coordinates: {'minx': 110.42625277199998, 'miny': -1.8286048599999736, 'maxx': 110.49828386500002, 'maxy': -1.7805881470000031}\n",
      "✅ AOI processed successfully:\n",
      "   - Center: [110.46306597258281, -1.803818629688135]\n",
      "   - Area: Unknown\n",
      "   - BBox: {'minx': 110.42625277199998, 'miny': -1.8286048599999736, 'maxx': 110.49828386500002, 'maxy': -1.7805881470000031}\n",
      "✅ Fixed AOI Info:\n",
      "   Bbox: {'minx': 110.42625277199998, 'miny': -1.8286048599999736, 'maxx': 110.49828386500002, 'maxy': -1.7805881470000031}\n",
      "   Center: [110.46306597258281, -1.803818629688135]\n",
      "🚀 Processing GEE Analysis to MapStore...\n",
      "   Project: belaban_rayak\n",
      "   Layers: 1\n",
      "   AOI: {'minx': 110.42625277199998, 'miny': -1.8286048599999736, 'maxx': 110.49828386500002, 'maxy': -1.7805881470000031}\n"
     ]
    },
    {
     "name": "stderr",
     "output_type": "stream",
     "text": [
      "INFO:gee_utils:WMTS capabilities refreshed successfully\n",
      "INFO:gee_utils:Updating MapStore WMTS service...\n",
      "INFO:gee_utils:Successfully updated MapStore WMTS service: gee_analysis_wmts\n",
      "INFO:gee_utils:Getting current WMTS layers...\n",
      "INFO:gee_utils:Comprehensive WMTS refresh completed successfully - Found 1 layers\n",
      "INFO:gee_integration:✅ MapStore WMTS configuration updated\n",
      "INFO:gee_integration:   New layers found: 1\n"
     ]
    },
    {
     "data": {
      "text/plain": [
       "{'status': 'success',\n",
       " 'project_id': 'belaban_rayak_20251027_122600',\n",
       " 'project_name': 'belaban_rayak',\n",
       " 'fastapi_registration': {'status': 'success',\n",
       "  'message': 'MapStore catalog updated successfully',\n",
       "  'layers_count': 1},\n",
       " 'proxy_urls_creation': {'status': 'success',\n",
       "  'message': 'Created 1 proxy URLs',\n",
       "  'proxy_urls': {'Sentinel mosaicked - 2024-1-1-2024-5-31 VegColor': {'proxy_url': 'http://fastapi:8000/tiles/belaban_rayak_20251027_122600/Sentinel mosaicked - 2024-1-1-2024-5-31 VegColor/{z}/{x}/{y}',\n",
       "    'original_url': 'https://earthengine.googleapis.com/v1/projects/ee-iwansetiawan/maps/fd68358061bc8b352a9541dc4b084f29-3b6f207a41449a80f2c2588129235134/tiles/{z}/{x}/{y}',\n",
       "    'layer_name': 'Sentinel mosaicked - 2024-1-1-2024-5-31 VegColor',\n",
       "    'description': 'SENTINEL MOSAICKED - 2024-1-1-2024-5-31 VEGCOLOR visualization from GEE analysis'}},\n",
       "  'layers_count': 1},\n",
       " 'wmts_configuration': {'status': 'success',\n",
       "  'message': 'WMTS configuration updated successfully',\n",
       "  'service_id': 'GEE_analysis_WMTS_layers',\n",
       "  'layers_available': ['belaban_rayak_20251027_122600_Sentinel_mosaicked_2024_1_1_2024_5_31_VegColor'],\n",
       "  'layers_count': 1},\n",
       " 'service_urls': {'fastapi_layers': 'http://fastapi:8000/layers/belaban_rayak_20251027_122600',\n",
       "  'fastapi_tiles': 'http://fastapi:8000/tiles/belaban_rayak_20251027_122600',\n",
       "  'wmts_service': 'http://fastapi:8000/wmts',\n",
       "  'mapstore_catalog': 'http://localhost:8082/mapstore'},\n",
       " 'available_layers': ['Sentinel mosaicked - 2024-1-1-2024-5-31 VegColor'],\n",
       " 'timestamp': '2025-10-27T12:26:00.293705'}"
      ]
     },
     "execution_count": 18,
     "metadata": {},
     "output_type": "execute_result"
    }
   ],
   "source": [
    "# import sys\n",
    "# sys.path.append('/usr/src/app/fastapi-gee-service')\n",
    "from gee_integration import process_gee_to_mapstore\n",
    "\n",
    "# Import the AOI fix function properly\n",
    "from gee_lib.osi.utils import process_aoi_geometry\n",
    "\n",
    "def list_layers_to_wmts(map_layers, AOI):\n",
    "    \"\"\"\n",
    "    Convert map layers to WMTS format\n",
    "    \n",
    "    Args:\n",
    "        map_layers: Dictionary of map layers\n",
    "\n",
    "    \"\"\"\n",
    "    \n",
    "    # Fix 1: Use correct map layers\n",
    "    print(f\"\\n🔍 Available map layers:\")\n",
    "    print(f\"   map_layers: {len(map_layers)}\")\n",
    "\n",
    "    # Fix 2: Fix AOI coordinates using the existing function\n",
    "    print(f\"\\n🔧 Fixing AOI coordinates...\")\n",
    "    AOI_geom = AOI.geometry()\n",
    "    aoi_info = process_aoi_geometry(AOI_geom)\n",
    "\n",
    "    print(f\"✅ Fixed AOI Info:\")\n",
    "    print(f\"   Bbox: {aoi_info['bbox']}\")\n",
    "    print(f\"   Center: {aoi_info['center']}\")\n",
    "\n",
    "    print(\"🚀 Processing GEE Analysis to MapStore...\")\n",
    "    print(f\"   Project: {layers_data['project_name']}\")\n",
    "    print(f\"   Layers: {len(map_layers)}\")\n",
    "    print(f\"   AOI: {aoi_info['bbox']}\")\n",
    "\n",
    "    # Process the complete integration\n",
    "    result = process_gee_to_mapstore(\n",
    "        map_layers=map_layers,\n",
    "        project_name=layers_data['project_name'],\n",
    "        aoi_info=aoi_info,\n",
    "        clear_cache_first=True,\n",
    "        fastapi_url=\"http://fastapi:8000\"  # Internal Docker network , this should be in localhost, but we can override as well\n",
    "    )\n",
    "    return result\n",
    "\n",
    "result = list_layers_to_wmts(map_layers, AOI) # EQUIVALENT TO MAP.ADDLAYER(RASTER)\n",
    "result\n"
   ]
  },
  {
   "cell_type": "code",
   "execution_count": 19,
   "id": "60426cd0",
   "metadata": {},
   "outputs": [
    {
     "data": {
      "text/html": [
       "\n",
       "            <style>\n",
       "                .geemap-dark {\n",
       "                    --jp-widgets-color: white;\n",
       "                    --jp-widgets-label-color: white;\n",
       "                    --jp-ui-font-color1: white;\n",
       "                    --jp-layout-color2: #454545;\n",
       "                    background-color: #383838;\n",
       "                }\n",
       "                    \n",
       "                .geemap-dark .jupyter-button {\n",
       "                    --jp-layout-color3: #383838;\n",
       "                }\n",
       "                \n",
       "                .geemap-colab {\n",
       "                    background-color: var(--colab-primary-surface-color, white);\n",
       "                }\n",
       "                    \n",
       "                .geemap-colab .jupyter-button {\n",
       "                    --jp-layout-color3: var(--colab-primary-surface-color, white);\n",
       "                }\n",
       "            </style>\n",
       "            "
      ],
      "text/plain": [
       "<IPython.core.display.HTML object>"
      ]
     },
     "metadata": {},
     "output_type": "display_data"
    },
    {
     "name": "stdout",
     "output_type": "stream",
     "text": [
      "link_localhost:  http://localhost:8001/fc/gee_aoi_dynamic\n"
     ]
    }
   ],
   "source": [
    "## EXAMPLE TO PUSH GEE TO GEOJSON FAST API and get WFS RESULT, (EQUIVALENT MAP.ADDLAYER (VECTOR))\n",
    "import requests\n",
    "import json\n",
    "\n",
    "# Example GeoJSON data\n",
    "geojson_data = AOI.getInfo() # important this ee.FeatureCollection should convert to geojson first\n",
    "name_aoi = 'gee_aoi_dynamic'\n",
    "\n",
    "link_fastapi = 'http://fastapi:8000/fc/'+name_aoi #only from container, not from localhost\n",
    "\n",
    "# Push to API\n",
    "response = requests.post(\n",
    "    link_fastapi, # running in the notebook for now\n",
    "    json=geojson_data\n",
    ")\n",
    "\n",
    "print('link_localhost: ', 'http://localhost:8001/fc/'+name_aoi)\n",
    "\n"
   ]
  },
  {
   "cell_type": "code",
   "execution_count": 20,
   "id": "5db8629b",
   "metadata": {},
   "outputs": [
    {
     "data": {
      "text/html": [
       "\n",
       "            <style>\n",
       "                .geemap-dark {\n",
       "                    --jp-widgets-color: white;\n",
       "                    --jp-widgets-label-color: white;\n",
       "                    --jp-ui-font-color1: white;\n",
       "                    --jp-layout-color2: #454545;\n",
       "                    background-color: #383838;\n",
       "                }\n",
       "                    \n",
       "                .geemap-dark .jupyter-button {\n",
       "                    --jp-layout-color3: #383838;\n",
       "                }\n",
       "                \n",
       "                .geemap-colab {\n",
       "                    background-color: var(--colab-primary-surface-color, white);\n",
       "                }\n",
       "                    \n",
       "                .geemap-colab .jupyter-button {\n",
       "                    --jp-layout-color3: var(--colab-primary-surface-color, white);\n",
       "                }\n",
       "            </style>\n",
       "            "
      ],
      "text/plain": [
       "<IPython.core.display.HTML object>"
      ]
     },
     "metadata": {},
     "output_type": "display_data"
    }
   ],
   "source": [
    "# !cat /usr/src/app/mapstore/config/localConfig.json"
   ]
  },
  {
   "cell_type": "code",
   "execution_count": 21,
   "id": "49f3f9b7",
   "metadata": {},
   "outputs": [
    {
     "data": {
      "text/html": [
       "\n",
       "            <style>\n",
       "                .geemap-dark {\n",
       "                    --jp-widgets-color: white;\n",
       "                    --jp-widgets-label-color: white;\n",
       "                    --jp-ui-font-color1: white;\n",
       "                    --jp-layout-color2: #454545;\n",
       "                    background-color: #383838;\n",
       "                }\n",
       "                    \n",
       "                .geemap-dark .jupyter-button {\n",
       "                    --jp-layout-color3: #383838;\n",
       "                }\n",
       "                \n",
       "                .geemap-colab {\n",
       "                    background-color: var(--colab-primary-surface-color, white);\n",
       "                }\n",
       "                    \n",
       "                .geemap-colab .jupyter-button {\n",
       "                    --jp-layout-color3: var(--colab-primary-surface-color, white);\n",
       "                }\n",
       "            </style>\n",
       "            "
      ],
      "text/plain": [
       "<IPython.core.display.HTML object>"
      ]
     },
     "metadata": {},
     "output_type": "display_data"
    }
   ],
   "source": [
    "# # Test the new TMS management system\n",
    "# from gee_integration import add_tms_layer_to_mapstore, list_gee_tms_layers, clear_all_gee_tms_layers\n",
    "# print(\"Adding TMS layer with Direct GEE TILES...\")\n",
    "# # Get the first layer as an example\n",
    "# first_layer_name = list(map_layers.keys())[0]\n",
    "# first_layer_info = map_layers[first_layer_name]\n",
    "\n",
    "# # Add a TMS layer\n",
    "# tms_result = add_tms_layer_to_mapstore(\n",
    "#     layer_name=first_layer_name,\n",
    "#     layer_url=first_layer_info.get('tile_url', ''),\n",
    "#     use_fastapi_proxy=False, # change this to True if you want to use the fastapi proxy\n",
    "#     fastapi_pub_url=\"http://localhost:8001\"\n",
    "# )\n",
    "\n",
    "# print(f\"\\n📊 TMS Proxy Result:\")\n",
    "# print(f\"   Status: {tms_result['status']}\")\n",
    "# if tms_result['status'] == 'success':\n",
    "#     print(f\"   Service ID: {tms_result['service_id']}\")\n",
    "#     print(f\"   Layer Title: {tms_result['layer_title']}\")\n",
    "#     print(f\"   TMS URL: {tms_result['tms_url']}\")\n",
    "#     print(f\"   Uses FastAPI Proxy: {tms_result['use_fastapi_proxy']}\")\n"
   ]
  },
  {
   "cell_type": "code",
   "execution_count": 22,
   "id": "5ddd80c6",
   "metadata": {},
   "outputs": [
    {
     "data": {
      "text/html": [
       "\n",
       "            <style>\n",
       "                .geemap-dark {\n",
       "                    --jp-widgets-color: white;\n",
       "                    --jp-widgets-label-color: white;\n",
       "                    --jp-ui-font-color1: white;\n",
       "                    --jp-layout-color2: #454545;\n",
       "                    background-color: #383838;\n",
       "                }\n",
       "                    \n",
       "                .geemap-dark .jupyter-button {\n",
       "                    --jp-layout-color3: #383838;\n",
       "                }\n",
       "                \n",
       "                .geemap-colab {\n",
       "                    background-color: var(--colab-primary-surface-color, white);\n",
       "                }\n",
       "                    \n",
       "                .geemap-colab .jupyter-button {\n",
       "                    --jp-layout-color3: var(--colab-primary-surface-color, white);\n",
       "                }\n",
       "            </style>\n",
       "            "
      ],
      "text/plain": [
       "<IPython.core.display.HTML object>"
      ]
     },
     "metadata": {},
     "output_type": "display_data"
    }
   ],
   "source": [
    "# list_gee_tms_layers()\n",
    "# clear_all_gee_tms_layers()"
   ]
  },
  {
   "cell_type": "code",
   "execution_count": 23,
   "id": "2665427f",
   "metadata": {},
   "outputs": [
    {
     "data": {
      "text/html": [
       "\n",
       "            <style>\n",
       "                .geemap-dark {\n",
       "                    --jp-widgets-color: white;\n",
       "                    --jp-widgets-label-color: white;\n",
       "                    --jp-ui-font-color1: white;\n",
       "                    --jp-layout-color2: #454545;\n",
       "                    background-color: #383838;\n",
       "                }\n",
       "                    \n",
       "                .geemap-dark .jupyter-button {\n",
       "                    --jp-layout-color3: #383838;\n",
       "                }\n",
       "                \n",
       "                .geemap-colab {\n",
       "                    background-color: var(--colab-primary-surface-color, white);\n",
       "                }\n",
       "                    \n",
       "                .geemap-colab .jupyter-button {\n",
       "                    --jp-layout-color3: var(--colab-primary-surface-color, white);\n",
       "                }\n",
       "            </style>\n",
       "            "
      ],
      "text/plain": [
       "<IPython.core.display.HTML object>"
      ]
     },
     "metadata": {},
     "output_type": "display_data"
    }
   ],
   "source": [
    "# path_cog =  os.getenv('GCS_PATH')\n",
    "## cog gcs to ee image\n",
    "# import geemap\n",
    "# drone_cog = geemap.load_GeoTIFF(path_cog)\n",
    "# type(drone_cog)\n",
    "# !cat /root/.config/gcloud/application_default_credentials.json\n",
    "# map_layers = generate_map_id({layer_name: vis_param, 'drone_cog': {}}, {layer_name: image_mosaick, 'drone_cog': drone_cog})['map_layers']\n",
    "# map_layers\n",
    "# re add\n",
    "# result = list_layers_to_wmts(map_layers, AOI)\n",
    "# result\n",
    "# Add a TMS layer\n",
    "# tms_result = add_tms_layer_to_mapstore(\n",
    "#     layer_name=drone_name,\n",
    "#     layer_url=first_layer_info.get('tile_url', ''),\n",
    "#     use_fastapi_proxy=False, # change this to True if you want to use the fastapi proxy\n",
    "#     fastapi_pub_url=\"http://localhost:8001\"\n",
    "# )\n",
    "\n",
    "# drone_name = list(map_layers.keys())[1]\n",
    "# drone_layer = map_layers[drone_name]\n",
    "# drone_layer\n"
   ]
  },
  {
   "cell_type": "code",
   "execution_count": 24,
   "id": "2b176fad",
   "metadata": {},
   "outputs": [
    {
     "data": {
      "text/html": [
       "\n",
       "            <style>\n",
       "                .geemap-dark {\n",
       "                    --jp-widgets-color: white;\n",
       "                    --jp-widgets-label-color: white;\n",
       "                    --jp-ui-font-color1: white;\n",
       "                    --jp-layout-color2: #454545;\n",
       "                    background-color: #383838;\n",
       "                }\n",
       "                    \n",
       "                .geemap-dark .jupyter-button {\n",
       "                    --jp-layout-color3: #383838;\n",
       "                }\n",
       "                \n",
       "                .geemap-colab {\n",
       "                    background-color: var(--colab-primary-surface-color, white);\n",
       "                }\n",
       "                    \n",
       "                .geemap-colab .jupyter-button {\n",
       "                    --jp-layout-color3: var(--colab-primary-surface-color, white);\n",
       "                }\n",
       "            </style>\n",
       "            "
      ],
      "text/plain": [
       "<IPython.core.display.HTML object>"
      ]
     },
     "metadata": {},
     "output_type": "display_data"
    }
   ],
   "source": [
    "import geopandas as gpd\n",
    "\n",
    "### validate the input is correct\n",
    "##AOI\n",
    "AOI_shp_path = config['AOI_path']\n",
    "AOI_shp = gpd.GeoDataFrame.from_file(AOI_shp_path)\n",
    "AOI_shp.head()\n",
    "\n",
    "# make sure the related id is exist in the AOI_shp\n",
    "id_name = config['OID_field_name']\n",
    "if id_name not in AOI_shp.columns:\n",
    "    raise ValueError(f\"The field {id_name} does not exist in the AOI shapefile.\")\n",
    "\n",
    "# check if the AOI_shp is in the correct crs\n",
    "if AOI_shp.crs != config['crs_input']:\n",
    "    AOI_shp = AOI_shp.to_crs(config['crs_input'])\n",
    "\n"
   ]
  },
  {
   "cell_type": "code",
   "execution_count": 25,
   "id": "e33c0321",
   "metadata": {},
   "outputs": [
    {
     "data": {
      "text/html": [
       "\n",
       "            <style>\n",
       "                .geemap-dark {\n",
       "                    --jp-widgets-color: white;\n",
       "                    --jp-widgets-label-color: white;\n",
       "                    --jp-ui-font-color1: white;\n",
       "                    --jp-layout-color2: #454545;\n",
       "                    background-color: #383838;\n",
       "                }\n",
       "                    \n",
       "                .geemap-dark .jupyter-button {\n",
       "                    --jp-layout-color3: #383838;\n",
       "                }\n",
       "                \n",
       "                .geemap-colab {\n",
       "                    background-color: var(--colab-primary-surface-color, white);\n",
       "                }\n",
       "                    \n",
       "                .geemap-colab .jupyter-button {\n",
       "                    --jp-layout-color3: var(--colab-primary-surface-color, white);\n",
       "                }\n",
       "            </style>\n",
       "            "
      ],
      "text/plain": [
       "<IPython.core.display.HTML object>"
      ]
     },
     "metadata": {},
     "output_type": "display_data"
    },
    {
     "name": "stdout",
     "output_type": "stream",
     "text": [
      "before_validation:  (200, 4)\n",
      "after validation:  (200, 4)\n"
     ]
    },
    {
     "data": {
      "text/html": [
       "<div>\n",
       "<style scoped>\n",
       "    .dataframe tbody tr th:only-of-type {\n",
       "        vertical-align: middle;\n",
       "    }\n",
       "\n",
       "    .dataframe tbody tr th {\n",
       "        vertical-align: top;\n",
       "    }\n",
       "\n",
       "    .dataframe thead th {\n",
       "        text-align: right;\n",
       "    }\n",
       "</style>\n",
       "<table border=\"1\" class=\"dataframe\">\n",
       "  <thead>\n",
       "    <tr style=\"text-align: right;\">\n",
       "      <th></th>\n",
       "      <th>id</th>\n",
       "      <th>cd</th>\n",
       "      <th>code_lu</th>\n",
       "      <th>geometry</th>\n",
       "    </tr>\n",
       "  </thead>\n",
       "  <tbody>\n",
       "    <tr>\n",
       "      <th>0</th>\n",
       "      <td>0</td>\n",
       "      <td>3</td>\n",
       "      <td>3</td>\n",
       "      <td>POINT (110.48234 -1.79907)</td>\n",
       "    </tr>\n",
       "    <tr>\n",
       "      <th>1</th>\n",
       "      <td>1</td>\n",
       "      <td>4</td>\n",
       "      <td>4</td>\n",
       "      <td>POINT (110.43839 -1.81624)</td>\n",
       "    </tr>\n",
       "    <tr>\n",
       "      <th>2</th>\n",
       "      <td>2</td>\n",
       "      <td>1</td>\n",
       "      <td>1</td>\n",
       "      <td>POINT (110.47441 -1.80383)</td>\n",
       "    </tr>\n",
       "    <tr>\n",
       "      <th>3</th>\n",
       "      <td>3</td>\n",
       "      <td>1</td>\n",
       "      <td>1</td>\n",
       "      <td>POINT (110.46339 -1.81597)</td>\n",
       "    </tr>\n",
       "    <tr>\n",
       "      <th>4</th>\n",
       "      <td>4</td>\n",
       "      <td>1</td>\n",
       "      <td>1</td>\n",
       "      <td>POINT (110.45023 -1.78926)</td>\n",
       "    </tr>\n",
       "  </tbody>\n",
       "</table>\n",
       "</div>"
      ],
      "text/plain": [
       "  id  cd  code_lu                    geometry\n",
       "0  0   3        3  POINT (110.48234 -1.79907)\n",
       "1  1   4        4  POINT (110.43839 -1.81624)\n",
       "2  2   1        1  POINT (110.47441 -1.80383)\n",
       "3  3   1        1  POINT (110.46339 -1.81597)\n",
       "4  4   1        1  POINT (110.45023 -1.78926)"
      ]
     },
     "execution_count": 25,
     "metadata": {},
     "output_type": "execute_result"
    }
   ],
   "source": [
    "## validate the training points (this notebook assume the training points is already exist in the project)\n",
    "input_training_points_path = config['input_training']\n",
    "training_points = gpd.GeoDataFrame.from_file(input_training_points_path)\n",
    "\n",
    "# check if the training points is in the correct crs\n",
    "if training_points.crs != config['crs_input']:\n",
    "    training_points = training_points.to_crs(config['crs_input'])\n",
    "\n",
    "print('before_validation: ',training_points.shape)\n",
    "# Function to check if a value is an integer\n",
    "def is_integer(value):\n",
    "    return isinstance(value, int)\n",
    "\n",
    "# Filter out non-integer values in the 'code_lu' column\n",
    "training_points['code_lu'] = training_points['code_lu'].apply(lambda x: x if is_integer(x) else None)\n",
    "\n",
    "print('after validation: ',training_points.shape)\n",
    "training_points.head()\n"
   ]
  },
  {
   "cell_type": "code",
   "execution_count": 26,
   "id": "d0366f94",
   "metadata": {},
   "outputs": [
    {
     "data": {
      "text/html": [
       "\n",
       "            <style>\n",
       "                .geemap-dark {\n",
       "                    --jp-widgets-color: white;\n",
       "                    --jp-widgets-label-color: white;\n",
       "                    --jp-ui-font-color1: white;\n",
       "                    --jp-layout-color2: #454545;\n",
       "                    background-color: #383838;\n",
       "                }\n",
       "                    \n",
       "                .geemap-dark .jupyter-button {\n",
       "                    --jp-layout-color3: #383838;\n",
       "                }\n",
       "                \n",
       "                .geemap-colab {\n",
       "                    background-color: var(--colab-primary-surface-color, white);\n",
       "                }\n",
       "                    \n",
       "                .geemap-colab .jupyter-button {\n",
       "                    --jp-layout-color3: var(--colab-primary-surface-color, white);\n",
       "                }\n",
       "            </style>\n",
       "            "
      ],
      "text/plain": [
       "<IPython.core.display.HTML object>"
      ]
     },
     "metadata": {},
     "output_type": "display_data"
    }
   ],
   "source": [
    "## we can add the training point to the map (WFS) ;)\n",
    "training_points_ee = geemap.geopandas_to_ee(training_points)"
   ]
  },
  {
   "cell_type": "code",
   "execution_count": 27,
   "id": "ee210067",
   "metadata": {},
   "outputs": [
    {
     "data": {
      "text/html": [
       "\n",
       "            <style>\n",
       "                .geemap-dark {\n",
       "                    --jp-widgets-color: white;\n",
       "                    --jp-widgets-label-color: white;\n",
       "                    --jp-ui-font-color1: white;\n",
       "                    --jp-layout-color2: #454545;\n",
       "                    background-color: #383838;\n",
       "                }\n",
       "                    \n",
       "                .geemap-dark .jupyter-button {\n",
       "                    --jp-layout-color3: #383838;\n",
       "                }\n",
       "                \n",
       "                .geemap-colab {\n",
       "                    background-color: var(--colab-primary-surface-color, white);\n",
       "                }\n",
       "                    \n",
       "                .geemap-colab .jupyter-button {\n",
       "                    --jp-layout-color3: var(--colab-primary-surface-color, white);\n",
       "                }\n",
       "            </style>\n",
       "            "
      ],
      "text/plain": [
       "<IPython.core.display.HTML object>"
      ]
     },
     "metadata": {},
     "output_type": "display_data"
    }
   ],
   "source": [
    "# Example GeoJSON data, adding again above (points, not only AOI polygon)\n",
    "geojson_data = training_points_ee.getInfo() # important this ee.FeatureCollection should convert to geojson first\n",
    "name_aoi = 'training_points_dynamic'\n",
    "\n",
    "link_fastapi = 'http://fastapi:8000/fc/'+name_aoi #only from container, not from localhost\n",
    "\n",
    "# Push to API\n",
    "response = requests.post(\n",
    "    link_fastapi, # running in the notebook for now\n",
    "    json=geojson_data\n",
    ")"
   ]
  },
  {
   "cell_type": "code",
   "execution_count": 28,
   "id": "c4a4614f",
   "metadata": {},
   "outputs": [
    {
     "data": {
      "text/html": [
       "\n",
       "            <style>\n",
       "                .geemap-dark {\n",
       "                    --jp-widgets-color: white;\n",
       "                    --jp-widgets-label-color: white;\n",
       "                    --jp-ui-font-color1: white;\n",
       "                    --jp-layout-color2: #454545;\n",
       "                    background-color: #383838;\n",
       "                }\n",
       "                    \n",
       "                .geemap-dark .jupyter-button {\n",
       "                    --jp-layout-color3: #383838;\n",
       "                }\n",
       "                \n",
       "                .geemap-colab {\n",
       "                    background-color: var(--colab-primary-surface-color, white);\n",
       "                }\n",
       "                    \n",
       "                .geemap-colab .jupyter-button {\n",
       "                    --jp-layout-color3: var(--colab-primary-surface-color, white);\n",
       "                }\n",
       "            </style>\n",
       "            "
      ],
      "text/plain": [
       "<IPython.core.display.HTML object>"
      ]
     },
     "metadata": {},
     "output_type": "display_data"
    },
    {
     "data": {
      "text/plain": [
       "array([3, 4, 1, 2, 9])"
      ]
     },
     "execution_count": 28,
     "metadata": {},
     "output_type": "execute_result"
    }
   ],
   "source": [
    "pallette_class_segment = {\n",
    "            '1': '#83ff5a',  # forest_trees (1)\n",
    "            '2': '#ffe3b3',  # shrubland (2)\n",
    "            '3': '#ffff33',  # grassland (3)\n",
    "            '4': '#f89696',  # openland (4)\n",
    "            '5': '#1900ff',  # waterbody_wet_area (5)\n",
    "            '6': '#e6e6fa',  # plantation (6)\n",
    "            '7': '#FFFFFF',   # gray_infrastructure (7)\n",
    "            '8': '#4B0082',  # oil_palm (8) - Dark Purple\n",
    "            '9': '#8B4513',  # cropland (9) - Brown\n",
    "            '10': '#87CEEB',  # waterbody (10) - Light Blue\n",
    "            '11': '#2F4F4F',  # wetlands (11) - Dark Teal\n",
    "            '12': '#ADFF2F',  # forest_trees_regrowth (12) - Light Green\n",
    "            '13': '#8B0000',  # historical_treeloss_10years (13) - Dark Red\n",
    "            '14': '#DAA520'   # paddy_irrigated (14) - Golden Yellow\n",
    "\n",
    "            }\n",
    "\n",
    "training_points['code_lu'].unique()"
   ]
  },
  {
   "cell_type": "code",
   "execution_count": 29,
   "id": "6e111d06",
   "metadata": {},
   "outputs": [
    {
     "data": {
      "text/html": [
       "\n",
       "            <style>\n",
       "                .geemap-dark {\n",
       "                    --jp-widgets-color: white;\n",
       "                    --jp-widgets-label-color: white;\n",
       "                    --jp-ui-font-color1: white;\n",
       "                    --jp-layout-color2: #454545;\n",
       "                    background-color: #383838;\n",
       "                }\n",
       "                    \n",
       "                .geemap-dark .jupyter-button {\n",
       "                    --jp-layout-color3: #383838;\n",
       "                }\n",
       "                \n",
       "                .geemap-colab {\n",
       "                    background-color: var(--colab-primary-surface-color, white);\n",
       "                }\n",
       "                    \n",
       "                .geemap-colab .jupyter-button {\n",
       "                    --jp-layout-color3: var(--colab-primary-surface-color, white);\n",
       "                }\n",
       "            </style>\n",
       "            "
      ],
      "text/plain": [
       "<IPython.core.display.HTML object>"
      ]
     },
     "metadata": {},
     "output_type": "display_data"
    }
   ],
   "source": [
    "# [f.name for f in map.listLayers()]\n",
    "# [f.name for f in arc_ops.list_layers]"
   ]
  },
  {
   "cell_type": "code",
   "execution_count": 30,
   "id": "3f801bc4",
   "metadata": {},
   "outputs": [
    {
     "data": {
      "text/html": [
       "\n",
       "            <style>\n",
       "                .geemap-dark {\n",
       "                    --jp-widgets-color: white;\n",
       "                    --jp-widgets-label-color: white;\n",
       "                    --jp-ui-font-color1: white;\n",
       "                    --jp-layout-color2: #454545;\n",
       "                    background-color: #383838;\n",
       "                }\n",
       "                    \n",
       "                .geemap-dark .jupyter-button {\n",
       "                    --jp-layout-color3: #383838;\n",
       "                }\n",
       "                \n",
       "                .geemap-colab {\n",
       "                    background-color: var(--colab-primary-surface-color, white);\n",
       "                }\n",
       "                    \n",
       "                .geemap-colab .jupyter-button {\n",
       "                    --jp-layout-color3: var(--colab-primary-surface-color, white);\n",
       "                }\n",
       "            </style>\n",
       "            "
      ],
      "text/plain": [
       "<IPython.core.display.HTML object>"
      ]
     },
     "metadata": {},
     "output_type": "display_data"
    },
    {
     "name": "stdout",
     "output_type": "stream",
     "text": [
      "selecting Sentinel images\n",
      "selecting Sentinel images\n",
      "processing AVI\n",
      "processing BSI\n",
      "processing SI\n",
      "Normalizing to 100 AVI\n",
      "Normalizing to 100 AVI\n",
      "Normalizing to 100 BSI\n",
      "Normalizing to 100 SI\n",
      "Combining AVI AND BSI\n",
      "no thermal band, choosing Sentinel images\n",
      "Processing means center of AVI_BSI please wait\n",
      "Now we proceed to the PCA of Vegetation density\n",
      "Success get the PCA normalized of VD => SVI\n",
      "Now calculating the FCD from SVI and SSI - selecting band svi1 svi2 ssi1 and ssi2\n",
      "finish processing PCA, the result: FCD1_1 and FCD2_1 please continue\n",
      "Generating GEE Map IDs...\n",
      "finish processing PCA please continue\n"
     ]
    }
   ],
   "source": [
    "classImageSpectral = SpectralAnalysis(image_mosaick,config)\n",
    "class_FCD_run = FCDCalc(config).fcd_calc()\n",
    "FCD1_1 = class_FCD_run['FCD1_1']\n",
    "FCD2_1 = class_FCD_run['FCD2_1']\n",
    "\n",
    "# FCD1_1_arcgis_layer = arc_ops.adding_ee_to_arcgisPro(FCD1_1, {'min':0 ,'max':80, 'palette':['ff4c16', 'ffd96c', '39a71d']},\n",
    "#                                                    f'FCD1_1_{project_name}')\n",
    "\n",
    "fcd_visparams = {'min':0 ,'max':80, 'palette':['ff4c16', 'ffd96c', '39a71d']}\n",
    "fcd1_1_layer_name = f'FCD1_1_{project_name}'\n",
    "fcd2_1_layer_name = f'FCD2_1_{project_name}'\n",
    "\n",
    "# FCD2_1_arcgis_layer = arc_ops.adding_ee_to_arcgisPro(FCD2_1, {'min':0 ,'max':80, 'palette':['ff4c16', 'ffd96c', '39a71d']},\n",
    "#                                                    f'FCD2_1_{project_name}')\n",
    "\n",
    "map_layers = generate_map_id({layer_name: vis_param, fcd1_1_layer_name: fcd_visparams, fcd2_1_layer_name: fcd_visparams}, \n",
    "                             {layer_name: image_mosaick, fcd1_1_layer_name: FCD1_1, fcd2_1_layer_name: FCD2_1})['map_layers']\n",
    "\n",
    "print('finish processing PCA please continue')"
   ]
  },
  {
   "cell_type": "code",
   "execution_count": 31,
   "id": "9fb254d3",
   "metadata": {},
   "outputs": [
    {
     "data": {
      "text/html": [
       "\n",
       "            <style>\n",
       "                .geemap-dark {\n",
       "                    --jp-widgets-color: white;\n",
       "                    --jp-widgets-label-color: white;\n",
       "                    --jp-ui-font-color1: white;\n",
       "                    --jp-layout-color2: #454545;\n",
       "                    background-color: #383838;\n",
       "                }\n",
       "                    \n",
       "                .geemap-dark .jupyter-button {\n",
       "                    --jp-layout-color3: #383838;\n",
       "                }\n",
       "                \n",
       "                .geemap-colab {\n",
       "                    background-color: var(--colab-primary-surface-color, white);\n",
       "                }\n",
       "                    \n",
       "                .geemap-colab .jupyter-button {\n",
       "                    --jp-layout-color3: var(--colab-primary-surface-color, white);\n",
       "                }\n",
       "            </style>\n",
       "            "
      ],
      "text/plain": [
       "<IPython.core.display.HTML object>"
      ]
     },
     "metadata": {},
     "output_type": "display_data"
    },
    {
     "data": {
      "text/plain": [
       "{'Sentinel mosaicked - 2024-1-1-2024-5-31 VegColor': {'tile_url': 'https://earthengine.googleapis.com/v1/projects/ee-iwansetiawan/maps/45d939782df899a2c705e1d0bebb6a15-54ebca32acb03c1f55a5770bf8d5d1f4/tiles/{z}/{x}/{y}',\n",
       "  'name': 'Sentinel Mosaicked - 2024-1-1-2024-5-31 Vegcolor',\n",
       "  'description': 'SENTINEL MOSAICKED - 2024-1-1-2024-5-31 VEGCOLOR visualization from GEE analysis',\n",
       "  'vis_params': {'bands': ['swir2', 'nir', 'red'],\n",
       "   'min': 0,\n",
       "   'max': 0.6,\n",
       "   'gamma': 1.5}},\n",
       " 'FCD1_1_belaban_rayak': {'tile_url': 'https://earthengine.googleapis.com/v1/projects/ee-iwansetiawan/maps/ecc451a5edb2eebbf38b16b8cef5ecf8-8c8e8e5a26a3675f7452ad15cf9d5105/tiles/{z}/{x}/{y}',\n",
       "  'name': 'Fcd1 1 Belaban Rayak',\n",
       "  'description': 'FCD1_1_BELABAN_RAYAK visualization from GEE analysis',\n",
       "  'vis_params': {'min': 0,\n",
       "   'max': 80,\n",
       "   'palette': ['ff4c16', 'ffd96c', '39a71d']}},\n",
       " 'FCD2_1_belaban_rayak': {'tile_url': 'https://earthengine.googleapis.com/v1/projects/ee-iwansetiawan/maps/11cf26bbec66dc062ed0ba56972ee32d-6dd94c4ac1dc04b92d8e4fed4fec7fe1/tiles/{z}/{x}/{y}',\n",
       "  'name': 'Fcd2 1 Belaban Rayak',\n",
       "  'description': 'FCD2_1_BELABAN_RAYAK visualization from GEE analysis',\n",
       "  'vis_params': {'min': 0,\n",
       "   'max': 80,\n",
       "   'palette': ['ff4c16', 'ffd96c', '39a71d']}}}"
      ]
     },
     "execution_count": 31,
     "metadata": {},
     "output_type": "execute_result"
    }
   ],
   "source": [
    "map_layers"
   ]
  },
  {
   "cell_type": "code",
   "execution_count": 32,
   "id": "c22d72e6",
   "metadata": {},
   "outputs": [
    {
     "data": {
      "text/html": [
       "\n",
       "            <style>\n",
       "                .geemap-dark {\n",
       "                    --jp-widgets-color: white;\n",
       "                    --jp-widgets-label-color: white;\n",
       "                    --jp-ui-font-color1: white;\n",
       "                    --jp-layout-color2: #454545;\n",
       "                    background-color: #383838;\n",
       "                }\n",
       "                    \n",
       "                .geemap-dark .jupyter-button {\n",
       "                    --jp-layout-color3: #383838;\n",
       "                }\n",
       "                \n",
       "                .geemap-colab {\n",
       "                    background-color: var(--colab-primary-surface-color, white);\n",
       "                }\n",
       "                    \n",
       "                .geemap-colab .jupyter-button {\n",
       "                    --jp-layout-color3: var(--colab-primary-surface-color, white);\n",
       "                }\n",
       "            </style>\n",
       "            "
      ],
      "text/plain": [
       "<IPython.core.display.HTML object>"
      ]
     },
     "metadata": {},
     "output_type": "display_data"
    },
    {
     "name": "stdout",
     "output_type": "stream",
     "text": [
      "\n",
      "🔍 Available map layers:\n",
      "   map_layers: 3\n",
      "\n",
      "🔧 Fixing AOI coordinates...\n",
      "✅ Centroid calculated successfully with error margin 1\n",
      "Warning: Could not get bounds from geometry: 0\n"
     ]
    },
    {
     "name": "stderr",
     "output_type": "stream",
     "text": [
      "INFO:gee_integration:GEE Integration Manager initialized:\n",
      "INFO:gee_integration:  FastAPI URL: http://fastapi:8000\n",
      "INFO:gee_integration:  MapStore Config: /usr/src/app/mapstore/configs/localConfig.json\n",
      "INFO:gee_integration:Processing GEE analysis: belaban_rayak\n",
      "INFO:gee_integration:🧹 Clearing duplicate projects before processing new analysis...\n",
      "INFO:cache_manager:No existing catalog entries to check for duplicates\n",
      "INFO:gee_integration:✅ Duplicate clearing successful: 0 duplicates cleared, 0 unique projects kept\n",
      "INFO:gee_integration:✅ Cache cleared: 0 duplicate entries, kept 0 unique projects\n",
      "INFO:gee_integration:Using complex layer info for 'Sentinel mosaicked - 2024-1-1-2024-5-31 VegColor': ['tile_url', 'name', 'description', 'vis_params']\n",
      "INFO:gee_integration:Using complex layer info for 'FCD1_1_belaban_rayak': ['tile_url', 'name', 'description', 'vis_params']\n",
      "INFO:gee_integration:Using complex layer info for 'FCD2_1_belaban_rayak': ['tile_url', 'name', 'description', 'vis_params']\n",
      "INFO:gee_integration:Registering with FastAPI: belaban_rayak_20251027_122633\n",
      "INFO:gee_integration:✅ FastAPI registration successful: MapStore catalog updated successfully\n",
      "INFO:gee_integration:Creating FastAPI proxy URLs for project: belaban_rayak_20251027_122633\n",
      "INFO:gee_integration:✅ Created 3 FastAPI proxy URLs\n",
      "INFO:gee_integration:Updating MapStore WMTS: belaban_rayak_20251027_122633\n",
      "INFO:gee_integration:🔄 Forcing comprehensive WMTS refresh...\n",
      "INFO:gee_utils:Starting comprehensive WMTS refresh...\n",
      "INFO:gee_utils:Clearing old WMTS services...\n",
      "INFO:gee_utils:Found 0 GEE WMTS services\n",
      "INFO:gee_utils:No GEE WMTS services to remove\n",
      "INFO:gee_utils:Refreshing WMTS capabilities...\n",
      "INFO:gee_utils:WMTS capabilities refreshed successfully\n",
      "INFO:gee_utils:Updating MapStore WMTS service...\n",
      "INFO:gee_utils:Successfully updated MapStore WMTS service: gee_analysis_wmts\n",
      "INFO:gee_utils:Getting current WMTS layers...\n",
      "INFO:gee_utils:Comprehensive WMTS refresh completed successfully - Found 3 layers\n",
      "INFO:gee_integration:✅ MapStore WMTS configuration updated\n",
      "INFO:gee_integration:   New layers found: 3\n"
     ]
    },
    {
     "name": "stdout",
     "output_type": "stream",
     "text": [
      "Calculated bbox from coordinates: {'minx': 110.42625277199998, 'miny': -1.8286048599999736, 'maxx': 110.49828386500002, 'maxy': -1.7805881470000031}\n",
      "✅ AOI processed successfully:\n",
      "   - Center: [110.46306597258281, -1.803818629688135]\n",
      "   - Area: Unknown\n",
      "   - BBox: {'minx': 110.42625277199998, 'miny': -1.8286048599999736, 'maxx': 110.49828386500002, 'maxy': -1.7805881470000031}\n",
      "✅ Fixed AOI Info:\n",
      "   Bbox: {'minx': 110.42625277199998, 'miny': -1.8286048599999736, 'maxx': 110.49828386500002, 'maxy': -1.7805881470000031}\n",
      "   Center: [110.46306597258281, -1.803818629688135]\n",
      "🚀 Processing GEE Analysis to MapStore...\n",
      "   Project: belaban_rayak\n",
      "   Layers: 3\n",
      "   AOI: {'minx': 110.42625277199998, 'miny': -1.8286048599999736, 'maxx': 110.49828386500002, 'maxy': -1.7805881470000031}\n"
     ]
    }
   ],
   "source": [
    "result = list_layers_to_wmts(map_layers, AOI) # EQUIVALENT TO MAP.ADDLAYER(RASTER)"
   ]
  },
  {
   "cell_type": "code",
   "execution_count": 33,
   "id": "027a1e88",
   "metadata": {},
   "outputs": [
    {
     "data": {
      "text/html": [
       "\n",
       "            <style>\n",
       "                .geemap-dark {\n",
       "                    --jp-widgets-color: white;\n",
       "                    --jp-widgets-label-color: white;\n",
       "                    --jp-ui-font-color1: white;\n",
       "                    --jp-layout-color2: #454545;\n",
       "                    background-color: #383838;\n",
       "                }\n",
       "                    \n",
       "                .geemap-dark .jupyter-button {\n",
       "                    --jp-layout-color3: #383838;\n",
       "                }\n",
       "                \n",
       "                .geemap-colab {\n",
       "                    background-color: var(--colab-primary-surface-color, white);\n",
       "                }\n",
       "                    \n",
       "                .geemap-colab .jupyter-button {\n",
       "                    --jp-layout-color3: var(--colab-primary-surface-color, white);\n",
       "                }\n",
       "            </style>\n",
       "            "
      ],
      "text/plain": [
       "<IPython.core.display.HTML object>"
      ]
     },
     "metadata": {},
     "output_type": "display_data"
    }
   ],
   "source": [
    "## starting to look at the historical data (Hansen - global foresty watch)\n",
    "hansen_class = HansenHistorical(config)\n",
    "run_hansen = hansen_class.initiate_tcl()\n",
    "LastImageLandsat, treeLossYear, minLoss, ForestArea2000Hansen, gfc =  \\\n",
    "                                 run_hansen['LastImageLandsat'], \\\n",
    "                                 run_hansen['treeLossYear'], \\\n",
    "                                 run_hansen['minLoss'], \\\n",
    "                                 run_hansen['ForestArea2000Hansen'], \\\n",
    "                                 run_hansen['gfc']"
   ]
  },
  {
   "cell_type": "code",
   "execution_count": 34,
   "id": "c781d682",
   "metadata": {},
   "outputs": [
    {
     "data": {
      "text/html": [
       "\n",
       "            <style>\n",
       "                .geemap-dark {\n",
       "                    --jp-widgets-color: white;\n",
       "                    --jp-widgets-label-color: white;\n",
       "                    --jp-ui-font-color1: white;\n",
       "                    --jp-layout-color2: #454545;\n",
       "                    background-color: #383838;\n",
       "                }\n",
       "                    \n",
       "                .geemap-dark .jupyter-button {\n",
       "                    --jp-layout-color3: #383838;\n",
       "                }\n",
       "                \n",
       "                .geemap-colab {\n",
       "                    background-color: var(--colab-primary-surface-color, white);\n",
       "                }\n",
       "                    \n",
       "                .geemap-colab .jupyter-button {\n",
       "                    --jp-layout-color3: var(--colab-primary-surface-color, white);\n",
       "                }\n",
       "            </style>\n",
       "            "
      ],
      "text/plain": [
       "<IPython.core.display.HTML object>"
      ]
     },
     "metadata": {},
     "output_type": "display_data"
    }
   ],
   "source": [
    "## if we want to add the hansen layer to the map\n",
    "tree_loss_year = treeLossYear.randomVisualizer()\n",
    "\n",
    "# arc_ops.adding_ee_to_arcgisPro(treeLossYear.randomVisualizer(), {},\n",
    "#                                                    f'treeLossYear')\n",
    "\n",
    "treeLoss = treeLossYear.gte(0).And(treeLossYear.lte(23)).selfMask()\n",
    "# arc_ops.adding_ee_to_arcgisPro(treeLoss.randomVisualizer(), {},\n",
    "#                                                    f'treeLoss')\n",
    "\n",
    "#Canopy cover percentage (e.g. 30%), for Indonesia\n",
    "cc = ee.Number(30)\n",
    "\n",
    "#Minimum forest area in pixels (e.g. 3 pixels, ~ 0.27 ha in this example).\n",
    "pixels = ee.Number(3)\n",
    "\n",
    "#Minimum mapping area for tree loss (usually same as the minimum forest area).\n",
    "lossPixels = pixels\n",
    "\n",
    "canopyCover = gfc.select(['treecover2000'])\n",
    "canopyCoverThreshold = canopyCover.gte(cc).selfMask()\n",
    "\n",
    "#Use connectedPixelCount() to get contiguous area.\n",
    "contArea = canopyCoverThreshold.connectedPixelCount()\n",
    "#Apply the minimum area requirement.\n",
    "minArea = contArea.gte(pixels).selfMask()\n",
    "\n",
    "treecoverLoss = minArea.And(treeLoss).rename(f'lossfrom_0-23').selfMask()\n",
    "        \n",
    "#Create connectedPixelCount() to get contiguous area.\n",
    "contLoss = treecoverLoss.connectedPixelCount()\n",
    "#Apply the minimum area requirement, and get the TCL data ---> minLoss - ACTUAL TCL AREA from Hansen since the year_start_loss\n",
    "minLoss = contLoss.gte(lossPixels).selfMask()\n",
    "\n",
    "\n",
    "# arc_ops.adding_ee_to_arcgisPro(minLoss.randomVisualizer(), {},\n",
    "#                                                    f'minLoss')"
   ]
  },
  {
   "cell_type": "code",
   "execution_count": 35,
   "id": "edaf71a5",
   "metadata": {},
   "outputs": [
    {
     "data": {
      "text/html": [
       "\n",
       "            <style>\n",
       "                .geemap-dark {\n",
       "                    --jp-widgets-color: white;\n",
       "                    --jp-widgets-label-color: white;\n",
       "                    --jp-ui-font-color1: white;\n",
       "                    --jp-layout-color2: #454545;\n",
       "                    background-color: #383838;\n",
       "                }\n",
       "                    \n",
       "                .geemap-dark .jupyter-button {\n",
       "                    --jp-layout-color3: #383838;\n",
       "                }\n",
       "                \n",
       "                .geemap-colab {\n",
       "                    background-color: var(--colab-primary-surface-color, white);\n",
       "                }\n",
       "                    \n",
       "                .geemap-colab .jupyter-button {\n",
       "                    --jp-layout-color3: var(--colab-primary-surface-color, white);\n",
       "                }\n",
       "            </style>\n",
       "            "
      ],
      "text/plain": [
       "<IPython.core.display.HTML object>"
      ]
     },
     "metadata": {},
     "output_type": "display_data"
    },
    {
     "name": "stderr",
     "output_type": "stream",
     "text": [
      "INFO:wmts_manager:WMTSManager initialized for project: belaban_rayak\n",
      "INFO:wmts_manager:Added layer: Sentinel mosaicked - 2024-1-1-2024-5-31 VegColor\n",
      "INFO:wmts_manager:Added layer: FCD1_1_belaban_rayak\n",
      "INFO:wmts_manager:Added layer: FCD2_1_belaban_rayak\n",
      "INFO:wmts_manager:Added layer: treeLossYear\n",
      "INFO:wmts_manager:Added layer: treeLoss\n",
      "INFO:wmts_manager:Added layer: minLoss\n",
      "INFO:wmts_manager:Generating map IDs for 6 layers...\n"
     ]
    },
    {
     "name": "stdout",
     "output_type": "stream",
     "text": [
      "Generating GEE Map IDs...\n",
      "✅ Centroid calculated successfully with error margin 1\n",
      "Warning: Could not get bounds from geometry: 0\n"
     ]
    },
    {
     "name": "stderr",
     "output_type": "stream",
     "text": [
      "INFO:wmts_manager:AOI processed: {'minx': 110.42625277199998, 'miny': -1.8286048599999736, 'maxx': 110.49828386500002, 'maxy': -1.7805881470000031}\n",
      "INFO:wmts_manager:Publishing 6 layers to WMTS...\n",
      "INFO:gee_integration:GEE Integration Manager initialized:\n",
      "INFO:gee_integration:  FastAPI URL: http://fastapi:8000\n",
      "INFO:gee_integration:  MapStore Config: /usr/src/app/mapstore/configs/localConfig.json\n",
      "INFO:gee_integration:Processing GEE analysis: belaban_rayak\n",
      "INFO:gee_integration:🧹 Clearing duplicate projects before processing new analysis...\n",
      "INFO:cache_manager:No existing catalog entries to check for duplicates\n",
      "INFO:gee_integration:✅ Duplicate clearing successful: 0 duplicates cleared, 0 unique projects kept\n",
      "INFO:gee_integration:✅ Cache cleared: 0 duplicate entries, kept 0 unique projects\n",
      "INFO:gee_integration:Using complex layer info for 'Sentinel mosaicked - 2024-1-1-2024-5-31 VegColor': ['tile_url', 'name', 'description', 'vis_params']\n",
      "INFO:gee_integration:Using complex layer info for 'FCD1_1_belaban_rayak': ['tile_url', 'name', 'description', 'vis_params']\n",
      "INFO:gee_integration:Using complex layer info for 'FCD2_1_belaban_rayak': ['tile_url', 'name', 'description', 'vis_params']\n",
      "INFO:gee_integration:Using complex layer info for 'treeLossYear': ['tile_url', 'name', 'description', 'vis_params']\n",
      "INFO:gee_integration:Using complex layer info for 'treeLoss': ['tile_url', 'name', 'description', 'vis_params']\n",
      "INFO:gee_integration:Using complex layer info for 'minLoss': ['tile_url', 'name', 'description', 'vis_params']\n",
      "INFO:gee_integration:Registering with FastAPI: belaban_rayak_20251027_122645\n",
      "INFO:gee_integration:✅ FastAPI registration successful: MapStore catalog updated successfully\n",
      "INFO:gee_integration:Creating FastAPI proxy URLs for project: belaban_rayak_20251027_122645\n",
      "INFO:gee_integration:✅ Created 6 FastAPI proxy URLs\n",
      "INFO:gee_integration:Updating MapStore WMTS: belaban_rayak_20251027_122645\n",
      "INFO:gee_integration:🔄 Forcing comprehensive WMTS refresh...\n",
      "INFO:gee_utils:Starting comprehensive WMTS refresh...\n",
      "INFO:gee_utils:Clearing old WMTS services...\n",
      "INFO:gee_utils:Found 0 GEE WMTS services\n",
      "INFO:gee_utils:No GEE WMTS services to remove\n",
      "INFO:gee_utils:Refreshing WMTS capabilities...\n",
      "INFO:gee_utils:WMTS capabilities refreshed successfully\n",
      "INFO:gee_utils:Updating MapStore WMTS service...\n",
      "INFO:gee_utils:Successfully updated MapStore WMTS service: gee_analysis_wmts\n",
      "INFO:gee_utils:Getting current WMTS layers...\n",
      "INFO:gee_utils:Comprehensive WMTS refresh completed successfully - Found 6 layers\n",
      "INFO:gee_integration:✅ MapStore WMTS configuration updated\n"
     ]
    },
    {
     "name": "stdout",
     "output_type": "stream",
     "text": [
      "Calculated bbox from coordinates: {'minx': 110.42625277199998, 'miny': -1.8286048599999736, 'maxx': 110.49828386500002, 'maxy': -1.7805881470000031}\n",
      "✅ AOI processed successfully:\n",
      "   - Center: [110.46306597258281, -1.803818629688135]\n",
      "   - Area: Unknown\n",
      "   - BBox: {'minx': 110.42625277199998, 'miny': -1.8286048599999736, 'maxx': 110.49828386500002, 'maxy': -1.7805881470000031}\n"
     ]
    },
    {
     "name": "stderr",
     "output_type": "stream",
     "text": [
      "INFO:gee_integration:   New layers found: 6\n",
      "INFO:wmts_manager:WMTS publishing completed: success\n"
     ]
    }
   ],
   "source": [
    "### TRY the new Approach, wmts manager, make the simpler line for adding layer based on project\n",
    "from wmts_manager import WMTSManager\n",
    "\n",
    "wmts = WMTSManager(project_name=project_name, aoi=AOI.geometry()) # equal to the defining map properties \n",
    "wmts.addLayer(image_mosaick, vis_param, layer_name)\n",
    "wmts.addLayer(FCD1_1, fcd_visparams, fcd1_1_layer_name)\n",
    "wmts.addLayer(FCD2_1, fcd_visparams, fcd2_1_layer_name)\n",
    "wmts.addLayer(treeLossYear.randomVisualizer(), {}, f'treeLossYear')\n",
    "wmts.addLayer(treeLoss.randomVisualizer(), {}, f'treeLoss')\n",
    "wmts.addLayer(minLoss.randomVisualizer(), {}, f'minLoss')\n",
    "result = wmts.publish() # execution to the WMTS server"
   ]
  },
  {
   "cell_type": "code",
   "execution_count": 36,
   "id": "8abbc388",
   "metadata": {},
   "outputs": [
    {
     "data": {
      "text/html": [
       "\n",
       "            <style>\n",
       "                .geemap-dark {\n",
       "                    --jp-widgets-color: white;\n",
       "                    --jp-widgets-label-color: white;\n",
       "                    --jp-ui-font-color1: white;\n",
       "                    --jp-layout-color2: #454545;\n",
       "                    background-color: #383838;\n",
       "                }\n",
       "                    \n",
       "                .geemap-dark .jupyter-button {\n",
       "                    --jp-layout-color3: #383838;\n",
       "                }\n",
       "                \n",
       "                .geemap-colab {\n",
       "                    background-color: var(--colab-primary-surface-color, white);\n",
       "                }\n",
       "                    \n",
       "                .geemap-colab .jupyter-button {\n",
       "                    --jp-layout-color3: var(--colab-primary-surface-color, white);\n",
       "                }\n",
       "            </style>\n",
       "            "
      ],
      "text/plain": [
       "<IPython.core.display.HTML object>"
      ]
     },
     "metadata": {},
     "output_type": "display_data"
    },
    {
     "name": "stderr",
     "output_type": "stream",
     "text": [
      "INFO:wfs_manager:WFSManager initialized:\n",
      "INFO:wfs_manager:  FastAPI URL: http://fastapi:8000\n",
      "INFO:wfs_manager:  WFS Base URL: http://localhost:8001\n",
      "INFO:wfs_manager:Added vector layer: Training Points Dynamic -> training_points_dynamic\n",
      "INFO:wfs_manager:Added vector layer: AOI Boundary -> aoi_boundary\n",
      "INFO:wfs_manager:Publishing 2 vector layers to WFS...\n",
      "INFO:wfs_manager:✅ Published layer 'training_points_dynamic': FeatureCollection 'training_points_dynamic' created successfully\n",
      "INFO:wfs_manager:✅ Published layer 'aoi_boundary': FeatureCollection 'aoi_boundary' created successfully\n",
      "INFO:wfs_manager:WFS publishing completed: success\n",
      "INFO:wfs_manager:  Successful: 2\n",
      "INFO:wfs_manager:  Failed: 0\n"
     ]
    }
   ],
   "source": [
    "from wfs_manager import WFSManager\n",
    "\n",
    "wfs = WFSManager(fastapi_url=\"http://fastapi:8000\", wfs_base_url=\"http://localhost:8001\")\n",
    "wfs.addLayer(training_points_ee, \"Training Points Dynamic\")\n",
    "wfs.addLayer(AOI, \"AOI Boundary\")\n",
    "result = wfs.publish()"
   ]
  },
  {
   "cell_type": "code",
   "execution_count": 37,
   "id": "e9b38c32",
   "metadata": {},
   "outputs": [
    {
     "data": {
      "text/html": [
       "\n",
       "            <style>\n",
       "                .geemap-dark {\n",
       "                    --jp-widgets-color: white;\n",
       "                    --jp-widgets-label-color: white;\n",
       "                    --jp-ui-font-color1: white;\n",
       "                    --jp-layout-color2: #454545;\n",
       "                    background-color: #383838;\n",
       "                }\n",
       "                    \n",
       "                .geemap-dark .jupyter-button {\n",
       "                    --jp-layout-color3: #383838;\n",
       "                }\n",
       "                \n",
       "                .geemap-colab {\n",
       "                    background-color: var(--colab-primary-surface-color, white);\n",
       "                }\n",
       "                    \n",
       "                .geemap-colab .jupyter-button {\n",
       "                    --jp-layout-color3: var(--colab-primary-surface-color, white);\n",
       "                }\n",
       "            </style>\n",
       "            "
      ],
      "text/plain": [
       "<IPython.core.display.HTML object>"
      ]
     },
     "metadata": {},
     "output_type": "display_data"
    },
    {
     "name": "stdout",
     "output_type": "stream",
     "text": [
      "Generating GEE Map IDs...\n",
      "✅ Generated Map ID for layer: Sentinel mosaicked - 2024-1-1-2024-5-31 VegColor\n",
      "✅ Generated Map ID for layer: FCD1_1_belaban_rayak\n",
      "✅ Generated Map ID for layer: FCD2_1_belaban_rayak\n",
      "✅ Generated Map IDs for 3 layers\n"
     ]
    },
    {
     "data": {
      "text/plain": [
       "{'Sentinel mosaicked - 2024-1-1-2024-5-31 VegColor': {'tile_url': 'https://earthengine.googleapis.com/v1/projects/ee-iwansetiawan/maps/9bc9c23673f70c6addec77db81a23939-71d137d9ab238aa5adcfb565482aecce/tiles/{z}/{x}/{y}',\n",
       "  'name': 'Sentinel Mosaicked - 2024-1-1-2024-5-31 Vegcolor',\n",
       "  'description': 'Sentinel Mosaicked Image',\n",
       "  'vis_params': {'bands': ['swir2', 'nir', 'red'],\n",
       "   'min': 0,\n",
       "   'max': 0.6,\n",
       "   'gamma': 1.5}},\n",
       " 'FCD1_1_belaban_rayak': {'tile_url': 'https://earthengine.googleapis.com/v1/projects/ee-iwansetiawan/maps/3b138198c9a16462edfd0c0a34cf56fa-65f2223873cf0f537fcf0425f7dc9594/tiles/{z}/{x}/{y}',\n",
       "  'name': 'Fcd1 1 Belaban Rayak',\n",
       "  'description': 'Forest Cover Density 1',\n",
       "  'vis_params': {'min': 0,\n",
       "   'max': 80,\n",
       "   'palette': ['ff4c16', 'ffd96c', '39a71d']}},\n",
       " 'FCD2_1_belaban_rayak': {'tile_url': 'https://earthengine.googleapis.com/v1/projects/ee-iwansetiawan/maps/70e804114cba2ac7504f552e539b7756-3f413b167b9d687daa79ab1dd73b032e/tiles/{z}/{x}/{y}',\n",
       "  'name': 'Fcd2 1 Belaban Rayak',\n",
       "  'description': 'Forest Cover Density 2',\n",
       "  'vis_params': {'min': 0,\n",
       "   'max': 80,\n",
       "   'palette': ['ff4c16', 'ffd96c', '39a71d']}}}"
      ]
     },
     "execution_count": 37,
     "metadata": {},
     "output_type": "execute_result"
    }
   ],
   "source": [
    "# NEW (Clean and Flexible):\n",
    "from osi.utils.main import generate_map_id_list, create_layer_info\n",
    "\n",
    "# Define your layers in a clean list\n",
    "layers = [\n",
    "    create_layer_info(layer_name, image_mosaick, vis_param, \"Sentinel Mosaicked Image\"),\n",
    "    create_layer_info(fcd1_1_layer_name, FCD1_1, fcd_visparams, \"Forest Cover Density 1\"),\n",
    "    create_layer_info(fcd2_1_layer_name, FCD2_1, fcd_visparams, \"Forest Cover Density 2\")\n",
    "]\n",
    "\n",
    "# Generate Map IDs\n",
    "result = generate_map_id_list(layers)\n",
    "map_layers = result['map_layers']\n",
    "map_layers"
   ]
  },
  {
   "cell_type": "code",
   "execution_count": null,
   "id": "03c17749",
   "metadata": {},
   "outputs": [],
   "source": []
  },
  {
   "cell_type": "code",
   "execution_count": null,
   "id": "4b58d4d0",
   "metadata": {},
   "outputs": [],
   "source": []
  },
  {
   "cell_type": "code",
   "execution_count": null,
   "id": "44f23f36",
   "metadata": {},
   "outputs": [],
   "source": []
  },
  {
   "cell_type": "code",
   "execution_count": null,
   "id": "7bc5a2fb",
   "metadata": {},
   "outputs": [],
   "source": []
  },
  {
   "cell_type": "code",
   "execution_count": null,
   "id": "971d3f3b",
   "metadata": {},
   "outputs": [],
   "source": []
  }
 ],
 "metadata": {
  "kernelspec": {
   "display_name": "Python 3 (ipykernel)",
   "language": "python",
   "name": "python3"
  },
  "language_info": {
   "codemirror_mode": {
    "name": "ipython",
    "version": 3
   },
   "file_extension": ".py",
   "mimetype": "text/x-python",
   "name": "python",
   "nbconvert_exporter": "python",
   "pygments_lexer": "ipython3",
   "version": "3.10.19"
  }
 },
 "nbformat": 4,
 "nbformat_minor": 5
}
