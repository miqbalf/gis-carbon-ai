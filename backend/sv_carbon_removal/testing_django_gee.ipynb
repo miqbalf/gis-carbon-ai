{
 "cells": [
  {
   "cell_type": "code",
   "execution_count": 1,
   "id": "90f11652-4792-42d1-9b1f-4a839881bb11",
   "metadata": {},
   "outputs": [],
   "source": [
    "import os\n",
    "import django\n",
    "from django.conf import settings\n",
    "\n",
    "# Set the Django settings module\n",
    "os.environ.setdefault(\"DJANGO_SETTINGS_MODULE\", \"sv_carbon_removal.settings\")\n",
    "django.setup()\n"
   ]
  },
  {
   "cell_type": "code",
   "execution_count": 2,
   "id": "f4671a89-fcbb-45d2-acd8-27e438eb51b9",
   "metadata": {},
   "outputs": [
    {
     "data": {
      "text/plain": [
       "'/home/mfirdaus/gee_mapbox/backend/sv_carbon_removal'"
      ]
     },
     "execution_count": 2,
     "metadata": {},
     "output_type": "execute_result"
    }
   ],
   "source": [
    "import ee\n",
    "import geemap\n",
    "os.getcwd()"
   ]
  },
  {
   "cell_type": "code",
   "execution_count": 3,
   "id": "b94d7d05-603d-4402-948b-99e339b22088",
   "metadata": {},
   "outputs": [
    {
     "data": {
      "text/html": [
       "\n",
       "            <style>\n",
       "                .geemap-dark {\n",
       "                    --jp-widgets-color: white;\n",
       "                    --jp-widgets-label-color: white;\n",
       "                    --jp-ui-font-color1: white;\n",
       "                    --jp-layout-color2: #454545;\n",
       "                    background-color: #383838;\n",
       "                }\n",
       "                    \n",
       "                .geemap-dark .jupyter-button {\n",
       "                    --jp-layout-color3: #383838;\n",
       "                }\n",
       "                \n",
       "                .geemap-colab {\n",
       "                    background-color: var(--colab-primary-surface-color, white);\n",
       "                }\n",
       "                    \n",
       "                .geemap-colab .jupyter-button {\n",
       "                    --jp-layout-color3: var(--colab-primary-surface-color, white);\n",
       "                }\n",
       "            </style>\n",
       "            "
      ],
      "text/plain": [
       "<IPython.core.display.HTML object>"
      ]
     },
     "metadata": {},
     "output_type": "display_data"
    }
   ],
   "source": [
    "# Trigger the authentication flow. if you want to user json, please comment this\n",
    "# ee.Authenticate()\n",
    "# # ee.Initialize(project='bukit30project')\n",
    "# ee.Initialize()\n",
    "\n",
    "# Initialize the library with json\n",
    "service_account = 'iqbalpythonapi@bukit30project.iam.gserviceaccount.com'\n",
    "credentials = ee.ServiceAccountCredentials(service_account, os.path.join(os.getcwd(),'fcd_gee/bukit30project-4d92e5b46ea7.json'))\n",
    "ee.Initialize(credentials)"
   ]
  },
  {
   "cell_type": "code",
   "execution_count": 4,
   "id": "8667301a-7ccc-4f89-af91-62f8bb11010d",
   "metadata": {},
   "outputs": [
    {
     "data": {
      "text/html": [
       "\n",
       "            <style>\n",
       "                .geemap-dark {\n",
       "                    --jp-widgets-color: white;\n",
       "                    --jp-widgets-label-color: white;\n",
       "                    --jp-ui-font-color1: white;\n",
       "                    --jp-layout-color2: #454545;\n",
       "                    background-color: #383838;\n",
       "                }\n",
       "                    \n",
       "                .geemap-dark .jupyter-button {\n",
       "                    --jp-layout-color3: #383838;\n",
       "                }\n",
       "                \n",
       "                .geemap-colab {\n",
       "                    background-color: var(--colab-primary-surface-color, white);\n",
       "                }\n",
       "                    \n",
       "                .geemap-colab .jupyter-button {\n",
       "                    --jp-layout-color3: var(--colab-primary-surface-color, white);\n",
       "                }\n",
       "            </style>\n",
       "            "
      ],
      "text/plain": [
       "<IPython.core.display.HTML object>"
      ]
     },
     "metadata": {},
     "output_type": "display_data"
    },
    {
     "name": "stdout",
     "output_type": "stream",
     "text": [
      "[{'lat': 2.662902245112879, 'lon': 31.747488743897712}, {'lat': 2.659137179189704, 'lon': 31.74820214275822}, {'lat': 2.6578180556469, 'lon': 31.749011000280912}, {'lat': 2.6596104671702805, 'lon': 31.744349156089083}, {'lat': 2.6713688702169387, 'lon': 31.74310343387578}, {'lat': 2.6628167029392897, 'lon': 31.75142743737989}, {'lat': 2.6546868011302656, 'lon': 31.747244138170608}, {'lat': 2.6513804409251995, 'lon': 31.748466062661375}, {'lat': 2.6664971055023052, 'lon': 31.751727781008523}, {'lat': 2.6424465116698377, 'lon': 31.72795793940611}, {'lat': 2.6418155037886817, 'lon': 31.726899513228012}, {'lat': 2.642489912122833, 'lon': 31.725368832567412}, {'lat': 2.645772848365457, 'lon': 31.72654320038452}]\n",
      "selecting Planet images\n",
      "selecting Planet images\n",
      "processing AVI\n",
      "processing BSI\n",
      "processing SI\n",
      "Normalizing to 100 AVI\n",
      "Normalizing to 100 AVI\n",
      "Normalizing to 100 BSI\n",
      "Normalizing to 100 SI\n",
      "Combining AVI AND BSI\n",
      "no thermal band, choosing Planet images\n",
      "Processing means center of AVI_BSI please wait\n",
      "Now we proceed to the PCA of Vegetation density\n",
      "Success get the PCA normalized of VD => SVI\n",
      "Now calculating the FCD from SVI and SSI - selecting band svi1 svi2 ssi1 and ssi2\n",
      "finish processing PCA, the result: FCD1_1 and FCD2_1 please continue\n"
     ]
    }
   ],
   "source": [
    "# actual implementation in one row\n",
    "from asgiref.sync import sync_to_async\n",
    "from fcd_gee.fcd_run import async_var_assignment, FCDCalc\n",
    "\n",
    "config = await async_var_assignment('TEST_DEMO_TREEO_delight_planet2022')\n",
    "\n",
    "classFCD = FCDCalc(config)\n",
    "fcd_calc_run = classFCD.fcd_calc()"
   ]
  },
  {
   "cell_type": "code",
   "execution_count": 5,
   "id": "522fa607-e0f0-4b9d-83bd-551e947161fc",
   "metadata": {},
   "outputs": [
    {
     "data": {
      "text/html": [
       "\n",
       "            <style>\n",
       "                .geemap-dark {\n",
       "                    --jp-widgets-color: white;\n",
       "                    --jp-widgets-label-color: white;\n",
       "                    --jp-ui-font-color1: white;\n",
       "                    --jp-layout-color2: #454545;\n",
       "                    background-color: #383838;\n",
       "                }\n",
       "                    \n",
       "                .geemap-dark .jupyter-button {\n",
       "                    --jp-layout-color3: #383838;\n",
       "                }\n",
       "                \n",
       "                .geemap-colab {\n",
       "                    background-color: var(--colab-primary-surface-color, white);\n",
       "                }\n",
       "                    \n",
       "                .geemap-colab .jupyter-button {\n",
       "                    --jp-layout-color3: var(--colab-primary-surface-color, white);\n",
       "                }\n",
       "            </style>\n",
       "            "
      ],
      "text/plain": [
       "<IPython.core.display.HTML object>"
      ]
     },
     "metadata": {},
     "output_type": "display_data"
    }
   ],
   "source": [
    "FCD2_1 = fcd_calc_run['FCD2_1']"
   ]
  },
  {
   "cell_type": "code",
   "execution_count": 6,
   "id": "5b83d1ae-6402-4ed1-86c1-8363c638587d",
   "metadata": {},
   "outputs": [
    {
     "data": {
      "text/html": [
       "\n",
       "            <style>\n",
       "                .geemap-dark {\n",
       "                    --jp-widgets-color: white;\n",
       "                    --jp-widgets-label-color: white;\n",
       "                    --jp-ui-font-color1: white;\n",
       "                    --jp-layout-color2: #454545;\n",
       "                    background-color: #383838;\n",
       "                }\n",
       "                    \n",
       "                .geemap-dark .jupyter-button {\n",
       "                    --jp-layout-color3: #383838;\n",
       "                }\n",
       "                \n",
       "                .geemap-colab {\n",
       "                    background-color: var(--colab-primary-surface-color, white);\n",
       "                }\n",
       "                    \n",
       "                .geemap-colab .jupyter-button {\n",
       "                    --jp-layout-color3: var(--colab-primary-surface-color, white);\n",
       "                }\n",
       "            </style>\n",
       "            "
      ],
      "text/plain": [
       "<IPython.core.display.HTML object>"
      ]
     },
     "metadata": {},
     "output_type": "display_data"
    }
   ],
   "source": [
    "# AOI = config['AOI']\n",
    "fcd_selected = config['fcd_selected']"
   ]
  },
  {
   "cell_type": "code",
   "execution_count": 7,
   "id": "0a8ed38f-686a-449f-b677-8f8e3dd5b9c8",
   "metadata": {},
   "outputs": [
    {
     "data": {
      "text/html": [
       "\n",
       "            <style>\n",
       "                .geemap-dark {\n",
       "                    --jp-widgets-color: white;\n",
       "                    --jp-widgets-label-color: white;\n",
       "                    --jp-ui-font-color1: white;\n",
       "                    --jp-layout-color2: #454545;\n",
       "                    background-color: #383838;\n",
       "                }\n",
       "                    \n",
       "                .geemap-dark .jupyter-button {\n",
       "                    --jp-layout-color3: #383838;\n",
       "                }\n",
       "                \n",
       "                .geemap-colab {\n",
       "                    background-color: var(--colab-primary-surface-color, white);\n",
       "                }\n",
       "                    \n",
       "                .geemap-colab .jupyter-button {\n",
       "                    --jp-layout-color3: var(--colab-primary-surface-color, white);\n",
       "                }\n",
       "            </style>\n",
       "            "
      ],
      "text/plain": [
       "<IPython.core.display.HTML object>"
      ]
     },
     "metadata": {},
     "output_type": "display_data"
    }
   ],
   "source": [
    "AOIt_shp = os.path.join('./delight_aoi_example.shp')\n",
    "\n",
    "AOIt_shp_plot = geemap.shp_to_ee(AOIt_shp)\n",
    "crs_input = 'EPSG:4326'\n",
    "\n",
    "AOI = AOIt_shp_plot"
   ]
  },
  {
   "cell_type": "code",
   "execution_count": 8,
   "id": "55dbf2de-1f65-4175-a8f4-88ddb0325250",
   "metadata": {},
   "outputs": [
    {
     "data": {
      "text/html": [
       "\n",
       "            <style>\n",
       "                .geemap-dark {\n",
       "                    --jp-widgets-color: white;\n",
       "                    --jp-widgets-label-color: white;\n",
       "                    --jp-ui-font-color1: white;\n",
       "                    --jp-layout-color2: #454545;\n",
       "                    background-color: #383838;\n",
       "                }\n",
       "                    \n",
       "                .geemap-dark .jupyter-button {\n",
       "                    --jp-layout-color3: #383838;\n",
       "                }\n",
       "                \n",
       "                .geemap-colab {\n",
       "                    background-color: var(--colab-primary-surface-color, white);\n",
       "                }\n",
       "                    \n",
       "                .geemap-colab .jupyter-button {\n",
       "                    --jp-layout-color3: var(--colab-primary-surface-color, white);\n",
       "                }\n",
       "            </style>\n",
       "            "
      ],
      "text/plain": [
       "<IPython.core.display.HTML object>"
      ]
     },
     "metadata": {},
     "output_type": "display_data"
    }
   ],
   "source": [
    "OID = 'id'\n",
    "AOI_img = AOI.filter(ee.Filter.notNull([OID])).reduceToImage(\n",
    "            properties= [OID],\n",
    "            reducer= ee.Reducer.first()\n",
    "        )"
   ]
  },
  {
   "cell_type": "code",
   "execution_count": 9,
   "id": "08ba3cef-dd62-4f3c-901c-f8f128117836",
   "metadata": {},
   "outputs": [
    {
     "data": {
      "text/html": [
       "\n",
       "            <style>\n",
       "                .geemap-dark {\n",
       "                    --jp-widgets-color: white;\n",
       "                    --jp-widgets-label-color: white;\n",
       "                    --jp-ui-font-color1: white;\n",
       "                    --jp-layout-color2: #454545;\n",
       "                    background-color: #383838;\n",
       "                }\n",
       "                    \n",
       "                .geemap-dark .jupyter-button {\n",
       "                    --jp-layout-color3: #383838;\n",
       "                }\n",
       "                \n",
       "                .geemap-colab {\n",
       "                    background-color: var(--colab-primary-surface-color, white);\n",
       "                }\n",
       "                    \n",
       "                .geemap-colab .jupyter-button {\n",
       "                    --jp-layout-color3: var(--colab-primary-surface-color, white);\n",
       "                }\n",
       "            </style>\n",
       "            "
      ],
      "text/plain": [
       "<IPython.core.display.HTML object>"
      ]
     },
     "metadata": {},
     "output_type": "display_data"
    }
   ],
   "source": [
    "# AOI.getInfo()"
   ]
  },
  {
   "cell_type": "code",
   "execution_count": 10,
   "id": "9f9c71fd-13ea-4e59-9d5a-17d899e3b214",
   "metadata": {},
   "outputs": [
    {
     "data": {
      "text/html": [
       "\n",
       "            <style>\n",
       "                .geemap-dark {\n",
       "                    --jp-widgets-color: white;\n",
       "                    --jp-widgets-label-color: white;\n",
       "                    --jp-ui-font-color1: white;\n",
       "                    --jp-layout-color2: #454545;\n",
       "                    background-color: #383838;\n",
       "                }\n",
       "                    \n",
       "                .geemap-dark .jupyter-button {\n",
       "                    --jp-layout-color3: #383838;\n",
       "                }\n",
       "                \n",
       "                .geemap-colab {\n",
       "                    background-color: var(--colab-primary-surface-color, white);\n",
       "                }\n",
       "                    \n",
       "                .geemap-colab .jupyter-button {\n",
       "                    --jp-layout-color3: var(--colab-primary-surface-color, white);\n",
       "                }\n",
       "            </style>\n",
       "            "
      ],
      "text/plain": [
       "<IPython.core.display.HTML object>"
      ]
     },
     "metadata": {},
     "output_type": "display_data"
    },
    {
     "name": "stdout",
     "output_type": "stream",
     "text": [
      "21\n"
     ]
    }
   ],
   "source": [
    "print(fcd_selected)"
   ]
  },
  {
   "cell_type": "code",
   "execution_count": 11,
   "id": "62333080-9eb6-4335-99cf-240f946923a3",
   "metadata": {},
   "outputs": [
    {
     "data": {
      "text/html": [
       "\n",
       "            <style>\n",
       "                .geemap-dark {\n",
       "                    --jp-widgets-color: white;\n",
       "                    --jp-widgets-label-color: white;\n",
       "                    --jp-ui-font-color1: white;\n",
       "                    --jp-layout-color2: #454545;\n",
       "                    background-color: #383838;\n",
       "                }\n",
       "                    \n",
       "                .geemap-dark .jupyter-button {\n",
       "                    --jp-layout-color3: #383838;\n",
       "                }\n",
       "                \n",
       "                .geemap-colab {\n",
       "                    background-color: var(--colab-primary-surface-color, white);\n",
       "                }\n",
       "                    \n",
       "                .geemap-colab .jupyter-button {\n",
       "                    --jp-layout-color3: var(--colab-primary-surface-color, white);\n",
       "                }\n",
       "            </style>\n",
       "            "
      ],
      "text/plain": [
       "<IPython.core.display.HTML object>"
      ]
     },
     "metadata": {},
     "output_type": "display_data"
    }
   ],
   "source": [
    "# initialize Map object\n",
    "Map = geemap.Map(center=(-3, 115), zoom=4)\n",
    "Map.centerObject(AOI, 10)\n",
    "\n",
    "Map.addLayer(FCD2_1,{'min':0 ,'max':80, 'palette':['ff4c16', 'ffd96c', '39a71d']},'FCD_SELECTED')\n",
    "# Map.addLayer(AOI_img)"
   ]
  },
  {
   "cell_type": "code",
   "execution_count": 12,
   "id": "f8c6afc5-647a-4cd4-a034-f73fc7304110",
   "metadata": {},
   "outputs": [
    {
     "data": {
      "text/html": [
       "\n",
       "            <style>\n",
       "                .geemap-dark {\n",
       "                    --jp-widgets-color: white;\n",
       "                    --jp-widgets-label-color: white;\n",
       "                    --jp-ui-font-color1: white;\n",
       "                    --jp-layout-color2: #454545;\n",
       "                    background-color: #383838;\n",
       "                }\n",
       "                    \n",
       "                .geemap-dark .jupyter-button {\n",
       "                    --jp-layout-color3: #383838;\n",
       "                }\n",
       "                \n",
       "                .geemap-colab {\n",
       "                    background-color: var(--colab-primary-surface-color, white);\n",
       "                }\n",
       "                    \n",
       "                .geemap-colab .jupyter-button {\n",
       "                    --jp-layout-color3: var(--colab-primary-surface-color, white);\n",
       "                }\n",
       "            </style>\n",
       "            "
      ],
      "text/plain": [
       "<IPython.core.display.HTML object>"
      ]
     },
     "metadata": {},
     "output_type": "display_data"
    }
   ],
   "source": [
    "from gee_lib.osi.hansen.historical_loss import HansenHistorical"
   ]
  },
  {
   "cell_type": "code",
   "execution_count": 13,
   "id": "7044288a-f398-458f-a3da-b9e5f69396f5",
   "metadata": {},
   "outputs": [
    {
     "data": {
      "text/html": [
       "\n",
       "            <style>\n",
       "                .geemap-dark {\n",
       "                    --jp-widgets-color: white;\n",
       "                    --jp-widgets-label-color: white;\n",
       "                    --jp-ui-font-color1: white;\n",
       "                    --jp-layout-color2: #454545;\n",
       "                    background-color: #383838;\n",
       "                }\n",
       "                    \n",
       "                .geemap-dark .jupyter-button {\n",
       "                    --jp-layout-color3: #383838;\n",
       "                }\n",
       "                \n",
       "                .geemap-colab {\n",
       "                    background-color: var(--colab-primary-surface-color, white);\n",
       "                }\n",
       "                    \n",
       "                .geemap-colab .jupyter-button {\n",
       "                    --jp-layout-color3: var(--colab-primary-surface-color, white);\n",
       "                }\n",
       "            </style>\n",
       "            "
      ],
      "text/plain": [
       "<IPython.core.display.HTML object>"
      ]
     },
     "metadata": {},
     "output_type": "display_data"
    }
   ],
   "source": [
    "hansen_class = HansenHistorical(config)\n",
    "tcl = hansen_class.initiate_tcl()\n",
    "gfc = tcl['gfc']"
   ]
  },
  {
   "cell_type": "code",
   "execution_count": 14,
   "id": "67df8b28-e67a-4391-8053-d987fb6a10d1",
   "metadata": {},
   "outputs": [
    {
     "data": {
      "text/html": [
       "\n",
       "            <style>\n",
       "                .geemap-dark {\n",
       "                    --jp-widgets-color: white;\n",
       "                    --jp-widgets-label-color: white;\n",
       "                    --jp-ui-font-color1: white;\n",
       "                    --jp-layout-color2: #454545;\n",
       "                    background-color: #383838;\n",
       "                }\n",
       "                    \n",
       "                .geemap-dark .jupyter-button {\n",
       "                    --jp-layout-color3: #383838;\n",
       "                }\n",
       "                \n",
       "                .geemap-colab {\n",
       "                    background-color: var(--colab-primary-surface-color, white);\n",
       "                }\n",
       "                    \n",
       "                .geemap-colab .jupyter-button {\n",
       "                    --jp-layout-color3: var(--colab-primary-surface-color, white);\n",
       "                }\n",
       "            </style>\n",
       "            "
      ],
      "text/plain": [
       "<IPython.core.display.HTML object>"
      ]
     },
     "metadata": {},
     "output_type": "display_data"
    }
   ],
   "source": [
    "minLoss = tcl['minLoss']\n",
    "Map.addLayer(minLoss.clip(AOI),{\n",
    "            'palette': ['#ff0000']\n",
    "        }, f'tree cover >30% loss since 20{config[\"year_start_loss\"]}', True)"
   ]
  },
  {
   "cell_type": "code",
   "execution_count": 15,
   "id": "65f70c30-dd97-4e60-93d4-adbb7ff43a1d",
   "metadata": {},
   "outputs": [
    {
     "data": {
      "text/html": [
       "\n",
       "            <style>\n",
       "                .geemap-dark {\n",
       "                    --jp-widgets-color: white;\n",
       "                    --jp-widgets-label-color: white;\n",
       "                    --jp-ui-font-color1: white;\n",
       "                    --jp-layout-color2: #454545;\n",
       "                    background-color: #383838;\n",
       "                }\n",
       "                    \n",
       "                .geemap-dark .jupyter-button {\n",
       "                    --jp-layout-color3: #383838;\n",
       "                }\n",
       "                \n",
       "                .geemap-colab {\n",
       "                    background-color: var(--colab-primary-surface-color, white);\n",
       "                }\n",
       "                    \n",
       "                .geemap-colab .jupyter-button {\n",
       "                    --jp-layout-color3: var(--colab-primary-surface-color, white);\n",
       "                }\n",
       "            </style>\n",
       "            "
      ],
      "text/plain": [
       "<IPython.core.display.HTML object>"
      ]
     },
     "metadata": {},
     "output_type": "display_data"
    }
   ],
   "source": [
    "from gee_lib.osi.classifying.assign_zone import AssignClassZone"
   ]
  },
  {
   "cell_type": "code",
   "execution_count": 16,
   "id": "9e52a08f-83fa-4b04-afac-dee771faeab4",
   "metadata": {},
   "outputs": [
    {
     "data": {
      "text/html": [
       "\n",
       "            <style>\n",
       "                .geemap-dark {\n",
       "                    --jp-widgets-color: white;\n",
       "                    --jp-widgets-label-color: white;\n",
       "                    --jp-ui-font-color1: white;\n",
       "                    --jp-layout-color2: #454545;\n",
       "                    background-color: #383838;\n",
       "                }\n",
       "                    \n",
       "                .geemap-dark .jupyter-button {\n",
       "                    --jp-layout-color3: #383838;\n",
       "                }\n",
       "                \n",
       "                .geemap-colab {\n",
       "                    background-color: var(--colab-primary-surface-color, white);\n",
       "                }\n",
       "                    \n",
       "                .geemap-colab .jupyter-button {\n",
       "                    --jp-layout-color3: var(--colab-primary-surface-color, white);\n",
       "                }\n",
       "            </style>\n",
       "            "
      ],
      "text/plain": [
       "<IPython.core.display.HTML object>"
      ]
     },
     "metadata": {},
     "output_type": "display_data"
    },
    {
     "name": "stdout",
     "output_type": "stream",
     "text": [
      "Adding the map of Forest, FCD >= 45% and mask only if not water in area (hansen) and NDWI\n",
      "Adding the map of Shrubland, FCD <  45% and FCD >= 25%\n",
      "Adding the map of Grassland or Openland, FCD  < 25%\n",
      "Processing - the zoning classification\n",
      "finish processing, merging all the zone into one image\n"
     ]
    }
   ],
   "source": [
    "assignClass = AssignClassZone(config, FCD2_1 = fcd_calc_run['FCD2_1'], FCD1_1=fcd_calc_run['FCD1_1'],\n",
    "                                      FCD1_2=fcd_calc_run['FCD1_2'],FCD2_2=fcd_calc_run['FCD2_2'])\n",
    "class_fcd = assignClass.assigning_fcd_class(gfc, minLoss)"
   ]
  },
  {
   "cell_type": "code",
   "execution_count": 17,
   "id": "9aec23de-28e8-41f6-b63d-a43109022004",
   "metadata": {},
   "outputs": [
    {
     "data": {
      "text/html": [
       "\n",
       "            <style>\n",
       "                .geemap-dark {\n",
       "                    --jp-widgets-color: white;\n",
       "                    --jp-widgets-label-color: white;\n",
       "                    --jp-ui-font-color1: white;\n",
       "                    --jp-layout-color2: #454545;\n",
       "                    background-color: #383838;\n",
       "                }\n",
       "                    \n",
       "                .geemap-dark .jupyter-button {\n",
       "                    --jp-layout-color3: #383838;\n",
       "                }\n",
       "                \n",
       "                .geemap-colab {\n",
       "                    background-color: var(--colab-primary-surface-color, white);\n",
       "                }\n",
       "                    \n",
       "                .geemap-colab .jupyter-button {\n",
       "                    --jp-layout-color3: var(--colab-primary-surface-color, white);\n",
       "                }\n",
       "            </style>\n",
       "            "
      ],
      "text/plain": [
       "<IPython.core.display.HTML object>"
      ]
     },
     "metadata": {},
     "output_type": "display_data"
    }
   ],
   "source": [
    "all_zone = class_fcd['all_zone']\n",
    "vis_params = class_fcd['vis_param_merged']"
   ]
  },
  {
   "cell_type": "code",
   "execution_count": 18,
   "id": "97d01008-122e-42ae-bf92-cfa4e7d09054",
   "metadata": {},
   "outputs": [
    {
     "data": {
      "text/html": [
       "\n",
       "            <style>\n",
       "                .geemap-dark {\n",
       "                    --jp-widgets-color: white;\n",
       "                    --jp-widgets-label-color: white;\n",
       "                    --jp-ui-font-color1: white;\n",
       "                    --jp-layout-color2: #454545;\n",
       "                    background-color: #383838;\n",
       "                }\n",
       "                    \n",
       "                .geemap-dark .jupyter-button {\n",
       "                    --jp-layout-color3: #383838;\n",
       "                }\n",
       "                \n",
       "                .geemap-colab {\n",
       "                    background-color: var(--colab-primary-surface-color, white);\n",
       "                }\n",
       "                    \n",
       "                .geemap-colab .jupyter-button {\n",
       "                    --jp-layout-color3: var(--colab-primary-surface-color, white);\n",
       "                }\n",
       "            </style>\n",
       "            "
      ],
      "text/plain": [
       "<IPython.core.display.HTML object>"
      ]
     },
     "metadata": {},
     "output_type": "display_data"
    }
   ],
   "source": [
    "# image_list = [\n",
    "#             grassland_gozone, #1\n",
    "#             shrubland_gozone, #2\n",
    "#             No_pass_historical_years_rule, #3\n",
    "#             yrf_forest_dense_10yrs, #4\n",
    "#             high_forest_dense_10yrs, #5\n",
    "#             yrf_forest_dense_no10yrs, #6\n",
    "#             high_forest_dense_no10yrs, #7\n",
    "#             Water_Un_plantable #8\n",
    "#         ]\n",
    "\n",
    "\n",
    "\n",
    "Map.addLayer(all_zone,vis_params,'all_zone')"
   ]
  },
  {
   "cell_type": "code",
   "execution_count": 19,
   "id": "b5561882-011b-4b59-9cd9-f09fb5cabe3d",
   "metadata": {},
   "outputs": [
    {
     "data": {
      "text/html": [
       "\n",
       "            <style>\n",
       "                .geemap-dark {\n",
       "                    --jp-widgets-color: white;\n",
       "                    --jp-widgets-label-color: white;\n",
       "                    --jp-ui-font-color1: white;\n",
       "                    --jp-layout-color2: #454545;\n",
       "                    background-color: #383838;\n",
       "                }\n",
       "                    \n",
       "                .geemap-dark .jupyter-button {\n",
       "                    --jp-layout-color3: #383838;\n",
       "                }\n",
       "                \n",
       "                .geemap-colab {\n",
       "                    background-color: var(--colab-primary-surface-color, white);\n",
       "                }\n",
       "                    \n",
       "                .geemap-colab .jupyter-button {\n",
       "                    --jp-layout-color3: var(--colab-primary-surface-color, white);\n",
       "                }\n",
       "            </style>\n",
       "            "
      ],
      "text/plain": [
       "<IPython.core.display.HTML object>"
      ]
     },
     "metadata": {},
     "output_type": "display_data"
    }
   ],
   "source": [
    "# AOI.getInfo()"
   ]
  },
  {
   "cell_type": "code",
   "execution_count": 20,
   "id": "87eae60b-4ea3-4287-b180-4698c0beb712",
   "metadata": {},
   "outputs": [
    {
     "data": {
      "text/html": [
       "\n",
       "            <style>\n",
       "                .geemap-dark {\n",
       "                    --jp-widgets-color: white;\n",
       "                    --jp-widgets-label-color: white;\n",
       "                    --jp-ui-font-color1: white;\n",
       "                    --jp-layout-color2: #454545;\n",
       "                    background-color: #383838;\n",
       "                }\n",
       "                    \n",
       "                .geemap-dark .jupyter-button {\n",
       "                    --jp-layout-color3: #383838;\n",
       "                }\n",
       "                \n",
       "                .geemap-colab {\n",
       "                    background-color: var(--colab-primary-surface-color, white);\n",
       "                }\n",
       "                    \n",
       "                .geemap-colab .jupyter-button {\n",
       "                    --jp-layout-color3: var(--colab-primary-surface-color, white);\n",
       "                }\n",
       "            </style>\n",
       "            "
      ],
      "text/plain": [
       "<IPython.core.display.HTML object>"
      ]
     },
     "metadata": {},
     "output_type": "display_data"
    }
   ],
   "source": [
    "# AOI_client = AOI.getInfo()"
   ]
  },
  {
   "cell_type": "code",
   "execution_count": 21,
   "id": "22426ee1-9525-4442-a73b-ac882ef59f3a",
   "metadata": {},
   "outputs": [
    {
     "data": {
      "text/html": [
       "\n",
       "            <style>\n",
       "                .geemap-dark {\n",
       "                    --jp-widgets-color: white;\n",
       "                    --jp-widgets-label-color: white;\n",
       "                    --jp-ui-font-color1: white;\n",
       "                    --jp-layout-color2: #454545;\n",
       "                    background-color: #383838;\n",
       "                }\n",
       "                    \n",
       "                .geemap-dark .jupyter-button {\n",
       "                    --jp-layout-color3: #383838;\n",
       "                }\n",
       "                \n",
       "                .geemap-colab {\n",
       "                    background-color: var(--colab-primary-surface-color, white);\n",
       "                }\n",
       "                    \n",
       "                .geemap-colab .jupyter-button {\n",
       "                    --jp-layout-color3: var(--colab-primary-surface-color, white);\n",
       "                }\n",
       "            </style>\n",
       "            "
      ],
      "text/plain": [
       "<IPython.core.display.HTML object>"
      ]
     },
     "metadata": {},
     "output_type": "display_data"
    }
   ],
   "source": [
    "# type(AOI_client['features'])"
   ]
  },
  {
   "cell_type": "code",
   "execution_count": 22,
   "id": "bc427572-d6ce-4929-9924-abe486d59b19",
   "metadata": {},
   "outputs": [
    {
     "data": {
      "text/html": [
       "\n",
       "            <style>\n",
       "                .geemap-dark {\n",
       "                    --jp-widgets-color: white;\n",
       "                    --jp-widgets-label-color: white;\n",
       "                    --jp-ui-font-color1: white;\n",
       "                    --jp-layout-color2: #454545;\n",
       "                    background-color: #383838;\n",
       "                }\n",
       "                    \n",
       "                .geemap-dark .jupyter-button {\n",
       "                    --jp-layout-color3: #383838;\n",
       "                }\n",
       "                \n",
       "                .geemap-colab {\n",
       "                    background-color: var(--colab-primary-surface-color, white);\n",
       "                }\n",
       "                    \n",
       "                .geemap-colab .jupyter-button {\n",
       "                    --jp-layout-color3: var(--colab-primary-surface-color, white);\n",
       "                }\n",
       "            </style>\n",
       "            "
      ],
      "text/plain": [
       "<IPython.core.display.HTML object>"
      ]
     },
     "metadata": {},
     "output_type": "display_data"
    }
   ],
   "source": [
    "# for i in AOI_client['features']:\n",
    "#     print(i['properties']['id'])\n",
    "#     print(i['geometry'])"
   ]
  },
  {
   "cell_type": "code",
   "execution_count": 23,
   "id": "cbecdfee-ff92-4b7f-b578-d54431ca4ca0",
   "metadata": {},
   "outputs": [
    {
     "data": {
      "text/html": [
       "\n",
       "            <style>\n",
       "                .geemap-dark {\n",
       "                    --jp-widgets-color: white;\n",
       "                    --jp-widgets-label-color: white;\n",
       "                    --jp-ui-font-color1: white;\n",
       "                    --jp-layout-color2: #454545;\n",
       "                    background-color: #383838;\n",
       "                }\n",
       "                    \n",
       "                .geemap-dark .jupyter-button {\n",
       "                    --jp-layout-color3: #383838;\n",
       "                }\n",
       "                \n",
       "                .geemap-colab {\n",
       "                    background-color: var(--colab-primary-surface-color, white);\n",
       "                }\n",
       "                    \n",
       "                .geemap-colab .jupyter-button {\n",
       "                    --jp-layout-color3: var(--colab-primary-surface-color, white);\n",
       "                }\n",
       "            </style>\n",
       "            "
      ],
      "text/plain": [
       "<IPython.core.display.HTML object>"
      ]
     },
     "metadata": {},
     "output_type": "display_data"
    }
   ],
   "source": [
    "# geometry_sample = [i['geometry'] for i in AOI_client['features'] if i['properties']['id']==3780][0]"
   ]
  },
  {
   "cell_type": "code",
   "execution_count": 24,
   "id": "dcae2253-5e67-4663-800a-3cfc445b45eb",
   "metadata": {},
   "outputs": [
    {
     "data": {
      "text/html": [
       "\n",
       "            <style>\n",
       "                .geemap-dark {\n",
       "                    --jp-widgets-color: white;\n",
       "                    --jp-widgets-label-color: white;\n",
       "                    --jp-ui-font-color1: white;\n",
       "                    --jp-layout-color2: #454545;\n",
       "                    background-color: #383838;\n",
       "                }\n",
       "                    \n",
       "                .geemap-dark .jupyter-button {\n",
       "                    --jp-layout-color3: #383838;\n",
       "                }\n",
       "                \n",
       "                .geemap-colab {\n",
       "                    background-color: var(--colab-primary-surface-color, white);\n",
       "                }\n",
       "                    \n",
       "                .geemap-colab .jupyter-button {\n",
       "                    --jp-layout-color3: var(--colab-primary-surface-color, white);\n",
       "                }\n",
       "            </style>\n",
       "            "
      ],
      "text/plain": [
       "<IPython.core.display.HTML object>"
      ]
     },
     "metadata": {},
     "output_type": "display_data"
    }
   ],
   "source": [
    "# print(dict_id_zone)"
   ]
  },
  {
   "cell_type": "code",
   "execution_count": 25,
   "id": "4b258f45-442d-45ac-9ca0-9d27a000913f",
   "metadata": {},
   "outputs": [
    {
     "data": {
      "text/html": [
       "\n",
       "            <style>\n",
       "                .geemap-dark {\n",
       "                    --jp-widgets-color: white;\n",
       "                    --jp-widgets-label-color: white;\n",
       "                    --jp-ui-font-color1: white;\n",
       "                    --jp-layout-color2: #454545;\n",
       "                    background-color: #383838;\n",
       "                }\n",
       "                    \n",
       "                .geemap-dark .jupyter-button {\n",
       "                    --jp-layout-color3: #383838;\n",
       "                }\n",
       "                \n",
       "                .geemap-colab {\n",
       "                    background-color: var(--colab-primary-surface-color, white);\n",
       "                }\n",
       "                    \n",
       "                .geemap-colab .jupyter-button {\n",
       "                    --jp-layout-color3: var(--colab-primary-surface-color, white);\n",
       "                }\n",
       "            </style>\n",
       "            "
      ],
      "text/plain": [
       "<IPython.core.display.HTML object>"
      ]
     },
     "metadata": {},
     "output_type": "display_data"
    }
   ],
   "source": [
    "# list_dict_zone_id"
   ]
  },
  {
   "cell_type": "code",
   "execution_count": 26,
   "id": "be2e36c4-ff32-4f03-8c10-1fa34120a8b8",
   "metadata": {},
   "outputs": [
    {
     "data": {
      "text/html": [
       "\n",
       "            <style>\n",
       "                .geemap-dark {\n",
       "                    --jp-widgets-color: white;\n",
       "                    --jp-widgets-label-color: white;\n",
       "                    --jp-ui-font-color1: white;\n",
       "                    --jp-layout-color2: #454545;\n",
       "                    background-color: #383838;\n",
       "                }\n",
       "                    \n",
       "                .geemap-dark .jupyter-button {\n",
       "                    --jp-layout-color3: #383838;\n",
       "                }\n",
       "                \n",
       "                .geemap-colab {\n",
       "                    background-color: var(--colab-primary-surface-color, white);\n",
       "                }\n",
       "                    \n",
       "                .geemap-colab .jupyter-button {\n",
       "                    --jp-layout-color3: var(--colab-primary-surface-color, white);\n",
       "                }\n",
       "            </style>\n",
       "            "
      ],
      "text/plain": [
       "<IPython.core.display.HTML object>"
      ]
     },
     "metadata": {},
     "output_type": "display_data"
    }
   ],
   "source": [
    "# print(list_id)"
   ]
  },
  {
   "cell_type": "code",
   "execution_count": 27,
   "id": "16573fbf-71b4-4ecc-87bb-43c9742070c6",
   "metadata": {},
   "outputs": [
    {
     "data": {
      "text/html": [
       "\n",
       "            <style>\n",
       "                .geemap-dark {\n",
       "                    --jp-widgets-color: white;\n",
       "                    --jp-widgets-label-color: white;\n",
       "                    --jp-ui-font-color1: white;\n",
       "                    --jp-layout-color2: #454545;\n",
       "                    background-color: #383838;\n",
       "                }\n",
       "                    \n",
       "                .geemap-dark .jupyter-button {\n",
       "                    --jp-layout-color3: #383838;\n",
       "                }\n",
       "                \n",
       "                .geemap-colab {\n",
       "                    background-color: var(--colab-primary-surface-color, white);\n",
       "                }\n",
       "                    \n",
       "                .geemap-colab .jupyter-button {\n",
       "                    --jp-layout-color3: var(--colab-primary-surface-color, white);\n",
       "                }\n",
       "            </style>\n",
       "            "
      ],
      "text/plain": [
       "<IPython.core.display.HTML object>"
      ]
     },
     "metadata": {},
     "output_type": "display_data"
    }
   ],
   "source": [
    "# Map.addLayer(masked)"
   ]
  },
  {
   "cell_type": "code",
   "execution_count": 28,
   "id": "e39c7265-de64-4433-85be-4a879426948d",
   "metadata": {},
   "outputs": [
    {
     "data": {
      "text/html": [
       "\n",
       "            <style>\n",
       "                .geemap-dark {\n",
       "                    --jp-widgets-color: white;\n",
       "                    --jp-widgets-label-color: white;\n",
       "                    --jp-ui-font-color1: white;\n",
       "                    --jp-layout-color2: #454545;\n",
       "                    background-color: #383838;\n",
       "                }\n",
       "                    \n",
       "                .geemap-dark .jupyter-button {\n",
       "                    --jp-layout-color3: #383838;\n",
       "                }\n",
       "                \n",
       "                .geemap-colab {\n",
       "                    background-color: var(--colab-primary-surface-color, white);\n",
       "                }\n",
       "                    \n",
       "                .geemap-colab .jupyter-button {\n",
       "                    --jp-layout-color3: var(--colab-primary-surface-color, white);\n",
       "                }\n",
       "            </style>\n",
       "            "
      ],
      "text/plain": [
       "<IPython.core.display.HTML object>"
      ]
     },
     "metadata": {},
     "output_type": "display_data"
    }
   ],
   "source": [
    "from gee_lib.osi.area_calc.main import CalcAreaClass"
   ]
  },
  {
   "cell_type": "code",
   "execution_count": 29,
   "id": "cdfa619e-c407-4592-8cb5-92b011f5d513",
   "metadata": {},
   "outputs": [
    {
     "data": {
      "text/html": [
       "\n",
       "            <style>\n",
       "                .geemap-dark {\n",
       "                    --jp-widgets-color: white;\n",
       "                    --jp-widgets-label-color: white;\n",
       "                    --jp-ui-font-color1: white;\n",
       "                    --jp-layout-color2: #454545;\n",
       "                    background-color: #383838;\n",
       "                }\n",
       "                    \n",
       "                .geemap-dark .jupyter-button {\n",
       "                    --jp-layout-color3: #383838;\n",
       "                }\n",
       "                \n",
       "                .geemap-colab {\n",
       "                    background-color: var(--colab-primary-surface-color, white);\n",
       "                }\n",
       "                    \n",
       "                .geemap-colab .jupyter-button {\n",
       "                    --jp-layout-color3: var(--colab-primary-surface-color, white);\n",
       "                }\n",
       "            </style>\n",
       "            "
      ],
      "text/plain": [
       "<IPython.core.display.HTML object>"
      ]
     },
     "metadata": {},
     "output_type": "display_data"
    },
    {
     "name": "stdout",
     "output_type": "stream",
     "text": [
      " executed in 9.03 seconds.\n",
      "{3779: {'1': 2.72, '2': 4.28, '3': 0, '4': 0, '5': 0, '6': 4.19, '7': 0.71, '8': 0}, 3780: {'1': 1.61, '2': 5.95, '3': 0, '4': 0, '5': 0, '6': 5.08, '7': 0, '8': 0}, 3782: {'1': 0.17, '2': 2.32, '3': 0, '4': 0, '5': 0, '6': 4.85, '7': 0.5, '8': 0}, 3783: {'1': 0.66, '2': 2.79, '3': 0, '4': 0, '5': 0, '6': 5.84, '7': 0.65, '8': 0}, 3800: {'1': 0.5, '2': 2.66, '3': 0, '4': 0, '5': 0, '6': 7.49, '7': 1.83, '8': 0}, 3373: {'1': 0.23, '2': 3.93, '3': 0, '4': 0, '5': 0, '6': 2.75, '7': 0.67, '8': 0}, 3376: {'1': 0.0, '2': 3.57, '3': 0, '4': 0, '5': 0, '6': 4.8, '7': 0, '8': 0}, 3377: {'1': 1.45, '2': 6.16, '3': 0, '4': 0, '5': 0, '6': 2.56, '7': 0.1, '8': 0}, 3392: {'1': 0.45, '2': 1.64, '3': 0, '4': 0, '5': 0, '6': 5.32, '7': 0.21, '8': 0}, 3384: {'1': 0.04, '2': 1.26, '3': 0, '4': 0, '5': 0, '6': 7.01, '7': 0.6, '8': 0}, 3386: {'1': 0, '2': 1.49, '3': 0, '4': 0, '5': 0, '6': 7.99, '7': 0.12, '8': 0}, 3387: {'1': 0.01, '2': 0.39, '3': 0, '4': 0, '5': 0, '6': 7.79, '7': 2.43, '8': 0}, 3388: {'1': 0.1, '2': 0.71, '3': 0, '4': 0, '5': 0, '6': 8.65, '7': 1.1, '8': 0}}\n"
     ]
    }
   ],
   "source": [
    "class_calc_area = CalcAreaClass(config, calc_image=all_zone)\n",
    "run_calc = class_calc_area.run_calc_per_id()"
   ]
  },
  {
   "cell_type": "code",
   "execution_count": null,
   "id": "6ecb95a2-93f3-48bc-a295-61c52fbd02b6",
   "metadata": {},
   "outputs": [],
   "source": []
  },
  {
   "cell_type": "code",
   "execution_count": null,
   "id": "ec912f17-9618-4aff-8f3f-febb038e9c03",
   "metadata": {},
   "outputs": [],
   "source": []
  },
  {
   "cell_type": "code",
   "execution_count": null,
   "id": "38756be0-6891-4db4-b002-9f0d9d2d1e32",
   "metadata": {},
   "outputs": [],
   "source": []
  },
  {
   "cell_type": "code",
   "execution_count": null,
   "id": "537f9301-1f6e-432d-9eb2-82638c00be2c",
   "metadata": {},
   "outputs": [],
   "source": []
  },
  {
   "cell_type": "code",
   "execution_count": null,
   "id": "4ce148e2-6beb-4a65-b289-40a88590ac28",
   "metadata": {},
   "outputs": [],
   "source": []
  },
  {
   "cell_type": "code",
   "execution_count": null,
   "id": "66d46545-ef5d-4b87-9a1b-544b4ee739f4",
   "metadata": {},
   "outputs": [],
   "source": []
  },
  {
   "cell_type": "code",
   "execution_count": null,
   "id": "f081011b-c497-40aa-8394-4e4b94468d02",
   "metadata": {},
   "outputs": [],
   "source": []
  },
  {
   "cell_type": "code",
   "execution_count": null,
   "id": "641a17da-e371-4538-8afc-c0991d8fc742",
   "metadata": {},
   "outputs": [],
   "source": []
  },
  {
   "cell_type": "code",
   "execution_count": null,
   "id": "2662dfeb-2c00-414f-a3b7-99008e99a2b7",
   "metadata": {},
   "outputs": [],
   "source": []
  },
  {
   "cell_type": "code",
   "execution_count": null,
   "id": "8569fe27-320b-4633-9592-4d9c327538a5",
   "metadata": {},
   "outputs": [],
   "source": [
    "# type(AOI)"
   ]
  },
  {
   "cell_type": "code",
   "execution_count": null,
   "id": "facd8f33-1598-41f6-b73a-72ca9aa88573",
   "metadata": {},
   "outputs": [],
   "source": [
    "# from gee_lib.osi.spectral_indices.utils import assigning_band\n",
    "# import time\n",
    "\n",
    "# class CalcAreaClass:\n",
    "#     def __init__(self, config, calc_image=None):\n",
    "#         self.config = config\n",
    "#         self.AOI = config['AOI']\n",
    "#         scale = None\n",
    "#         if config['I_satellite'] == 'Sentinel':\n",
    "#             scale = 10\n",
    "#         elif config['I_satellite'] == 'Landsat':\n",
    "#             scale = 30\n",
    "#         elif config['I_satellite'] == 'Planet':\n",
    "#             scale = 5\n",
    "#         self.scale = scale\n",
    "#         self.AOI_client = self.AOI.getInfo()\n",
    "\n",
    "#         self.list_id = [i['properties']['id'] for i in self.AOI_client['features']]\n",
    "\n",
    "#         self.calc_image = calc_image\n",
    "#         self.calc_pix = ee.Image(assigning_band('pix',1,self.calc_image))\n",
    "#         # print(list_id)\n",
    "        \n",
    "#         self.list_geom = [i['geometry'] for i in self.AOI_client['features']]\n",
    "#         # print(list_geom)\n",
    "        \n",
    "#         self.class_list = ['1','2','3','4','5','6','7','8']\n",
    "#         # print(class_list)\n",
    "    \n",
    "#     # Define calc_area\n",
    "#     def calc_area_zone(self, class_zone, feature):\n",
    "#         geometry = feature.geometry()\n",
    "#         feature_id = feature.get('id')  # hard-coded the field name here is still 'id'\n",
    "#         # geometry = feature\n",
    "#         class_mask = self.calc_image.select('Class').eq(ee.Number.parse(class_zone))\n",
    "        \n",
    "#         masked_imaged = self.calc_pix.select('pix').mask(class_mask)\n",
    "    \n",
    "#         zone_area_image = masked_imaged.multiply(ee.Image.pixelArea()).divide(10000)\n",
    "        \n",
    "#         class_pixel_count = zone_area_image.reduceRegion(\n",
    "#             reducer=ee.Reducer.sum(),\n",
    "#             geometry=geometry,\n",
    "#             scale=self.scale\n",
    "#         ).get('pix')\n",
    "    \n",
    "#         result = ee.Feature(geometry, {class_zone: class_pixel_count, 'feature_id': feature_id})\n",
    "#         # result = {class_zone: class_pixel_count.getInfo()}\n",
    "#         # result = ee.Feature({class_zone: class_pixel_count})\n",
    "#         return result\n",
    "\n",
    "#     def calc_all_zone(self):\n",
    "\n",
    "#         s = time.perf_counter()\n",
    "#         # Convert your AOI to an Earth Engine FeatureCollection\n",
    "#         # aoi_fc = ee.FeatureCollection(AOI_client['features'])\n",
    "#         aoi_fc = self.AOI\n",
    "        \n",
    "#         # geom_list_ee = ee.List(list_geom)\n",
    "        \n",
    "#         # Iterate over each class in class_list\n",
    "#         results = []\n",
    "#         for class_zone in class_list:\n",
    "#             # Apply .map to the feature collection for each class\n",
    "#             class_results = aoi_fc.map(lambda feature: self.calc_area_zone(class_zone, feature))\n",
    "#             # class_results = geom_list_ee.map(lambda geometry: calc_area_zone(class_zone, geometry))\n",
    "            \n",
    "#             # Append the results for the current class to the overall results list\n",
    "#             results.append(class_results)\n",
    "        \n",
    "#         # Convert the results to a Python list\n",
    "#         final_results = [result.getInfo() for result in results]\n",
    "        \n",
    "#         # Print or use final_results as needed\n",
    "#         # print(final_results)\n",
    "        \n",
    "#         elapsed = time.perf_counter() - s\n",
    "#         print(f\" executed in {elapsed:0.2f} seconds.\")\n",
    "#         return final_results\n",
    "#     def run_calc_per_id(self):\n",
    "#         # this method to clean the result into a better human readable and api-json serializable\n",
    "#         list_dict_zone_id = []\n",
    "#         for i in self.calc_all_zone():\n",
    "#             for j in i['features']:\n",
    "#                 # print(j['properties'])\n",
    "#                 list_dict_zone_id.append(j['properties'])\n",
    "        \n",
    "#         # list_id\n",
    "#         dict_id_zone = {}\n",
    "#         for i in list_id:\n",
    "#             init_dict = {}\n",
    "#             for j in list_dict_zone_id:\n",
    "                \n",
    "#                 if j['feature_id'] == i:\n",
    "#                     for k,v in j.items():\n",
    "#                         if k != 'feature_id':\n",
    "#                             init_dict[k] = v\n",
    "#                 dict_id_zone[i] = init_dict\n",
    "        \n",
    "#         # print(dict_id_zone)\n",
    "        \n",
    "#         # adjusting dict_id\n",
    "#         adj_dict_id_zone = {}\n",
    "#         for k,v in dict_id_zone.items():\n",
    "#             init_dict = {}\n",
    "#             for j,l in v.items():\n",
    "#                 init_dict[j] = round(l,2)\n",
    "#             adj_dict_id_zone[k] = init_dict\n",
    "#         print(adj_dict_id_zone)\n",
    "#         return adj_dict_id_zone"
   ]
  },
  {
   "cell_type": "code",
   "execution_count": null,
   "id": "ba0035aa-0e59-4e20-9b89-ef82751563ed",
   "metadata": {},
   "outputs": [],
   "source": [
    "import asyncio\n",
    "async def calc_area_zone(class_zone, geometry):\n",
    "    class_mask = all_zone.select('Class').eq(ee.Number.parse(class_zone))\n",
    "    class_pixel_count = all_zone_pixel.select('pix').mask(class_mask).reduceRegion(\n",
    "        reducer=ee.Reducer.sum(),\n",
    "        geometry=geometry,  \n",
    "        scale=scale\n",
    "    ).get('pix')\n",
    "\n",
    "    result = {class_zone: class_pixel_count.getInfo()}\n",
    "    return tuple(result.items())\n",
    "\n",
    "async def run_calc_zone():\n",
    "    tasks = [calc_area_zone(class_zone, geometry) \n",
    "                   for geometry in list_geom\n",
    "                        for class_zone in class_list]\n",
    "\n",
    "    \n",
    "    # Gather the results of the tasks\n",
    "    results = await asyncio.gather(*tasks)\n",
    "\n",
    "    # Convert the list of tuples back to a list of dictionaries\n",
    "    final_results = [dict(result) for result in results]\n",
    "    print(final_results)\n",
    "    return final_results\n",
    "\n",
    "if __name__ == \"__main__\":\n",
    "    s = time.perf_counter()\n",
    "    \n",
    "    # In your case, jupyter (IPython ≥ 7.0) is already running an event loop:\n",
    "    #asyncio.run(main())\n",
    "    \n",
    "    await run_calc_zone()\n",
    "    elapsed = time.perf_counter() - s\n",
    "    print(f\" executed in {elapsed:0.2f} seconds.\")"
   ]
  },
  {
   "cell_type": "code",
   "execution_count": null,
   "id": "37788986-6770-48ad-80b7-c54388c54c31",
   "metadata": {},
   "outputs": [],
   "source": [
    "from pprint import pprint\n",
    "# pprint(AOI.getInfo())"
   ]
  },
  {
   "cell_type": "code",
   "execution_count": null,
   "id": "2273095d-2cf4-42e6-bb1f-ead09e692782",
   "metadata": {},
   "outputs": [],
   "source": [
    "from gee_lib.osi.spectral_indices.utils import assigning_band\n",
    "\n",
    "# Convert class values to binary masks and calculate area for each class\n",
    "def calculate_class_area(class_value, img, AOI, scale):\n",
    "    class_mask = img.select('Class').eq(ee.Number.parse(class_value))\n",
    "    # merged_image = ee.Image(assigning_band('pixel',1,class_mask))\n",
    "    class_pixel_count = img.select('pixel').mask(class_mask).reduceRegion(\n",
    "        reducer=ee.Reducer.sum(),\n",
    "        geometry=AOI.geometry(),\n",
    "        scale=scale\n",
    "    ).get('pixel')\n",
    "\n",
    "    class_area = ee.Number(class_pixel_count).multiply(scale ** 2).divide(10000)  # Convert square meters to hectares\n",
    "\n",
    "    # Create a feature representing the class area\n",
    "    class_feature = ee.Feature(None, {\n",
    "        'Class': class_value,\n",
    "        'Area_ha': class_area\n",
    "    })\n",
    "\n",
    "    return class_feature"
   ]
  },
  {
   "cell_type": "code",
   "execution_count": null,
   "id": "20847487-04bc-419b-a69a-c02ba237b3b9",
   "metadata": {},
   "outputs": [],
   "source": [
    "scale = None\n",
    "if config['I_satellite'] == 'Sentinel':\n",
    "    scale = 10\n",
    "elif config['I_satellite'] == 'Landsat':\n",
    "    scale = 30\n",
    "elif config['I_satellite'] == 'Planet':\n",
    "    scale = 10"
   ]
  },
  {
   "cell_type": "code",
   "execution_count": null,
   "id": "d2e26905-030d-4f1c-90b8-d94ca0e3da6d",
   "metadata": {},
   "outputs": [],
   "source": [
    "# Get the unique class values in the 'Class' band as an ee.List\n",
    "class_values_list = ee.Dictionary(\n",
    "    all_zone.select('Class').reduceRegion(\n",
    "        reducer=ee.Reducer.frequencyHistogram(),\n",
    "        geometry=AOI.geometry(),\n",
    "        scale=scale\n",
    "    ).get('Class')\n",
    ").keys()"
   ]
  },
  {
   "cell_type": "code",
   "execution_count": null,
   "id": "f0f369f2-4d7b-49c6-a557-aa6bb335b4da",
   "metadata": {},
   "outputs": [],
   "source": [
    "# Calculate area for each class using the class_values_list\n",
    "class_areas = class_values_list.map(lambda class_value: calculate_class_area(class_value, all_zone, AOI, scale))"
   ]
  },
  {
   "cell_type": "code",
   "execution_count": null,
   "id": "19cb51cd-147c-4a9a-81e4-5674f3774c71",
   "metadata": {},
   "outputs": [],
   "source": [
    "# Convert the result to a feature collection\n",
    "result_fc = ee.FeatureCollection(class_areas)"
   ]
  },
  {
   "cell_type": "code",
   "execution_count": null,
   "id": "4559c8c4-cfef-4e44-99d7-1015fd3a5850",
   "metadata": {},
   "outputs": [],
   "source": [
    "class_name_map = {\n",
    "            '2': 'Shrubland_Go-Zone',\n",
    "            '1': 'Grassland_Go-Zone',\n",
    "            '7': 'High density Forest',\n",
    "            '6': 'Low - Medium density Forest',\n",
    "            '5': 'Regrowth High Density Forest from deforested (historical)',\n",
    "            '4': 'Regrowth Low Density Forest from deforested (historical)',\n",
    "            '3': 'Historical deforestation (3 or 10 years rule)',\n",
    "            '8': 'Water Body'\n",
    "        }\n",
    "\n",
    "# Map class names to the DataFrame\n",
    "result_fc = result_fc.map(lambda f: f.set('Name_Class', class_name_map.get(f.get('Class'))))\n"
   ]
  },
  {
   "cell_type": "code",
   "execution_count": null,
   "id": "65421945-1a9c-4068-838c-cbc74e2f1732",
   "metadata": {},
   "outputs": [],
   "source": [
    "features = result_fc.getInfo()['features']\n",
    "for feature in features:\n",
    "    print(feature)"
   ]
  },
  {
   "cell_type": "code",
   "execution_count": null,
   "id": "ef91fd80-8996-4969-a938-ea1102b84626",
   "metadata": {},
   "outputs": [],
   "source": [
    "# Create an empty list to store the data\n",
    "data = {'Class': [], 'Name_Class': [], 'Area_Ha': []}\n",
    "\n",
    "# Iterate through the features and extract the properties\n",
    "features = result_fc.getInfo()['features']\n",
    "for feature in features:\n",
    "    properties = feature['properties']\n",
    "\n",
    "    # Extract the class, class name, and area_ha properties\n",
    "    class_value = properties['Class']\n",
    "    name_class = class_name_map.get(class_value, 'Unknown')  # Use 'Unknown' if class_value is not in class_name_map\n",
    "    area_ha = properties['Area_ha']\n",
    "\n",
    "    # Append the values to the data dictionary\n",
    "    data['Class'].append(class_value)\n",
    "    data['Name_Class'].append(name_class)\n",
    "    data['Area_Ha'].append(area_ha)\n",
    "\n",
    "# Create the Pandas DataFrame\n",
    "import pandas as pd\n",
    "df = pd.DataFrame(data)\n",
    "\n",
    "# Optionally, reorder the columns if needed\n",
    "df = df[['Class', 'Name_Class', 'Area_Ha']]\n",
    "print(df)"
   ]
  },
  {
   "cell_type": "code",
   "execution_count": null,
   "id": "7a23bb3c-1ae4-4bd5-91d0-6b34df0ba350",
   "metadata": {},
   "outputs": [],
   "source": [
    "image_mosaick = fcd_calc_run['image_mosaick']"
   ]
  },
  {
   "cell_type": "code",
   "execution_count": null,
   "id": "4bcd03f0-9fe4-43c1-ad7d-46a13ba6639f",
   "metadata": {},
   "outputs": [],
   "source": [
    "Map.addLayer(image_mosaick,{\"bands\":[\"red\",\"green\",\"blue\"],\"min\":0,\"max\":0.1,\"gamma\":1},'image_mosaick')"
   ]
  },
  {
   "cell_type": "code",
   "execution_count": null,
   "id": "740cba0b-1c99-44fd-988e-de4d91862d44",
   "metadata": {},
   "outputs": [],
   "source": [
    "Map"
   ]
  },
  {
   "cell_type": "code",
   "execution_count": null,
   "id": "5306cb30-1aad-4fa9-adac-ac711e17ceab",
   "metadata": {},
   "outputs": [],
   "source": [
    "from asgiref.sync import sync_to_async\n",
    "from fcd_gee.models import SatVerConfiguration\n",
    "\n",
    "async def async_filter():\n",
    "    try:\n",
    "        label = await sync_to_async(SatVerConfiguration.objects.get)(label=\"TEST_DEMO_TREEO_Landsat_2022\") ## example that already exist in the db and we filterbased on this\n",
    "    except SatVerConfiguration.DoesNotExist:\n",
    "        print('label object is not found')\n",
    "        label = None\n",
    "    return label\n",
    "\n",
    "query = await async_filter()"
   ]
  },
  {
   "cell_type": "code",
   "execution_count": null,
   "id": "8c14bf6a-37ca-437a-8153-60ce1372278e",
   "metadata": {},
   "outputs": [],
   "source": [
    "file_location_conf = await sync_to_async(lambda: query.shp_aoi.file)()"
   ]
  },
  {
   "cell_type": "code",
   "execution_count": null,
   "id": "281c32d9-dd9b-4c59-85a5-7178ce77c30e",
   "metadata": {},
   "outputs": [],
   "source": [
    "temp_dir = unzip_file(file_location_conf.path)"
   ]
  },
  {
   "cell_type": "code",
   "execution_count": null,
   "id": "1aba4ad1-5263-474f-819e-89369d4cf41e",
   "metadata": {},
   "outputs": [],
   "source": [
    "# !cd /tmp/tmpppxot7os && ls"
   ]
  },
  {
   "cell_type": "code",
   "execution_count": null,
   "id": "d5cf1440-80cb-425e-93d9-3ce1a751a01f",
   "metadata": {},
   "outputs": [],
   "source": [
    "os.listdir(temp_dir)"
   ]
  },
  {
   "cell_type": "code",
   "execution_count": null,
   "id": "254bf983-e685-489d-b136-21734a20d969",
   "metadata": {},
   "outputs": [],
   "source": [
    "# TEST VARIABLE TO GEE FROM DJANGO\n",
    "start_date = query.start_date_analysis\n",
    "end_date = query.end_date_analysis\n",
    "\n",
    "# for planet labs image\n",
    "region = 'africa' # or you can use 'asia'\n",
    "\n",
    "# cloud cover threshold, max per image, in image collection\n",
    "cloud_cover_threshold = 40\n",
    "\n",
    "import geemap\n",
    "# input shp region based on the AOI, relative path to our collab folder content\n",
    "# AOIt_shp = '/content/drive/MyDrive/shp_local/AOI_AXIS_BIG.shp'\n",
    "\n",
    "list_files_tmp = os.listdir(temp_dir)\n",
    "shp_tmp_text = [f for f in list_files_tmp if '.shp' in f][0]\n",
    "AOIt_shp = os.path.join(temp_dir, shp_tmp_text)\n",
    "\n",
    "AOIt_shp_plot = geemap.shp_to_ee(AOIt_shp)\n",
    "crs_input = 'EPSG:4326'\n",
    "\n",
    "AOI = AOIt_shp_plot\n",
    "pca_scaling = 1\n",
    "tileScale = 1\n"
   ]
  },
  {
   "cell_type": "code",
   "execution_count": null,
   "id": "cf1f57a1-863f-448d-924b-77471f8424c1",
   "metadata": {},
   "outputs": [],
   "source": [
    "# choose the satellite image you want to use\n",
    "# I_satellite = query.satellite_use\n",
    "I_satellite = 'Planet'\n",
    "\n",
    "config = {\n",
    "    'I_satellite': I_satellite,\n",
    "    'pca_scaling':pca_scaling,\n",
    "    'tileScale': tileScale,\n",
    "    'AOI': AOI,\n",
    "    'IsThermal': False,\n",
    "    'cloud_cover_threshold': cloud_cover_threshold, # for landsat collection\n",
    "    'date_start_end':[start_date,end_date],\n",
    "}"
   ]
  },
  {
   "cell_type": "code",
   "execution_count": null,
   "id": "87ea0498-e09c-48d8-96ad-29bf612626db",
   "metadata": {},
   "outputs": [],
   "source": [
    "I_satellite"
   ]
  },
  {
   "cell_type": "code",
   "execution_count": null,
   "id": "5e742dee-c51d-4fb1-97ea-7abb46bc2bee",
   "metadata": {},
   "outputs": [],
   "source": [
    "#NDWI water limit\n",
    "ndwi_hi_sentinel = 0.05 # for Sentinel\n",
    "ndwi_hi_landsat = 0.1 # for landsat\n",
    "ndwi_hi_planet = -0.2 # for Planet Labs\n",
    "\n",
    "ndwi_hi = 0.1\n",
    "if I_satellite == 'Landsat':\n",
    "    ndwi_hi = ndwi_hi_landsat\n",
    "elif I_satellite == 'Sentinel':\n",
    "    ndwi_hi = ndwi_hi_sentinel\n",
    "elif I_satellite == 'Planet':\n",
    "    ndwi_hi = ndwi_hi_planet\n",
    "\n",
    "pca_scaling = 1  # 1 meaning that 1 x pixel size of spatial resolution e.g., Planet Labs 1 x 5, Sentinel 1 x 10, Landsat 1 x 30\n",
    "tileScale = 1 # increase this if user memory limit occur, see: https://gis.stackexchange.com/questions/373250/understanding-tilescale-in-earth-engine\n",
    "\n",
    "######## HANSEN Tree Cover and Tree Cover Loss Input - Historical Data Check (10 Years Rule) ###################################################\n",
    "# Hansen 10 years rule and Forest - Tree Cover Hansen\n",
    "# define tree cover minimum that classified as forest e.g., Indonesia > 30%, hence 30\n",
    "tree_cover_forest = 30 # this will be in percent, let's say, forest is > 30% if you put 30\n",
    "pixel_number = 3 #define minimum mapping unit classified as forest, 1 pixel for landsat 30mx30, 3 pixel is forest ~> 0.27 Ha\n",
    "year_start_loss = 13 #define start year to track as 10 years rule (e.g., 2012 to 2022 (track 10 years rule), hence 12. format= 00->2000, 12->2012)\n",
    "\n",
    "\n",
    "## FCD Threshold\n",
    "high_forest = 65\n",
    "yrf_forest = 45\n",
    "shrub_grass = 25\n",
    "\n",
    "# output Band Names\n",
    "band_name_image = 'Class'\n",
    "\n",
    "#for area id in shapefile that identified the data, and will converted into raster\n",
    "OID = 'id'  #IMPORTANT TO CHECK OID based on the column ID\n",
    "#############################################\n",
    "##################################################################################\n",
    "### Masking and overlay and area helper Make an image out of the AOI area attribute -> convert featurecollection into raster (image) for overlaying tools\n",
    "AOI_img = AOI.filter(ee.Filter.notNull([OID])).reduceToImage(\n",
    "    properties= [OID],\n",
    "    reducer= ee.Reducer.first()\n",
    ")"
   ]
  },
  {
   "cell_type": "code",
   "execution_count": null,
   "id": "f5f1aa5e-89ff-44f1-9581-b1cd26e67389",
   "metadata": {},
   "outputs": [],
   "source": [
    "from gee_lib.osi.image_collection.main import ImageCollection"
   ]
  },
  {
   "cell_type": "code",
   "execution_count": null,
   "id": "6186842d-da51-4a92-9f34-4b0348c06597",
   "metadata": {},
   "outputs": [],
   "source": [
    "# initiate instance class for the image collection and later mosaicking\n",
    "classInputCollection = ImageCollection(AOI=AOI, date_start_end=[start_date,end_date], cloud_cover_threshold = cloud_cover_threshold, I_satellite=I_satellite, \n",
    "                                       region='africa')\n"
   ]
  },
  {
   "cell_type": "code",
   "execution_count": null,
   "id": "36551ebc-d6dc-4171-a4f4-e38e4dabc38f",
   "metadata": {},
   "outputs": [],
   "source": [
    "# performing the merge_collection method based on the I_satellite\n",
    "image_collection_mask = classInputCollection.image_collection_mask()"
   ]
  },
  {
   "cell_type": "code",
   "execution_count": null,
   "id": "7464bc86-c5d9-4023-84f4-b4689348ad2e",
   "metadata": {},
   "outputs": [],
   "source": [
    "image_mosaick = classInputCollection.image_mosaick()\n",
    "\n",
    "# initialize Map object\n",
    "Map = geemap.Map(center=(-3, 115), zoom=4)\n",
    "Map.centerObject(AOI, 10)"
   ]
  },
  {
   "cell_type": "code",
   "execution_count": null,
   "id": "90dcc078-f6c5-475c-9923-7c61c13165fc",
   "metadata": {},
   "outputs": [],
   "source": [
    "# add to canvas Map for this mosaic layer\n",
    "if I_satellite == 'Planet':\n",
    "    # true color {\"bands\":[\"red\",\"green\",\"blue\"],\"min\":0,\"max\":0.6,\"gamma\":1.5}\n",
    "    # nir veg color {\"bands\":[\"red\",\"nir\",\"blue\"],\"min\":0,\"max\":0.6,\"gamma\":1.5 }\n",
    "    Map.addLayer(image_mosaick,{\"bands\":[\"red\",\"green\",\"blue\"],\"min\":0,\"max\":0.6,\"gamma\":1.5}, f'{I_satellite} mosaicked - {start_date}-{end_date} VegColor')\n",
    "else:\n",
    "    Map.addLayer(image_mosaick,{'bands': ['swir2', 'nir', 'red'], 'min': 0, 'max': 0.6, 'gamma': 1.5 }, f'{I_satellite} mosaicked - {start_date}-{end_date}')"
   ]
  },
  {
   "cell_type": "code",
   "execution_count": null,
   "id": "b3025def-f034-4749-b890-9d07f4a3580f",
   "metadata": {},
   "outputs": [],
   "source": [
    "Map"
   ]
  },
  {
   "cell_type": "code",
   "execution_count": null,
   "id": "bef15474-a95d-4619-bffd-e36e5651d41f",
   "metadata": {},
   "outputs": [],
   "source": [
    "from gee_lib.osi.spectral_indices.spectral_analysis import SpectralAnalysis"
   ]
  },
  {
   "cell_type": "code",
   "execution_count": null,
   "id": "d5eaf24a-47f9-4e91-8ed5-a05d43617d20",
   "metadata": {},
   "outputs": [],
   "source": [
    "# class image spectral\n",
    "classImageSpectral = SpectralAnalysis(image_mosaick, config)"
   ]
  },
  {
   "cell_type": "code",
   "execution_count": null,
   "id": "bc297951-fcc9-499f-a539-2dd241ed8951",
   "metadata": {},
   "outputs": [],
   "source": [
    "from gee_lib.osi.pca.pca_gee import PCA\n",
    "from gee_lib.osi.spectral_indices.utils import normalization_100, assigning_band"
   ]
  },
  {
   "cell_type": "code",
   "execution_count": null,
   "id": "c8ec0f4d-6a55-459d-af60-7a9299846a3d",
   "metadata": {},
   "outputs": [],
   "source": [
    "print('processing AVI')\n",
    "avi_image = classImageSpectral.AVI_func()\n",
    "#Map.addLayer(avi_image,{},'avi')\n",
    "\n",
    "print('processing BSI')\n",
    "bsi_image = classImageSpectral.BSI_func()\n",
    "#Map.addLayer(bsi_image,{},'bsi')\n",
    "\n",
    "print('processing SI')\n",
    "si_image = classImageSpectral.SI_func()\n",
    "#Map.addLayer(si_image,{},'si_no_norm')\n",
    "\n",
    "#Map.addLayer(image_corr_8,{'bands': ['swir2', 'nir', 'red'], 'min': 0, 'max': 256,  }, f'landsat_for_FCD_{year}_corrected_8bit')\n",
    "print('Normalizing to 100 AVI')\n",
    "##### Starting (normalized 100) Indices\n",
    "# acquire the existing configuration after conditional I_satellite\n",
    "pca_scale = classImageSpectral.pca_scale\n",
    "tileScale = classImageSpectral.tileScale\n",
    "\n",
    "avi_norm = normalization_100(avi_image, pca_scale=pca_scale, AOI=AOI)\n",
    "Map.addLayer(avi_norm,{'min':0,'max':100},'avi_norm', False)\n",
    "print('Normalizing to 100 BSI')\n",
    "bsi_norm = normalization_100(bsi_image, pca_scale=pca_scale, AOI=AOI)\n",
    "Map.addLayer(bsi_norm,{'min':0,'max':100},'bsi_norm', False)\n",
    "print('Normalizing to 100 SI')\n",
    "si_norm = normalization_100(si_image, pca_scale=pca_scale, AOI=AOI)\n",
    "Map.addLayer(si_norm, {'min':0,'max':100},'si_norm', False)\n",
    "print('Combining AVI AND BSI')\n",
    "# Combine  AVI and BSI to one image with two bands\n",
    "AVI_BSI = avi_norm.addBands(bsi_norm)\n",
    "# Masked-out process or remove null data, to avoid errors\n",
    "avi_bsi_clean = AVI_BSI.gte(0).Or(AVI_BSI.lte(0))\n",
    "AVI_BSI = AVI_BSI.updateMask(avi_bsi_clean)\n",
    "#Map.addLayer(AVI_BSI, {'min':0,'max':100}, 'AVI_BSI')\n",
    "\n",
    "print(f'no thermal band, choosing {I_satellite} images')\n",
    "si = si_norm\n",
    "#minsi =si.reduceRegion(reducer=ee.Reducer.min(),geometry=AOI,scale=1000,bestEffort=True,tileScale=16)\n",
    "#minsi = ee.Dictionary(minsi).toImage()\n",
    "#maxsi =si.reduceRegion(reducer=ee.Reducer.max(),geometry=AOI,scale=1000,bestEffort=True,tileScale=16)\n",
    "#maxsi = ee.Dictionary(maxsi).toImage()\n",
    "\n",
    "#ssiscale = si.subtract(minsi).divide(maxsi.subtract(minsi)).multiply(100)\n",
    "#print(ssiscale, 'SSI')\n",
    "Map.addLayer(si,{'min':0, 'max':100}, 'SSI', False)"
   ]
  },
  {
   "cell_type": "code",
   "execution_count": null,
   "id": "759f7bce-5f20-4bf5-9b3d-f3f214b900f0",
   "metadata": {},
   "outputs": [],
   "source": [
    "sviPCAClass = PCA(AVI_BSI, config)"
   ]
  },
  {
   "cell_type": "code",
   "execution_count": null,
   "id": "c8e879fd-a793-4865-ba72-b4b81f2437b1",
   "metadata": {},
   "outputs": [],
   "source": [
    "sviPCAClass.pca_scale"
   ]
  },
  {
   "cell_type": "code",
   "execution_count": null,
   "id": "badeee17-1fb0-41f8-8fb4-96009b57c575",
   "metadata": {},
   "outputs": [],
   "source": [
    "print('Processing means center of AVI_BSI please wait')\n",
    "sviPCA = sviPCAClass.getPrincipalComponents()"
   ]
  },
  {
   "cell_type": "code",
   "execution_count": null,
   "id": "eb5de4b7-a13a-4bdb-b9bb-ec00be99f3a2",
   "metadata": {},
   "outputs": [],
   "source": [
    "# AOI"
   ]
  },
  {
   "cell_type": "code",
   "execution_count": null,
   "id": "f8a801d9-7f8b-4dd6-840e-0905b169c3e7",
   "metadata": {},
   "outputs": [],
   "source": [
    "print('Now we proceed to the PCA of Vegetation density')\n",
    "\n",
    "VD = sviPCA.rename(['VD1', 'VD2'])\n",
    "SVI = normalization_100(VD,pca_scale=pca_scale, AOI=AOI)\n",
    "\n",
    "Map.addLayer(SVI,{'min':0,'max':100},'SVI', False)\n",
    "print('Success get the PCA normalized of VD => SVI')\n",
    "\n",
    "print('Now calculating the FCD from SVI and SSI - selecting band svi1 svi2 ssi1 and ssi2')\n",
    "svi1 = SVI.select(['VD1'])\n",
    "ssi1 = si.select(['SI'])\n",
    "svi2 = SVI.select(['VD2'])\n",
    "\n",
    "# Starting to include in the formula for Forest Cover Density\n",
    "FCD1_1 = (((svi1.multiply(ssi1)).add(1)).pow(0.5)).subtract(1).rename('FCD')\n",
    "Map.addLayer(FCD1_1, {'min':0 ,'max':80, 'palette':['ff4c16', 'ffd96c', '39a71d']}, 'FCD1_1')\n",
    "#Map.addLayer(FCD1.mask(FCD1.gte(30)), {'min':0 ,'max':80, 'palette':['ff4c16', 'ffd96c', '39a71d']}, 'FCD1_morethan30')\n",
    "\n",
    "print('Now calculating the FCD from SVI2 and SSI1 into FCD in percentage')\n",
    "# The best on AOI_B30 based on the visual check, combination svi2 and ssi1\n",
    "FCD2_1 = (((svi2.multiply(ssi1)).add(1)).pow(0.5)).subtract(1).rename('FCD')\n",
    "\n",
    "Map.addLayer(FCD2_1, {'min':0 ,'max':80, 'palette':['ff4c16', 'ffd96c', '39a71d']}, 'FCD2_1')\n",
    "#Map.addLayer(FCD2_1.mask(FCD2_1.gte(30)), {'min':0 ,'max':80, 'palette':['ff4c16', 'ffd96c', '39a71d']}, 'FCD2_1_morethan30')\n",
    "print('finish processing PCA please continue')"
   ]
  },
  {
   "cell_type": "code",
   "execution_count": null,
   "id": "121a460c-cdbe-44f9-9094-08e497af05e9",
   "metadata": {},
   "outputs": [],
   "source": []
  },
  {
   "cell_type": "code",
   "execution_count": null,
   "id": "c83ef96d-49fc-490a-a016-45a71a439c6c",
   "metadata": {},
   "outputs": [],
   "source": []
  },
  {
   "cell_type": "code",
   "execution_count": null,
   "id": "d265466a-71e4-4dbc-ba5e-079d436d2e4d",
   "metadata": {},
   "outputs": [],
   "source": [
    "from gee_lib.osi.fcd.main_fcd import FCDCalc"
   ]
  },
  {
   "cell_type": "code",
   "execution_count": null,
   "id": "4b06e0f8-7aad-4cd3-9774-9377f0d79f15",
   "metadata": {},
   "outputs": [],
   "source": [
    "classFCD = FCDCalc(config)\n",
    "fcd_all = classFCD.fcd_calc()\n",
    "FCD2_1 = classFCD.FCD2_1"
   ]
  },
  {
   "cell_type": "code",
   "execution_count": null,
   "id": "675c00e0-d146-4b21-b811-9ccbd20cb5eb",
   "metadata": {},
   "outputs": [],
   "source": [
    "# print(FCD2_1)"
   ]
  },
  {
   "cell_type": "code",
   "execution_count": null,
   "id": "0dd46c46-b3a9-4af0-9234-ad7d5eb6155d",
   "metadata": {},
   "outputs": [],
   "source": [
    "# initialize Map object\n",
    "Map = geemap.Map(center=(-3, 115), zoom=4)\n",
    "Map.centerObject(AOI, 10)"
   ]
  },
  {
   "cell_type": "code",
   "execution_count": null,
   "id": "49edbd42-3d30-4ecb-b6c1-fd680ef9d62c",
   "metadata": {},
   "outputs": [],
   "source": [
    "# FCD2_1 = fcd_all['FCD2_1']\n",
    "Map.addLayer(FCD2_1, {'min':0 ,'max':80, 'palette':['ff4c16', 'ffd96c', '39a71d']}, 'FCD2_1')"
   ]
  },
  {
   "cell_type": "code",
   "execution_count": null,
   "id": "0c2b7065-38b4-4fe1-9648-534120fa34b5",
   "metadata": {},
   "outputs": [],
   "source": [
    "FCD1_1 = classFCD.FCD1_1\n",
    "Map.addLayer(FCD1_1, {'min':0 ,'max':80, 'palette':['ff4c16', 'ffd96c', '39a71d']}, 'FCD1_1')"
   ]
  },
  {
   "cell_type": "code",
   "execution_count": null,
   "id": "c0f4e6ec-d4f7-4ca7-98bb-4b92e87306f4",
   "metadata": {},
   "outputs": [],
   "source": [
    "Map"
   ]
  },
  {
   "cell_type": "code",
   "execution_count": null,
   "id": "e8be7890-6039-4476-bd9c-ba402c910da2",
   "metadata": {},
   "outputs": [],
   "source": [
    "classFCD.FCD2_1"
   ]
  },
  {
   "cell_type": "code",
   "execution_count": null,
   "id": "bb5de0d7-0c8f-4cd6-bb09-2840b39754bb",
   "metadata": {},
   "outputs": [],
   "source": []
  },
  {
   "cell_type": "code",
   "execution_count": null,
   "id": "167ed6f6-341f-4831-881d-1537ef22108c",
   "metadata": {},
   "outputs": [],
   "source": [
    "############################ Deforestation areas - TCL (Tree Cover Loss)\n",
    "### adapted from https://developers.google.com/earth-engine/tutorials/community/forest-cover-loss-estimation\n",
    "# hansen - updated version - global data\n",
    "gfc = ee.Image(\"UMD/hansen/global_forest_change_2022_v1_10\")\n",
    "\n",
    "#Canopy cover percentage (e.g. 30%), for Indonesia\n",
    "cc = ee.Number(tree_cover_forest)\n",
    "\n",
    "#Minimum forest area in pixels (e.g. 3 pixels, ~ 0.27 ha in this example).\n",
    "pixels = ee.Number(pixel_number)\n",
    "\n",
    "#Minimum mapping area for tree loss (usually same as the minimum forest area).\n",
    "lossPixels = pixels\n",
    "\n",
    "canopyCover = gfc.select(['treecover2000'])\n",
    "canopyCoverThreshold = canopyCover.gte(cc).selfMask()\n",
    "\n",
    "#Use connectedPixelCount() to get contiguous area.\n",
    "contArea = canopyCoverThreshold.connectedPixelCount()\n",
    "#Apply the minimum area requirement.\n",
    "minArea = contArea.gte(pixels).selfMask()\n",
    "\n",
    "prj = gfc.projection()\n",
    "scale = prj.nominalScale()\n",
    "ForestArea2000Hansen = minArea.reproject(prj.atScale(scale))\n",
    "\n",
    "#Map.addLayerControl()\n",
    "Map.addLayer(ForestArea2000Hansen, {\n",
    "    'palette': ['#96ED89']\n",
    "}, 'tree cover: >= min canopy cover & area (light green)', False)\n",
    "\n",
    "#create visual boundary color only\n",
    "empty = ee.Image().byte()\n",
    "AOIm = empty.paint(AOI,0,10)\n",
    "\n",
    "##### Visualized LANDSAT CLOUDLESS FROM HANSEN DATASET LAST YEAR # just to check the visual images from Hansen\n",
    "LastImageLandsat = gfc.select(['last_b30', 'last_b40', 'last_b50', 'last_b70']).rename(['red', 'nir', 'swir1', 'swir2']).clip(AOI)\n",
    "Map.addLayer(LastImageLandsat, {'bands': ['swir2', 'nir', 'red'], 'min': 0, 'max': 600, 'gamma': 1.5 },\n",
    "                f'Landsat Hansen Last Year {end_date}', False)\n",
    "\n",
    "### HISTORICAL DATA THRESHOLD - Get the TCL data LOSS PIXEL overall data from loss year in the input\n",
    "# adapted from https://developers.google.com/earth-engine/tutorials/community/forest-cover-loss-estimation\n",
    "\n",
    "treeLossYear = gfc.select(['lossyear'])\n",
    "treeLoss = treeLossYear.gte(year_start_loss).selfMask() # tree loss in e.g., year > 2012 ####SHOULD CHANGE TO RECENT YEAR for the '12' number\n",
    "#Select the tree loss within the derived tree cover\n",
    "#(>= canopy cover and area requirements). THIS ONE ALREADY MASK TCL IN FOREST AREA\n",
    "treecoverLoss = minArea.And(treeLoss).rename(f'lossfrom_{year_start_loss}').selfMask()\n",
    "\n",
    "#Create connectedPixelCount() to get contiguous area.\n",
    "contLoss = treecoverLoss.connectedPixelCount()\n",
    "#Apply the minimum area requirement, and get the TCL data ---> minLoss - ACTUAL TCL AREA from Hansen since the year_start_loss\n",
    "minLoss = contLoss.gte(lossPixels).selfMask()\n",
    "\n",
    "Map.addLayer(treeLossYear.clip(AOI),{\"opacity\":1,\"bands\":[\"lossyear\"],\"min\":1,\"max\":22,\"palette\":[\"3d358c\",\"4457c9\",\"4777f0\",\"4196ff\",\"2eb4f3\",\"1ad1d5\",\"1ae5b6\",\"36f493\",\"64fd6a\",\"92ff47\",\"b4f836\",\"d3e935\",\"ecd239\",\"fbb938\",\"fe992c\",\"f9751d\",\"ec520e\",\"d93806\",\"bf2102\",\"9f1001\",\"7a0403\",\"#FF0000\"]},\"Tree Loss Year\", False)\n",
    "Map.addLayer(minLoss.clip(AOI),{\n",
    "    'palette': ['#ff0000']\n",
    "}, f'tree cover >30% loss since 20{year_start_loss}', False)\n"
   ]
  },
  {
   "cell_type": "code",
   "execution_count": null,
   "id": "61c5614f-84b4-4fd1-b353-44cc7f27b354",
   "metadata": {},
   "outputs": [],
   "source": [
    "## CHOOSE WHICH FCD map prefered\n",
    "FCD = ee.Image(FCD2_1.select(['FCD'])) # here we use comb FCD2_1 = SVI 2, and SI 1 if\n",
    "Map.addLayer(FCD,{'min':0 ,'max':80, 'palette':['ff4c16', 'ffd96c', '39a71d']},'FCD_SELECTED')\n",
    "\n",
    "print('Success calculating FCD best combination, and added to the map')\n",
    "\n",
    "print('Now we label the FCD')\n",
    "# Starting to create threshold for labeling\n",
    "WaterMask = gfc.select(['datamask']).rename('datamask').eq(2)\n",
    "WaterinAOI = AOI_img.mask().updateMask(WaterMask)\n",
    "# unmasked the water (hansen)\n",
    "unmaskedWaterAOI = AOI_img.unmask().updateMask(WaterinAOI.mask().Not()).clip(AOI)\n",
    "#Map.addLayer(unmaskedWaterAOI,{},'unmasked_water_test', False)\n",
    "\n",
    "######### Zone 5: Water Body - NDWI Sentinel\n",
    "# from a function, output is already assigned in a band name: Class : 5\n",
    "#water_list = applying_sentinel_water(image_corrected, ndwi_hi)\n",
    "#waterinAOI_ndwi = water_list[0]\n",
    "#unmaskedWaterAOI_ndwi = AOI_img.unmask().updateMask(waterinAOI_ndwi.mask().Not()).clip(AOI)\n",
    "\n",
    "\n",
    "print(f'Adding the map of Forest, FCD >= {yrf_forest}% and mask only if not water in area (hansen) and NDWI')\n",
    "#Forest\n",
    "AllForest = FCD.mask(FCD.gte(yrf_forest)).And(unmaskedWaterAOI)\n",
    "HighForestDense = FCD.mask(FCD.gte(high_forest)).And(unmaskedWaterAOI)\n",
    "YRFForestDense = FCD.mask(FCD.gte(yrf_forest).And(FCD.lt(high_forest))).And(unmaskedWaterAOI)\n",
    "#Map.addLayer(AllForest,{'min':0 ,'max':100}, 'AllForest')\n",
    "Map.addLayer(HighForestDense, {'min':0 ,'max':100}, f'Forest (FCD >= {high_forest}%)', False)\n",
    "\n",
    "Map.addLayer(YRFForestDense, {'min':0 ,'max':100}, f'Forest (FCD >= {yrf_forest}%) and < {high_forest}%', False)\n",
    "\n",
    "print(f'Adding the map of Shrubland, FCD <  {yrf_forest}% and FCD >= {shrub_grass}%')\n",
    "#Shrubland\n",
    "Shrubland = FCD.mask(FCD.lt(yrf_forest).And(FCD.gte(shrub_grass))).And(unmaskedWaterAOI)\n",
    "Map.addLayer(Shrubland, {'min':0 ,'max':100}, f'Shrubland ({shrub_grass}% <= FCD < {yrf_forest}%)', False)\n",
    "\n",
    "print(f'Adding the map of Grassland or Openland, FCD  < {shrub_grass}%')\n",
    "#Grassland / openland\n",
    "Grassland = FCD.mask(FCD.lt(shrub_grass)).And(unmaskedWaterAOI)\n",
    "Map.addLayer(Grassland, {'min':0 ,'max':100}, f'Grassland (FCD < {shrub_grass})', False)\n",
    "\n",
    "hiforest_masked = AllForest\n",
    "#Shrubland\n",
    "#Grassland\n",
    "\n",
    "print('Processing - the zoning classification')\n",
    "highForestOnly = ee.Image(assigning_band(band_name_image,1,hiforest_masked.clip(AOI)))\n",
    "#Map.addLayer(highForestOnly,{'bands': ['Class'],'palette':hi_forest},f'ALL_Forest_FCD > {yrf_forest}% - Class 1')\n",
    "\n",
    "# Colors fo raster symbology\n",
    "water = '#3380cc' #Blue\n",
    "hi_forest = '#006837' #Strong green\n",
    "low_forest = '#3ea540' #Medium green\n",
    "grass_land = '#baf096' #Light green\n",
    "bare_land = '#ad8855' #Brown\n",
    "other = '#000000'\n",
    "\n",
    "def applying_zone_sentinel_hansen(hiforest_masked,minLoss,s2_sr_median, ndwi_hi):\n",
    "\n",
    "    ######### Zone 2 - High Baseline Forest: That does not have (overlaid with) TCL\n",
    "    # Unmasked the forest loss 10 years rule\n",
    "    unmaskedLoss = AOI_img.unmask().updateMask(minLoss.mask().Not()).clip(AOI)\n",
    "    highBaselineF = hiforest_masked.And(unmaskedLoss)\n",
    "    #Map.addLayer(highBaselineF,{'palette':hi_forest},'High baseline (Forest)')\n",
    "\n",
    "    # assigning class band 2\n",
    "    highf_edited = ee.Image(assigning_band(band_name_image,2,highBaselineF)) #high baseline forest - 2\n",
    "    ##################################################\n",
    "\n",
    "    ######### Zone 3: High Forest and Loss (e.g., Young Regenerating Forest)\n",
    "    ####### Get the overlay information of HighBaseline (Sentinel) and Tree Cover Loss (Hansen), e.g., Young Regenerating Forest\n",
    "    HiForestAndLoss = AOI_img.And(hiforest_masked.And(minLoss)) #minLoss is the actual TCL without overlaying with Sentinel\n",
    "    #Map.addLayer(HiForestAndLoss,{'palette': '#FF0000'},\"High Baseline and not pass 10 years rule\")\n",
    "\n",
    "    # Final Result for High Forest and TCL -> Class number: 3\n",
    "    tenyrfl_edited = ee.Image(assigning_band(band_name_image,3,HiForestAndLoss)) #tenyears rule not pass and high baseline - 3\n",
    "    ##############################################\n",
    "\n",
    "    ######### Zone 4: Tree Cover Loss on the current low baseline (Sentinel)\n",
    "    ###### Get the 10 years data only that is not overlay with Sentinel High baseline (Forest) #############\n",
    "    # Create a helper mask indicating where the smaller areas maskhiFL, distinguish only the highbaseline and TCL (mask) and assign mask as 1\n",
    "    maskHiFL = HiForestAndLoss.mask()\n",
    "    #Map.addLayer(maskHiFL)\n",
    "    # Helper - Invert the mask to get the areas where the smaller raster is absent - get only area outside high forest and loss, and mask from 1 to 0\n",
    "    # invert mask just to get the number from 0 to 1 or vice versa -> .Not()\n",
    "    maskHiFL_inverted = maskHiFL.Not()\n",
    "    #Map.addLayer(maskHiFL_inverted)\n",
    "    # Unmask the bigger raster in the areas to get the pixel value for area 'outside' HiFL (High Baseline and Forest Loss)\n",
    "    unmaskedHiFL = AOI_img.unmask().updateMask(maskHiFL_inverted).clip(AOI)\n",
    "    #Map.addLayer(unmaskedHiFL)\n",
    "    #outcome result for 10 years data only that is not overlay with Sentinel High baseline (Forest) unmaskedHiFL is Area that is not Forest Sentinel############\n",
    "    tenYearsRule = unmaskedHiFL.And(minLoss)\n",
    "    #Map.addLayer(tenYearsRule,{'palette': '#FFA500'},\"10 Years Rule - not OK\")\n",
    "\n",
    "    # assign the Class into no. 4 - Final Result\n",
    "    tenyrule_edited = ee.Image(assigning_band(band_name_image,4,tenYearsRule)) #tenyears rule not pass - 4\n",
    "    ###############################################\n",
    "\n",
    "    ######### Zone 5: Water Body - NDWI Sentinel\n",
    "    # from a function, output is already assigned in a band name: Class : 5\n",
    "    #water_list = applying_sentinel_water(s2_sr_median, ndwi_hi)\n",
    "    #waterinAOI = water_list[0]\n",
    "    #water_edited = water_list[1]\n",
    "\n",
    "    # Use hansen data instead - better result, no need to adjust threshold and water body not change for long time\n",
    "    WaterMask = gfc.select(['datamask']).rename('datamask').eq(2)\n",
    "    waterinAOI = AOI_img.mask().updateMask(WaterMask)\n",
    "    water_edited = ee.Image(assigning_band(band_name_image,5,waterinAOI)).clip(AOI)\n",
    "    # unmasked the water (hansen)\n",
    "    unmaskedWaterAOI = AOI_img.unmask().updateMask(waterinAOI.mask().Not()).clip(AOI)\n",
    "\n",
    "    ###############################################\n",
    "\n",
    "\n",
    "    ######### Zone 1: Go Zone - outside (forest, forest - TCL, no-forest TCL, WaterBody)\n",
    "    # Utils - Similar with above (but easier), unmasked the high forest means that in the end only include area that is not in forest (hiforest_masked)\n",
    "    maskHiF = hiforest_masked.mask()\n",
    "    maskHiF_inverted = maskHiF.Not()\n",
    "    # Unmasked High Forest - the result is all the area outside of hiforest_masked (Total all forest), and now in no forest\n",
    "    unmaskedHiF = AOI_img.unmask().updateMask(maskHiF_inverted).clip(AOI)\n",
    "    # unmasked the water\n",
    "    #unmaskedWaterAOI = AOI_img.unmask().updateMask(waterinAOI.mask().Not()).clip(AOI)\n",
    "\n",
    "    goZone = unmaskedLoss.And(unmaskedHiF).And(unmaskedWaterAOI)\n",
    "    #Map.addLayer(goZone,{'palette':'#FFFF00'},'Go Zone')\n",
    "    # assigning band - Go Zone\n",
    "    goZone_edited = ee.Image(assigning_band(band_name_image,1,goZone)) #go Zone - 1\n",
    "    ##############################################\n",
    "\n",
    "    Map.addLayer(goZone_edited,{'bands': ['Class'],'palette':'#FFFF00'},'Go Zone', False)\n",
    "    Map.addLayer(highf_edited,{'bands': ['Class'],'palette':hi_forest},'High baseline (Forest)', False)\n",
    "    Map.addLayer(tenyrfl_edited,{'bands': ['Class'],'palette': '#FF0000'},\"High Baseline and not pass 10 years rule\", False)\n",
    "    Map.addLayer(tenyrule_edited,{'bands': ['Class'],'palette': '#FFA500'},\"10 Years Rule - not OK\", False)\n",
    "    Map.addLayer(water_edited,{'bands': ['Class'],'palette': water},\"Water in AOI\", False)\n",
    "\n",
    "\n",
    "    ''' mosaicking into single image  - still does not work\n",
    "    #image_list = ee.List([goZone_edited, highf_edited, tenyrfl_edited, tenyrule_edited, water_edited ])\n",
    "    # Extract the spatial information from one of the individual images.\n",
    "    projection = goZone_edited.projection()\n",
    "    scale = goZone_edited.projection().nominalScale()\n",
    "\n",
    "    # Create an ee.ImageCollection from the list of images\n",
    "    image_collection = ee.ImageCollection([goZone_edited, highf_edited, tenyrfl_edited, tenyrule_edited, water_edited ])\n",
    "\n",
    "    # Merge the images into a single ee.Image\n",
    "    zoning_final = image_collection.mosaic()\n",
    "    '''\n",
    "    return [goZone_edited,highf_edited,tenyrfl_edited,tenyrule_edited, water_edited]\n",
    "\n",
    "tiff_result = applying_zone_sentinel_hansen(hiforest_masked,minLoss,image_mosaick, ndwi_hi)\n",
    "\n",
    "# HighForestDense = FCD.mask(FCD.gte(high_forest).And(unmaskedWaterAOI))\n",
    "HighForestDense_no10yrs = HighForestDense.And(tiff_result[1]).select(['pixel'])\n",
    "HighForestDense_no10yrs = ee.Image(assigning_band(band_name_image,21,HighForestDense_no10yrs))\n",
    "\n",
    "HighForestDense_10yrs = HighForestDense.And(tiff_result[2]).select(['pixel'])\n",
    "HighForestDense_10yrs = ee.Image(assigning_band(band_name_image,31,HighForestDense_10yrs))\n",
    "\n",
    "#YRFForestDense = FCD.mask(FCD.gte(yrf_forest).And(unmaskedWaterAOI).And(FCD.lt(high_forest)))\n",
    "YRFForestDense_no10yrs = YRFForestDense.And(tiff_result[1]).select(['pixel'])\n",
    "YRFForestDense_no10yrs = ee.Image(assigning_band(band_name_image,22,YRFForestDense_no10yrs))\n",
    "\n",
    "YRFForestDense_10yrs = YRFForestDense.And(tiff_result[2]).select(['pixel'])\n",
    "YRFForestDense_10yrs = ee.Image(assigning_band(band_name_image,32,YRFForestDense_10yrs))\n",
    "\n",
    "Shrubland_gozone = Shrubland.And(tiff_result[0]).select(['pixel'])\n",
    "Shrubland_gozone = ee.Image(assigning_band(band_name_image,11,Shrubland_gozone))\n",
    "\n",
    "Grassland_gozone = Grassland.And(tiff_result[0]).select(['pixel'])\n",
    "Grassland_gozone = ee.Image(assigning_band(band_name_image,12,Grassland_gozone))\n",
    "\n",
    "# Filter the images based on the 'Class' band\n",
    "grassland_gozone = Grassland_gozone.select(['Class'])\n",
    "Map.addLayer(grassland_gozone,{'palette': ['#ffff33']},'Grass land - Go Zone')\n",
    "\n",
    "shrubland_gozone = Shrubland_gozone.select(['Class'])\n",
    "Map.addLayer(shrubland_gozone,{'palette': ['#ffe3b3']},'Shrub land - Go Zone')\n",
    "\n",
    "yrf_forest_dense_no10yrs = YRFForestDense_no10yrs.select(['Class'])\n",
    "Map.addLayer(yrf_forest_dense_no10yrs,{'palette': ['#83ff5a']},'Low-Med Forest')\n",
    "\n",
    "high_forest_dense_no10yrs = HighForestDense_no10yrs.select('Class')\n",
    "Map.addLayer(high_forest_dense_no10yrs,{'palette': ['#09ab0c']},'High- Density Forest')\n",
    "\n",
    "yrf_forest_dense_10yrs = YRFForestDense_10yrs.select(['Class'])\n",
    "Map.addLayer(yrf_forest_dense_10yrs,{'palette': ['#ff0abe']},'Re-growth Low-Med Density Forest')\n",
    "\n",
    "high_forest_dense_10yrs = HighForestDense_10yrs.select(['Class'])\n",
    "Map.addLayer(high_forest_dense_10yrs,{'palette': ['#ff0004']},'Re-growth High Density Forest')\n",
    "\n",
    "No_pass_historical_years_rule = tiff_result[3].select(['Class'])\n",
    "Map.addLayer(No_pass_historical_years_rule,{'palette': ['#ff8a1d']},'Historical deforestation no regrowth (3 or 10 years)')\n",
    "\n",
    "Water_Un_plantable = tiff_result[4].select(['Class'])\n",
    "Map.addLayer(Water_Un_plantable,{'palette': ['#1900ff']},'Water body (unplantable)')\n",
    "\n",
    "\n",
    "empty_image = ee.Image.constant(0).rename('Class')\n",
    "\n",
    "def add_classes(image, empty):\n",
    "    # Cast the image to Int32 to handle NaN and null values\n",
    "    image = image.unmask(0).toInt32()\n",
    "    # Set a conditional statement to retain existing class values if non-zero, otherwise use the new class value\n",
    "    merged_image = empty.where(empty.neq(0), empty).where(image.neq(0), image)\n",
    "    return merged_image\n",
    "\n",
    "# Create a list of images excluding the 'empty_image'\n",
    "image_list = [\n",
    "    grassland_gozone,\n",
    "    shrubland_gozone,\n",
    "    yrf_forest_dense_no10yrs,\n",
    "    high_forest_dense_no10yrs,\n",
    "    yrf_forest_dense_10yrs,\n",
    "    high_forest_dense_10yrs,\n",
    "    No_pass_historical_years_rule,\n",
    "    Water_Un_plantable\n",
    "]\n",
    "\n",
    "# Create an ImageCollection from the list of images\n",
    "image_collection = ee.ImageCollection(image_list)\n",
    "\n",
    "# Apply the add_classes function to each image in the collection while merging them into the 'empty_image'\n",
    "result_collection = image_collection.map(lambda image: add_classes(image, empty_image))\n",
    "\n",
    "# Create a function to add two images element-wise\n",
    "def add_images(img1, img2):\n",
    "    return ee.Image(img1).add(img2)\n",
    "\n",
    "# Merge all the images in the result_collection using ee.ImageCollection.iterate()\n",
    "merged_image = ee.Image(result_collection.iterate(add_images, empty_image))\n",
    "\n",
    "# Cast the merged image to Int32 and set the original Class band name\n",
    "merged_image = merged_image.toInt32().rename('Class')\n",
    "merged_image = merged_image.clip(AOI)\n",
    "print('finish processing')\n"
   ]
  },
  {
   "cell_type": "code",
   "execution_count": null,
   "id": "7acbba77-9d2f-4c18-add7-f5b7eea04282",
   "metadata": {},
   "outputs": [],
   "source": [
    "# Load DEM data (replace 'dataset' with your actual DEM dataset)\n",
    "DEM = ee.Image('USGS/SRTMGL1_003').clip(AOI)\n",
    "\n",
    "# Calculate slope in degrees\n",
    "slope = ee.Terrain.slope(DEM)\n",
    "\n",
    "# Convert slope to percentage\n",
    "slopePercentage = slope.expression('tan(b*0.01745) * 100', {'b': slope})\n",
    "\n",
    "# Define slope classification thresholds\n",
    "thresholds = [8, 15, 25, 40]  # Adjust these thresholds as needed\n",
    "\n",
    "# Classify slope into categories using conditional statements\n",
    "slopeClasses = slopePercentage \\\n",
    "    .lte(thresholds[0]).multiply(1) \\\n",
    "    .add(slopePercentage.gt(thresholds[0]).And(slopePercentage.lte(thresholds[1])).multiply(2)) \\\n",
    "    .add(slopePercentage.gt(thresholds[1]).And(slopePercentage.lte(thresholds[2])).multiply(3)) \\\n",
    "    .add(slopePercentage.gt(thresholds[2]).And(slopePercentage.lte(thresholds[3])).multiply(4)) \\\n",
    "    .add(slopePercentage.gt(thresholds[3]).multiply(5))\n",
    "\n",
    "# Display the classified slope image\n",
    "palette = ['lightgreen', 'yellow', 'orange', 'pink', 'red']  # Change green to lightgreen\n",
    "vis_params = {'min': 1, 'max': 5, 'palette': palette}\n",
    "Map.addLayer(slopeClasses, vis_params, 'Slope Classes', True)\n",
    "# Map.addLayer(DEM)\n",
    "#Map.addLayer(Grassland_gozone.And(slopeClasses.eq(1).selfMask()),{'min':1,'max':100}, 'Grassland Slope 1')\n",
    "#Map.addLayer(Grassland_gozone.And(slopeClasses.eq(2).selfMask()),{'min':1,'max':100}, 'Grassland Slope 2')\n",
    "#Map.addLayer(Grassland_gozone.And(slopeClasses.eq(3).selfMask()),{'min':1,'max':100},'Grassland Slope 3')\n",
    "#Map.addLayer(Grassland_gozone.And(slopeClasses.eq(4).selfMask()),{'min':1,'max':100},'Grassland Slope 4')\n",
    "#Map.addLayer(Grassland_gozone.And(slopeClasses.eq(5).selfMask()),{'min':1,'max':100},'Grassland Slope 5')\n",
    "\n",
    "class_name_map = {\n",
    "    '11': 'Shrubland_Go-Zone',\n",
    "    '12': 'Grassland_Go-Zone',\n",
    "    '21': 'High density Forest',\n",
    "    '22': 'Low - Medium density Forest',\n",
    "    '31': 'Regrowth High Density Forest from deforested (historical)',\n",
    "    '32': 'Regrowth Low Density Forest from deforested (historical)',\n",
    "    '4': 'Historical deforestation (3 or 10 years rule)',\n",
    "    '5': 'Water Body'\n",
    "}\n",
    "\n",
    "key_value_strings = [f'{key}: {value}' for key, value in class_name_map.items()]\n",
    "\n",
    "class_name_map_color = {\n",
    "    '11': '#ffe3b3',\n",
    "    '12': '#ffff33',\n",
    "    '21': '#09ab0c',\n",
    "    '22': '#83ff5a',\n",
    "    '31': '#ff0004',\n",
    "    '32': '#ff0abe',\n",
    "    '4': '#ff8a1d',\n",
    "    '5': '#1900ff'\n",
    "}\n",
    "\n",
    "value_list = [value for key, value in class_name_map_color.items()]\n",
    "\n",
    "labels = key_value_strings\n",
    "# colorS can be defined using either hex code or RGB (0-255, 0-255, 0-255)\n",
    "colors = value_list\n",
    "# legend_colors = [(255, 0, 0), (127, 255, 0), (127, 18, 25), (36, 70, 180), (96, 68 123)]\n",
    "\n",
    "Map.add_legend(title='Legend', labels=labels, colors=colors, position='bottomleft')\n",
    "Map.addLayerControl()"
   ]
  },
  {
   "cell_type": "code",
   "execution_count": null,
   "id": "c5872cdb-8bf1-4e1f-ac86-4605f9a8a6e9",
   "metadata": {},
   "outputs": [],
   "source": [
    "# Exporting to tiff\n",
    "##### INPUT ###########################\n",
    "title_map = 'Axis Landscape'\n",
    "\n",
    "AOI_NAME = title_map\n",
    "START_DATE = start_date\n",
    "END_DATE = end_date\n",
    "\n",
    "list_images = [FCD,Grassland_gozone,Shrubland_gozone , YRFForestDense_no10yrs,\n",
    "                HighForestDense_no10yrs, YRFForestDense_10yrs, HighForestDense_10yrs,\n",
    "              tiff_result[3], tiff_result[4], slopeClasses]\n",
    "list_names =  ['FCD','Go Zone_Grassland', 'Go Zone_Shrubland', 'YRF_Forest',\n",
    "                'High_Dense_Forest','YRF_nopass_historical', 'HDenseForest_nopass_historical',\n",
    "                'No_pass_historical_years_rule', 'Water_Un_plantable','Slope-Classes']\n",
    "for i in range(len(list_images)):\n",
    "    geemap.ee_export_image_to_drive(\n",
    "        list_images[i], description=f'{AOI_NAME}_{START_DATE}_{END_DATE}_{list_names[i]}', folder=f\"JupyterGEE_{AOI_NAME}\", scale=pca_scale, region=AOI.geometry(),\n",
    "    )\n",
    "    print(f'exported - {list_names[i]}')\n",
    "\n",
    "# if I_satellite == 'LANDSAT':\n",
    "#     geemap.ee_export_image_to_drive(\n",
    "#             image_corrected.clip(AOI), description=f'{AOI_NAME}_{START_DATE}_{END_DATE}_LANDSAT', folder=f\"JupyterGEE_{AOI_NAME}\", scale=pca_scale, region=AOI.geometry(),\n",
    "#         )\n",
    "#     print(f'exported - LANDSAT')\n",
    "\n",
    "# elif TI_include == False and satellite == 'planet':\n",
    "#     geemap.ee_export_image_to_drive(\n",
    "#             filtered_scaled.clip(AOI), description=f'{AOI_NAME}_{START_DATE}_{END_DATE}_PlanetNICFI_MEDIAN', folder=f\"JupyterGEE_{AOI_NAME}\", scale=pca_scale, region=AOI.geometry(),\n",
    "#         )\n",
    "#     print(f'exported - Planet Labs')\n",
    "\n",
    "# elif TI_include == False and satellite == 'sentinel':\n",
    "#     geemap.ee_export_image_to_drive(\n",
    "#             image_corrected.clip(AOI), description=f'{AOI_NAME}_{START_DATE}_{END_DATE}_Sentinel_median', folder=f\"JupyterGEE_{AOI_NAME}\", scale=pca_scale, region=AOI.geometry(),\n",
    "#         )\n",
    "#     print(f'exported - Sentinel')\n",
    "\n",
    "# Print the resulting merged image\n",
    "#print(merged_image.getInfo())\n",
    "\n",
    "\n",
    "geemap.ee_export_image_to_drive(\n",
    "            merged_image.select('Class').toInt(), description=f'{AOI_NAME}_{START_DATE}_{END_DATE}_merged', folder=f\"JupyterGEE_{AOI_NAME}\", scale=pca_scale, region=AOI.geometry(),\n",
    "        )\n",
    "print(f'exported - Merged_classes')"
   ]
  },
  {
   "cell_type": "code",
   "execution_count": null,
   "id": "556664fe-fa9c-4a06-8395-0908b5364ea7",
   "metadata": {},
   "outputs": [],
   "source": []
  },
  {
   "cell_type": "code",
   "execution_count": null,
   "id": "f819d7fb-d4dc-4a43-9c36-8eb598cb4da3",
   "metadata": {},
   "outputs": [],
   "source": []
  },
  {
   "cell_type": "code",
   "execution_count": null,
   "id": "57f8f0d0-682a-46c6-a03f-4250217de837",
   "metadata": {},
   "outputs": [],
   "source": [
    "print(type(conf_selected.start_date_analysis))"
   ]
  },
  {
   "cell_type": "code",
   "execution_count": null,
   "id": "b9814ade-30af-471e-bafd-401f00e7380f",
   "metadata": {},
   "outputs": [],
   "source": [
    "from asgiref.sync import sync_to_async\n",
    "\n",
    "async def async_filter():\n",
    "    try:\n",
    "        label = await sync_to_async(SatVerConfiguration.objects.get)(label=\"TEST_DEMO_TREEO_Landsat_2022\")\n",
    "    except SatVerConfiguration.DoesNotExist:\n",
    "        print('label object is not found')\n",
    "        label = None\n",
    "    return label\n",
    "\n",
    "query = await async_filter()"
   ]
  },
  {
   "cell_type": "code",
   "execution_count": null,
   "id": "c183cf0a-3801-4ca1-9188-16119ad9e01f",
   "metadata": {},
   "outputs": [],
   "source": [
    "query.id"
   ]
  }
 ],
 "metadata": {
  "kernelspec": {
   "display_name": "Python 3 (ipykernel)",
   "language": "python",
   "name": "python3"
  },
  "language_info": {
   "codemirror_mode": {
    "name": "ipython",
    "version": 3
   },
   "file_extension": ".py",
   "mimetype": "text/x-python",
   "name": "python",
   "nbconvert_exporter": "python",
   "pygments_lexer": "ipython3",
   "version": "3.10.12"
  }
 },
 "nbformat": 4,
 "nbformat_minor": 5
}
