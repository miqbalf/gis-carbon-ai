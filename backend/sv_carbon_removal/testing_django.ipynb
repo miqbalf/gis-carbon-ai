{
 "cells": [
  {
   "cell_type": "code",
   "execution_count": 89,
   "id": "90f11652-4792-42d1-9b1f-4a839881bb11",
   "metadata": {},
   "outputs": [],
   "source": [
    "import os\n",
    "import django\n",
    "from django.conf import settings\n",
    "\n",
    "# Set the Django settings module\n",
    "os.environ.setdefault(\"DJANGO_SETTINGS_MODULE\", \"sv_carbon_removal.settings\")\n",
    "django.setup()\n"
   ]
  },
  {
   "cell_type": "code",
   "execution_count": 90,
   "id": "325f52aa-e6ed-4c8a-ac37-1fff5760986e",
   "metadata": {},
   "outputs": [],
   "source": [
    "from django.conf import settings"
   ]
  },
  {
   "cell_type": "code",
   "execution_count": 91,
   "id": "ab1a7b36-4543-4d44-bf7f-e501fc92b884",
   "metadata": {},
   "outputs": [
    {
     "data": {
      "text/plain": [
       "<LazySettings \"sv_carbon_removal.settings\">"
      ]
     },
     "execution_count": 91,
     "metadata": {},
     "output_type": "execute_result"
    }
   ],
   "source": [
    "settings"
   ]
  },
  {
   "cell_type": "code",
   "execution_count": 217,
   "id": "f033aeab-ca94-4147-88d7-0d36b198c73e",
   "metadata": {},
   "outputs": [
    {
     "data": {
      "text/html": [
       "\n",
       "            <style>\n",
       "                .geemap-dark {\n",
       "                    --jp-widgets-color: white;\n",
       "                    --jp-widgets-label-color: white;\n",
       "                    --jp-ui-font-color1: white;\n",
       "                    --jp-layout-color2: #454545;\n",
       "                    background-color: #383838;\n",
       "                }\n",
       "                    \n",
       "                .geemap-dark .jupyter-button {\n",
       "                    --jp-layout-color3: #383838;\n",
       "                }\n",
       "                \n",
       "                .geemap-colab {\n",
       "                    background-color: var(--colab-primary-surface-color, white);\n",
       "                }\n",
       "                    \n",
       "                .geemap-colab .jupyter-button {\n",
       "                    --jp-layout-color3: var(--colab-primary-surface-color, white);\n",
       "                }\n",
       "            </style>\n",
       "            "
      ],
      "text/plain": [
       "<IPython.core.display.HTML object>"
      ]
     },
     "metadata": {},
     "output_type": "display_data"
    },
    {
     "data": {
      "text/plain": [
       "'/media/'"
      ]
     },
     "execution_count": 217,
     "metadata": {},
     "output_type": "execute_result"
    }
   ],
   "source": [
    "settings.MEDIA_URL"
   ]
  },
  {
   "cell_type": "code",
   "execution_count": 218,
   "id": "e1b73528-3c6e-4fd4-9fba-ef55f708747e",
   "metadata": {},
   "outputs": [
    {
     "data": {
      "text/html": [
       "\n",
       "            <style>\n",
       "                .geemap-dark {\n",
       "                    --jp-widgets-color: white;\n",
       "                    --jp-widgets-label-color: white;\n",
       "                    --jp-ui-font-color1: white;\n",
       "                    --jp-layout-color2: #454545;\n",
       "                    background-color: #383838;\n",
       "                }\n",
       "                    \n",
       "                .geemap-dark .jupyter-button {\n",
       "                    --jp-layout-color3: #383838;\n",
       "                }\n",
       "                \n",
       "                .geemap-colab {\n",
       "                    background-color: var(--colab-primary-surface-color, white);\n",
       "                }\n",
       "                    \n",
       "                .geemap-colab .jupyter-button {\n",
       "                    --jp-layout-color3: var(--colab-primary-surface-color, white);\n",
       "                }\n",
       "            </style>\n",
       "            "
      ],
      "text/plain": [
       "<IPython.core.display.HTML object>"
      ]
     },
     "metadata": {},
     "output_type": "display_data"
    },
    {
     "name": "stdout",
     "output_type": "stream",
     "text": [
      "58 39 uploads/aoi_TEST_DEMO_TREEO_shp_axis_admin.zip\n"
     ]
    }
   ],
   "source": [
    "from asgiref.sync import sync_to_async\n",
    "from fcd_gee.models import ProjectCarbon, SatVerConfiguration\n",
    "\n",
    "async def my_async_function():\n",
    "    # Async function code here\n",
    "\n",
    "    # Convert the synchronous queryset to asynchronous using sync_to_async\n",
    "    queryset = await sync_to_async(list)(SatVerConfiguration.objects.all())\n",
    "\n",
    "    # Process the queryset asynchronously\n",
    "    for obj in queryset:\n",
    "        # Async processing code here\n",
    "        # print(obj.id, obj.start_date_analysis)\n",
    "        shp_aoi = await sync_to_async(lambda: obj.shp_aoi)()\n",
    "        print(obj.id, shp_aoi.id, shp_aoi.file)\n",
    "    return queryset\n",
    "\n",
    "# Call the async function\n",
    "query = await my_async_function()"
   ]
  },
  {
   "cell_type": "code",
   "execution_count": 219,
   "id": "04002d89-a1ad-48f7-b021-ff7742134e75",
   "metadata": {},
   "outputs": [
    {
     "data": {
      "text/html": [
       "\n",
       "            <style>\n",
       "                .geemap-dark {\n",
       "                    --jp-widgets-color: white;\n",
       "                    --jp-widgets-label-color: white;\n",
       "                    --jp-ui-font-color1: white;\n",
       "                    --jp-layout-color2: #454545;\n",
       "                    background-color: #383838;\n",
       "                }\n",
       "                    \n",
       "                .geemap-dark .jupyter-button {\n",
       "                    --jp-layout-color3: #383838;\n",
       "                }\n",
       "                \n",
       "                .geemap-colab {\n",
       "                    background-color: var(--colab-primary-surface-color, white);\n",
       "                }\n",
       "                    \n",
       "                .geemap-colab .jupyter-button {\n",
       "                    --jp-layout-color3: var(--colab-primary-surface-color, white);\n",
       "                }\n",
       "            </style>\n",
       "            "
      ],
      "text/plain": [
       "<IPython.core.display.HTML object>"
      ]
     },
     "metadata": {},
     "output_type": "display_data"
    },
    {
     "data": {
      "text/plain": [
       "[<SatVerConfiguration: TEST_DEMO_TREEO_Landsat_2022>]"
      ]
     },
     "execution_count": 219,
     "metadata": {},
     "output_type": "execute_result"
    }
   ],
   "source": [
    "query"
   ]
  },
  {
   "cell_type": "code",
   "execution_count": 220,
   "id": "f24d763b-59ab-43a4-a327-e088751a90e2",
   "metadata": {},
   "outputs": [
    {
     "data": {
      "text/html": [
       "\n",
       "            <style>\n",
       "                .geemap-dark {\n",
       "                    --jp-widgets-color: white;\n",
       "                    --jp-widgets-label-color: white;\n",
       "                    --jp-ui-font-color1: white;\n",
       "                    --jp-layout-color2: #454545;\n",
       "                    background-color: #383838;\n",
       "                }\n",
       "                    \n",
       "                .geemap-dark .jupyter-button {\n",
       "                    --jp-layout-color3: #383838;\n",
       "                }\n",
       "                \n",
       "                .geemap-colab {\n",
       "                    background-color: var(--colab-primary-surface-color, white);\n",
       "                }\n",
       "                    \n",
       "                .geemap-colab .jupyter-button {\n",
       "                    --jp-layout-color3: var(--colab-primary-surface-color, white);\n",
       "                }\n",
       "            </style>\n",
       "            "
      ],
      "text/plain": [
       "<IPython.core.display.HTML object>"
      ]
     },
     "metadata": {},
     "output_type": "display_data"
    }
   ],
   "source": [
    "conf_selected = [sel for sel in query if sel.label == 'TEST_DEMO_TREEO_Landsat_2022'][0]"
   ]
  },
  {
   "cell_type": "code",
   "execution_count": 221,
   "id": "29fe4419-0386-4180-a439-f27476828ff8",
   "metadata": {},
   "outputs": [
    {
     "data": {
      "text/html": [
       "\n",
       "            <style>\n",
       "                .geemap-dark {\n",
       "                    --jp-widgets-color: white;\n",
       "                    --jp-widgets-label-color: white;\n",
       "                    --jp-ui-font-color1: white;\n",
       "                    --jp-layout-color2: #454545;\n",
       "                    background-color: #383838;\n",
       "                }\n",
       "                    \n",
       "                .geemap-dark .jupyter-button {\n",
       "                    --jp-layout-color3: #383838;\n",
       "                }\n",
       "                \n",
       "                .geemap-colab {\n",
       "                    background-color: var(--colab-primary-surface-color, white);\n",
       "                }\n",
       "                    \n",
       "                .geemap-colab .jupyter-button {\n",
       "                    --jp-layout-color3: var(--colab-primary-surface-color, white);\n",
       "                }\n",
       "            </style>\n",
       "            "
      ],
      "text/plain": [
       "<IPython.core.display.HTML object>"
      ]
     },
     "metadata": {},
     "output_type": "display_data"
    },
    {
     "data": {
      "text/plain": [
       "<SatVerConfiguration: TEST_DEMO_TREEO_Landsat_2022>"
      ]
     },
     "execution_count": 221,
     "metadata": {},
     "output_type": "execute_result"
    }
   ],
   "source": [
    "conf_selected"
   ]
  },
  {
   "cell_type": "code",
   "execution_count": 222,
   "id": "b5cce2f7-a2db-4b8a-b2b1-bba8ca863894",
   "metadata": {},
   "outputs": [
    {
     "data": {
      "text/html": [
       "\n",
       "            <style>\n",
       "                .geemap-dark {\n",
       "                    --jp-widgets-color: white;\n",
       "                    --jp-widgets-label-color: white;\n",
       "                    --jp-ui-font-color1: white;\n",
       "                    --jp-layout-color2: #454545;\n",
       "                    background-color: #383838;\n",
       "                }\n",
       "                    \n",
       "                .geemap-dark .jupyter-button {\n",
       "                    --jp-layout-color3: #383838;\n",
       "                }\n",
       "                \n",
       "                .geemap-colab {\n",
       "                    background-color: var(--colab-primary-surface-color, white);\n",
       "                }\n",
       "                    \n",
       "                .geemap-colab .jupyter-button {\n",
       "                    --jp-layout-color3: var(--colab-primary-surface-color, white);\n",
       "                }\n",
       "            </style>\n",
       "            "
      ],
      "text/plain": [
       "<IPython.core.display.HTML object>"
      ]
     },
     "metadata": {},
     "output_type": "display_data"
    },
    {
     "data": {
      "text/plain": [
       "datetime.date"
      ]
     },
     "execution_count": 222,
     "metadata": {},
     "output_type": "execute_result"
    }
   ],
   "source": [
    "type(conf_selected.start_date_analysis)"
   ]
  },
  {
   "cell_type": "code",
   "execution_count": 223,
   "id": "f4671a89-fcbb-45d2-acd8-27e438eb51b9",
   "metadata": {},
   "outputs": [
    {
     "data": {
      "text/html": [
       "\n",
       "            <style>\n",
       "                .geemap-dark {\n",
       "                    --jp-widgets-color: white;\n",
       "                    --jp-widgets-label-color: white;\n",
       "                    --jp-ui-font-color1: white;\n",
       "                    --jp-layout-color2: #454545;\n",
       "                    background-color: #383838;\n",
       "                }\n",
       "                    \n",
       "                .geemap-dark .jupyter-button {\n",
       "                    --jp-layout-color3: #383838;\n",
       "                }\n",
       "                \n",
       "                .geemap-colab {\n",
       "                    background-color: var(--colab-primary-surface-color, white);\n",
       "                }\n",
       "                    \n",
       "                .geemap-colab .jupyter-button {\n",
       "                    --jp-layout-color3: var(--colab-primary-surface-color, white);\n",
       "                }\n",
       "            </style>\n",
       "            "
      ],
      "text/plain": [
       "<IPython.core.display.HTML object>"
      ]
     },
     "metadata": {},
     "output_type": "display_data"
    },
    {
     "data": {
      "text/plain": [
       "'/home/mfirdaus/gee_mapbox/backend/sv_carbon_removal'"
      ]
     },
     "execution_count": 223,
     "metadata": {},
     "output_type": "execute_result"
    }
   ],
   "source": [
    "import ee\n",
    "import os\n",
    "os.getcwd()"
   ]
  },
  {
   "cell_type": "code",
   "execution_count": 224,
   "id": "b94d7d05-603d-4402-948b-99e339b22088",
   "metadata": {},
   "outputs": [
    {
     "data": {
      "text/html": [
       "\n",
       "            <style>\n",
       "                .geemap-dark {\n",
       "                    --jp-widgets-color: white;\n",
       "                    --jp-widgets-label-color: white;\n",
       "                    --jp-ui-font-color1: white;\n",
       "                    --jp-layout-color2: #454545;\n",
       "                    background-color: #383838;\n",
       "                }\n",
       "                    \n",
       "                .geemap-dark .jupyter-button {\n",
       "                    --jp-layout-color3: #383838;\n",
       "                }\n",
       "                \n",
       "                .geemap-colab {\n",
       "                    background-color: var(--colab-primary-surface-color, white);\n",
       "                }\n",
       "                    \n",
       "                .geemap-colab .jupyter-button {\n",
       "                    --jp-layout-color3: var(--colab-primary-surface-color, white);\n",
       "                }\n",
       "            </style>\n",
       "            "
      ],
      "text/plain": [
       "<IPython.core.display.HTML object>"
      ]
     },
     "metadata": {},
     "output_type": "display_data"
    }
   ],
   "source": [
    "# Trigger the authentication flow. if you want to user json, please comment this\n",
    "# ee.Authenticate()\n",
    "# Initialize the library.\n",
    "import os\n",
    "\n",
    "service_account = 'iqbalpythonapi@bukit30project.iam.gserviceaccount.com'\n",
    "credentials = ee.ServiceAccountCredentials(service_account, os.path.join(os.getcwd(),'fcd_gee/bukit30project-4d92e5b46ea7.json'))\n",
    "\n",
    "# Initialize the library.\n",
    "# ee.Initialize(project='bukit30project')\n",
    "ee.Initialize(credentials)\n",
    "\n",
    "# ee.Initialize(project='bukit30project')"
   ]
  },
  {
   "cell_type": "code",
   "execution_count": 225,
   "id": "515e5602-8f4f-4610-bc3a-23047ef54fee",
   "metadata": {},
   "outputs": [
    {
     "data": {
      "text/html": [
       "\n",
       "            <style>\n",
       "                .geemap-dark {\n",
       "                    --jp-widgets-color: white;\n",
       "                    --jp-widgets-label-color: white;\n",
       "                    --jp-ui-font-color1: white;\n",
       "                    --jp-layout-color2: #454545;\n",
       "                    background-color: #383838;\n",
       "                }\n",
       "                    \n",
       "                .geemap-dark .jupyter-button {\n",
       "                    --jp-layout-color3: #383838;\n",
       "                }\n",
       "                \n",
       "                .geemap-colab {\n",
       "                    background-color: var(--colab-primary-surface-color, white);\n",
       "                }\n",
       "                    \n",
       "                .geemap-colab .jupyter-button {\n",
       "                    --jp-layout-color3: var(--colab-primary-surface-color, white);\n",
       "                }\n",
       "            </style>\n",
       "            "
      ],
      "text/plain": [
       "<IPython.core.display.HTML object>"
      ]
     },
     "metadata": {},
     "output_type": "display_data"
    }
   ],
   "source": [
    "import math\n",
    "from datetime import datetime"
   ]
  },
  {
   "cell_type": "code",
   "execution_count": 226,
   "id": "d527acec-368a-460e-9cd4-31cf019e0510",
   "metadata": {},
   "outputs": [
    {
     "data": {
      "text/html": [
       "\n",
       "            <style>\n",
       "                .geemap-dark {\n",
       "                    --jp-widgets-color: white;\n",
       "                    --jp-widgets-label-color: white;\n",
       "                    --jp-ui-font-color1: white;\n",
       "                    --jp-layout-color2: #454545;\n",
       "                    background-color: #383838;\n",
       "                }\n",
       "                    \n",
       "                .geemap-dark .jupyter-button {\n",
       "                    --jp-layout-color3: #383838;\n",
       "                }\n",
       "                \n",
       "                .geemap-colab {\n",
       "                    background-color: var(--colab-primary-surface-color, white);\n",
       "                }\n",
       "                    \n",
       "                .geemap-colab .jupyter-button {\n",
       "                    --jp-layout-color3: var(--colab-primary-surface-color, white);\n",
       "                }\n",
       "            </style>\n",
       "            "
      ],
      "text/plain": [
       "<IPython.core.display.HTML object>"
      ]
     },
     "metadata": {},
     "output_type": "display_data"
    }
   ],
   "source": [
    "# class cloudmasking for landsat\n",
    "def cloud_mask_tm(image, sr=True):\n",
    "    qa = image.select('QA_PIXEL')\n",
    "    dilated = 1 << 1\n",
    "    cloud = 1 << 3\n",
    "    shadow = 1 << 4\n",
    "    mask = qa.bitwiseAnd(dilated).eq(0) \\\n",
    "        .And(qa.bitwiseAnd(cloud).eq(0)) \\\n",
    "        .And(qa.bitwiseAnd(shadow).eq(0))\n",
    "\n",
    "    if sr:\n",
    "        optical_bands = image.select(['SR_B1', 'SR_B2', 'SR_B3', 'SR_B4', 'SR_B5', 'SR_B7'], ['blue', 'green', 'red', 'nir', 'swir1', 'swir2']) \\\n",
    "                                            .updateMask(mask) \\\n",
    "                                            .multiply(0.0000275).add(-0.2)\n",
    "\n",
    "\n",
    "        thermal_band = image.select(['ST_B6'], ['thermal']).updateMask(mask) \\\n",
    "                                            .multiply(0.00341802).add(149.0)\n",
    "\n",
    "\n",
    "    else:\n",
    "        optical_bands = image.select(['B1', 'B2', 'B3', 'B4', 'B5', 'B7'], ['blue', 'green', 'red', 'nir', 'swir1', 'swir2']) \\\n",
    "                                            .updateMask(mask) \\\n",
    "                                            .multiply(0.0001)\n",
    "\n",
    "        thermal_band = image.select(['B6'], ['thermal']).updateMask(mask) \\\n",
    "                                            .multiply(0.0001)\n",
    "\n",
    "    cloudM = mask.rename('cloudM')\n",
    "\n",
    "    imageCloudMasked = image.addBands(optical_bands, None, True) \\\n",
    "                            .addBands(thermal_band, None, True)\n",
    "\n",
    "    imageCloudMasked = imageCloudMasked.addBands(cloudM)\n",
    "\n",
    "    return imageCloudMasked\n",
    "\n",
    "def cloud_mask_oli(image, sr=True):\n",
    "    qa = image.select('QA_PIXEL')\n",
    "    dilated = 1 << 1\n",
    "    cirrus = 1 << 2\n",
    "    cloud = 1 << 3\n",
    "    shadow = 1 << 4\n",
    "    mask = qa.bitwiseAnd(dilated).eq(0) \\\n",
    "        .And(qa.bitwiseAnd(cirrus).eq(0)) \\\n",
    "        .And(qa.bitwiseAnd(cloud).eq(0)) \\\n",
    "        .And(qa.bitwiseAnd(shadow).eq(0))\n",
    "\n",
    "    if sr:\n",
    "        #print('sr=True')\n",
    "        optical_bands = image.select(['SR_B2', 'SR_B3', 'SR_B4', 'SR_B5', 'SR_B6', 'SR_B7'], ['blue', 'green', 'red', 'nir', 'swir1', 'swir2']) \\\n",
    "                        .updateMask(mask) \\\n",
    "                        .multiply(0.0000275).add(-0.2)\n",
    "\n",
    "        thermal_band = image.select(['ST_B10'], ['thermal']).updateMask(mask) \\\n",
    "                        .multiply(0.00341802).add(149.0)\n",
    "\n",
    "    else:\n",
    "        optical_bands = image.select(['B2', 'B3', 'B4', 'B5', 'B6', 'B7'], ['blue', 'green', 'red', 'nir', 'swir1', 'swir2']) \\\n",
    "                        .updateMask(mask) #\\\n",
    "                        #.multiply(0.0001)\n",
    "\n",
    "        # image = detect_cloud_shadow(image)\n",
    "\n",
    "        thermal_band = image.select(['B10'], ['thermal']) \\\n",
    "                        .updateMask(mask) #\\\n",
    "                        #.multiply(0.0001)\n",
    "\n",
    "        #best_image_year = detect_cloud_shadow(best_image_year)\n",
    "\n",
    "        # thermal index adapted from:\n",
    "\n",
    "        AlB10 = ee.Number(image.get('RADIANCE_ADD_BAND_10'))\n",
    "        M1B10 = ee.Number(image.get('RADIANCE_MULT_BAND_10'))\n",
    "\n",
    "        radiance = thermal_band.multiply(M1B10).add(AlB10)\n",
    "\n",
    "        K_1 = ee.Number(image.get('K1_CONSTANT_BAND_10'))\n",
    "        K_2 = ee.Number(image.get('K2_CONSTANT_BAND_10'))\n",
    "        A = ee.Number(image.get('RADIANCE_ADD_BAND_10'))\n",
    "        M = ee.Number(image.get('RADIANCE_MULT_BAND_10'))\n",
    "\n",
    "        # Getting the Thermal Index - source??\n",
    "        TI = radiance.expression('(K_2) / log((K_1 / TEMP)+1)',{\n",
    "              'K_2': K_2,\n",
    "              'K_1': K_1,\n",
    "              'TEMP':radiance\n",
    "            }\n",
    "          ).rename('TI')\n",
    "\n",
    "\n",
    "    cloudM = mask.rename('cloudM')\n",
    "\n",
    "    imageCloudMasked = image.addBands(optical_bands, None, True) \\\n",
    "                            .addBands(thermal_band, None, True)\n",
    "    if sr==False:\n",
    "        #print('sr=False')\n",
    "        imageCloudMasked = imageCloudMasked.addBands(TI, None, True)\n",
    "\n",
    "    imageCloudMasked = imageCloudMasked.addBands(cloudM)\n",
    "\n",
    "    return imageCloudMasked"
   ]
  },
  {
   "cell_type": "code",
   "execution_count": 227,
   "id": "611f5e1f-ebb5-4f32-b62a-77e32ec39bc3",
   "metadata": {},
   "outputs": [
    {
     "data": {
      "text/html": [
       "\n",
       "            <style>\n",
       "                .geemap-dark {\n",
       "                    --jp-widgets-color: white;\n",
       "                    --jp-widgets-label-color: white;\n",
       "                    --jp-ui-font-color1: white;\n",
       "                    --jp-layout-color2: #454545;\n",
       "                    background-color: #383838;\n",
       "                }\n",
       "                    \n",
       "                .geemap-dark .jupyter-button {\n",
       "                    --jp-layout-color3: #383838;\n",
       "                }\n",
       "                \n",
       "                .geemap-colab {\n",
       "                    background-color: var(--colab-primary-surface-color, white);\n",
       "                }\n",
       "                    \n",
       "                .geemap-colab .jupyter-button {\n",
       "                    --jp-layout-color3: var(--colab-primary-surface-color, white);\n",
       "                }\n",
       "            </style>\n",
       "            "
      ],
      "text/plain": [
       "<IPython.core.display.HTML object>"
      ]
     },
     "metadata": {},
     "output_type": "display_data"
    }
   ],
   "source": [
    "# cloud masked func. Sentinel\n",
    "\n",
    "#CLOUD_FILTER = 80\n",
    "CLOUD_FILTER = 60\n",
    "CLD_PRB_THRESH = 50\n",
    "NIR_DRK_THRESH = 0.15\n",
    "CLD_PRJ_DIST = 1\n",
    "BUFFER = 50\n",
    "\n",
    "def get_s2_sr_cld_col(aoi, start_date, end_date):\n",
    "    # Import and filter S2 SR.\n",
    "    s2_sr_col = (ee.ImageCollection('COPERNICUS/S2_SR_HARMONIZED')\n",
    "        .filterBounds(aoi)\n",
    "        .filterDate(start_date, end_date)\n",
    "        .filter(ee.Filter.lte('CLOUDY_PIXEL_PERCENTAGE', CLOUD_FILTER)))\n",
    "\n",
    "    # Import and filter s2cloudless.\n",
    "    s2_cloudless_col = (ee.ImageCollection('COPERNICUS/S2_CLOUD_PROBABILITY')\n",
    "        .filterBounds(aoi)\n",
    "        .filterDate(start_date, end_date))\n",
    "\n",
    "    # Join the filtered s2cloudless collection to the SR collection by the 'system:index' property.\n",
    "    return ee.ImageCollection(ee.Join.saveFirst('s2cloudless').apply(**{\n",
    "        'primary': s2_sr_col,\n",
    "        'secondary': s2_cloudless_col,\n",
    "        'condition': ee.Filter.equals(**{\n",
    "            'leftField': 'system:index',\n",
    "            'rightField': 'system:index'\n",
    "        })\n",
    "    }))\n",
    "\n",
    "def add_cloud_bands(img):\n",
    "    # Get s2cloudless image, subset the probability band.\n",
    "    cld_prb = ee.Image(img.get('s2cloudless')).select('probability')\n",
    "\n",
    "    # Condition s2cloudless by the probability threshold value.\n",
    "    is_cloud = cld_prb.gt(CLD_PRB_THRESH).rename('clouds')\n",
    "\n",
    "    # Add the cloud probability layer and cloud mask as image bands.\n",
    "    return img.addBands(ee.Image([cld_prb, is_cloud]))\n",
    "\n",
    "def add_shadow_bands(img):\n",
    "    # Identify water pixels from the SCL band.\n",
    "    not_water = img.select('SCL').neq(6)\n",
    "\n",
    "    # Identify dark NIR pixels that are not water (potential cloud shadow pixels).\n",
    "    SR_BAND_SCALE = 1e4\n",
    "    dark_pixels = img.select('B8').lt(NIR_DRK_THRESH*SR_BAND_SCALE).multiply(not_water).rename('dark_pixels')\n",
    "\n",
    "    # Determine the direction to project cloud shadow from clouds (assumes UTM projection).\n",
    "    shadow_azimuth = ee.Number(90).subtract(ee.Number(img.get('MEAN_SOLAR_AZIMUTH_ANGLE')));\n",
    "\n",
    "    # Project shadows from clouds for the distance specified by the CLD_PRJ_DIST input.\n",
    "    cld_proj = (img.select('clouds').directionalDistanceTransform(shadow_azimuth, CLD_PRJ_DIST*10)\n",
    "        .reproject(**{'crs': img.select(0).projection(), 'scale': 100})\n",
    "        .select('distance')\n",
    "        .mask()\n",
    "        .rename('cloud_transform'))\n",
    "\n",
    "    # Identify the intersection of dark pixels with cloud shadow projection.\n",
    "    shadows = cld_proj.multiply(dark_pixels).rename('shadows')\n",
    "\n",
    "    # Add dark pixels, cloud projection, and identified shadows as image bands.\n",
    "    return img.addBands(ee.Image([dark_pixels, cld_proj, shadows]))\n",
    "\n",
    "def apply_cld_shdw_mask(img):\n",
    "    # Add cloud component bands.\n",
    "    img_cloud = add_cloud_bands(img)\n",
    "\n",
    "    # Add cloud shadow component bands.\n",
    "    img_cloud_shadow = add_shadow_bands(img_cloud)\n",
    "\n",
    "    # Combine cloud and shadow mask, set cloud and shadow as value 1, else 0.\n",
    "    is_cld_shdw = img_cloud_shadow.select('clouds').add(img_cloud_shadow.select('shadows')).gt(0)\n",
    "\n",
    "    # Remove small cloud-shadow patches and dilate remaining pixels by BUFFER input.\n",
    "    # 20 m scale is for speed, and assumes clouds don't require 10 m precision.\n",
    "    not_cld_shdw = (is_cld_shdw.focalMin(2).focalMax(BUFFER*2/20)\n",
    "        .reproject(**{'crs': img.select([0]).projection(), 'scale': 30})\n",
    "        .Not().rename('cloudM'))\n",
    "\n",
    "    # Add the final cloud-shadow mask to the image.\n",
    "    #img_all = img_cloud_shadow.addBands(not_cld_shdw)\n",
    "\n",
    "    # Preserve specific properties by copying from the original image\n",
    "    preserved_properties = img.propertyNames()\n",
    "    img_masked = img_cloud_shadow.select(['B.*']).updateMask(not_cld_shdw).multiply(0.0001)\n",
    "\n",
    "    # Copy the preserved properties back to the masked image\n",
    "    img_masked = img_masked.copyProperties(img, preserved_properties)\n",
    "\n",
    "    return {'masked_image': img_masked, 'cloudM': not_cld_shdw}"
   ]
  },
  {
   "cell_type": "code",
   "execution_count": 228,
   "id": "7a963205-1521-4764-b6c7-0c70bff1bc2e",
   "metadata": {},
   "outputs": [
    {
     "data": {
      "text/html": [
       "\n",
       "            <style>\n",
       "                .geemap-dark {\n",
       "                    --jp-widgets-color: white;\n",
       "                    --jp-widgets-label-color: white;\n",
       "                    --jp-ui-font-color1: white;\n",
       "                    --jp-layout-color2: #454545;\n",
       "                    background-color: #383838;\n",
       "                }\n",
       "                    \n",
       "                .geemap-dark .jupyter-button {\n",
       "                    --jp-layout-color3: #383838;\n",
       "                }\n",
       "                \n",
       "                .geemap-colab {\n",
       "                    background-color: var(--colab-primary-surface-color, white);\n",
       "                }\n",
       "                    \n",
       "                .geemap-colab .jupyter-button {\n",
       "                    --jp-layout-color3: var(--colab-primary-surface-color, white);\n",
       "                }\n",
       "            </style>\n",
       "            "
      ],
      "text/plain": [
       "<IPython.core.display.HTML object>"
      ]
     },
     "metadata": {},
     "output_type": "display_data"
    }
   ],
   "source": [
    "# class imagecollection composite\n",
    "class ImageCollectionComposite:\n",
    "    def __init__(self, AOI=None, date_start_end=['2022-1-1',\"2022-12-31\"], cloud_cover_threshold = 40):\n",
    "        self.AOI = AOI\n",
    "\n",
    "        # get the date based on the input list\n",
    "        self.date_start_end = date_start_end\n",
    "\n",
    "        import datetime \n",
    "\n",
    "        self.start_date = self.date_start_end[0]\n",
    "        if isinstance(self.start_date, datetime.date):\n",
    "            self.start_date = self.start_date.strftime(\"%Y-%m-%d\")           \n",
    "\n",
    "        self.end_date = self.date_start_end[1]\n",
    "        if isinstance(self.end_date, datetime.date):\n",
    "            self.end_date = self.end_date.strftime(\"%Y-%m-%d\")      \n",
    "\n",
    "        self.date_object = datetime.datetime.strptime(self.end_date, \"%Y-%m-%d\")\n",
    "        self.year = self.date_object.year\n",
    "\n",
    "        self.cloud_cover_threshold = cloud_cover_threshold\n",
    "\n",
    "    # utils for filter collection\n",
    "    def filter_collection(self, col):\n",
    "        return col.filterDate(self.start_date, self.end_date).filterBounds(self.AOI). \\\n",
    "                                                              filter(ee.Filter.lte('CLOUD_COVER', self.cloud_cover_threshold))\n",
    "\n",
    "    def merging_collection_landsat(self):\n",
    "        # col -> or collection\n",
    "        l4 = ee.ImageCollection(\"LANDSAT/LT04/C02/T1_L2\")\n",
    "        l7 = ee.ImageCollection(\"LANDSAT/LE07/C02/T1_L2\")\n",
    "        l9 = ee.ImageCollection(\"LANDSAT/LC09/C02/T1_L2\")\n",
    "        l8 = ee.ImageCollection(\"LANDSAT/LC08/C02/T1_L2\")\n",
    "        l5 = ee.ImageCollection(\"LANDSAT/LT05/C02/T1_L2\")\n",
    "\n",
    "        l4_raw = ee.ImageCollection(\"LANDSAT/LT04/C02/T1\")\n",
    "        l7_raw = ee.ImageCollection(\"LANDSAT/LE07/C02/T1\")\n",
    "        l9_raw = ee.ImageCollection(\"LANDSAT/LC09/C02/T1\")\n",
    "        l8_raw = ee.ImageCollection(\"LANDSAT/LC08/C02/T1\")\n",
    "        l5_raw = ee.ImageCollection(\"LANDSAT/LT05/C02/T1\")\n",
    "\n",
    "        # Composite function and only use cloud_masked image\n",
    "        def landsat457():\n",
    "            collection = self.filter_collection(l4).merge(self.filter_collection(l5)).merge(self.filter_collection(l7))\n",
    "            image_collection = collection.map(cloud_mask_tm)#.median().clip(roi)\n",
    "            return image_collection\n",
    "\n",
    "        def landsat89():\n",
    "            collection = self.filter_collection(l8).merge(self.filter_collection(l9))\n",
    "            image_collection = collection.map(cloud_mask_oli)#.median().clip(roi)\n",
    "            return image_collection\n",
    "\n",
    "        def landsat_raw457():\n",
    "            collection = self.filter_collection(l4_raw).merge(self.filter_collection(l5_raw)).merge(self.filter_collection(l7_raw))\n",
    "            image_collection = collection.map(lambda image: cloud_mask_tm(image, sr=False))#.median().clip(roi)\n",
    "            return image_collection\n",
    "\n",
    "        def landsat_raw89():\n",
    "            collection = self.filter_collection(l8_raw).merge(self.filter_collection(l9_raw))\n",
    "            image_collection = collection.map(lambda image: cloud_mask_oli(image, sr=False))#.median().clip(roi)\n",
    "            return image_collection\n",
    "\n",
    "        print('selecting LANDSAT images')\n",
    "        # select based on year, landsat 8 and 9 will be merged in the year 2014 or more\n",
    "        if self.year < 2014:\n",
    "            landsat = landsat457\n",
    "            landsat_raw = landsat_raw457\n",
    "        else:\n",
    "            landsat = landsat89\n",
    "            landsat_raw = landsat_raw89\n",
    "\n",
    "        image_col = landsat() # this one without median aggregation, still need to do it after,\n",
    "        return image_col\n",
    "\n",
    "    # planet labs use the existing basemap, without masking, later will be treated in median\n",
    "    def merging_collection_planet(self, region='asia'):\n",
    "        print('selecting Planet images')\n",
    "        nicfi_col = ee.ImageCollection(\"projects/planet-nicfi/assets/basemaps/asia\")\n",
    "        if region == 'asia':\n",
    "            nifci_col = nicfi_col\n",
    "        elif region == 'africa':\n",
    "            nicfi_col = ee.ImageCollection(\"projects/planet-nicfi/assets/basemaps/africa\")\n",
    "\n",
    "        filteredNicfi = nicfi_col.filterDate(self.start_date, self.end_date) \\\n",
    "                     .filterBounds(self.AOI)\n",
    "\n",
    "        def scaling_planet(image):\n",
    "            sr_image = image.select(['R','G','B','N'], ['red','green', 'blue','nir']).multiply(0.0001)\n",
    "            return sr_image\n",
    "\n",
    "        filtered_scaled = filteredNicfi.map(scaling_planet) # this one already in median, single image\n",
    "        return filtered_scaled\n",
    "\n",
    "    def merging_collection_sentinel(self):\n",
    "        print('selecting Sentinel images')\n",
    "\n",
    "        s2_sr_cld_col = get_s2_sr_cld_col(self.AOI,self.start_date, self.end_date)\n",
    "\n",
    "        SEN_BANDS = ['B2',   'B3', 'B4',  'B5', 'B6', 'B7', 'B8', 'B8A', 'B11', 'B12', 'cloudM' ]\n",
    "        bandNamesSentinel2 = ['blue', 'green', 'red', 'redE1', 'redE2', 'redE3', 'nir', 'redE4', 'swir1', 'swir2','cloudM']\n",
    "\n",
    "        # Apply the cloud and shadow mask to the entire image collection\n",
    "        s2_sr_cld_col_masked = s2_sr_cld_col.map(lambda image: apply_cld_shdw_mask(image)['masked_image'])\n",
    "        cloudM = s2_sr_cld_col.map(lambda image: apply_cld_shdw_mask(image)['cloudM'])\n",
    "\n",
    "        # Convert the image collections to lists\n",
    "        s2_sr_cld_list = s2_sr_cld_col_masked.toList(s2_sr_cld_col_masked.size())\n",
    "        cloudM_list = cloudM.toList(cloudM.size())\n",
    "\n",
    "        # Create an empty list to store the merged images\n",
    "        merged_images = []\n",
    "\n",
    "        # Iterate through the images in the collections and merge them\n",
    "        for i in range(s2_sr_cld_col_masked.size().getInfo()):\n",
    "            masked_image = ee.Image(s2_sr_cld_list.get(i))\n",
    "            cloud_mask = ee.Image(cloudM_list.get(i))\n",
    "            merged_image = masked_image.addBands(cloud_mask.rename('cloudM'))\n",
    "            merged_images.append(merged_image)\n",
    "\n",
    "        # Create a new ImageCollection from the merged images list\n",
    "        s2_sr_cld_col_merged = ee.ImageCollection(merged_images)\n",
    "\n",
    "        # Select the desired bands from the first image\n",
    "        s2_sr_col = s2_sr_cld_col_merged.select(SEN_BANDS, bandNamesSentinel2)\n",
    "\n",
    "        return s2_sr_col"
   ]
  },
  {
   "cell_type": "code",
   "execution_count": 229,
   "id": "543e1005-18e7-450c-9b14-c35cdcf055f2",
   "metadata": {},
   "outputs": [
    {
     "data": {
      "text/html": [
       "\n",
       "            <style>\n",
       "                .geemap-dark {\n",
       "                    --jp-widgets-color: white;\n",
       "                    --jp-widgets-label-color: white;\n",
       "                    --jp-ui-font-color1: white;\n",
       "                    --jp-layout-color2: #454545;\n",
       "                    background-color: #383838;\n",
       "                }\n",
       "                    \n",
       "                .geemap-dark .jupyter-button {\n",
       "                    --jp-layout-color3: #383838;\n",
       "                }\n",
       "                \n",
       "                .geemap-colab {\n",
       "                    background-color: var(--colab-primary-surface-color, white);\n",
       "                }\n",
       "                    \n",
       "                .geemap-colab .jupyter-button {\n",
       "                    --jp-layout-color3: var(--colab-primary-surface-color, white);\n",
       "                }\n",
       "            </style>\n",
       "            "
      ],
      "text/plain": [
       "<IPython.core.display.HTML object>"
      ]
     },
     "metadata": {},
     "output_type": "display_data"
    }
   ],
   "source": [
    "# topographic correction for landsat\n",
    "def radians(img):\n",
    "    return img.toFloat().multiply(3.14159265359).divide(180)\n",
    "\n",
    "# Define the function to perform physical correction\n",
    "def doPhysicalCorrection(image, type_DEM='srtm', I_satellite='Landsat'):\n",
    "\n",
    "    # illumination parameters\n",
    "    alos = ee.Image('JAXA/ALOS/AW3D30_V1_1')\n",
    "    srtm = ee.Image('USGS/SRTMGL1_003')\n",
    "\n",
    "    extent = image.geometry().bounds(1)\n",
    "\n",
    "    # Select DEM, calculate aspect and slope\n",
    "\n",
    "    if type_DEM == 'alos':\n",
    "        DEM = alos\n",
    "    else:\n",
    "        DEM = srtm\n",
    "\n",
    "    DEM = DEM.clip(extent)\n",
    "    boxcar = ee.Kernel.square(radius=3, units='pixels', normalize=True)\n",
    "    DEMs = DEM.convolve(boxcar)\n",
    "    SLP_deg = ee.Terrain.slope(DEMs)\n",
    "    SLP = radians(SLP_deg)\n",
    "    ASP_deg = ee.Terrain.aspect(DEMs)\n",
    "    ASP = radians(ASP_deg)\n",
    "    cos_SLP = SLP.cos()\n",
    "\n",
    "    if I_satellite == 'Landsat':\n",
    "        AZ = ee.Number(image.get('SUN_AZIMUTH'))\n",
    "        ZE = ee.Number(image.get('SUN_ELEVATION'))\n",
    "    elif I_satellite == 'Sentinel':\n",
    "        AZ = ee.Number(image.get('MEAN_SOLAR_AZIMUTH_ANGLE'))\n",
    "        ZE = ee.Number(image.get('MEAN_SOLAR_ZENITH_ANGLE'))\n",
    "\n",
    "    AZ_R = radians(ee.Image(AZ)).clip(extent)\n",
    "    ZE_R = radians(ee.Image(ZE)).clip(extent)\n",
    "    cos_ZE = ZE_R.cos()\n",
    "    cos_ZE_SLP = cos_ZE.multiply(SLP.cos())\n",
    "    cos_VA = ee.Image(0).clip(extent).cos()\n",
    "\n",
    "    # Calculate cos(Z)⋅cos(s) + sin(Z)⋅sin(s)⋅cos(a - a')\n",
    "    IL1 = AZ_R.subtract(ASP).cos().multiply(SLP.sin()).multiply(ZE_R.sin()).add(cos_ZE.multiply(SLP.cos()))\n",
    "    IL2 = IL1.where(IL1.lte(0), 0)\n",
    "    IL3 = IL2.where(IL2.gt(0), 1)\n",
    "    IL = IL1.mask(IL3).select([0], ['IL'])\n",
    "\n",
    "    # Create and return a dictionary\n",
    "    keyList = ee.List(['IL', 'cos_ZE', 'cos_VA', 'cos_SLP', 'SLP', 'ASP'])\n",
    "    valueList = ee.List([IL, cos_ZE, cos_VA, cos_SLP, SLP, ASP])\n",
    "    dictionary = ee.Dictionary.fromLists(keyList, valueList)\n",
    "\n",
    "    # get illumination parameter result\n",
    "    parameters = dictionary\n",
    "\n",
    "    # starting to apply the parameter\n",
    "    cos_ZE = ee.Image(parameters.get('cos_ZE'))\n",
    "    cos_VA = ee.Image(parameters.get('cos_VA'))\n",
    "    cos_SLP = ee.Image(parameters.get('cos_SLP'))\n",
    "\n",
    "    IL = ee.Image(parameters.get('IL'))\n",
    "\n",
    "    imgTC = image.select().addBands(image.select(['blue', 'green', 'red', 'nir', 'swir1', 'swir2'])  \\\n",
    "                                        .mask(image.select(['blue', 'green', 'red', 'nir', 'swir1', 'swir2'])  \\\n",
    "                                        .And(IL).And(image.select('cloudM')))    \\\n",
    "                                        .multiply((((cos_ZE).add(cos_VA))).divide((IL.add(cos_SLP)))))   \\\n",
    "                                        .addBands(image.select('cloudM'))   \\\n",
    "                                        .set('system:time_start', image.get('system:time_start'))\n",
    "\n",
    "    return ee.Image(imgTC)"
   ]
  },
  {
   "cell_type": "code",
   "execution_count": 230,
   "id": "7199743a-9cf0-4236-acb8-8f5b48735b0d",
   "metadata": {},
   "outputs": [
    {
     "data": {
      "text/html": [
       "\n",
       "            <style>\n",
       "                .geemap-dark {\n",
       "                    --jp-widgets-color: white;\n",
       "                    --jp-widgets-label-color: white;\n",
       "                    --jp-ui-font-color1: white;\n",
       "                    --jp-layout-color2: #454545;\n",
       "                    background-color: #383838;\n",
       "                }\n",
       "                    \n",
       "                .geemap-dark .jupyter-button {\n",
       "                    --jp-layout-color3: #383838;\n",
       "                }\n",
       "                \n",
       "                .geemap-colab {\n",
       "                    background-color: var(--colab-primary-surface-color, white);\n",
       "                }\n",
       "                    \n",
       "                .geemap-colab .jupyter-button {\n",
       "                    --jp-layout-color3: var(--colab-primary-surface-color, white);\n",
       "                }\n",
       "            </style>\n",
       "            "
      ],
      "text/plain": [
       "<IPython.core.display.HTML object>"
      ]
     },
     "metadata": {},
     "output_type": "display_data"
    }
   ],
   "source": [
    "class SpectralAnalysis:\n",
    "    def __init__(self, image, AOI = None, I_satellite= 'Landsat', pca_scaling = 1, tileScale = 1):\n",
    "        self.image = image\n",
    "        self.I_satellite = I_satellite\n",
    "        self.AOI = AOI\n",
    "\n",
    "        # scaling the pixel per satellite vendor type\n",
    "        self.pca_scaling = pca_scaling\n",
    "        self.pca_scale = 1*30\n",
    "        if self.I_satellite == 'Landsat':\n",
    "            self.pca_scale = self.pca_scaling *30 # 1 meaning that 1 x pixel size of spatial resolution e.g., Planet Labs 1 x 5, Sentinel 1 x 10, Landsat 1 x 30\n",
    "        elif self.I_satellite == 'Sentinel':\n",
    "            self.pca_scale = self.pca_scaling *10\n",
    "        elif self.I_satellite == 'Planet':\n",
    "            self.pca_scale = self.pca_scaling *5\n",
    "\n",
    "        self.tileScale = tileScale # increase this if user memory limit occur, see: https://gis.stackexchange.com/questions/373250/understanding-tilescale-in-earth-engine\n",
    "\n",
    "    def max_bands(self):\n",
    "        maxRed = self.image.select('red').reduceRegion(reducer=ee.Reducer.max(),\n",
    "                                                        geometry=self.AOI,\n",
    "                                                        scale=self.pca_scale,\n",
    "                                                        bestEffort=True,\n",
    "                                                        tileScale=self.tileScale)\n",
    "        #print(\"MAXRED\",maxRed)\n",
    "        maxRed = ee.Dictionary(maxRed).toImage()\n",
    "        maxGreen =self.image.select('green').reduceRegion(reducer=ee.Reducer.max(),\n",
    "                                                    geometry=self.AOI,\n",
    "                                                    scale=self.pca_scale,\n",
    "                                                    bestEffort=True,\n",
    "                                                    tileScale=self.tileScale)\n",
    "        maxGreen = ee.Dictionary(maxGreen).toImage()\n",
    "        maxBlue = self.image.select('blue').reduceRegion(reducer=ee.Reducer.max(),\n",
    "                                                    geometry=self.AOI,\n",
    "                                                    scale=self.pca_scale,\n",
    "                                                    bestEffort=True,\n",
    "                                                    tileScale=self.tileScale)\n",
    "        maxBlue = ee.Dictionary(maxBlue).toImage()\n",
    "        return [maxRed,maxGreen,maxBlue]\n",
    "\n",
    "\n",
    "    # Advanced Vegetation index - scaled from old formula (8bit) to relative number based on region\n",
    "    def AVI_func(self):\n",
    "        AVI = self.image.expression('((nir + 1 )* (maxRed-red) *(nir -red))**0.333',{\n",
    "            'nir':self.image.select(['nir']),\n",
    "            'red':self.image.select(['red']),\n",
    "            'maxRed': self.max_bands()[0],\n",
    "            }\n",
    "        ).rename('AVI')\n",
    "\n",
    "        return AVI\n",
    "\n",
    "    # Bare Soil Index\n",
    "    # https://www.researchgate.net/publication/319045433_Integration_of_GIS_and_Remote_Sensing_for_Evaluating_Forest_Canopy_Density_Index_in_Thai_Nguyen_Province_Vietnam/link/599293be0f7e9b433f415b40/download\n",
    "    def BSI_func(self):\n",
    "        BSI = ''\n",
    "        if self.I_satellite == 'Landsat' or self.I_satellite == 'Sentinel':\n",
    "            BSI = self.image.expression('(((SWIR1 + red) - (G + NIR)) / ((SWIR1 + red) + (G + NIR)))*100+100',{\n",
    "                'SWIR1':self.image.select(['swir1']),\n",
    "                'G':self.image.select(['green']),\n",
    "                'red':self.image.select(['red']),\n",
    "                'NIR':self.image.select(['nir']),\n",
    "                }\n",
    "            ).rename('BSI')\n",
    "\n",
    "        elif self.I_satellite == 'Planet':\n",
    "            BSI = self.image.expression(\n",
    "                '(NIR + GREEN + RED) / (NIR + GREEN - RED)',  {\n",
    "                    'NIR': self.image.select('nir'),\n",
    "                    'GREEN': self.image.select('green'),\n",
    "                    'RED': self.image.select('red')\n",
    "                        }\n",
    "                    ).rename('BSI')\n",
    "\n",
    "        return BSI\n",
    "\n",
    "    def SI_func(self):\n",
    "        SI = self.image.expression('((maxGreen-Green)*(maxBlue-Blue)*(maxRed-Red))**(1/3)',{\n",
    "            'Red':self.image.select(['red']),\n",
    "            'Green':self.image.select(['green']), #//******\n",
    "            'Blue':self.image.select(['blue']),\n",
    "            'maxRed': self.max_bands()[0],\n",
    "            'maxGreen': self.max_bands()[1],\n",
    "            'maxBlue': self.max_bands()[2],\n",
    "        }\n",
    "        ).rename('SI')\n",
    "        return SI"
   ]
  },
  {
   "cell_type": "code",
   "execution_count": 231,
   "id": "136a8a17-dc62-4bd6-948d-be20aae3f5b5",
   "metadata": {},
   "outputs": [
    {
     "data": {
      "text/html": [
       "\n",
       "            <style>\n",
       "                .geemap-dark {\n",
       "                    --jp-widgets-color: white;\n",
       "                    --jp-widgets-label-color: white;\n",
       "                    --jp-ui-font-color1: white;\n",
       "                    --jp-layout-color2: #454545;\n",
       "                    background-color: #383838;\n",
       "                }\n",
       "                    \n",
       "                .geemap-dark .jupyter-button {\n",
       "                    --jp-layout-color3: #383838;\n",
       "                }\n",
       "                \n",
       "                .geemap-colab {\n",
       "                    background-color: var(--colab-primary-surface-color, white);\n",
       "                }\n",
       "                    \n",
       "                .geemap-colab .jupyter-button {\n",
       "                    --jp-layout-color3: var(--colab-primary-surface-color, white);\n",
       "                }\n",
       "            </style>\n",
       "            "
      ],
      "text/plain": [
       "<IPython.core.display.HTML object>"
      ]
     },
     "metadata": {},
     "output_type": "display_data"
    }
   ],
   "source": [
    "# normalization image, utils\n",
    "# adapted from https://code.earthengine.google.com/a6013a970da3901f42b1db8ae7fc265a\n",
    "def normalization_100(image, pca_scale=30, AOI=None):\n",
    "    #image_scale = ee.Number(image.projection().nominalScale())\n",
    "    image_scale = pca_scale\n",
    "    region = AOI\n",
    "    def normalize_band(name):\n",
    "        name = ee.String(name)\n",
    "        band = image.select(name)\n",
    "\n",
    "        mean_std = image.reduceRegion(\n",
    "            reducer=ee.Reducer.mean().combine(ee.Reducer.stdDev(), None, True),\n",
    "            geometry=region,\n",
    "            scale=image_scale,\n",
    "            maxPixels=10e9\n",
    "        )\n",
    "\n",
    "        mean = ee.Number(mean_std.get(name.cat('_mean')))\n",
    "        std = ee.Number(mean_std.get(name.cat('_stdDev')))\n",
    "\n",
    "        max_value = mean.add(std.multiply(3))\n",
    "        min_value = mean.subtract(std.multiply(3))\n",
    "\n",
    "        band1 = ee.Image(min_value).multiply(band.lt(min_value)).add(ee.Image(max_value).multiply(band.gt(max_value))) \\\n",
    "            .add(band.multiply(ee.Image(1).subtract(band.lt(min_value)).subtract(band.gt(max_value))))\n",
    "\n",
    "        result_band = band1.subtract(min_value).divide(max_value.subtract(min_value))\n",
    "\n",
    "        return result_band\n",
    "\n",
    "    band_names = image.bandNames()\n",
    "    unit_scale = ee.ImageCollection.fromImages(band_names.map(normalize_band)).toBands().rename(band_names)\n",
    "    return unit_scale.multiply(100)\n",
    "\n",
    "def assigning_band(band_name_image,class_value,srcImg):\n",
    "\n",
    "    # Create an image with the constant value for class\n",
    "    constant_image_class = srcImg.multiply(0).add(class_value).rename(band_name_image)\n",
    "    constant_image_pixel = srcImg.multiply(0).add(1).rename('pixel')\n",
    "\n",
    "    # Add the new band to the existing image\n",
    "    pixel_bandimg= srcImg.addBands(constant_image_pixel)\n",
    "    pix_classImg = pixel_bandimg.addBands(constant_image_class)\n",
    "    pix_classImg = pix_classImg.select([band_name_image,'pixel'])\n",
    "\n",
    "    return pix_classImg"
   ]
  },
  {
   "cell_type": "code",
   "execution_count": 232,
   "id": "ac612449-3161-4baa-8aaa-0b6ae24abb4b",
   "metadata": {},
   "outputs": [
    {
     "data": {
      "text/html": [
       "\n",
       "            <style>\n",
       "                .geemap-dark {\n",
       "                    --jp-widgets-color: white;\n",
       "                    --jp-widgets-label-color: white;\n",
       "                    --jp-ui-font-color1: white;\n",
       "                    --jp-layout-color2: #454545;\n",
       "                    background-color: #383838;\n",
       "                }\n",
       "                    \n",
       "                .geemap-dark .jupyter-button {\n",
       "                    --jp-layout-color3: #383838;\n",
       "                }\n",
       "                \n",
       "                .geemap-colab {\n",
       "                    background-color: var(--colab-primary-surface-color, white);\n",
       "                }\n",
       "                    \n",
       "                .geemap-colab .jupyter-button {\n",
       "                    --jp-layout-color3: var(--colab-primary-surface-color, white);\n",
       "                }\n",
       "            </style>\n",
       "            "
      ],
      "text/plain": [
       "<IPython.core.display.HTML object>"
      ]
     },
     "metadata": {},
     "output_type": "display_data"
    }
   ],
   "source": [
    "file_location_conf = await sync_to_async(lambda: conf_selected.shp_aoi.file)()"
   ]
  },
  {
   "cell_type": "code",
   "execution_count": 233,
   "id": "18b9dbcf-903b-4deb-b0dc-1b735e1d29b4",
   "metadata": {},
   "outputs": [
    {
     "data": {
      "text/html": [
       "\n",
       "            <style>\n",
       "                .geemap-dark {\n",
       "                    --jp-widgets-color: white;\n",
       "                    --jp-widgets-label-color: white;\n",
       "                    --jp-ui-font-color1: white;\n",
       "                    --jp-layout-color2: #454545;\n",
       "                    background-color: #383838;\n",
       "                }\n",
       "                    \n",
       "                .geemap-dark .jupyter-button {\n",
       "                    --jp-layout-color3: #383838;\n",
       "                }\n",
       "                \n",
       "                .geemap-colab {\n",
       "                    background-color: var(--colab-primary-surface-color, white);\n",
       "                }\n",
       "                    \n",
       "                .geemap-colab .jupyter-button {\n",
       "                    --jp-layout-color3: var(--colab-primary-surface-color, white);\n",
       "                }\n",
       "            </style>\n",
       "            "
      ],
      "text/plain": [
       "<IPython.core.display.HTML object>"
      ]
     },
     "metadata": {},
     "output_type": "display_data"
    },
    {
     "data": {
      "text/plain": [
       "'/home/mfirdaus/gee_mapbox/backend/sv_carbon_removal/media/uploads/aoi_TEST_DEMO_TREEO_shp_axis_admin.zip'"
      ]
     },
     "execution_count": 233,
     "metadata": {},
     "output_type": "execute_result"
    }
   ],
   "source": [
    "file_location_conf.path"
   ]
  },
  {
   "cell_type": "code",
   "execution_count": 234,
   "id": "d881b0f1-abb0-448a-91a0-bdbd4766ba76",
   "metadata": {},
   "outputs": [
    {
     "data": {
      "text/html": [
       "\n",
       "            <style>\n",
       "                .geemap-dark {\n",
       "                    --jp-widgets-color: white;\n",
       "                    --jp-widgets-label-color: white;\n",
       "                    --jp-ui-font-color1: white;\n",
       "                    --jp-layout-color2: #454545;\n",
       "                    background-color: #383838;\n",
       "                }\n",
       "                    \n",
       "                .geemap-dark .jupyter-button {\n",
       "                    --jp-layout-color3: #383838;\n",
       "                }\n",
       "                \n",
       "                .geemap-colab {\n",
       "                    background-color: var(--colab-primary-surface-color, white);\n",
       "                }\n",
       "                    \n",
       "                .geemap-colab .jupyter-button {\n",
       "                    --jp-layout-color3: var(--colab-primary-surface-color, white);\n",
       "                }\n",
       "            </style>\n",
       "            "
      ],
      "text/plain": [
       "<IPython.core.display.HTML object>"
      ]
     },
     "metadata": {},
     "output_type": "display_data"
    },
    {
     "data": {
      "text/plain": [
       "django.db.models.fields.files.FieldFile"
      ]
     },
     "execution_count": 234,
     "metadata": {},
     "output_type": "execute_result"
    }
   ],
   "source": [
    "type(file_location_conf)"
   ]
  },
  {
   "cell_type": "code",
   "execution_count": 235,
   "id": "4c0b7bae-9895-4d80-8488-2a5bc470b477",
   "metadata": {},
   "outputs": [
    {
     "data": {
      "text/html": [
       "\n",
       "            <style>\n",
       "                .geemap-dark {\n",
       "                    --jp-widgets-color: white;\n",
       "                    --jp-widgets-label-color: white;\n",
       "                    --jp-ui-font-color1: white;\n",
       "                    --jp-layout-color2: #454545;\n",
       "                    background-color: #383838;\n",
       "                }\n",
       "                    \n",
       "                .geemap-dark .jupyter-button {\n",
       "                    --jp-layout-color3: #383838;\n",
       "                }\n",
       "                \n",
       "                .geemap-colab {\n",
       "                    background-color: var(--colab-primary-surface-color, white);\n",
       "                }\n",
       "                    \n",
       "                .geemap-colab .jupyter-button {\n",
       "                    --jp-layout-color3: var(--colab-primary-surface-color, white);\n",
       "                }\n",
       "            </style>\n",
       "            "
      ],
      "text/plain": [
       "<IPython.core.display.HTML object>"
      ]
     },
     "metadata": {},
     "output_type": "display_data"
    },
    {
     "name": "stdout",
     "output_type": "stream",
     "text": [
      "uploads/aoi_TEST_DEMO_TREEO_shp_axis_admin.zip\n"
     ]
    }
   ],
   "source": [
    "print(file_location_conf)"
   ]
  },
  {
   "cell_type": "code",
   "execution_count": 236,
   "id": "69107fdb-ae5b-4e47-a232-9dcb39ce1f1e",
   "metadata": {},
   "outputs": [
    {
     "data": {
      "text/html": [
       "\n",
       "            <style>\n",
       "                .geemap-dark {\n",
       "                    --jp-widgets-color: white;\n",
       "                    --jp-widgets-label-color: white;\n",
       "                    --jp-ui-font-color1: white;\n",
       "                    --jp-layout-color2: #454545;\n",
       "                    background-color: #383838;\n",
       "                }\n",
       "                    \n",
       "                .geemap-dark .jupyter-button {\n",
       "                    --jp-layout-color3: #383838;\n",
       "                }\n",
       "                \n",
       "                .geemap-colab {\n",
       "                    background-color: var(--colab-primary-surface-color, white);\n",
       "                }\n",
       "                    \n",
       "                .geemap-colab .jupyter-button {\n",
       "                    --jp-layout-color3: var(--colab-primary-surface-color, white);\n",
       "                }\n",
       "            </style>\n",
       "            "
      ],
      "text/plain": [
       "<IPython.core.display.HTML object>"
      ]
     },
     "metadata": {},
     "output_type": "display_data"
    }
   ],
   "source": [
    "import zipfile\n",
    "import tempfile\n",
    "\n",
    "def unzip_file(zip_file):\n",
    "    \"\"\"Extracts files from a zip archive without the top-level parent folder.\n",
    "\n",
    "    Args:\n",
    "        zip_file (str): The path to the zip file.\n",
    "        destination (str): The path to the destination directory.\n",
    "    \"\"\"\n",
    "\n",
    "    temp_dir = tempfile.mkdtemp()\n",
    "\n",
    "    with zipfile.ZipFile(zip_file, 'r') as zip_ref:\n",
    "        for file_info in zip_ref.infolist():\n",
    "            # Skip directories to avoid extracting the parent folder\n",
    "            if file_info.is_dir():\n",
    "                continue\n",
    "\n",
    "            # Extract the file, removing the top-level parent folder from the path\n",
    "            file_path = file_info.filename\n",
    "            base_filename = os.path.basename(file_path)  # Get the base filename\n",
    "            extracted_path = os.path.join(temp_dir, base_filename)  # Construct full path without parent folder\n",
    "\n",
    "            # Create any necessary parent directories\n",
    "            os.makedirs(os.path.dirname(extracted_path), exist_ok=True)\n",
    "\n",
    "            with open(extracted_path, 'wb') as outfile:\n",
    "                outfile.write(zip_ref.read(file_info))\n",
    "\n",
    "    return temp_dir"
   ]
  },
  {
   "cell_type": "code",
   "execution_count": 237,
   "id": "eadfe131-dd22-4faf-86f2-194e520cf32c",
   "metadata": {},
   "outputs": [
    {
     "data": {
      "text/html": [
       "\n",
       "            <style>\n",
       "                .geemap-dark {\n",
       "                    --jp-widgets-color: white;\n",
       "                    --jp-widgets-label-color: white;\n",
       "                    --jp-ui-font-color1: white;\n",
       "                    --jp-layout-color2: #454545;\n",
       "                    background-color: #383838;\n",
       "                }\n",
       "                    \n",
       "                .geemap-dark .jupyter-button {\n",
       "                    --jp-layout-color3: #383838;\n",
       "                }\n",
       "                \n",
       "                .geemap-colab {\n",
       "                    background-color: var(--colab-primary-surface-color, white);\n",
       "                }\n",
       "                    \n",
       "                .geemap-colab .jupyter-button {\n",
       "                    --jp-layout-color3: var(--colab-primary-surface-color, white);\n",
       "                }\n",
       "            </style>\n",
       "            "
      ],
      "text/plain": [
       "<IPython.core.display.HTML object>"
      ]
     },
     "metadata": {},
     "output_type": "display_data"
    }
   ],
   "source": [
    "temp_dir = unzip_file(file_location_conf.path)"
   ]
  },
  {
   "cell_type": "code",
   "execution_count": 186,
   "id": "1aba4ad1-5263-474f-819e-89369d4cf41e",
   "metadata": {},
   "outputs": [
    {
     "data": {
      "text/html": [
       "\n",
       "            <style>\n",
       "                .geemap-dark {\n",
       "                    --jp-widgets-color: white;\n",
       "                    --jp-widgets-label-color: white;\n",
       "                    --jp-ui-font-color1: white;\n",
       "                    --jp-layout-color2: #454545;\n",
       "                    background-color: #383838;\n",
       "                }\n",
       "                    \n",
       "                .geemap-dark .jupyter-button {\n",
       "                    --jp-layout-color3: #383838;\n",
       "                }\n",
       "                \n",
       "                .geemap-colab {\n",
       "                    background-color: var(--colab-primary-surface-color, white);\n",
       "                }\n",
       "                    \n",
       "                .geemap-colab .jupyter-button {\n",
       "                    --jp-layout-color3: var(--colab-primary-surface-color, white);\n",
       "                }\n",
       "            </style>\n",
       "            "
      ],
      "text/plain": [
       "<IPython.core.display.HTML object>"
      ]
     },
     "metadata": {},
     "output_type": "display_data"
    },
    {
     "name": "stdout",
     "output_type": "stream",
     "text": [
      "axis.dbf  axis.prj  axis.shp  axis.shx\n"
     ]
    }
   ],
   "source": [
    "# !cd /tmp/tmpppxot7os && ls"
   ]
  },
  {
   "cell_type": "code",
   "execution_count": 238,
   "id": "d5cf1440-80cb-425e-93d9-3ce1a751a01f",
   "metadata": {},
   "outputs": [
    {
     "data": {
      "text/html": [
       "\n",
       "            <style>\n",
       "                .geemap-dark {\n",
       "                    --jp-widgets-color: white;\n",
       "                    --jp-widgets-label-color: white;\n",
       "                    --jp-ui-font-color1: white;\n",
       "                    --jp-layout-color2: #454545;\n",
       "                    background-color: #383838;\n",
       "                }\n",
       "                    \n",
       "                .geemap-dark .jupyter-button {\n",
       "                    --jp-layout-color3: #383838;\n",
       "                }\n",
       "                \n",
       "                .geemap-colab {\n",
       "                    background-color: var(--colab-primary-surface-color, white);\n",
       "                }\n",
       "                    \n",
       "                .geemap-colab .jupyter-button {\n",
       "                    --jp-layout-color3: var(--colab-primary-surface-color, white);\n",
       "                }\n",
       "            </style>\n",
       "            "
      ],
      "text/plain": [
       "<IPython.core.display.HTML object>"
      ]
     },
     "metadata": {},
     "output_type": "display_data"
    },
    {
     "data": {
      "text/plain": [
       "['axis.dbf', 'axis.shp', 'axis.shx', 'axis.prj']"
      ]
     },
     "execution_count": 238,
     "metadata": {},
     "output_type": "execute_result"
    }
   ],
   "source": [
    "os.listdir(temp_dir)"
   ]
  },
  {
   "cell_type": "code",
   "execution_count": 239,
   "id": "254bf983-e685-489d-b136-21734a20d969",
   "metadata": {},
   "outputs": [
    {
     "data": {
      "text/html": [
       "\n",
       "            <style>\n",
       "                .geemap-dark {\n",
       "                    --jp-widgets-color: white;\n",
       "                    --jp-widgets-label-color: white;\n",
       "                    --jp-ui-font-color1: white;\n",
       "                    --jp-layout-color2: #454545;\n",
       "                    background-color: #383838;\n",
       "                }\n",
       "                    \n",
       "                .geemap-dark .jupyter-button {\n",
       "                    --jp-layout-color3: #383838;\n",
       "                }\n",
       "                \n",
       "                .geemap-colab {\n",
       "                    background-color: var(--colab-primary-surface-color, white);\n",
       "                }\n",
       "                    \n",
       "                .geemap-colab .jupyter-button {\n",
       "                    --jp-layout-color3: var(--colab-primary-surface-color, white);\n",
       "                }\n",
       "            </style>\n",
       "            "
      ],
      "text/plain": [
       "<IPython.core.display.HTML object>"
      ]
     },
     "metadata": {},
     "output_type": "display_data"
    }
   ],
   "source": [
    "# TEST VARIABLE TO GEE FROM DJANGO\n",
    "start_date = conf_selected.start_date_analysis\n",
    "end_date = conf_selected.end_date_analysis\n",
    "\n",
    "# for planet labs image\n",
    "region = 'africa' # or you can use 'asia'\n",
    "\n",
    "# cloud cover threshold, max per image, in image collection\n",
    "cloud_cover_threshold = 40\n",
    "\n",
    "import geemap\n",
    "# input shp region based on the AOI, relative path to our collab folder content\n",
    "# AOIt_shp = '/content/drive/MyDrive/shp_local/AOI_AXIS_BIG.shp'\n",
    "\n",
    "list_files_tmp = os.listdir(temp_dir)\n",
    "shp_tmp_text = [f for f in list_files_tmp if '.shp' in f][0]\n",
    "AOIt_shp = os.path.join(temp_dir, shp_tmp_text)\n",
    "\n",
    "AOIt_shp_plot = geemap.shp_to_ee(AOIt_shp)\n",
    "crs_input = 'EPSG:4326'\n",
    "\n",
    "AOI = AOIt_shp_plot\n"
   ]
  },
  {
   "cell_type": "code",
   "execution_count": 240,
   "id": "cf1f57a1-863f-448d-924b-77471f8424c1",
   "metadata": {},
   "outputs": [
    {
     "data": {
      "text/html": [
       "\n",
       "            <style>\n",
       "                .geemap-dark {\n",
       "                    --jp-widgets-color: white;\n",
       "                    --jp-widgets-label-color: white;\n",
       "                    --jp-ui-font-color1: white;\n",
       "                    --jp-layout-color2: #454545;\n",
       "                    background-color: #383838;\n",
       "                }\n",
       "                    \n",
       "                .geemap-dark .jupyter-button {\n",
       "                    --jp-layout-color3: #383838;\n",
       "                }\n",
       "                \n",
       "                .geemap-colab {\n",
       "                    background-color: var(--colab-primary-surface-color, white);\n",
       "                }\n",
       "                    \n",
       "                .geemap-colab .jupyter-button {\n",
       "                    --jp-layout-color3: var(--colab-primary-surface-color, white);\n",
       "                }\n",
       "            </style>\n",
       "            "
      ],
      "text/plain": [
       "<IPython.core.display.HTML object>"
      ]
     },
     "metadata": {},
     "output_type": "display_data"
    }
   ],
   "source": [
    "# choose the satellite image you want to use\n",
    "I_satellite = conf_selected.satellite_use"
   ]
  },
  {
   "cell_type": "code",
   "execution_count": 241,
   "id": "87ea0498-e09c-48d8-96ad-29bf612626db",
   "metadata": {},
   "outputs": [
    {
     "data": {
      "text/html": [
       "\n",
       "            <style>\n",
       "                .geemap-dark {\n",
       "                    --jp-widgets-color: white;\n",
       "                    --jp-widgets-label-color: white;\n",
       "                    --jp-ui-font-color1: white;\n",
       "                    --jp-layout-color2: #454545;\n",
       "                    background-color: #383838;\n",
       "                }\n",
       "                    \n",
       "                .geemap-dark .jupyter-button {\n",
       "                    --jp-layout-color3: #383838;\n",
       "                }\n",
       "                \n",
       "                .geemap-colab {\n",
       "                    background-color: var(--colab-primary-surface-color, white);\n",
       "                }\n",
       "                    \n",
       "                .geemap-colab .jupyter-button {\n",
       "                    --jp-layout-color3: var(--colab-primary-surface-color, white);\n",
       "                }\n",
       "            </style>\n",
       "            "
      ],
      "text/plain": [
       "<IPython.core.display.HTML object>"
      ]
     },
     "metadata": {},
     "output_type": "display_data"
    },
    {
     "data": {
      "text/plain": [
       "'Landsat'"
      ]
     },
     "execution_count": 241,
     "metadata": {},
     "output_type": "execute_result"
    }
   ],
   "source": [
    "I_satellite"
   ]
  },
  {
   "cell_type": "code",
   "execution_count": 242,
   "id": "5e742dee-c51d-4fb1-97ea-7abb46bc2bee",
   "metadata": {},
   "outputs": [
    {
     "data": {
      "text/html": [
       "\n",
       "            <style>\n",
       "                .geemap-dark {\n",
       "                    --jp-widgets-color: white;\n",
       "                    --jp-widgets-label-color: white;\n",
       "                    --jp-ui-font-color1: white;\n",
       "                    --jp-layout-color2: #454545;\n",
       "                    background-color: #383838;\n",
       "                }\n",
       "                    \n",
       "                .geemap-dark .jupyter-button {\n",
       "                    --jp-layout-color3: #383838;\n",
       "                }\n",
       "                \n",
       "                .geemap-colab {\n",
       "                    background-color: var(--colab-primary-surface-color, white);\n",
       "                }\n",
       "                    \n",
       "                .geemap-colab .jupyter-button {\n",
       "                    --jp-layout-color3: var(--colab-primary-surface-color, white);\n",
       "                }\n",
       "            </style>\n",
       "            "
      ],
      "text/plain": [
       "<IPython.core.display.HTML object>"
      ]
     },
     "metadata": {},
     "output_type": "display_data"
    }
   ],
   "source": [
    "#NDWI water limit\n",
    "ndwi_hi_sentinel = 0.05 # for Sentinel\n",
    "ndwi_hi_landsat = 0.1 # for landsat\n",
    "ndwi_hi_planet = -0.2 # for Planet Labs\n",
    "\n",
    "ndwi_hi = 0.1\n",
    "if I_satellite == 'Landsat':\n",
    "    ndwi_hi = ndwi_hi_landsat\n",
    "elif I_satellite == 'Sentinel':\n",
    "    ndwi_hi = ndwi_hi_sentinel\n",
    "elif I_satellite == 'Planet':\n",
    "    ndwi_hi = ndwi_hi_planet\n",
    "\n",
    "pca_scaling = 1  # 1 meaning that 1 x pixel size of spatial resolution e.g., Planet Labs 1 x 5, Sentinel 1 x 10, Landsat 1 x 30\n",
    "tileScale = 1 # increase this if user memory limit occur, see: https://gis.stackexchange.com/questions/373250/understanding-tilescale-in-earth-engine\n",
    "\n",
    "######## HANSEN Tree Cover and Tree Cover Loss Input - Historical Data Check (10 Years Rule) ###################################################\n",
    "# Hansen 10 years rule and Forest - Tree Cover Hansen\n",
    "# define tree cover minimum that classified as forest e.g., Indonesia > 30%, hence 30\n",
    "tree_cover_forest = 30 # this will be in percent, let's say, forest is > 30% if you put 30\n",
    "pixel_number = 3 #define minimum mapping unit classified as forest, 1 pixel for landsat 30mx30, 3 pixel is forest ~> 0.27 Ha\n",
    "year_start_loss = 13 #define start year to track as 10 years rule (e.g., 2012 to 2022 (track 10 years rule), hence 12. format= 00->2000, 12->2012)\n",
    "\n",
    "\n",
    "## FCD Threshold\n",
    "high_forest = 65\n",
    "yrf_forest = 45\n",
    "shrub_grass = 25\n",
    "\n",
    "# output Band Names\n",
    "band_name_image = 'Class'\n",
    "\n",
    "#for area id in shapefile that identified the data, and will converted into raster\n",
    "OID = 'id'  #IMPORTANT TO CHECK OID based on the column ID\n",
    "#############################################\n",
    "##################################################################################\n",
    "### Masking and overlay and area helper Make an image out of the AOI area attribute -> convert featurecollection into raster (image) for overlaying tools\n",
    "AOI_img = AOI.filter(ee.Filter.notNull([OID])).reduceToImage(\n",
    "    properties= [OID],\n",
    "    reducer= ee.Reducer.first()\n",
    ")"
   ]
  },
  {
   "cell_type": "code",
   "execution_count": 243,
   "id": "6186842d-da51-4a92-9f34-4b0348c06597",
   "metadata": {},
   "outputs": [
    {
     "data": {
      "text/html": [
       "\n",
       "            <style>\n",
       "                .geemap-dark {\n",
       "                    --jp-widgets-color: white;\n",
       "                    --jp-widgets-label-color: white;\n",
       "                    --jp-ui-font-color1: white;\n",
       "                    --jp-layout-color2: #454545;\n",
       "                    background-color: #383838;\n",
       "                }\n",
       "                    \n",
       "                .geemap-dark .jupyter-button {\n",
       "                    --jp-layout-color3: #383838;\n",
       "                }\n",
       "                \n",
       "                .geemap-colab {\n",
       "                    background-color: var(--colab-primary-surface-color, white);\n",
       "                }\n",
       "                    \n",
       "                .geemap-colab .jupyter-button {\n",
       "                    --jp-layout-color3: var(--colab-primary-surface-color, white);\n",
       "                }\n",
       "            </style>\n",
       "            "
      ],
      "text/plain": [
       "<IPython.core.display.HTML object>"
      ]
     },
     "metadata": {},
     "output_type": "display_data"
    }
   ],
   "source": [
    "# initiate instance class for the image collection and later mosaicking\n",
    "classInputCollection = ImageCollectionComposite(AOI=AOI, date_start_end=[start_date,end_date], cloud_cover_threshold = cloud_cover_threshold)"
   ]
  },
  {
   "cell_type": "code",
   "execution_count": 244,
   "id": "36551ebc-d6dc-4171-a4f4-e38e4dabc38f",
   "metadata": {},
   "outputs": [
    {
     "data": {
      "text/html": [
       "\n",
       "            <style>\n",
       "                .geemap-dark {\n",
       "                    --jp-widgets-color: white;\n",
       "                    --jp-widgets-label-color: white;\n",
       "                    --jp-ui-font-color1: white;\n",
       "                    --jp-layout-color2: #454545;\n",
       "                    background-color: #383838;\n",
       "                }\n",
       "                    \n",
       "                .geemap-dark .jupyter-button {\n",
       "                    --jp-layout-color3: #383838;\n",
       "                }\n",
       "                \n",
       "                .geemap-colab {\n",
       "                    background-color: var(--colab-primary-surface-color, white);\n",
       "                }\n",
       "                    \n",
       "                .geemap-colab .jupyter-button {\n",
       "                    --jp-layout-color3: var(--colab-primary-surface-color, white);\n",
       "                }\n",
       "            </style>\n",
       "            "
      ],
      "text/plain": [
       "<IPython.core.display.HTML object>"
      ]
     },
     "metadata": {},
     "output_type": "display_data"
    },
    {
     "name": "stdout",
     "output_type": "stream",
     "text": [
      "selecting LANDSAT images\n"
     ]
    }
   ],
   "source": [
    "# performing the merge_collection method based on the I_satellite\n",
    "image_collection_mask = None\n",
    "if I_satellite == 'Landsat':\n",
    "    image_collection_mask = classInputCollection.merging_collection_landsat()\n",
    "elif I_satellite == 'Planet':\n",
    "    image_collection_mask = classInputCollection.merging_collection_planet(region) # if there is no image in here, maybe you choose a WRONG REGION\n",
    "elif I_satellite == 'Sentinel':\n",
    "    image_collection_mask = classInputCollection.merging_collection_sentinel()"
   ]
  },
  {
   "cell_type": "code",
   "execution_count": 255,
   "id": "f5922299-6d78-414a-88e6-782eeed0b27c",
   "metadata": {},
   "outputs": [
    {
     "data": {
      "text/html": [
       "\n",
       "            <style>\n",
       "                .geemap-dark {\n",
       "                    --jp-widgets-color: white;\n",
       "                    --jp-widgets-label-color: white;\n",
       "                    --jp-ui-font-color1: white;\n",
       "                    --jp-layout-color2: #454545;\n",
       "                    background-color: #383838;\n",
       "                }\n",
       "                    \n",
       "                .geemap-dark .jupyter-button {\n",
       "                    --jp-layout-color3: #383838;\n",
       "                }\n",
       "                \n",
       "                .geemap-colab {\n",
       "                    background-color: var(--colab-primary-surface-color, white);\n",
       "                }\n",
       "                    \n",
       "                .geemap-colab .jupyter-button {\n",
       "                    --jp-layout-color3: var(--colab-primary-surface-color, white);\n",
       "                }\n",
       "            </style>\n",
       "            "
      ],
      "text/plain": [
       "<IPython.core.display.HTML object>"
      ]
     },
     "metadata": {},
     "output_type": "display_data"
    },
    {
     "ename": "AttributeError",
     "evalue": "'dict' object has no attribute 'test'",
     "output_type": "error",
     "traceback": [
      "\u001b[0;31m---------------------------------------------------------------------------\u001b[0m",
      "\u001b[0;31mAttributeError\u001b[0m                            Traceback (most recent call last)",
      "Cell \u001b[0;32mIn[255], line 2\u001b[0m\n\u001b[1;32m      1\u001b[0m a \u001b[38;5;241m=\u001b[39m {\u001b[38;5;124m'\u001b[39m\u001b[38;5;124mtest\u001b[39m\u001b[38;5;124m'\u001b[39m:\u001b[38;5;124m'\u001b[39m\u001b[38;5;124mssss\u001b[39m\u001b[38;5;124m'\u001b[39m, \u001b[38;5;124m'\u001b[39m\u001b[38;5;124mtest2\u001b[39m\u001b[38;5;124m'\u001b[39m:\u001b[38;5;124m'\u001b[39m\u001b[38;5;124msssssa223\u001b[39m\u001b[38;5;124m'\u001b[39m}\n\u001b[0;32m----> 2\u001b[0m \u001b[43ma\u001b[49m\u001b[38;5;241;43m.\u001b[39;49m\u001b[43mtest\u001b[49m\n",
      "\u001b[0;31mAttributeError\u001b[0m: 'dict' object has no attribute 'test'"
     ]
    }
   ],
   "source": [
    "a = {'test':'ssss', 'test2':'sssssa223'}\n",
    "a.test"
   ]
  },
  {
   "cell_type": "code",
   "execution_count": 245,
   "id": "7464bc86-c5d9-4023-84f4-b4689348ad2e",
   "metadata": {},
   "outputs": [
    {
     "data": {
      "text/html": [
       "\n",
       "            <style>\n",
       "                .geemap-dark {\n",
       "                    --jp-widgets-color: white;\n",
       "                    --jp-widgets-label-color: white;\n",
       "                    --jp-ui-font-color1: white;\n",
       "                    --jp-layout-color2: #454545;\n",
       "                    background-color: #383838;\n",
       "                }\n",
       "                    \n",
       "                .geemap-dark .jupyter-button {\n",
       "                    --jp-layout-color3: #383838;\n",
       "                }\n",
       "                \n",
       "                .geemap-colab {\n",
       "                    background-color: var(--colab-primary-surface-color, white);\n",
       "                }\n",
       "                    \n",
       "                .geemap-colab .jupyter-button {\n",
       "                    --jp-layout-color3: var(--colab-primary-surface-color, white);\n",
       "                }\n",
       "            </style>\n",
       "            "
      ],
      "text/plain": [
       "<IPython.core.display.HTML object>"
      ]
     },
     "metadata": {},
     "output_type": "display_data"
    }
   ],
   "source": [
    "image_mosaick = image_collection_mask.median().clip(AOI)\n",
    "# we will use landsat that already corrected its topography\n",
    "if I_satellite == 'Landsat':\n",
    "    image_mosaick = image_collection_mask.map(lambda image: doPhysicalCorrection(image, type_DEM='srtm',\n",
    "                                                                                  I_satellite='Landsat')) \\\n",
    "                                                                                  .median().clip(AOI)\n",
    "\n",
    "# initialize Map object\n",
    "Map = geemap.Map(center=(-3, 115), zoom=4)\n",
    "Map.centerObject(AOI, 10)"
   ]
  },
  {
   "cell_type": "code",
   "execution_count": 246,
   "id": "90dcc078-f6c5-475c-9923-7c61c13165fc",
   "metadata": {},
   "outputs": [
    {
     "data": {
      "text/html": [
       "\n",
       "            <style>\n",
       "                .geemap-dark {\n",
       "                    --jp-widgets-color: white;\n",
       "                    --jp-widgets-label-color: white;\n",
       "                    --jp-ui-font-color1: white;\n",
       "                    --jp-layout-color2: #454545;\n",
       "                    background-color: #383838;\n",
       "                }\n",
       "                    \n",
       "                .geemap-dark .jupyter-button {\n",
       "                    --jp-layout-color3: #383838;\n",
       "                }\n",
       "                \n",
       "                .geemap-colab {\n",
       "                    background-color: var(--colab-primary-surface-color, white);\n",
       "                }\n",
       "                    \n",
       "                .geemap-colab .jupyter-button {\n",
       "                    --jp-layout-color3: var(--colab-primary-surface-color, white);\n",
       "                }\n",
       "            </style>\n",
       "            "
      ],
      "text/plain": [
       "<IPython.core.display.HTML object>"
      ]
     },
     "metadata": {},
     "output_type": "display_data"
    }
   ],
   "source": [
    "# add to canvas Map for this mosaic layer\n",
    "if I_satellite == 'Planet':\n",
    "    # true color {\"bands\":[\"red\",\"green\",\"blue\"],\"min\":0,\"max\":0.6,\"gamma\":1.5}\n",
    "    # nir veg color {\"bands\":[\"red\",\"nir\",\"blue\"],\"min\":0,\"max\":0.6,\"gamma\":1.5 }\n",
    "    Map.addLayer(image_mosaick,{\"bands\":[\"red\",\"green\",\"blue\"],\"min\":0,\"max\":0.6,\"gamma\":1.5}, f'{I_satellite} mosaicked - {start_date}-{end_date} VegColor')\n",
    "else:\n",
    "    Map.addLayer(image_mosaick,{'bands': ['swir2', 'nir', 'red'], 'min': 0, 'max': 0.6, 'gamma': 1.5 }, f'{I_satellite} mosaicked - {start_date}-{end_date}')"
   ]
  },
  {
   "cell_type": "code",
   "execution_count": 247,
   "id": "b3025def-f034-4749-b890-9d07f4a3580f",
   "metadata": {},
   "outputs": [
    {
     "data": {
      "text/html": [
       "\n",
       "            <style>\n",
       "                .geemap-dark {\n",
       "                    --jp-widgets-color: white;\n",
       "                    --jp-widgets-label-color: white;\n",
       "                    --jp-ui-font-color1: white;\n",
       "                    --jp-layout-color2: #454545;\n",
       "                    background-color: #383838;\n",
       "                }\n",
       "                    \n",
       "                .geemap-dark .jupyter-button {\n",
       "                    --jp-layout-color3: #383838;\n",
       "                }\n",
       "                \n",
       "                .geemap-colab {\n",
       "                    background-color: var(--colab-primary-surface-color, white);\n",
       "                }\n",
       "                    \n",
       "                .geemap-colab .jupyter-button {\n",
       "                    --jp-layout-color3: var(--colab-primary-surface-color, white);\n",
       "                }\n",
       "            </style>\n",
       "            "
      ],
      "text/plain": [
       "<IPython.core.display.HTML object>"
      ]
     },
     "metadata": {},
     "output_type": "display_data"
    },
    {
     "data": {
      "application/vnd.jupyter.widget-view+json": {
       "model_id": "e8e2017091ca4938ab2eaf6f1fd0cbb4",
       "version_major": 2,
       "version_minor": 0
      },
      "text/plain": [
       "Map(center=[0.288790675212759, 31.699612779925186], controls=(WidgetControl(options=['position', 'transparent_…"
      ]
     },
     "execution_count": 247,
     "metadata": {},
     "output_type": "execute_result"
    }
   ],
   "source": [
    "Map"
   ]
  },
  {
   "cell_type": "code",
   "execution_count": 248,
   "id": "d5eaf24a-47f9-4e91-8ed5-a05d43617d20",
   "metadata": {},
   "outputs": [
    {
     "data": {
      "text/html": [
       "\n",
       "            <style>\n",
       "                .geemap-dark {\n",
       "                    --jp-widgets-color: white;\n",
       "                    --jp-widgets-label-color: white;\n",
       "                    --jp-ui-font-color1: white;\n",
       "                    --jp-layout-color2: #454545;\n",
       "                    background-color: #383838;\n",
       "                }\n",
       "                    \n",
       "                .geemap-dark .jupyter-button {\n",
       "                    --jp-layout-color3: #383838;\n",
       "                }\n",
       "                \n",
       "                .geemap-colab {\n",
       "                    background-color: var(--colab-primary-surface-color, white);\n",
       "                }\n",
       "                    \n",
       "                .geemap-colab .jupyter-button {\n",
       "                    --jp-layout-color3: var(--colab-primary-surface-color, white);\n",
       "                }\n",
       "            </style>\n",
       "            "
      ],
      "text/plain": [
       "<IPython.core.display.HTML object>"
      ]
     },
     "metadata": {},
     "output_type": "display_data"
    }
   ],
   "source": [
    "classImageSpectral = SpectralAnalysis(image_mosaick, AOI = AOI, I_satellite= I_satellite, pca_scaling = pca_scaling, tileScale = tileScale)"
   ]
  },
  {
   "cell_type": "code",
   "execution_count": 249,
   "id": "c8ec0f4d-6a55-459d-af60-7a9299846a3d",
   "metadata": {},
   "outputs": [
    {
     "data": {
      "text/html": [
       "\n",
       "            <style>\n",
       "                .geemap-dark {\n",
       "                    --jp-widgets-color: white;\n",
       "                    --jp-widgets-label-color: white;\n",
       "                    --jp-ui-font-color1: white;\n",
       "                    --jp-layout-color2: #454545;\n",
       "                    background-color: #383838;\n",
       "                }\n",
       "                    \n",
       "                .geemap-dark .jupyter-button {\n",
       "                    --jp-layout-color3: #383838;\n",
       "                }\n",
       "                \n",
       "                .geemap-colab {\n",
       "                    background-color: var(--colab-primary-surface-color, white);\n",
       "                }\n",
       "                    \n",
       "                .geemap-colab .jupyter-button {\n",
       "                    --jp-layout-color3: var(--colab-primary-surface-color, white);\n",
       "                }\n",
       "            </style>\n",
       "            "
      ],
      "text/plain": [
       "<IPython.core.display.HTML object>"
      ]
     },
     "metadata": {},
     "output_type": "display_data"
    },
    {
     "name": "stdout",
     "output_type": "stream",
     "text": [
      "processing AVI\n",
      "processing BSI\n",
      "processing SI\n",
      "Normalizing to 100 AVI\n",
      "Normalizing to 100 BSI\n",
      "Normalizing to 100 SI\n",
      "Combining AVI AND BSI\n",
      "Processing means center of AVI_BSI please wait\n",
      "Now we proceed to the PCA of Vegetation density\n",
      "Success get the PCA normalized of VD => SVI\n",
      "no thermal band, choosing Landsat images\n",
      "Now calculating the FCD from SVI and SSI - selecting band svi1 svi2 ssi1 and ssi2\n",
      "Now calculating the FCD from SVI2 and SSI1 into FCD in percentage\n",
      "finish processing PCA please continue\n"
     ]
    }
   ],
   "source": [
    "#############################\n",
    "## Forest Canopy Density Mapping\n",
    "#############################\n",
    "#### PRINCIPAL COMPONENT ANALYSIS ########\n",
    "# adapted from https://developers.google.com/earth-engine/guides/arrays_eigen_analysis\n",
    "# Define the mean-centered function\n",
    "def means_centered(image, region, scale, tileScale):\n",
    "    bandNames = image.bandNames()\n",
    "\n",
    "    # Mean center the data\n",
    "    meanDict = image.reduceRegion(\n",
    "        reducer=ee.Reducer.mean(),\n",
    "        geometry=region,\n",
    "        scale=scale,\n",
    "        maxPixels=1e9,\n",
    "        tileScale=tileScale,\n",
    "        bestEffort=True,\n",
    "    )\n",
    "    means = ee.Image.constant(meanDict.values(bandNames))\n",
    "    centered = image.subtract(means)\n",
    "\n",
    "    return [centered, bandNames]\n",
    "\n",
    "# Define the helper function to generate new band names\n",
    "def getNewBandNames(prefix, bandNames):\n",
    "    seq = ee.List.sequence(1, bandNames.length())\n",
    "    return seq.map(lambda b: ee.String(prefix).cat(ee.Number(b).int().format()))\n",
    "\n",
    "# Define the function to get principal components\n",
    "def getPrincipalComponents(centered, scale, region, bandNames):\n",
    "    # Collapse the bands into a 1D array per pixel\n",
    "    arrays = centered.toArray()\n",
    "\n",
    "    # Compute the covariance within the region\n",
    "    covar = arrays.reduceRegion(\n",
    "        reducer=ee.Reducer.centeredCovariance(),\n",
    "        geometry=region,\n",
    "        scale=scale,\n",
    "        maxPixels=1e9,\n",
    "        tileScale=tileScale,\n",
    "        bestEffort=True,\n",
    "\n",
    "    )\n",
    "\n",
    "    # Get the covariance array result and cast to an array\n",
    "    covarArray = ee.Array(covar.get('array'))\n",
    "\n",
    "    # Perform eigen analysis and slice apart the values and vectors\n",
    "    eigens = covarArray.eigen()\n",
    "\n",
    "    # Extract eigenvalues and eigenvectors\n",
    "    eigenValues = eigens.slice(1, 0, 1)\n",
    "    eigenVectors = eigens.slice(1, 1)\n",
    "\n",
    "    # Convert the array image to 2D arrays\n",
    "    arrayImage = arrays.toArray(1)\n",
    "\n",
    "    # Left multiply the image array by the matrix of eigenvectors\n",
    "    principalComponents = ee.Image(eigenVectors).matrixMultiply(arrayImage)\n",
    "\n",
    "    # Square root of eigenvalues as a P-band image\n",
    "    sdImage = ee.Image(eigenValues.sqrt()) \\\n",
    "        .arrayProject([0]).arrayFlatten([getNewBandNames('sd', bandNames)])\n",
    "\n",
    "    # Normalize the principal components by their standard deviations\n",
    "    return principalComponents \\\n",
    "        .arrayProject([0]) \\\n",
    "        .arrayFlatten([getNewBandNames('pc', bandNames)]) \\\n",
    "        .divide(sdImage)\n",
    "\n",
    "print('processing AVI')\n",
    "avi_image = classImageSpectral.AVI_func()\n",
    "#Map.addLayer(avi_image,{},'avi')\n",
    "\n",
    "print('processing BSI')\n",
    "bsi_image = classImageSpectral.BSI_func()\n",
    "#Map.addLayer(bsi_image,{},'bsi')\n",
    "\n",
    "print('processing SI')\n",
    "si_image = classImageSpectral.SI_func()\n",
    "#Map.addLayer(si_image,{},'si_no_norm')\n",
    "\n",
    "#Map.addLayer(image_corr_8,{'bands': ['swir2', 'nir', 'red'], 'min': 0, 'max': 256,  }, f'landsat_for_FCD_{year}_corrected_8bit')\n",
    "print('Normalizing to 100 AVI')\n",
    "##### Starting (normalized 100) Indices\n",
    "# acquire the existing configuration after conditional I_satellite\n",
    "pca_scale = classImageSpectral.pca_scale\n",
    "tileScale = classImageSpectral.tileScale\n",
    "\n",
    "\n",
    "avi_norm = normalization_100(avi_image, pca_scale=pca_scale, AOI=AOI)\n",
    "Map.addLayer(avi_norm,{'min':0,'max':100},'avi_norm', False)\n",
    "print('Normalizing to 100 BSI')\n",
    "bsi_norm = normalization_100(bsi_image, pca_scale=pca_scale, AOI=AOI)\n",
    "Map.addLayer(bsi_norm,{'min':0,'max':100},'bsi_norm', False)\n",
    "print('Normalizing to 100 SI')\n",
    "si_norm = normalization_100(si_image, pca_scale=pca_scale, AOI=AOI)\n",
    "Map.addLayer(si_norm, {'min':0,'max':100},'si_norm', False)\n",
    "print('Combining AVI AND BSI')\n",
    "# Combine  AVI and BSI to one image with two bands\n",
    "AVI_BSI = avi_norm.addBands(bsi_norm)\n",
    "# Masked-out process or remove null data, to avoid errors\n",
    "avi_bsi_clean = AVI_BSI.gte(0).Or(AVI_BSI.lte(0))\n",
    "AVI_BSI = AVI_BSI.updateMask(avi_bsi_clean)\n",
    "#Map.addLayer(AVI_BSI, {'min':0,'max':100}, 'AVI_BSI')\n",
    "\n",
    "print('Processing means center of AVI_BSI please wait')\n",
    "# Means Centered for VD --- VD WILL GIVE YOU ERROR ---> if you dont masked out first\n",
    "Means_cn = means_centered(AVI_BSI, AOI, pca_scale, tileScale)\n",
    "#print('Means_cn[0]',Means_cn[0])\n",
    "#print('Means_cn[1]',Means_cn[1])\n",
    "\n",
    "print('Now we proceed to the PCA of Vegetation density')\n",
    "# PCA FOR AVI AND BSI = VD and SVI\n",
    "VD = getPrincipalComponents(Means_cn[0], pca_scale, AOI, Means_cn[1]).rename(['VD1', 'VD2'])\n",
    "#Map.addLayer(VD,{},'VD')\n",
    "# scale VD datasets\n",
    "SVI = normalization_100(VD,pca_scale=pca_scale, AOI=AOI)\n",
    "Map.addLayer(SVI,{'min':0,'max':100},'SVI', False)\n",
    "print('Success get the PCA normalized of VD => SVI')\n",
    "\n",
    "print(f'no thermal band, choosing {I_satellite} images')\n",
    "si = si_norm\n",
    "#minsi =si.reduceRegion(reducer=ee.Reducer.min(),geometry=AOI,scale=1000,bestEffort=True,tileScale=16)\n",
    "#minsi = ee.Dictionary(minsi).toImage()\n",
    "#maxsi =si.reduceRegion(reducer=ee.Reducer.max(),geometry=AOI,scale=1000,bestEffort=True,tileScale=16)\n",
    "#maxsi = ee.Dictionary(maxsi).toImage()\n",
    "\n",
    "#ssiscale = si.subtract(minsi).divide(maxsi.subtract(minsi)).multiply(100)\n",
    "#print(ssiscale, 'SSI')\n",
    "Map.addLayer(si,{'min':0, 'max':100}, 'SSI', False)\n",
    "\n",
    "print('Now calculating the FCD from SVI and SSI - selecting band svi1 svi2 ssi1 and ssi2')\n",
    "svi1 = SVI.select(['VD1'])\n",
    "ssi1 = si.select(['SI'])\n",
    "svi2 = SVI.select(['VD2'])\n",
    "\n",
    "# Starting to include in the formula for Forest Cover Density\n",
    "FCD1_1 = (((svi1.multiply(ssi1)).add(1)).pow(0.5)).subtract(1).rename('FCD')\n",
    "Map.addLayer(FCD1_1, {'min':0 ,'max':80, 'palette':['ff4c16', 'ffd96c', '39a71d']}, 'FCD1_1')\n",
    "#Map.addLayer(FCD1.mask(FCD1.gte(30)), {'min':0 ,'max':80, 'palette':['ff4c16', 'ffd96c', '39a71d']}, 'FCD1_morethan30')\n",
    "\n",
    "\n",
    "print('Now calculating the FCD from SVI2 and SSI1 into FCD in percentage')\n",
    "# The best on AOI_B30 based on the visual check, combination svi2 and ssi1\n",
    "FCD2_1 = (((svi2.multiply(ssi1)).add(1)).pow(0.5)).subtract(1).rename('FCD')\n",
    "\n",
    "Map.addLayer(FCD2_1, {'min':0 ,'max':80, 'palette':['ff4c16', 'ffd96c', '39a71d']}, 'FCD2_1')\n",
    "#Map.addLayer(FCD2_1.mask(FCD2_1.gte(30)), {'min':0 ,'max':80, 'palette':['ff4c16', 'ffd96c', '39a71d']}, 'FCD2_1_morethan30')\n",
    "print('finish processing PCA please continue')"
   ]
  },
  {
   "cell_type": "code",
   "execution_count": 250,
   "id": "167ed6f6-341f-4831-881d-1537ef22108c",
   "metadata": {},
   "outputs": [
    {
     "data": {
      "text/html": [
       "\n",
       "            <style>\n",
       "                .geemap-dark {\n",
       "                    --jp-widgets-color: white;\n",
       "                    --jp-widgets-label-color: white;\n",
       "                    --jp-ui-font-color1: white;\n",
       "                    --jp-layout-color2: #454545;\n",
       "                    background-color: #383838;\n",
       "                }\n",
       "                    \n",
       "                .geemap-dark .jupyter-button {\n",
       "                    --jp-layout-color3: #383838;\n",
       "                }\n",
       "                \n",
       "                .geemap-colab {\n",
       "                    background-color: var(--colab-primary-surface-color, white);\n",
       "                }\n",
       "                    \n",
       "                .geemap-colab .jupyter-button {\n",
       "                    --jp-layout-color3: var(--colab-primary-surface-color, white);\n",
       "                }\n",
       "            </style>\n",
       "            "
      ],
      "text/plain": [
       "<IPython.core.display.HTML object>"
      ]
     },
     "metadata": {},
     "output_type": "display_data"
    }
   ],
   "source": [
    "############################ Deforestation areas - TCL (Tree Cover Loss)\n",
    "### adapted from https://developers.google.com/earth-engine/tutorials/community/forest-cover-loss-estimation\n",
    "# hansen - updated version - global data\n",
    "gfc = ee.Image(\"UMD/hansen/global_forest_change_2022_v1_10\")\n",
    "\n",
    "#Canopy cover percentage (e.g. 30%), for Indonesia\n",
    "cc = ee.Number(tree_cover_forest)\n",
    "\n",
    "#Minimum forest area in pixels (e.g. 3 pixels, ~ 0.27 ha in this example).\n",
    "pixels = ee.Number(pixel_number)\n",
    "\n",
    "#Minimum mapping area for tree loss (usually same as the minimum forest area).\n",
    "lossPixels = pixels\n",
    "\n",
    "canopyCover = gfc.select(['treecover2000'])\n",
    "canopyCoverThreshold = canopyCover.gte(cc).selfMask()\n",
    "\n",
    "#Use connectedPixelCount() to get contiguous area.\n",
    "contArea = canopyCoverThreshold.connectedPixelCount()\n",
    "#Apply the minimum area requirement.\n",
    "minArea = contArea.gte(pixels).selfMask()\n",
    "\n",
    "prj = gfc.projection()\n",
    "scale = prj.nominalScale()\n",
    "ForestArea2000Hansen = minArea.reproject(prj.atScale(scale))\n",
    "\n",
    "#Map.addLayerControl()\n",
    "Map.addLayer(ForestArea2000Hansen, {\n",
    "    'palette': ['#96ED89']\n",
    "}, 'tree cover: >= min canopy cover & area (light green)', False)\n",
    "\n",
    "#create visual boundary color only\n",
    "empty = ee.Image().byte()\n",
    "AOIm = empty.paint(AOI,0,10)\n",
    "\n",
    "##### Visualized LANDSAT CLOUDLESS FROM HANSEN DATASET LAST YEAR # just to check the visual images from Hansen\n",
    "LastImageLandsat = gfc.select(['last_b30', 'last_b40', 'last_b50', 'last_b70']).rename(['red', 'nir', 'swir1', 'swir2']).clip(AOI)\n",
    "Map.addLayer(LastImageLandsat, {'bands': ['swir2', 'nir', 'red'], 'min': 0, 'max': 600, 'gamma': 1.5 },\n",
    "                f'Landsat Hansen Last Year {end_date}', False)\n",
    "\n",
    "### HISTORICAL DATA THRESHOLD - Get the TCL data LOSS PIXEL overall data from loss year in the input\n",
    "# adapted from https://developers.google.com/earth-engine/tutorials/community/forest-cover-loss-estimation\n",
    "\n",
    "treeLossYear = gfc.select(['lossyear'])\n",
    "treeLoss = treeLossYear.gte(year_start_loss).selfMask() # tree loss in e.g., year > 2012 ####SHOULD CHANGE TO RECENT YEAR for the '12' number\n",
    "#Select the tree loss within the derived tree cover\n",
    "#(>= canopy cover and area requirements). THIS ONE ALREADY MASK TCL IN FOREST AREA\n",
    "treecoverLoss = minArea.And(treeLoss).rename(f'lossfrom_{year_start_loss}').selfMask()\n",
    "\n",
    "#Create connectedPixelCount() to get contiguous area.\n",
    "contLoss = treecoverLoss.connectedPixelCount()\n",
    "#Apply the minimum area requirement, and get the TCL data ---> minLoss - ACTUAL TCL AREA from Hansen since the year_start_loss\n",
    "minLoss = contLoss.gte(lossPixels).selfMask()\n",
    "\n",
    "Map.addLayer(treeLossYear.clip(AOI),{\"opacity\":1,\"bands\":[\"lossyear\"],\"min\":1,\"max\":22,\"palette\":[\"3d358c\",\"4457c9\",\"4777f0\",\"4196ff\",\"2eb4f3\",\"1ad1d5\",\"1ae5b6\",\"36f493\",\"64fd6a\",\"92ff47\",\"b4f836\",\"d3e935\",\"ecd239\",\"fbb938\",\"fe992c\",\"f9751d\",\"ec520e\",\"d93806\",\"bf2102\",\"9f1001\",\"7a0403\",\"#FF0000\"]},\"Tree Loss Year\", False)\n",
    "Map.addLayer(minLoss.clip(AOI),{\n",
    "    'palette': ['#ff0000']\n",
    "}, f'tree cover >30% loss since 20{year_start_loss}', False)\n"
   ]
  },
  {
   "cell_type": "code",
   "execution_count": 251,
   "id": "61c5614f-84b4-4fd1-b353-44cc7f27b354",
   "metadata": {},
   "outputs": [
    {
     "data": {
      "text/html": [
       "\n",
       "            <style>\n",
       "                .geemap-dark {\n",
       "                    --jp-widgets-color: white;\n",
       "                    --jp-widgets-label-color: white;\n",
       "                    --jp-ui-font-color1: white;\n",
       "                    --jp-layout-color2: #454545;\n",
       "                    background-color: #383838;\n",
       "                }\n",
       "                    \n",
       "                .geemap-dark .jupyter-button {\n",
       "                    --jp-layout-color3: #383838;\n",
       "                }\n",
       "                \n",
       "                .geemap-colab {\n",
       "                    background-color: var(--colab-primary-surface-color, white);\n",
       "                }\n",
       "                    \n",
       "                .geemap-colab .jupyter-button {\n",
       "                    --jp-layout-color3: var(--colab-primary-surface-color, white);\n",
       "                }\n",
       "            </style>\n",
       "            "
      ],
      "text/plain": [
       "<IPython.core.display.HTML object>"
      ]
     },
     "metadata": {},
     "output_type": "display_data"
    },
    {
     "name": "stdout",
     "output_type": "stream",
     "text": [
      "Success calculating FCD best combination, and added to the map\n",
      "Now we label the FCD\n",
      "Adding the map of Forest, FCD >= 45% and mask only if not water in area (hansen) and NDWI\n",
      "Adding the map of Shrubland, FCD <  45% and FCD >= 25%\n",
      "Adding the map of Grassland or Openland, FCD  < 25%\n",
      "Processing - the zoning classification\n",
      "finish processing\n"
     ]
    }
   ],
   "source": [
    "## CHOOSE WHICH FCD map prefered\n",
    "FCD = ee.Image(FCD2_1.select(['FCD'])) # here we use comb FCD2_1 = SVI 2, and SI 1 if\n",
    "Map.addLayer(FCD,{'min':0 ,'max':80, 'palette':['ff4c16', 'ffd96c', '39a71d']},'FCD_SELECTED')\n",
    "\n",
    "print('Success calculating FCD best combination, and added to the map')\n",
    "\n",
    "print('Now we label the FCD')\n",
    "# Starting to create threshold for labeling\n",
    "WaterMask = gfc.select(['datamask']).rename('datamask').eq(2)\n",
    "WaterinAOI = AOI_img.mask().updateMask(WaterMask)\n",
    "# unmasked the water (hansen)\n",
    "unmaskedWaterAOI = AOI_img.unmask().updateMask(WaterinAOI.mask().Not()).clip(AOI)\n",
    "#Map.addLayer(unmaskedWaterAOI,{},'unmasked_water_test', False)\n",
    "\n",
    "######### Zone 5: Water Body - NDWI Sentinel\n",
    "# from a function, output is already assigned in a band name: Class : 5\n",
    "#water_list = applying_sentinel_water(image_corrected, ndwi_hi)\n",
    "#waterinAOI_ndwi = water_list[0]\n",
    "#unmaskedWaterAOI_ndwi = AOI_img.unmask().updateMask(waterinAOI_ndwi.mask().Not()).clip(AOI)\n",
    "\n",
    "\n",
    "print(f'Adding the map of Forest, FCD >= {yrf_forest}% and mask only if not water in area (hansen) and NDWI')\n",
    "#Forest\n",
    "AllForest = FCD.mask(FCD.gte(yrf_forest)).And(unmaskedWaterAOI)\n",
    "HighForestDense = FCD.mask(FCD.gte(high_forest)).And(unmaskedWaterAOI)\n",
    "YRFForestDense = FCD.mask(FCD.gte(yrf_forest).And(FCD.lt(high_forest))).And(unmaskedWaterAOI)\n",
    "#Map.addLayer(AllForest,{'min':0 ,'max':100}, 'AllForest')\n",
    "Map.addLayer(HighForestDense, {'min':0 ,'max':100}, f'Forest (FCD >= {high_forest}%)', False)\n",
    "\n",
    "Map.addLayer(YRFForestDense, {'min':0 ,'max':100}, f'Forest (FCD >= {yrf_forest}%) and < {high_forest}%', False)\n",
    "\n",
    "print(f'Adding the map of Shrubland, FCD <  {yrf_forest}% and FCD >= {shrub_grass}%')\n",
    "#Shrubland\n",
    "Shrubland = FCD.mask(FCD.lt(yrf_forest).And(FCD.gte(shrub_grass))).And(unmaskedWaterAOI)\n",
    "Map.addLayer(Shrubland, {'min':0 ,'max':100}, f'Shrubland ({shrub_grass}% <= FCD < {yrf_forest}%)', False)\n",
    "\n",
    "print(f'Adding the map of Grassland or Openland, FCD  < {shrub_grass}%')\n",
    "#Grassland / openland\n",
    "Grassland = FCD.mask(FCD.lt(shrub_grass)).And(unmaskedWaterAOI)\n",
    "Map.addLayer(Grassland, {'min':0 ,'max':100}, f'Grassland (FCD < {shrub_grass})', False)\n",
    "\n",
    "hiforest_masked = AllForest\n",
    "#Shrubland\n",
    "#Grassland\n",
    "\n",
    "print('Processing - the zoning classification')\n",
    "highForestOnly = ee.Image(assigning_band(band_name_image,1,hiforest_masked.clip(AOI)))\n",
    "#Map.addLayer(highForestOnly,{'bands': ['Class'],'palette':hi_forest},f'ALL_Forest_FCD > {yrf_forest}% - Class 1')\n",
    "\n",
    "# Colors fo raster symbology\n",
    "water = '#3380cc' #Blue\n",
    "hi_forest = '#006837' #Strong green\n",
    "low_forest = '#3ea540' #Medium green\n",
    "grass_land = '#baf096' #Light green\n",
    "bare_land = '#ad8855' #Brown\n",
    "other = '#000000'\n",
    "\n",
    "def applying_zone_sentinel_hansen(hiforest_masked,minLoss,s2_sr_median, ndwi_hi):\n",
    "\n",
    "    ######### Zone 2 - High Baseline Forest: That does not have (overlaid with) TCL\n",
    "    # Unmasked the forest loss 10 years rule\n",
    "    unmaskedLoss = AOI_img.unmask().updateMask(minLoss.mask().Not()).clip(AOI)\n",
    "    highBaselineF = hiforest_masked.And(unmaskedLoss)\n",
    "    #Map.addLayer(highBaselineF,{'palette':hi_forest},'High baseline (Forest)')\n",
    "\n",
    "    # assigning class band 2\n",
    "    highf_edited = ee.Image(assigning_band(band_name_image,2,highBaselineF)) #high baseline forest - 2\n",
    "    ##################################################\n",
    "\n",
    "    ######### Zone 3: High Forest and Loss (e.g., Young Regenerating Forest)\n",
    "    ####### Get the overlay information of HighBaseline (Sentinel) and Tree Cover Loss (Hansen), e.g., Young Regenerating Forest\n",
    "    HiForestAndLoss = AOI_img.And(hiforest_masked.And(minLoss)) #minLoss is the actual TCL without overlaying with Sentinel\n",
    "    #Map.addLayer(HiForestAndLoss,{'palette': '#FF0000'},\"High Baseline and not pass 10 years rule\")\n",
    "\n",
    "    # Final Result for High Forest and TCL -> Class number: 3\n",
    "    tenyrfl_edited = ee.Image(assigning_band(band_name_image,3,HiForestAndLoss)) #tenyears rule not pass and high baseline - 3\n",
    "    ##############################################\n",
    "\n",
    "    ######### Zone 4: Tree Cover Loss on the current low baseline (Sentinel)\n",
    "    ###### Get the 10 years data only that is not overlay with Sentinel High baseline (Forest) #############\n",
    "    # Create a helper mask indicating where the smaller areas maskhiFL, distinguish only the highbaseline and TCL (mask) and assign mask as 1\n",
    "    maskHiFL = HiForestAndLoss.mask()\n",
    "    #Map.addLayer(maskHiFL)\n",
    "    # Helper - Invert the mask to get the areas where the smaller raster is absent - get only area outside high forest and loss, and mask from 1 to 0\n",
    "    # invert mask just to get the number from 0 to 1 or vice versa -> .Not()\n",
    "    maskHiFL_inverted = maskHiFL.Not()\n",
    "    #Map.addLayer(maskHiFL_inverted)\n",
    "    # Unmask the bigger raster in the areas to get the pixel value for area 'outside' HiFL (High Baseline and Forest Loss)\n",
    "    unmaskedHiFL = AOI_img.unmask().updateMask(maskHiFL_inverted).clip(AOI)\n",
    "    #Map.addLayer(unmaskedHiFL)\n",
    "    #outcome result for 10 years data only that is not overlay with Sentinel High baseline (Forest) unmaskedHiFL is Area that is not Forest Sentinel############\n",
    "    tenYearsRule = unmaskedHiFL.And(minLoss)\n",
    "    #Map.addLayer(tenYearsRule,{'palette': '#FFA500'},\"10 Years Rule - not OK\")\n",
    "\n",
    "    # assign the Class into no. 4 - Final Result\n",
    "    tenyrule_edited = ee.Image(assigning_band(band_name_image,4,tenYearsRule)) #tenyears rule not pass - 4\n",
    "    ###############################################\n",
    "\n",
    "    ######### Zone 5: Water Body - NDWI Sentinel\n",
    "    # from a function, output is already assigned in a band name: Class : 5\n",
    "    #water_list = applying_sentinel_water(s2_sr_median, ndwi_hi)\n",
    "    #waterinAOI = water_list[0]\n",
    "    #water_edited = water_list[1]\n",
    "\n",
    "    # Use hansen data instead - better result, no need to adjust threshold and water body not change for long time\n",
    "    WaterMask = gfc.select(['datamask']).rename('datamask').eq(2)\n",
    "    waterinAOI = AOI_img.mask().updateMask(WaterMask)\n",
    "    water_edited = ee.Image(assigning_band(band_name_image,5,waterinAOI)).clip(AOI)\n",
    "    # unmasked the water (hansen)\n",
    "    unmaskedWaterAOI = AOI_img.unmask().updateMask(waterinAOI.mask().Not()).clip(AOI)\n",
    "\n",
    "    ###############################################\n",
    "\n",
    "\n",
    "    ######### Zone 1: Go Zone - outside (forest, forest - TCL, no-forest TCL, WaterBody)\n",
    "    # Utils - Similar with above (but easier), unmasked the high forest means that in the end only include area that is not in forest (hiforest_masked)\n",
    "    maskHiF = hiforest_masked.mask()\n",
    "    maskHiF_inverted = maskHiF.Not()\n",
    "    # Unmasked High Forest - the result is all the area outside of hiforest_masked (Total all forest), and now in no forest\n",
    "    unmaskedHiF = AOI_img.unmask().updateMask(maskHiF_inverted).clip(AOI)\n",
    "    # unmasked the water\n",
    "    #unmaskedWaterAOI = AOI_img.unmask().updateMask(waterinAOI.mask().Not()).clip(AOI)\n",
    "\n",
    "    goZone = unmaskedLoss.And(unmaskedHiF).And(unmaskedWaterAOI)\n",
    "    #Map.addLayer(goZone,{'palette':'#FFFF00'},'Go Zone')\n",
    "    # assigning band - Go Zone\n",
    "    goZone_edited = ee.Image(assigning_band(band_name_image,1,goZone)) #go Zone - 1\n",
    "    ##############################################\n",
    "\n",
    "    Map.addLayer(goZone_edited,{'bands': ['Class'],'palette':'#FFFF00'},'Go Zone', False)\n",
    "    Map.addLayer(highf_edited,{'bands': ['Class'],'palette':hi_forest},'High baseline (Forest)', False)\n",
    "    Map.addLayer(tenyrfl_edited,{'bands': ['Class'],'palette': '#FF0000'},\"High Baseline and not pass 10 years rule\", False)\n",
    "    Map.addLayer(tenyrule_edited,{'bands': ['Class'],'palette': '#FFA500'},\"10 Years Rule - not OK\", False)\n",
    "    Map.addLayer(water_edited,{'bands': ['Class'],'palette': water},\"Water in AOI\", False)\n",
    "\n",
    "\n",
    "    ''' mosaicking into single image  - still does not work\n",
    "    #image_list = ee.List([goZone_edited, highf_edited, tenyrfl_edited, tenyrule_edited, water_edited ])\n",
    "    # Extract the spatial information from one of the individual images.\n",
    "    projection = goZone_edited.projection()\n",
    "    scale = goZone_edited.projection().nominalScale()\n",
    "\n",
    "    # Create an ee.ImageCollection from the list of images\n",
    "    image_collection = ee.ImageCollection([goZone_edited, highf_edited, tenyrfl_edited, tenyrule_edited, water_edited ])\n",
    "\n",
    "    # Merge the images into a single ee.Image\n",
    "    zoning_final = image_collection.mosaic()\n",
    "    '''\n",
    "    return [goZone_edited,highf_edited,tenyrfl_edited,tenyrule_edited, water_edited]\n",
    "\n",
    "tiff_result = applying_zone_sentinel_hansen(hiforest_masked,minLoss,image_mosaick, ndwi_hi)\n",
    "\n",
    "# HighForestDense = FCD.mask(FCD.gte(high_forest).And(unmaskedWaterAOI))\n",
    "HighForestDense_no10yrs = HighForestDense.And(tiff_result[1]).select(['pixel'])\n",
    "HighForestDense_no10yrs = ee.Image(assigning_band(band_name_image,21,HighForestDense_no10yrs))\n",
    "\n",
    "HighForestDense_10yrs = HighForestDense.And(tiff_result[2]).select(['pixel'])\n",
    "HighForestDense_10yrs = ee.Image(assigning_band(band_name_image,31,HighForestDense_10yrs))\n",
    "\n",
    "#YRFForestDense = FCD.mask(FCD.gte(yrf_forest).And(unmaskedWaterAOI).And(FCD.lt(high_forest)))\n",
    "YRFForestDense_no10yrs = YRFForestDense.And(tiff_result[1]).select(['pixel'])\n",
    "YRFForestDense_no10yrs = ee.Image(assigning_band(band_name_image,22,YRFForestDense_no10yrs))\n",
    "\n",
    "YRFForestDense_10yrs = YRFForestDense.And(tiff_result[2]).select(['pixel'])\n",
    "YRFForestDense_10yrs = ee.Image(assigning_band(band_name_image,32,YRFForestDense_10yrs))\n",
    "\n",
    "Shrubland_gozone = Shrubland.And(tiff_result[0]).select(['pixel'])\n",
    "Shrubland_gozone = ee.Image(assigning_band(band_name_image,11,Shrubland_gozone))\n",
    "\n",
    "Grassland_gozone = Grassland.And(tiff_result[0]).select(['pixel'])\n",
    "Grassland_gozone = ee.Image(assigning_band(band_name_image,12,Grassland_gozone))\n",
    "\n",
    "# Filter the images based on the 'Class' band\n",
    "grassland_gozone = Grassland_gozone.select(['Class'])\n",
    "Map.addLayer(grassland_gozone,{'palette': ['#ffff33']},'Grass land - Go Zone')\n",
    "\n",
    "shrubland_gozone = Shrubland_gozone.select(['Class'])\n",
    "Map.addLayer(shrubland_gozone,{'palette': ['#ffe3b3']},'Shrub land - Go Zone')\n",
    "\n",
    "yrf_forest_dense_no10yrs = YRFForestDense_no10yrs.select(['Class'])\n",
    "Map.addLayer(yrf_forest_dense_no10yrs,{'palette': ['#83ff5a']},'Low-Med Forest')\n",
    "\n",
    "high_forest_dense_no10yrs = HighForestDense_no10yrs.select('Class')\n",
    "Map.addLayer(high_forest_dense_no10yrs,{'palette': ['#09ab0c']},'High- Density Forest')\n",
    "\n",
    "yrf_forest_dense_10yrs = YRFForestDense_10yrs.select(['Class'])\n",
    "Map.addLayer(yrf_forest_dense_10yrs,{'palette': ['#ff0abe']},'Re-growth Low-Med Density Forest')\n",
    "\n",
    "high_forest_dense_10yrs = HighForestDense_10yrs.select(['Class'])\n",
    "Map.addLayer(high_forest_dense_10yrs,{'palette': ['#ff0004']},'Re-growth High Density Forest')\n",
    "\n",
    "No_pass_historical_years_rule = tiff_result[3].select(['Class'])\n",
    "Map.addLayer(No_pass_historical_years_rule,{'palette': ['#ff8a1d']},'Historical deforestation no regrowth (3 or 10 years)')\n",
    "\n",
    "Water_Un_plantable = tiff_result[4].select(['Class'])\n",
    "Map.addLayer(Water_Un_plantable,{'palette': ['#1900ff']},'Water body (unplantable)')\n",
    "\n",
    "\n",
    "empty_image = ee.Image.constant(0).rename('Class')\n",
    "\n",
    "def add_classes(image, empty):\n",
    "    # Cast the image to Int32 to handle NaN and null values\n",
    "    image = image.unmask(0).toInt32()\n",
    "    # Set a conditional statement to retain existing class values if non-zero, otherwise use the new class value\n",
    "    merged_image = empty.where(empty.neq(0), empty).where(image.neq(0), image)\n",
    "    return merged_image\n",
    "\n",
    "# Create a list of images excluding the 'empty_image'\n",
    "image_list = [\n",
    "    grassland_gozone,\n",
    "    shrubland_gozone,\n",
    "    yrf_forest_dense_no10yrs,\n",
    "    high_forest_dense_no10yrs,\n",
    "    yrf_forest_dense_10yrs,\n",
    "    high_forest_dense_10yrs,\n",
    "    No_pass_historical_years_rule,\n",
    "    Water_Un_plantable\n",
    "]\n",
    "\n",
    "# Create an ImageCollection from the list of images\n",
    "image_collection = ee.ImageCollection(image_list)\n",
    "\n",
    "# Apply the add_classes function to each image in the collection while merging them into the 'empty_image'\n",
    "result_collection = image_collection.map(lambda image: add_classes(image, empty_image))\n",
    "\n",
    "# Create a function to add two images element-wise\n",
    "def add_images(img1, img2):\n",
    "    return ee.Image(img1).add(img2)\n",
    "\n",
    "# Merge all the images in the result_collection using ee.ImageCollection.iterate()\n",
    "merged_image = ee.Image(result_collection.iterate(add_images, empty_image))\n",
    "\n",
    "# Cast the merged image to Int32 and set the original Class band name\n",
    "merged_image = merged_image.toInt32().rename('Class')\n",
    "merged_image = merged_image.clip(AOI)\n",
    "print('finish processing')\n"
   ]
  },
  {
   "cell_type": "code",
   "execution_count": 253,
   "id": "7acbba77-9d2f-4c18-add7-f5b7eea04282",
   "metadata": {},
   "outputs": [
    {
     "data": {
      "text/html": [
       "\n",
       "            <style>\n",
       "                .geemap-dark {\n",
       "                    --jp-widgets-color: white;\n",
       "                    --jp-widgets-label-color: white;\n",
       "                    --jp-ui-font-color1: white;\n",
       "                    --jp-layout-color2: #454545;\n",
       "                    background-color: #383838;\n",
       "                }\n",
       "                    \n",
       "                .geemap-dark .jupyter-button {\n",
       "                    --jp-layout-color3: #383838;\n",
       "                }\n",
       "                \n",
       "                .geemap-colab {\n",
       "                    background-color: var(--colab-primary-surface-color, white);\n",
       "                }\n",
       "                    \n",
       "                .geemap-colab .jupyter-button {\n",
       "                    --jp-layout-color3: var(--colab-primary-surface-color, white);\n",
       "                }\n",
       "            </style>\n",
       "            "
      ],
      "text/plain": [
       "<IPython.core.display.HTML object>"
      ]
     },
     "metadata": {},
     "output_type": "display_data"
    }
   ],
   "source": [
    "# Load DEM data (replace 'dataset' with your actual DEM dataset)\n",
    "DEM = ee.Image('USGS/SRTMGL1_003').clip(AOI)\n",
    "\n",
    "# Calculate slope in degrees\n",
    "slope = ee.Terrain.slope(DEM)\n",
    "\n",
    "# Convert slope to percentage\n",
    "slopePercentage = slope.expression('tan(b*0.01745) * 100', {'b': slope})\n",
    "\n",
    "# Define slope classification thresholds\n",
    "thresholds = [8, 15, 25, 40]  # Adjust these thresholds as needed\n",
    "\n",
    "# Classify slope into categories using conditional statements\n",
    "slopeClasses = slopePercentage \\\n",
    "    .lte(thresholds[0]).multiply(1) \\\n",
    "    .add(slopePercentage.gt(thresholds[0]).And(slopePercentage.lte(thresholds[1])).multiply(2)) \\\n",
    "    .add(slopePercentage.gt(thresholds[1]).And(slopePercentage.lte(thresholds[2])).multiply(3)) \\\n",
    "    .add(slopePercentage.gt(thresholds[2]).And(slopePercentage.lte(thresholds[3])).multiply(4)) \\\n",
    "    .add(slopePercentage.gt(thresholds[3]).multiply(5))\n",
    "\n",
    "# Display the classified slope image\n",
    "palette = ['lightgreen', 'yellow', 'orange', 'pink', 'red']  # Change green to lightgreen\n",
    "vis_params = {'min': 1, 'max': 5, 'palette': palette}\n",
    "Map.addLayer(slopeClasses, vis_params, 'Slope Classes', True)\n",
    "# Map.addLayer(DEM)\n",
    "#Map.addLayer(Grassland_gozone.And(slopeClasses.eq(1).selfMask()),{'min':1,'max':100}, 'Grassland Slope 1')\n",
    "#Map.addLayer(Grassland_gozone.And(slopeClasses.eq(2).selfMask()),{'min':1,'max':100}, 'Grassland Slope 2')\n",
    "#Map.addLayer(Grassland_gozone.And(slopeClasses.eq(3).selfMask()),{'min':1,'max':100},'Grassland Slope 3')\n",
    "#Map.addLayer(Grassland_gozone.And(slopeClasses.eq(4).selfMask()),{'min':1,'max':100},'Grassland Slope 4')\n",
    "#Map.addLayer(Grassland_gozone.And(slopeClasses.eq(5).selfMask()),{'min':1,'max':100},'Grassland Slope 5')\n",
    "\n",
    "class_name_map = {\n",
    "    '11': 'Shrubland_Go-Zone',\n",
    "    '12': 'Grassland_Go-Zone',\n",
    "    '21': 'High density Forest',\n",
    "    '22': 'Low - Medium density Forest',\n",
    "    '31': 'Regrowth High Density Forest from deforested (historical)',\n",
    "    '32': 'Regrowth Low Density Forest from deforested (historical)',\n",
    "    '4': 'Historical deforestation (3 or 10 years rule)',\n",
    "    '5': 'Water Body'\n",
    "}\n",
    "\n",
    "key_value_strings = [f'{key}: {value}' for key, value in class_name_map.items()]\n",
    "\n",
    "class_name_map_color = {\n",
    "    '11': '#ffe3b3',\n",
    "    '12': '#ffff33',\n",
    "    '21': '#09ab0c',\n",
    "    '22': '#83ff5a',\n",
    "    '31': '#ff0004',\n",
    "    '32': '#ff0abe',\n",
    "    '4': '#ff8a1d',\n",
    "    '5': '#1900ff'\n",
    "}\n",
    "\n",
    "value_list = [value for key, value in class_name_map_color.items()]\n",
    "\n",
    "labels = key_value_strings\n",
    "# colorS can be defined using either hex code or RGB (0-255, 0-255, 0-255)\n",
    "colors = value_list\n",
    "# legend_colors = [(255, 0, 0), (127, 255, 0), (127, 18, 25), (36, 70, 180), (96, 68 123)]\n",
    "\n",
    "Map.add_legend(title='Legend', labels=labels, colors=colors, position='bottomleft')\n",
    "Map.addLayerControl()"
   ]
  },
  {
   "cell_type": "code",
   "execution_count": 254,
   "id": "c5872cdb-8bf1-4e1f-ac86-4605f9a8a6e9",
   "metadata": {},
   "outputs": [
    {
     "data": {
      "text/html": [
       "\n",
       "            <style>\n",
       "                .geemap-dark {\n",
       "                    --jp-widgets-color: white;\n",
       "                    --jp-widgets-label-color: white;\n",
       "                    --jp-ui-font-color1: white;\n",
       "                    --jp-layout-color2: #454545;\n",
       "                    background-color: #383838;\n",
       "                }\n",
       "                    \n",
       "                .geemap-dark .jupyter-button {\n",
       "                    --jp-layout-color3: #383838;\n",
       "                }\n",
       "                \n",
       "                .geemap-colab {\n",
       "                    background-color: var(--colab-primary-surface-color, white);\n",
       "                }\n",
       "                    \n",
       "                .geemap-colab .jupyter-button {\n",
       "                    --jp-layout-color3: var(--colab-primary-surface-color, white);\n",
       "                }\n",
       "            </style>\n",
       "            "
      ],
      "text/plain": [
       "<IPython.core.display.HTML object>"
      ]
     },
     "metadata": {},
     "output_type": "display_data"
    },
    {
     "name": "stdout",
     "output_type": "stream",
     "text": [
      "exported - FCD\n",
      "exported - Go Zone_Grassland\n",
      "exported - Go Zone_Shrubland\n",
      "exported - YRF_Forest\n",
      "exported - High_Dense_Forest\n",
      "exported - YRF_nopass_historical\n",
      "exported - HDenseForest_nopass_historical\n",
      "exported - No_pass_historical_years_rule\n",
      "exported - Water_Un_plantable\n",
      "exported - Slope-Classes\n",
      "exported - Merged_classes\n"
     ]
    }
   ],
   "source": [
    "# Exporting to tiff\n",
    "##### INPUT ###########################\n",
    "title_map = 'Axis Landscape'\n",
    "\n",
    "AOI_NAME = title_map\n",
    "START_DATE = start_date\n",
    "END_DATE = end_date\n",
    "\n",
    "list_images = [FCD,Grassland_gozone,Shrubland_gozone , YRFForestDense_no10yrs,\n",
    "                HighForestDense_no10yrs, YRFForestDense_10yrs, HighForestDense_10yrs,\n",
    "              tiff_result[3], tiff_result[4], slopeClasses]\n",
    "list_names =  ['FCD','Go Zone_Grassland', 'Go Zone_Shrubland', 'YRF_Forest',\n",
    "                'High_Dense_Forest','YRF_nopass_historical', 'HDenseForest_nopass_historical',\n",
    "                'No_pass_historical_years_rule', 'Water_Un_plantable','Slope-Classes']\n",
    "for i in range(len(list_images)):\n",
    "    geemap.ee_export_image_to_drive(\n",
    "        list_images[i], description=f'{AOI_NAME}_{START_DATE}_{END_DATE}_{list_names[i]}', folder=f\"JupyterGEE_{AOI_NAME}\", scale=pca_scale, region=AOI.geometry(),\n",
    "    )\n",
    "    print(f'exported - {list_names[i]}')\n",
    "\n",
    "# if I_satellite == 'LANDSAT':\n",
    "#     geemap.ee_export_image_to_drive(\n",
    "#             image_corrected.clip(AOI), description=f'{AOI_NAME}_{START_DATE}_{END_DATE}_LANDSAT', folder=f\"JupyterGEE_{AOI_NAME}\", scale=pca_scale, region=AOI.geometry(),\n",
    "#         )\n",
    "#     print(f'exported - LANDSAT')\n",
    "\n",
    "# elif TI_include == False and satellite == 'planet':\n",
    "#     geemap.ee_export_image_to_drive(\n",
    "#             filtered_scaled.clip(AOI), description=f'{AOI_NAME}_{START_DATE}_{END_DATE}_PlanetNICFI_MEDIAN', folder=f\"JupyterGEE_{AOI_NAME}\", scale=pca_scale, region=AOI.geometry(),\n",
    "#         )\n",
    "#     print(f'exported - Planet Labs')\n",
    "\n",
    "# elif TI_include == False and satellite == 'sentinel':\n",
    "#     geemap.ee_export_image_to_drive(\n",
    "#             image_corrected.clip(AOI), description=f'{AOI_NAME}_{START_DATE}_{END_DATE}_Sentinel_median', folder=f\"JupyterGEE_{AOI_NAME}\", scale=pca_scale, region=AOI.geometry(),\n",
    "#         )\n",
    "#     print(f'exported - Sentinel')\n",
    "\n",
    "# Print the resulting merged image\n",
    "#print(merged_image.getInfo())\n",
    "\n",
    "\n",
    "geemap.ee_export_image_to_drive(\n",
    "            merged_image.select('Class').toInt(), description=f'{AOI_NAME}_{START_DATE}_{END_DATE}_merged', folder=f\"JupyterGEE_{AOI_NAME}\", scale=pca_scale, region=AOI.geometry(),\n",
    "        )\n",
    "print(f'exported - Merged_classes')"
   ]
  },
  {
   "cell_type": "code",
   "execution_count": null,
   "id": "556664fe-fa9c-4a06-8395-0908b5364ea7",
   "metadata": {},
   "outputs": [],
   "source": []
  },
  {
   "cell_type": "code",
   "execution_count": null,
   "id": "f819d7fb-d4dc-4a43-9c36-8eb598cb4da3",
   "metadata": {},
   "outputs": [],
   "source": []
  },
  {
   "cell_type": "code",
   "execution_count": 207,
   "id": "57f8f0d0-682a-46c6-a03f-4250217de837",
   "metadata": {},
   "outputs": [
    {
     "data": {
      "text/html": [
       "\n",
       "            <style>\n",
       "                .geemap-dark {\n",
       "                    --jp-widgets-color: white;\n",
       "                    --jp-widgets-label-color: white;\n",
       "                    --jp-ui-font-color1: white;\n",
       "                    --jp-layout-color2: #454545;\n",
       "                    background-color: #383838;\n",
       "                }\n",
       "                    \n",
       "                .geemap-dark .jupyter-button {\n",
       "                    --jp-layout-color3: #383838;\n",
       "                }\n",
       "                \n",
       "                .geemap-colab {\n",
       "                    background-color: var(--colab-primary-surface-color, white);\n",
       "                }\n",
       "                    \n",
       "                .geemap-colab .jupyter-button {\n",
       "                    --jp-layout-color3: var(--colab-primary-surface-color, white);\n",
       "                }\n",
       "            </style>\n",
       "            "
      ],
      "text/plain": [
       "<IPython.core.display.HTML object>"
      ]
     },
     "metadata": {},
     "output_type": "display_data"
    },
    {
     "name": "stdout",
     "output_type": "stream",
     "text": [
      "<class 'datetime.date'>\n"
     ]
    }
   ],
   "source": [
    "print(type(conf_selected.start_date_analysis))"
   ]
  },
  {
   "cell_type": "code",
   "execution_count": 166,
   "id": "b9814ade-30af-471e-bafd-401f00e7380f",
   "metadata": {},
   "outputs": [
    {
     "data": {
      "text/html": [
       "\n",
       "            <style>\n",
       "                .geemap-dark {\n",
       "                    --jp-widgets-color: white;\n",
       "                    --jp-widgets-label-color: white;\n",
       "                    --jp-ui-font-color1: white;\n",
       "                    --jp-layout-color2: #454545;\n",
       "                    background-color: #383838;\n",
       "                }\n",
       "                    \n",
       "                .geemap-dark .jupyter-button {\n",
       "                    --jp-layout-color3: #383838;\n",
       "                }\n",
       "                \n",
       "                .geemap-colab {\n",
       "                    background-color: var(--colab-primary-surface-color, white);\n",
       "                }\n",
       "                    \n",
       "                .geemap-colab .jupyter-button {\n",
       "                    --jp-layout-color3: var(--colab-primary-surface-color, white);\n",
       "                }\n",
       "            </style>\n",
       "            "
      ],
      "text/plain": [
       "<IPython.core.display.HTML object>"
      ]
     },
     "metadata": {},
     "output_type": "display_data"
    }
   ],
   "source": [
    "from asgiref.sync import sync_to_async\n",
    "\n",
    "async def async_filter():\n",
    "    try:\n",
    "        label = await sync_to_async(SatVerConfiguration.objects.get)(label=\"TEST_DEMO_TREEO_Landsat_2022\")\n",
    "    except SatVerConfiguration.DoesNotExist:\n",
    "        print('label object is not found')\n",
    "        label = None\n",
    "    return label\n",
    "\n",
    "query = await async_filter()"
   ]
  },
  {
   "cell_type": "code",
   "execution_count": 169,
   "id": "c183cf0a-3801-4ca1-9188-16119ad9e01f",
   "metadata": {},
   "outputs": [
    {
     "data": {
      "text/html": [
       "\n",
       "            <style>\n",
       "                .geemap-dark {\n",
       "                    --jp-widgets-color: white;\n",
       "                    --jp-widgets-label-color: white;\n",
       "                    --jp-ui-font-color1: white;\n",
       "                    --jp-layout-color2: #454545;\n",
       "                    background-color: #383838;\n",
       "                }\n",
       "                    \n",
       "                .geemap-dark .jupyter-button {\n",
       "                    --jp-layout-color3: #383838;\n",
       "                }\n",
       "                \n",
       "                .geemap-colab {\n",
       "                    background-color: var(--colab-primary-surface-color, white);\n",
       "                }\n",
       "                    \n",
       "                .geemap-colab .jupyter-button {\n",
       "                    --jp-layout-color3: var(--colab-primary-surface-color, white);\n",
       "                }\n",
       "            </style>\n",
       "            "
      ],
      "text/plain": [
       "<IPython.core.display.HTML object>"
      ]
     },
     "metadata": {},
     "output_type": "display_data"
    },
    {
     "data": {
      "text/plain": [
       "58"
      ]
     },
     "execution_count": 169,
     "metadata": {},
     "output_type": "execute_result"
    }
   ],
   "source": [
    "query.id"
   ]
  }
 ],
 "metadata": {
  "kernelspec": {
   "display_name": "Python 3 (ipykernel)",
   "language": "python",
   "name": "python3"
  },
  "language_info": {
   "codemirror_mode": {
    "name": "ipython",
    "version": 3
   },
   "file_extension": ".py",
   "mimetype": "text/x-python",
   "name": "python",
   "nbconvert_exporter": "python",
   "pygments_lexer": "ipython3",
   "version": "3.10.12"
  }
 },
 "nbformat": 4,
 "nbformat_minor": 5
}
